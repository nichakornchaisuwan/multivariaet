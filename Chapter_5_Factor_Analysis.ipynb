{
  "nbformat": 4,
  "nbformat_minor": 0,
  "metadata": {
    "colab": {
      "name": "Chapter 5 Factor Analysis.ipynb",
      "provenance": [],
      "authorship_tag": "ABX9TyNDaE/Lun6vre7jJlNC+d5K",
      "include_colab_link": true
    },
    "kernelspec": {
      "name": "python3",
      "display_name": "Python 3"
    },
    "language_info": {
      "name": "python"
    }
  },
  "cells": [
    {
      "cell_type": "markdown",
      "metadata": {
        "id": "view-in-github",
        "colab_type": "text"
      },
      "source": [
        "<a href=\"https://colab.research.google.com/github/nichakornchaisuwan/multivariaet/blob/main/Chapter_5_Factor_Analysis.ipynb\" target=\"_parent\"><img src=\"https://colab.research.google.com/assets/colab-badge.svg\" alt=\"Open In Colab\"/></a>"
      ]
    },
    {
      "cell_type": "markdown",
      "metadata": {
        "id": "ab0TKdVw-Avo"
      },
      "source": [
        "https://www.datacamp.com/community/tutorials/introduction-factor-analysis"
      ]
    },
    {
      "cell_type": "markdown",
      "metadata": {
        "id": "mhTwolyU-YBj"
      },
      "source": [
        "Assumption: "
      ]
    },
    {
      "cell_type": "code",
      "metadata": {
        "id": "d3WEef6G-LyV"
      },
      "source": [
        "import pandas as pd"
      ],
      "execution_count": 15,
      "outputs": []
    },
    {
      "cell_type": "code",
      "metadata": {
        "colab": {
          "base_uri": "https://localhost:8080/",
          "height": 237
        },
        "id": "rqEcCK7p___V",
        "outputId": "b4ed00af-94a8-4fc8-ee38-e18ce0602177"
      },
      "source": [
        "BFI_data = pd.read_csv('/content/bfi.csv') # อย่าลืม upload file ก่อนที่จะรันโค้ด\n",
        "BFI_data.head()"
      ],
      "execution_count": 16,
      "outputs": [
        {
          "output_type": "execute_result",
          "data": {
            "text/html": [
              "<div>\n",
              "<style scoped>\n",
              "    .dataframe tbody tr th:only-of-type {\n",
              "        vertical-align: middle;\n",
              "    }\n",
              "\n",
              "    .dataframe tbody tr th {\n",
              "        vertical-align: top;\n",
              "    }\n",
              "\n",
              "    .dataframe thead th {\n",
              "        text-align: right;\n",
              "    }\n",
              "</style>\n",
              "<table border=\"1\" class=\"dataframe\">\n",
              "  <thead>\n",
              "    <tr style=\"text-align: right;\">\n",
              "      <th></th>\n",
              "      <th>Unnamed: 0</th>\n",
              "      <th>A1</th>\n",
              "      <th>A2</th>\n",
              "      <th>A3</th>\n",
              "      <th>A4</th>\n",
              "      <th>A5</th>\n",
              "      <th>C1</th>\n",
              "      <th>C2</th>\n",
              "      <th>C3</th>\n",
              "      <th>C4</th>\n",
              "      <th>C5</th>\n",
              "      <th>E1</th>\n",
              "      <th>E2</th>\n",
              "      <th>E3</th>\n",
              "      <th>E4</th>\n",
              "      <th>E5</th>\n",
              "      <th>N1</th>\n",
              "      <th>N2</th>\n",
              "      <th>N3</th>\n",
              "      <th>N4</th>\n",
              "      <th>N5</th>\n",
              "      <th>O1</th>\n",
              "      <th>O2</th>\n",
              "      <th>O3</th>\n",
              "      <th>O4</th>\n",
              "      <th>O5</th>\n",
              "      <th>gender</th>\n",
              "      <th>education</th>\n",
              "      <th>age</th>\n",
              "    </tr>\n",
              "  </thead>\n",
              "  <tbody>\n",
              "    <tr>\n",
              "      <th>0</th>\n",
              "      <td>61617</td>\n",
              "      <td>2.0</td>\n",
              "      <td>4.0</td>\n",
              "      <td>3.0</td>\n",
              "      <td>4.0</td>\n",
              "      <td>4.0</td>\n",
              "      <td>2.0</td>\n",
              "      <td>3.0</td>\n",
              "      <td>3.0</td>\n",
              "      <td>4.0</td>\n",
              "      <td>4.0</td>\n",
              "      <td>3.0</td>\n",
              "      <td>3.0</td>\n",
              "      <td>3.0</td>\n",
              "      <td>4.0</td>\n",
              "      <td>4.0</td>\n",
              "      <td>3.0</td>\n",
              "      <td>4.0</td>\n",
              "      <td>2.0</td>\n",
              "      <td>2.0</td>\n",
              "      <td>3.0</td>\n",
              "      <td>3.0</td>\n",
              "      <td>6</td>\n",
              "      <td>3.0</td>\n",
              "      <td>4.0</td>\n",
              "      <td>3.0</td>\n",
              "      <td>1</td>\n",
              "      <td>NaN</td>\n",
              "      <td>16</td>\n",
              "    </tr>\n",
              "    <tr>\n",
              "      <th>1</th>\n",
              "      <td>61618</td>\n",
              "      <td>2.0</td>\n",
              "      <td>4.0</td>\n",
              "      <td>5.0</td>\n",
              "      <td>2.0</td>\n",
              "      <td>5.0</td>\n",
              "      <td>5.0</td>\n",
              "      <td>4.0</td>\n",
              "      <td>4.0</td>\n",
              "      <td>3.0</td>\n",
              "      <td>4.0</td>\n",
              "      <td>1.0</td>\n",
              "      <td>1.0</td>\n",
              "      <td>6.0</td>\n",
              "      <td>4.0</td>\n",
              "      <td>3.0</td>\n",
              "      <td>3.0</td>\n",
              "      <td>3.0</td>\n",
              "      <td>3.0</td>\n",
              "      <td>5.0</td>\n",
              "      <td>5.0</td>\n",
              "      <td>4.0</td>\n",
              "      <td>2</td>\n",
              "      <td>4.0</td>\n",
              "      <td>3.0</td>\n",
              "      <td>3.0</td>\n",
              "      <td>2</td>\n",
              "      <td>NaN</td>\n",
              "      <td>18</td>\n",
              "    </tr>\n",
              "    <tr>\n",
              "      <th>2</th>\n",
              "      <td>61620</td>\n",
              "      <td>5.0</td>\n",
              "      <td>4.0</td>\n",
              "      <td>5.0</td>\n",
              "      <td>4.0</td>\n",
              "      <td>4.0</td>\n",
              "      <td>4.0</td>\n",
              "      <td>5.0</td>\n",
              "      <td>4.0</td>\n",
              "      <td>2.0</td>\n",
              "      <td>5.0</td>\n",
              "      <td>2.0</td>\n",
              "      <td>4.0</td>\n",
              "      <td>4.0</td>\n",
              "      <td>4.0</td>\n",
              "      <td>5.0</td>\n",
              "      <td>4.0</td>\n",
              "      <td>5.0</td>\n",
              "      <td>4.0</td>\n",
              "      <td>2.0</td>\n",
              "      <td>3.0</td>\n",
              "      <td>4.0</td>\n",
              "      <td>2</td>\n",
              "      <td>5.0</td>\n",
              "      <td>5.0</td>\n",
              "      <td>2.0</td>\n",
              "      <td>2</td>\n",
              "      <td>NaN</td>\n",
              "      <td>17</td>\n",
              "    </tr>\n",
              "    <tr>\n",
              "      <th>3</th>\n",
              "      <td>61621</td>\n",
              "      <td>4.0</td>\n",
              "      <td>4.0</td>\n",
              "      <td>6.0</td>\n",
              "      <td>5.0</td>\n",
              "      <td>5.0</td>\n",
              "      <td>4.0</td>\n",
              "      <td>4.0</td>\n",
              "      <td>3.0</td>\n",
              "      <td>5.0</td>\n",
              "      <td>5.0</td>\n",
              "      <td>5.0</td>\n",
              "      <td>3.0</td>\n",
              "      <td>4.0</td>\n",
              "      <td>4.0</td>\n",
              "      <td>4.0</td>\n",
              "      <td>2.0</td>\n",
              "      <td>5.0</td>\n",
              "      <td>2.0</td>\n",
              "      <td>4.0</td>\n",
              "      <td>1.0</td>\n",
              "      <td>3.0</td>\n",
              "      <td>3</td>\n",
              "      <td>4.0</td>\n",
              "      <td>3.0</td>\n",
              "      <td>5.0</td>\n",
              "      <td>2</td>\n",
              "      <td>NaN</td>\n",
              "      <td>17</td>\n",
              "    </tr>\n",
              "    <tr>\n",
              "      <th>4</th>\n",
              "      <td>61622</td>\n",
              "      <td>2.0</td>\n",
              "      <td>3.0</td>\n",
              "      <td>3.0</td>\n",
              "      <td>4.0</td>\n",
              "      <td>5.0</td>\n",
              "      <td>4.0</td>\n",
              "      <td>4.0</td>\n",
              "      <td>5.0</td>\n",
              "      <td>3.0</td>\n",
              "      <td>2.0</td>\n",
              "      <td>2.0</td>\n",
              "      <td>2.0</td>\n",
              "      <td>5.0</td>\n",
              "      <td>4.0</td>\n",
              "      <td>5.0</td>\n",
              "      <td>2.0</td>\n",
              "      <td>3.0</td>\n",
              "      <td>4.0</td>\n",
              "      <td>4.0</td>\n",
              "      <td>3.0</td>\n",
              "      <td>3.0</td>\n",
              "      <td>3</td>\n",
              "      <td>4.0</td>\n",
              "      <td>3.0</td>\n",
              "      <td>3.0</td>\n",
              "      <td>1</td>\n",
              "      <td>NaN</td>\n",
              "      <td>17</td>\n",
              "    </tr>\n",
              "  </tbody>\n",
              "</table>\n",
              "</div>"
            ],
            "text/plain": [
              "   Unnamed: 0   A1   A2   A3   A4   A5  ...   O3   O4   O5  gender  education  age\n",
              "0       61617  2.0  4.0  3.0  4.0  4.0  ...  3.0  4.0  3.0       1        NaN   16\n",
              "1       61618  2.0  4.0  5.0  2.0  5.0  ...  4.0  3.0  3.0       2        NaN   18\n",
              "2       61620  5.0  4.0  5.0  4.0  4.0  ...  5.0  5.0  2.0       2        NaN   17\n",
              "3       61621  4.0  4.0  6.0  5.0  5.0  ...  4.0  3.0  5.0       2        NaN   17\n",
              "4       61622  2.0  3.0  3.0  4.0  5.0  ...  4.0  3.0  3.0       1        NaN   17\n",
              "\n",
              "[5 rows x 29 columns]"
            ]
          },
          "metadata": {
            "tags": []
          },
          "execution_count": 16
        }
      ]
    },
    {
      "cell_type": "markdown",
      "metadata": {
        "id": "gtR3JwCkAaIP"
      },
      "source": [
        "###Factor Analysis'\n",
        "###Assumptions :\n",
        "ในข้อมูล multivariata ที่มีตัวแปร observe variables จำนวน n ตัว \n",
        "\n",
        "มีตัวแปร Factor (Latent Variables) จำนวน k ตัว ที่สามารถอธิบายข้อมูลทั้งหมดได้ \n",
        "\n",
        "โดย k<n"
      ]
    },
    {
      "cell_type": "markdown",
      "metadata": {
        "id": "42TVe0VgBlzI"
      },
      "source": [
        "![image.png](data:image/png;base64,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)"
      ]
    },
    {
      "cell_type": "markdown",
      "metadata": {
        "id": "RfwjF1I3Bpxa"
      },
      "source": [
        "Assumption: ในการทำ Factor Analysis\n",
        "* There are no outliers in data.\n",
        "* Sample size should be greater than the factor.\n",
        "* There should not be perfect multicollinearity.\n",
        "* There should not be homoskedasticity between the variables.\n"
      ]
    },
    {
      "cell_type": "markdown",
      "metadata": {
        "id": "yHUzBu8aQoMU"
      },
      "source": [
        "### การทำ factor analysis มีประโยชน์หลัก 2 อัน คือ\n",
        "\n",
        "* Confirmatory \n",
        "* Exploretory เพื่อจับกลุ่มตัวแปรว่า ใช้อธิบายอะไร\n"
      ]
    },
    {
      "cell_type": "markdown",
      "metadata": {
        "id": "SXHRIdRDCUlx"
      },
      "source": [
        "##การทำ Factor Analysis"
      ]
    },
    {
      "cell_type": "code",
      "metadata": {
        "id": "f4RdM6hVAU6s",
        "colab": {
          "base_uri": "https://localhost:8080/",
          "height": 327
        },
        "outputId": "4f38bc2b-3048-4874-fb81-003fb883978c"
      },
      "source": [
        "from factor_analyzer import FactorAnalyzer \n",
        "import matplotlib.pyplot as plt"
      ],
      "execution_count": 17,
      "outputs": [
        {
          "output_type": "error",
          "ename": "ModuleNotFoundError",
          "evalue": "ignored",
          "traceback": [
            "\u001b[0;31m---------------------------------------------------------------------------\u001b[0m",
            "\u001b[0;31mModuleNotFoundError\u001b[0m                       Traceback (most recent call last)",
            "\u001b[0;32m<ipython-input-17-10d17dc91831>\u001b[0m in \u001b[0;36m<module>\u001b[0;34m()\u001b[0m\n\u001b[0;32m----> 1\u001b[0;31m \u001b[0;32mfrom\u001b[0m \u001b[0mfactor_analyzer\u001b[0m \u001b[0;32mimport\u001b[0m \u001b[0mFactorAnalyzer\u001b[0m\u001b[0;34m\u001b[0m\u001b[0;34m\u001b[0m\u001b[0m\n\u001b[0m\u001b[1;32m      2\u001b[0m \u001b[0;32mimport\u001b[0m \u001b[0mmatplotlib\u001b[0m\u001b[0;34m.\u001b[0m\u001b[0mpyplot\u001b[0m \u001b[0;32mas\u001b[0m \u001b[0mplt\u001b[0m\u001b[0;34m\u001b[0m\u001b[0;34m\u001b[0m\u001b[0m\n",
            "\u001b[0;31mModuleNotFoundError\u001b[0m: No module named 'factor_analyzer'",
            "",
            "\u001b[0;31m---------------------------------------------------------------------------\u001b[0;32m\nNOTE: If your import is failing due to a missing package, you can\nmanually install dependencies using either !pip or !apt.\n\nTo view examples of installing some common dependencies, click the\n\"Open Examples\" button below.\n\u001b[0;31m---------------------------------------------------------------------------\u001b[0m\n"
          ]
        }
      ]
    },
    {
      "cell_type": "markdown",
      "metadata": {
        "id": "6j26BBtnCglV"
      },
      "source": [
        "แก้ error ModuleNotFoundError: No module named 'factor_analyzer'\n",
        "\n",
        "โดย https://stackoverflow.com/questions/61830329/modulenotfounderror-no-module-named-factor-analyzer-python-notebook\n",
        "\n",
        "วิธี install package อื่นๆ"
      ]
    },
    {
      "cell_type": "code",
      "metadata": {
        "colab": {
          "base_uri": "https://localhost:8080/"
        },
        "id": "DgpBjg7qCeHg",
        "outputId": "b58b58a9-e536-4e55-f189-e16532749421"
      },
      "source": [
        "!pip install factor_analyzer"
      ],
      "execution_count": 18,
      "outputs": [
        {
          "output_type": "stream",
          "text": [
            "Collecting factor_analyzer\n",
            "\u001b[?25l  Downloading https://files.pythonhosted.org/packages/44/b5/cbd83484ca6dd4c6562c6d66a6a3a0ecf526e79b2b575b9fb4bf5ad172dd/factor_analyzer-0.3.2.tar.gz (40kB)\n",
            "\r\u001b[K     |████████▏                       | 10kB 12.7MB/s eta 0:00:01\r\u001b[K     |████████████████▍               | 20kB 18.7MB/s eta 0:00:01\r\u001b[K     |████████████████████████▌       | 30kB 15.4MB/s eta 0:00:01\r\u001b[K     |████████████████████████████████| 40kB 2.7MB/s \n",
            "\u001b[?25hRequirement already satisfied: pandas in /usr/local/lib/python3.7/dist-packages (from factor_analyzer) (1.1.5)\n",
            "Requirement already satisfied: scipy in /usr/local/lib/python3.7/dist-packages (from factor_analyzer) (1.4.1)\n",
            "Requirement already satisfied: numpy in /usr/local/lib/python3.7/dist-packages (from factor_analyzer) (1.19.5)\n",
            "Requirement already satisfied: scikit-learn in /usr/local/lib/python3.7/dist-packages (from factor_analyzer) (0.22.2.post1)\n",
            "Requirement already satisfied: pytz>=2017.2 in /usr/local/lib/python3.7/dist-packages (from pandas->factor_analyzer) (2018.9)\n",
            "Requirement already satisfied: python-dateutil>=2.7.3 in /usr/local/lib/python3.7/dist-packages (from pandas->factor_analyzer) (2.8.1)\n",
            "Requirement already satisfied: joblib>=0.11 in /usr/local/lib/python3.7/dist-packages (from scikit-learn->factor_analyzer) (1.0.1)\n",
            "Requirement already satisfied: six>=1.5 in /usr/local/lib/python3.7/dist-packages (from python-dateutil>=2.7.3->pandas->factor_analyzer) (1.15.0)\n",
            "Building wheels for collected packages: factor-analyzer\n",
            "  Building wheel for factor-analyzer (setup.py) ... \u001b[?25l\u001b[?25hdone\n",
            "  Created wheel for factor-analyzer: filename=factor_analyzer-0.3.2-cp37-none-any.whl size=40383 sha256=26f336c6393d547ceee334b8a9ac654e4f96380f021862fe852699c855d6b489\n",
            "  Stored in directory: /root/.cache/pip/wheels/4a/d0/57/f1330cb9c80e82d8d05391c74c94ed61ce3f03bf6157f3d6db\n",
            "Successfully built factor-analyzer\n",
            "Installing collected packages: factor-analyzer\n",
            "Successfully installed factor-analyzer-0.3.2\n"
          ],
          "name": "stdout"
        }
      ]
    },
    {
      "cell_type": "code",
      "metadata": {
        "id": "4pt9kebHCtOq"
      },
      "source": [
        "from factor_analyzer import FactorAnalyzer\n",
        "import matplotlib.pyplot as plt  # = from matplotlib import pyplot as plt"
      ],
      "execution_count": 19,
      "outputs": []
    },
    {
      "cell_type": "markdown",
      "metadata": {
        "id": "GD42DDCQC2N5"
      },
      "source": [
        "### Quiz 5 เลือกข้อมูลมาเฉพาะ a1,a2,a3,...,o3,o4,o5 ด้วยคำสั่ง .iloc[]"
      ]
    },
    {
      "cell_type": "code",
      "metadata": {
        "id": "FPAKfGh4C0PC"
      },
      "source": [
        "BFI_data_dropped = BFI_data.iloc[:,]"
      ],
      "execution_count": 20,
      "outputs": []
    },
    {
      "cell_type": "code",
      "metadata": {
        "colab": {
          "base_uri": "https://localhost:8080/",
          "height": 431
        },
        "id": "mlAmzoVrDAQt",
        "outputId": "409b0443-1162-4107-a9f1-44c8fccfdda0"
      },
      "source": [
        "BFI_data_dropped = BFI_data.iloc[:,1:26]\n",
        "BFI_data_dropped"
      ],
      "execution_count": 21,
      "outputs": [
        {
          "output_type": "execute_result",
          "data": {
            "text/html": [
              "<div>\n",
              "<style scoped>\n",
              "    .dataframe tbody tr th:only-of-type {\n",
              "        vertical-align: middle;\n",
              "    }\n",
              "\n",
              "    .dataframe tbody tr th {\n",
              "        vertical-align: top;\n",
              "    }\n",
              "\n",
              "    .dataframe thead th {\n",
              "        text-align: right;\n",
              "    }\n",
              "</style>\n",
              "<table border=\"1\" class=\"dataframe\">\n",
              "  <thead>\n",
              "    <tr style=\"text-align: right;\">\n",
              "      <th></th>\n",
              "      <th>A1</th>\n",
              "      <th>A2</th>\n",
              "      <th>A3</th>\n",
              "      <th>A4</th>\n",
              "      <th>A5</th>\n",
              "      <th>C1</th>\n",
              "      <th>C2</th>\n",
              "      <th>C3</th>\n",
              "      <th>C4</th>\n",
              "      <th>C5</th>\n",
              "      <th>E1</th>\n",
              "      <th>E2</th>\n",
              "      <th>E3</th>\n",
              "      <th>E4</th>\n",
              "      <th>E5</th>\n",
              "      <th>N1</th>\n",
              "      <th>N2</th>\n",
              "      <th>N3</th>\n",
              "      <th>N4</th>\n",
              "      <th>N5</th>\n",
              "      <th>O1</th>\n",
              "      <th>O2</th>\n",
              "      <th>O3</th>\n",
              "      <th>O4</th>\n",
              "      <th>O5</th>\n",
              "    </tr>\n",
              "  </thead>\n",
              "  <tbody>\n",
              "    <tr>\n",
              "      <th>0</th>\n",
              "      <td>2.0</td>\n",
              "      <td>4.0</td>\n",
              "      <td>3.0</td>\n",
              "      <td>4.0</td>\n",
              "      <td>4.0</td>\n",
              "      <td>2.0</td>\n",
              "      <td>3.0</td>\n",
              "      <td>3.0</td>\n",
              "      <td>4.0</td>\n",
              "      <td>4.0</td>\n",
              "      <td>3.0</td>\n",
              "      <td>3.0</td>\n",
              "      <td>3.0</td>\n",
              "      <td>4.0</td>\n",
              "      <td>4.0</td>\n",
              "      <td>3.0</td>\n",
              "      <td>4.0</td>\n",
              "      <td>2.0</td>\n",
              "      <td>2.0</td>\n",
              "      <td>3.0</td>\n",
              "      <td>3.0</td>\n",
              "      <td>6</td>\n",
              "      <td>3.0</td>\n",
              "      <td>4.0</td>\n",
              "      <td>3.0</td>\n",
              "    </tr>\n",
              "    <tr>\n",
              "      <th>1</th>\n",
              "      <td>2.0</td>\n",
              "      <td>4.0</td>\n",
              "      <td>5.0</td>\n",
              "      <td>2.0</td>\n",
              "      <td>5.0</td>\n",
              "      <td>5.0</td>\n",
              "      <td>4.0</td>\n",
              "      <td>4.0</td>\n",
              "      <td>3.0</td>\n",
              "      <td>4.0</td>\n",
              "      <td>1.0</td>\n",
              "      <td>1.0</td>\n",
              "      <td>6.0</td>\n",
              "      <td>4.0</td>\n",
              "      <td>3.0</td>\n",
              "      <td>3.0</td>\n",
              "      <td>3.0</td>\n",
              "      <td>3.0</td>\n",
              "      <td>5.0</td>\n",
              "      <td>5.0</td>\n",
              "      <td>4.0</td>\n",
              "      <td>2</td>\n",
              "      <td>4.0</td>\n",
              "      <td>3.0</td>\n",
              "      <td>3.0</td>\n",
              "    </tr>\n",
              "    <tr>\n",
              "      <th>2</th>\n",
              "      <td>5.0</td>\n",
              "      <td>4.0</td>\n",
              "      <td>5.0</td>\n",
              "      <td>4.0</td>\n",
              "      <td>4.0</td>\n",
              "      <td>4.0</td>\n",
              "      <td>5.0</td>\n",
              "      <td>4.0</td>\n",
              "      <td>2.0</td>\n",
              "      <td>5.0</td>\n",
              "      <td>2.0</td>\n",
              "      <td>4.0</td>\n",
              "      <td>4.0</td>\n",
              "      <td>4.0</td>\n",
              "      <td>5.0</td>\n",
              "      <td>4.0</td>\n",
              "      <td>5.0</td>\n",
              "      <td>4.0</td>\n",
              "      <td>2.0</td>\n",
              "      <td>3.0</td>\n",
              "      <td>4.0</td>\n",
              "      <td>2</td>\n",
              "      <td>5.0</td>\n",
              "      <td>5.0</td>\n",
              "      <td>2.0</td>\n",
              "    </tr>\n",
              "    <tr>\n",
              "      <th>3</th>\n",
              "      <td>4.0</td>\n",
              "      <td>4.0</td>\n",
              "      <td>6.0</td>\n",
              "      <td>5.0</td>\n",
              "      <td>5.0</td>\n",
              "      <td>4.0</td>\n",
              "      <td>4.0</td>\n",
              "      <td>3.0</td>\n",
              "      <td>5.0</td>\n",
              "      <td>5.0</td>\n",
              "      <td>5.0</td>\n",
              "      <td>3.0</td>\n",
              "      <td>4.0</td>\n",
              "      <td>4.0</td>\n",
              "      <td>4.0</td>\n",
              "      <td>2.0</td>\n",
              "      <td>5.0</td>\n",
              "      <td>2.0</td>\n",
              "      <td>4.0</td>\n",
              "      <td>1.0</td>\n",
              "      <td>3.0</td>\n",
              "      <td>3</td>\n",
              "      <td>4.0</td>\n",
              "      <td>3.0</td>\n",
              "      <td>5.0</td>\n",
              "    </tr>\n",
              "    <tr>\n",
              "      <th>4</th>\n",
              "      <td>2.0</td>\n",
              "      <td>3.0</td>\n",
              "      <td>3.0</td>\n",
              "      <td>4.0</td>\n",
              "      <td>5.0</td>\n",
              "      <td>4.0</td>\n",
              "      <td>4.0</td>\n",
              "      <td>5.0</td>\n",
              "      <td>3.0</td>\n",
              "      <td>2.0</td>\n",
              "      <td>2.0</td>\n",
              "      <td>2.0</td>\n",
              "      <td>5.0</td>\n",
              "      <td>4.0</td>\n",
              "      <td>5.0</td>\n",
              "      <td>2.0</td>\n",
              "      <td>3.0</td>\n",
              "      <td>4.0</td>\n",
              "      <td>4.0</td>\n",
              "      <td>3.0</td>\n",
              "      <td>3.0</td>\n",
              "      <td>3</td>\n",
              "      <td>4.0</td>\n",
              "      <td>3.0</td>\n",
              "      <td>3.0</td>\n",
              "    </tr>\n",
              "    <tr>\n",
              "      <th>...</th>\n",
              "      <td>...</td>\n",
              "      <td>...</td>\n",
              "      <td>...</td>\n",
              "      <td>...</td>\n",
              "      <td>...</td>\n",
              "      <td>...</td>\n",
              "      <td>...</td>\n",
              "      <td>...</td>\n",
              "      <td>...</td>\n",
              "      <td>...</td>\n",
              "      <td>...</td>\n",
              "      <td>...</td>\n",
              "      <td>...</td>\n",
              "      <td>...</td>\n",
              "      <td>...</td>\n",
              "      <td>...</td>\n",
              "      <td>...</td>\n",
              "      <td>...</td>\n",
              "      <td>...</td>\n",
              "      <td>...</td>\n",
              "      <td>...</td>\n",
              "      <td>...</td>\n",
              "      <td>...</td>\n",
              "      <td>...</td>\n",
              "      <td>...</td>\n",
              "    </tr>\n",
              "    <tr>\n",
              "      <th>2795</th>\n",
              "      <td>6.0</td>\n",
              "      <td>1.0</td>\n",
              "      <td>3.0</td>\n",
              "      <td>3.0</td>\n",
              "      <td>3.0</td>\n",
              "      <td>6.0</td>\n",
              "      <td>6.0</td>\n",
              "      <td>6.0</td>\n",
              "      <td>1.0</td>\n",
              "      <td>1.0</td>\n",
              "      <td>1.0</td>\n",
              "      <td>4.0</td>\n",
              "      <td>5.0</td>\n",
              "      <td>5.0</td>\n",
              "      <td>6.0</td>\n",
              "      <td>1.0</td>\n",
              "      <td>1.0</td>\n",
              "      <td>1.0</td>\n",
              "      <td>NaN</td>\n",
              "      <td>1.0</td>\n",
              "      <td>6.0</td>\n",
              "      <td>1</td>\n",
              "      <td>6.0</td>\n",
              "      <td>6.0</td>\n",
              "      <td>1.0</td>\n",
              "    </tr>\n",
              "    <tr>\n",
              "      <th>2796</th>\n",
              "      <td>2.0</td>\n",
              "      <td>4.0</td>\n",
              "      <td>4.0</td>\n",
              "      <td>3.0</td>\n",
              "      <td>5.0</td>\n",
              "      <td>2.0</td>\n",
              "      <td>3.0</td>\n",
              "      <td>4.0</td>\n",
              "      <td>4.0</td>\n",
              "      <td>3.0</td>\n",
              "      <td>2.0</td>\n",
              "      <td>2.0</td>\n",
              "      <td>4.0</td>\n",
              "      <td>4.0</td>\n",
              "      <td>3.0</td>\n",
              "      <td>NaN</td>\n",
              "      <td>3.0</td>\n",
              "      <td>2.0</td>\n",
              "      <td>3.0</td>\n",
              "      <td>3.0</td>\n",
              "      <td>6.0</td>\n",
              "      <td>3</td>\n",
              "      <td>5.0</td>\n",
              "      <td>4.0</td>\n",
              "      <td>2.0</td>\n",
              "    </tr>\n",
              "    <tr>\n",
              "      <th>2797</th>\n",
              "      <td>2.0</td>\n",
              "      <td>3.0</td>\n",
              "      <td>5.0</td>\n",
              "      <td>2.0</td>\n",
              "      <td>5.0</td>\n",
              "      <td>5.0</td>\n",
              "      <td>5.0</td>\n",
              "      <td>5.0</td>\n",
              "      <td>1.0</td>\n",
              "      <td>1.0</td>\n",
              "      <td>2.0</td>\n",
              "      <td>2.0</td>\n",
              "      <td>6.0</td>\n",
              "      <td>3.0</td>\n",
              "      <td>6.0</td>\n",
              "      <td>3.0</td>\n",
              "      <td>4.0</td>\n",
              "      <td>3.0</td>\n",
              "      <td>3.0</td>\n",
              "      <td>1.0</td>\n",
              "      <td>5.0</td>\n",
              "      <td>1</td>\n",
              "      <td>6.0</td>\n",
              "      <td>4.0</td>\n",
              "      <td>3.0</td>\n",
              "    </tr>\n",
              "    <tr>\n",
              "      <th>2798</th>\n",
              "      <td>5.0</td>\n",
              "      <td>2.0</td>\n",
              "      <td>2.0</td>\n",
              "      <td>4.0</td>\n",
              "      <td>4.0</td>\n",
              "      <td>5.0</td>\n",
              "      <td>5.0</td>\n",
              "      <td>5.0</td>\n",
              "      <td>2.0</td>\n",
              "      <td>6.0</td>\n",
              "      <td>2.0</td>\n",
              "      <td>2.0</td>\n",
              "      <td>4.0</td>\n",
              "      <td>5.0</td>\n",
              "      <td>4.0</td>\n",
              "      <td>5.0</td>\n",
              "      <td>5.0</td>\n",
              "      <td>6.0</td>\n",
              "      <td>4.0</td>\n",
              "      <td>1.0</td>\n",
              "      <td>5.0</td>\n",
              "      <td>2</td>\n",
              "      <td>5.0</td>\n",
              "      <td>5.0</td>\n",
              "      <td>1.0</td>\n",
              "    </tr>\n",
              "    <tr>\n",
              "      <th>2799</th>\n",
              "      <td>2.0</td>\n",
              "      <td>3.0</td>\n",
              "      <td>1.0</td>\n",
              "      <td>4.0</td>\n",
              "      <td>2.0</td>\n",
              "      <td>5.0</td>\n",
              "      <td>5.0</td>\n",
              "      <td>3.0</td>\n",
              "      <td>3.0</td>\n",
              "      <td>3.0</td>\n",
              "      <td>3.0</td>\n",
              "      <td>3.0</td>\n",
              "      <td>1.0</td>\n",
              "      <td>2.0</td>\n",
              "      <td>2.0</td>\n",
              "      <td>1.0</td>\n",
              "      <td>2.0</td>\n",
              "      <td>2.0</td>\n",
              "      <td>1.0</td>\n",
              "      <td>1.0</td>\n",
              "      <td>3.0</td>\n",
              "      <td>1</td>\n",
              "      <td>3.0</td>\n",
              "      <td>5.0</td>\n",
              "      <td>1.0</td>\n",
              "    </tr>\n",
              "  </tbody>\n",
              "</table>\n",
              "<p>2800 rows × 25 columns</p>\n",
              "</div>"
            ],
            "text/plain": [
              "       A1   A2   A3   A4   A5   C1   C2  ...   N4   N5   O1  O2   O3   O4   O5\n",
              "0     2.0  4.0  3.0  4.0  4.0  2.0  3.0  ...  2.0  3.0  3.0   6  3.0  4.0  3.0\n",
              "1     2.0  4.0  5.0  2.0  5.0  5.0  4.0  ...  5.0  5.0  4.0   2  4.0  3.0  3.0\n",
              "2     5.0  4.0  5.0  4.0  4.0  4.0  5.0  ...  2.0  3.0  4.0   2  5.0  5.0  2.0\n",
              "3     4.0  4.0  6.0  5.0  5.0  4.0  4.0  ...  4.0  1.0  3.0   3  4.0  3.0  5.0\n",
              "4     2.0  3.0  3.0  4.0  5.0  4.0  4.0  ...  4.0  3.0  3.0   3  4.0  3.0  3.0\n",
              "...   ...  ...  ...  ...  ...  ...  ...  ...  ...  ...  ...  ..  ...  ...  ...\n",
              "2795  6.0  1.0  3.0  3.0  3.0  6.0  6.0  ...  NaN  1.0  6.0   1  6.0  6.0  1.0\n",
              "2796  2.0  4.0  4.0  3.0  5.0  2.0  3.0  ...  3.0  3.0  6.0   3  5.0  4.0  2.0\n",
              "2797  2.0  3.0  5.0  2.0  5.0  5.0  5.0  ...  3.0  1.0  5.0   1  6.0  4.0  3.0\n",
              "2798  5.0  2.0  2.0  4.0  4.0  5.0  5.0  ...  4.0  1.0  5.0   2  5.0  5.0  1.0\n",
              "2799  2.0  3.0  1.0  4.0  2.0  5.0  5.0  ...  1.0  1.0  3.0   1  3.0  5.0  1.0\n",
              "\n",
              "[2800 rows x 25 columns]"
            ]
          },
          "metadata": {
            "tags": []
          },
          "execution_count": 21
        }
      ]
    },
    {
      "cell_type": "markdown",
      "metadata": {
        "id": "xr5oHQN_yqTY"
      },
      "source": [
        "### เฉลย"
      ]
    },
    {
      "cell_type": "code",
      "metadata": {
        "id": "vCP13Jwfyi0h",
        "colab": {
          "base_uri": "https://localhost:8080/",
          "height": 431
        },
        "outputId": "052b4c35-d661-4e3b-9f13-c14dcc5d3fd2"
      },
      "source": [
        "BFI_data_dropped = BFI_data.iloc[:,1:-3]\n",
        "BFI_data_dropped"
      ],
      "execution_count": 22,
      "outputs": [
        {
          "output_type": "execute_result",
          "data": {
            "text/html": [
              "<div>\n",
              "<style scoped>\n",
              "    .dataframe tbody tr th:only-of-type {\n",
              "        vertical-align: middle;\n",
              "    }\n",
              "\n",
              "    .dataframe tbody tr th {\n",
              "        vertical-align: top;\n",
              "    }\n",
              "\n",
              "    .dataframe thead th {\n",
              "        text-align: right;\n",
              "    }\n",
              "</style>\n",
              "<table border=\"1\" class=\"dataframe\">\n",
              "  <thead>\n",
              "    <tr style=\"text-align: right;\">\n",
              "      <th></th>\n",
              "      <th>A1</th>\n",
              "      <th>A2</th>\n",
              "      <th>A3</th>\n",
              "      <th>A4</th>\n",
              "      <th>A5</th>\n",
              "      <th>C1</th>\n",
              "      <th>C2</th>\n",
              "      <th>C3</th>\n",
              "      <th>C4</th>\n",
              "      <th>C5</th>\n",
              "      <th>E1</th>\n",
              "      <th>E2</th>\n",
              "      <th>E3</th>\n",
              "      <th>E4</th>\n",
              "      <th>E5</th>\n",
              "      <th>N1</th>\n",
              "      <th>N2</th>\n",
              "      <th>N3</th>\n",
              "      <th>N4</th>\n",
              "      <th>N5</th>\n",
              "      <th>O1</th>\n",
              "      <th>O2</th>\n",
              "      <th>O3</th>\n",
              "      <th>O4</th>\n",
              "      <th>O5</th>\n",
              "    </tr>\n",
              "  </thead>\n",
              "  <tbody>\n",
              "    <tr>\n",
              "      <th>0</th>\n",
              "      <td>2.0</td>\n",
              "      <td>4.0</td>\n",
              "      <td>3.0</td>\n",
              "      <td>4.0</td>\n",
              "      <td>4.0</td>\n",
              "      <td>2.0</td>\n",
              "      <td>3.0</td>\n",
              "      <td>3.0</td>\n",
              "      <td>4.0</td>\n",
              "      <td>4.0</td>\n",
              "      <td>3.0</td>\n",
              "      <td>3.0</td>\n",
              "      <td>3.0</td>\n",
              "      <td>4.0</td>\n",
              "      <td>4.0</td>\n",
              "      <td>3.0</td>\n",
              "      <td>4.0</td>\n",
              "      <td>2.0</td>\n",
              "      <td>2.0</td>\n",
              "      <td>3.0</td>\n",
              "      <td>3.0</td>\n",
              "      <td>6</td>\n",
              "      <td>3.0</td>\n",
              "      <td>4.0</td>\n",
              "      <td>3.0</td>\n",
              "    </tr>\n",
              "    <tr>\n",
              "      <th>1</th>\n",
              "      <td>2.0</td>\n",
              "      <td>4.0</td>\n",
              "      <td>5.0</td>\n",
              "      <td>2.0</td>\n",
              "      <td>5.0</td>\n",
              "      <td>5.0</td>\n",
              "      <td>4.0</td>\n",
              "      <td>4.0</td>\n",
              "      <td>3.0</td>\n",
              "      <td>4.0</td>\n",
              "      <td>1.0</td>\n",
              "      <td>1.0</td>\n",
              "      <td>6.0</td>\n",
              "      <td>4.0</td>\n",
              "      <td>3.0</td>\n",
              "      <td>3.0</td>\n",
              "      <td>3.0</td>\n",
              "      <td>3.0</td>\n",
              "      <td>5.0</td>\n",
              "      <td>5.0</td>\n",
              "      <td>4.0</td>\n",
              "      <td>2</td>\n",
              "      <td>4.0</td>\n",
              "      <td>3.0</td>\n",
              "      <td>3.0</td>\n",
              "    </tr>\n",
              "    <tr>\n",
              "      <th>2</th>\n",
              "      <td>5.0</td>\n",
              "      <td>4.0</td>\n",
              "      <td>5.0</td>\n",
              "      <td>4.0</td>\n",
              "      <td>4.0</td>\n",
              "      <td>4.0</td>\n",
              "      <td>5.0</td>\n",
              "      <td>4.0</td>\n",
              "      <td>2.0</td>\n",
              "      <td>5.0</td>\n",
              "      <td>2.0</td>\n",
              "      <td>4.0</td>\n",
              "      <td>4.0</td>\n",
              "      <td>4.0</td>\n",
              "      <td>5.0</td>\n",
              "      <td>4.0</td>\n",
              "      <td>5.0</td>\n",
              "      <td>4.0</td>\n",
              "      <td>2.0</td>\n",
              "      <td>3.0</td>\n",
              "      <td>4.0</td>\n",
              "      <td>2</td>\n",
              "      <td>5.0</td>\n",
              "      <td>5.0</td>\n",
              "      <td>2.0</td>\n",
              "    </tr>\n",
              "    <tr>\n",
              "      <th>3</th>\n",
              "      <td>4.0</td>\n",
              "      <td>4.0</td>\n",
              "      <td>6.0</td>\n",
              "      <td>5.0</td>\n",
              "      <td>5.0</td>\n",
              "      <td>4.0</td>\n",
              "      <td>4.0</td>\n",
              "      <td>3.0</td>\n",
              "      <td>5.0</td>\n",
              "      <td>5.0</td>\n",
              "      <td>5.0</td>\n",
              "      <td>3.0</td>\n",
              "      <td>4.0</td>\n",
              "      <td>4.0</td>\n",
              "      <td>4.0</td>\n",
              "      <td>2.0</td>\n",
              "      <td>5.0</td>\n",
              "      <td>2.0</td>\n",
              "      <td>4.0</td>\n",
              "      <td>1.0</td>\n",
              "      <td>3.0</td>\n",
              "      <td>3</td>\n",
              "      <td>4.0</td>\n",
              "      <td>3.0</td>\n",
              "      <td>5.0</td>\n",
              "    </tr>\n",
              "    <tr>\n",
              "      <th>4</th>\n",
              "      <td>2.0</td>\n",
              "      <td>3.0</td>\n",
              "      <td>3.0</td>\n",
              "      <td>4.0</td>\n",
              "      <td>5.0</td>\n",
              "      <td>4.0</td>\n",
              "      <td>4.0</td>\n",
              "      <td>5.0</td>\n",
              "      <td>3.0</td>\n",
              "      <td>2.0</td>\n",
              "      <td>2.0</td>\n",
              "      <td>2.0</td>\n",
              "      <td>5.0</td>\n",
              "      <td>4.0</td>\n",
              "      <td>5.0</td>\n",
              "      <td>2.0</td>\n",
              "      <td>3.0</td>\n",
              "      <td>4.0</td>\n",
              "      <td>4.0</td>\n",
              "      <td>3.0</td>\n",
              "      <td>3.0</td>\n",
              "      <td>3</td>\n",
              "      <td>4.0</td>\n",
              "      <td>3.0</td>\n",
              "      <td>3.0</td>\n",
              "    </tr>\n",
              "    <tr>\n",
              "      <th>...</th>\n",
              "      <td>...</td>\n",
              "      <td>...</td>\n",
              "      <td>...</td>\n",
              "      <td>...</td>\n",
              "      <td>...</td>\n",
              "      <td>...</td>\n",
              "      <td>...</td>\n",
              "      <td>...</td>\n",
              "      <td>...</td>\n",
              "      <td>...</td>\n",
              "      <td>...</td>\n",
              "      <td>...</td>\n",
              "      <td>...</td>\n",
              "      <td>...</td>\n",
              "      <td>...</td>\n",
              "      <td>...</td>\n",
              "      <td>...</td>\n",
              "      <td>...</td>\n",
              "      <td>...</td>\n",
              "      <td>...</td>\n",
              "      <td>...</td>\n",
              "      <td>...</td>\n",
              "      <td>...</td>\n",
              "      <td>...</td>\n",
              "      <td>...</td>\n",
              "    </tr>\n",
              "    <tr>\n",
              "      <th>2795</th>\n",
              "      <td>6.0</td>\n",
              "      <td>1.0</td>\n",
              "      <td>3.0</td>\n",
              "      <td>3.0</td>\n",
              "      <td>3.0</td>\n",
              "      <td>6.0</td>\n",
              "      <td>6.0</td>\n",
              "      <td>6.0</td>\n",
              "      <td>1.0</td>\n",
              "      <td>1.0</td>\n",
              "      <td>1.0</td>\n",
              "      <td>4.0</td>\n",
              "      <td>5.0</td>\n",
              "      <td>5.0</td>\n",
              "      <td>6.0</td>\n",
              "      <td>1.0</td>\n",
              "      <td>1.0</td>\n",
              "      <td>1.0</td>\n",
              "      <td>NaN</td>\n",
              "      <td>1.0</td>\n",
              "      <td>6.0</td>\n",
              "      <td>1</td>\n",
              "      <td>6.0</td>\n",
              "      <td>6.0</td>\n",
              "      <td>1.0</td>\n",
              "    </tr>\n",
              "    <tr>\n",
              "      <th>2796</th>\n",
              "      <td>2.0</td>\n",
              "      <td>4.0</td>\n",
              "      <td>4.0</td>\n",
              "      <td>3.0</td>\n",
              "      <td>5.0</td>\n",
              "      <td>2.0</td>\n",
              "      <td>3.0</td>\n",
              "      <td>4.0</td>\n",
              "      <td>4.0</td>\n",
              "      <td>3.0</td>\n",
              "      <td>2.0</td>\n",
              "      <td>2.0</td>\n",
              "      <td>4.0</td>\n",
              "      <td>4.0</td>\n",
              "      <td>3.0</td>\n",
              "      <td>NaN</td>\n",
              "      <td>3.0</td>\n",
              "      <td>2.0</td>\n",
              "      <td>3.0</td>\n",
              "      <td>3.0</td>\n",
              "      <td>6.0</td>\n",
              "      <td>3</td>\n",
              "      <td>5.0</td>\n",
              "      <td>4.0</td>\n",
              "      <td>2.0</td>\n",
              "    </tr>\n",
              "    <tr>\n",
              "      <th>2797</th>\n",
              "      <td>2.0</td>\n",
              "      <td>3.0</td>\n",
              "      <td>5.0</td>\n",
              "      <td>2.0</td>\n",
              "      <td>5.0</td>\n",
              "      <td>5.0</td>\n",
              "      <td>5.0</td>\n",
              "      <td>5.0</td>\n",
              "      <td>1.0</td>\n",
              "      <td>1.0</td>\n",
              "      <td>2.0</td>\n",
              "      <td>2.0</td>\n",
              "      <td>6.0</td>\n",
              "      <td>3.0</td>\n",
              "      <td>6.0</td>\n",
              "      <td>3.0</td>\n",
              "      <td>4.0</td>\n",
              "      <td>3.0</td>\n",
              "      <td>3.0</td>\n",
              "      <td>1.0</td>\n",
              "      <td>5.0</td>\n",
              "      <td>1</td>\n",
              "      <td>6.0</td>\n",
              "      <td>4.0</td>\n",
              "      <td>3.0</td>\n",
              "    </tr>\n",
              "    <tr>\n",
              "      <th>2798</th>\n",
              "      <td>5.0</td>\n",
              "      <td>2.0</td>\n",
              "      <td>2.0</td>\n",
              "      <td>4.0</td>\n",
              "      <td>4.0</td>\n",
              "      <td>5.0</td>\n",
              "      <td>5.0</td>\n",
              "      <td>5.0</td>\n",
              "      <td>2.0</td>\n",
              "      <td>6.0</td>\n",
              "      <td>2.0</td>\n",
              "      <td>2.0</td>\n",
              "      <td>4.0</td>\n",
              "      <td>5.0</td>\n",
              "      <td>4.0</td>\n",
              "      <td>5.0</td>\n",
              "      <td>5.0</td>\n",
              "      <td>6.0</td>\n",
              "      <td>4.0</td>\n",
              "      <td>1.0</td>\n",
              "      <td>5.0</td>\n",
              "      <td>2</td>\n",
              "      <td>5.0</td>\n",
              "      <td>5.0</td>\n",
              "      <td>1.0</td>\n",
              "    </tr>\n",
              "    <tr>\n",
              "      <th>2799</th>\n",
              "      <td>2.0</td>\n",
              "      <td>3.0</td>\n",
              "      <td>1.0</td>\n",
              "      <td>4.0</td>\n",
              "      <td>2.0</td>\n",
              "      <td>5.0</td>\n",
              "      <td>5.0</td>\n",
              "      <td>3.0</td>\n",
              "      <td>3.0</td>\n",
              "      <td>3.0</td>\n",
              "      <td>3.0</td>\n",
              "      <td>3.0</td>\n",
              "      <td>1.0</td>\n",
              "      <td>2.0</td>\n",
              "      <td>2.0</td>\n",
              "      <td>1.0</td>\n",
              "      <td>2.0</td>\n",
              "      <td>2.0</td>\n",
              "      <td>1.0</td>\n",
              "      <td>1.0</td>\n",
              "      <td>3.0</td>\n",
              "      <td>1</td>\n",
              "      <td>3.0</td>\n",
              "      <td>5.0</td>\n",
              "      <td>1.0</td>\n",
              "    </tr>\n",
              "  </tbody>\n",
              "</table>\n",
              "<p>2800 rows × 25 columns</p>\n",
              "</div>"
            ],
            "text/plain": [
              "       A1   A2   A3   A4   A5   C1   C2  ...   N4   N5   O1  O2   O3   O4   O5\n",
              "0     2.0  4.0  3.0  4.0  4.0  2.0  3.0  ...  2.0  3.0  3.0   6  3.0  4.0  3.0\n",
              "1     2.0  4.0  5.0  2.0  5.0  5.0  4.0  ...  5.0  5.0  4.0   2  4.0  3.0  3.0\n",
              "2     5.0  4.0  5.0  4.0  4.0  4.0  5.0  ...  2.0  3.0  4.0   2  5.0  5.0  2.0\n",
              "3     4.0  4.0  6.0  5.0  5.0  4.0  4.0  ...  4.0  1.0  3.0   3  4.0  3.0  5.0\n",
              "4     2.0  3.0  3.0  4.0  5.0  4.0  4.0  ...  4.0  3.0  3.0   3  4.0  3.0  3.0\n",
              "...   ...  ...  ...  ...  ...  ...  ...  ...  ...  ...  ...  ..  ...  ...  ...\n",
              "2795  6.0  1.0  3.0  3.0  3.0  6.0  6.0  ...  NaN  1.0  6.0   1  6.0  6.0  1.0\n",
              "2796  2.0  4.0  4.0  3.0  5.0  2.0  3.0  ...  3.0  3.0  6.0   3  5.0  4.0  2.0\n",
              "2797  2.0  3.0  5.0  2.0  5.0  5.0  5.0  ...  3.0  1.0  5.0   1  6.0  4.0  3.0\n",
              "2798  5.0  2.0  2.0  4.0  4.0  5.0  5.0  ...  4.0  1.0  5.0   2  5.0  5.0  1.0\n",
              "2799  2.0  3.0  1.0  4.0  2.0  5.0  5.0  ...  1.0  1.0  3.0   1  3.0  5.0  1.0\n",
              "\n",
              "[2800 rows x 25 columns]"
            ]
          },
          "metadata": {
            "tags": []
          },
          "execution_count": 22
        }
      ]
    },
    {
      "cell_type": "code",
      "metadata": {
        "id": "wG2swNAtzOyt"
      },
      "source": [
        "BFI_data_dropped = BFI_data_dropped.dropna()\n"
      ],
      "execution_count": 26,
      "outputs": []
    },
    {
      "cell_type": "code",
      "metadata": {
        "id": "yBgqdZG-0aF8",
        "colab": {
          "base_uri": "https://localhost:8080/"
        },
        "outputId": "ba2f390c-9e16-4eb0-cadd-f2b457e3f5a7"
      },
      "source": [
        "BFI_data_dropped.shape"
      ],
      "execution_count": 27,
      "outputs": [
        {
          "output_type": "execute_result",
          "data": {
            "text/plain": [
              "(2436, 25)"
            ]
          },
          "metadata": {
            "tags": []
          },
          "execution_count": 27
        }
      ]
    },
    {
      "cell_type": "markdown",
      "metadata": {
        "id": "HZSjdqo11nRt"
      },
      "source": [
        "### Bartlr"
      ]
    },
    {
      "cell_type": "code",
      "metadata": {
        "id": "x8xJYfkP087R",
        "colab": {
          "base_uri": "https://localhost:8080/"
        },
        "outputId": "fd83bdfe-79fc-4614-b8b4-d6023f91bb86"
      },
      "source": [
        "from factor_analyzer.factor_analyzer import calculate_bartlett_sphericity #import ตัวที่ต้องการใช้งาน\n",
        "chi_square_value,p_value=calculate_bartlett_sphericity(BFI_data_dropped) # ถ้า p-value มีค่าเป็น 0 แสดงว่าไม่มี perfect.....\n",
        "chi_square_value, p_value"
      ],
      "execution_count": 28,
      "outputs": [
        {
          "output_type": "execute_result",
          "data": {
            "text/plain": [
              "(18170.966350869243, 0.0)"
            ]
          },
          "metadata": {
            "tags": []
          },
          "execution_count": 28
        }
      ]
    },
    {
      "cell_type": "markdown",
      "metadata": {
        "id": "oPmujifW2TPZ"
      },
      "source": [
        "###Kaiser-Meyer-Olkin (KMO) Test"
      ]
    },
    {
      "cell_type": "markdown",
      "metadata": {
        "id": "kGql8N0y3AX_"
      },
      "source": [
        "ถ้าค่า KMO modal มีค่ามากกว่า 0.6 แปลว่าข้อมูลเหมาะทที่จะนำไปทำ Factor Analysis"
      ]
    },
    {
      "cell_type": "code",
      "metadata": {
        "id": "WqDJE1f_1vP8",
        "colab": {
          "base_uri": "https://localhost:8080/"
        },
        "outputId": "d1be673d-f9b2-4db5-f8ba-bc8f32030c56"
      },
      "source": [
        "from factor_analyzer.factor_analyzer import calculate_kmo\n",
        "kmo_all,kmo_model=calculate_kmo(BFI_data_dropped)\n",
        "kmo_model # ถ้าคำนวนแล้วน้อยกว่า 6 วิธีนี้ไม่ควรที่จะทำ"
      ],
      "execution_count": 29,
      "outputs": [
        {
          "output_type": "execute_result",
          "data": {
            "text/plain": [
              "0.8485397221949221"
            ]
          },
          "metadata": {
            "tags": []
          },
          "execution_count": 29
        }
      ]
    },
    {
      "cell_type": "markdown",
      "metadata": {
        "id": "Rc-fX_GO23Yb"
      },
      "source": [
        "##Factor Analysis"
      ]
    },
    {
      "cell_type": "markdown",
      "metadata": {
        "id": "2usbvO-l6TEb"
      },
      "source": [
        "###Import"
      ]
    },
    {
      "cell_type": "code",
      "metadata": {
        "id": "iw_Mmj9H6Woz"
      },
      "source": [
        "from factor_analyzer import FactorAnalyzer"
      ],
      "execution_count": 30,
      "outputs": []
    },
    {
      "cell_type": "markdown",
      "metadata": {
        "id": "2s9LsCEi60s0"
      },
      "source": [
        "###Define"
      ]
    },
    {
      "cell_type": "code",
      "metadata": {
        "id": "DctyQDHW8WYc"
      },
      "source": [
        "fa = FactorAnalyzer(n_factors=20)"
      ],
      "execution_count": 31,
      "outputs": []
    },
    {
      "cell_type": "markdown",
      "metadata": {
        "id": "g-uXvGPp8i7I"
      },
      "source": [
        "###Fit_transform"
      ]
    },
    {
      "cell_type": "code",
      "metadata": {
        "id": "TSF8Fw6D8xMm"
      },
      "source": [
        "data_fa = fa.fit_transform(BFI_data_dropped)"
      ],
      "execution_count": 32,
      "outputs": []
    },
    {
      "cell_type": "code",
      "metadata": {
        "id": "mXLT9GhE9BUc",
        "colab": {
          "base_uri": "https://localhost:8080/"
        },
        "outputId": "0562e5fe-1648-41e2-d416-c3828d6ff93b"
      },
      "source": [
        "data_fa.shape"
      ],
      "execution_count": 33,
      "outputs": [
        {
          "output_type": "execute_result",
          "data": {
            "text/plain": [
              "(2436, 20)"
            ]
          },
          "metadata": {
            "tags": []
          },
          "execution_count": 33
        }
      ]
    },
    {
      "cell_type": "markdown",
      "metadata": {
        "id": "H_SuGm3--hlm"
      },
      "source": [
        "###วิธีตัดสินว่าเราจะลดเหลือกี่ dimension (มี factors ทั้งหมดกี่ตัว)"
      ]
    },
    {
      "cell_type": "code",
      "metadata": {
        "id": "l6BZVuyU9XvQ"
      },
      "source": [
        "ev,v = fa.get_eigenvalues()"
      ],
      "execution_count": 34,
      "outputs": []
    },
    {
      "cell_type": "markdown",
      "metadata": {
        "id": "YW0CcK0Z-xWV"
      },
      "source": [
        "### ใช้ eigen values"
      ]
    },
    {
      "cell_type": "code",
      "metadata": {
        "id": "VsGg6P-t-4Cy",
        "colab": {
          "base_uri": "https://localhost:8080/"
        },
        "outputId": "ce5f46a7-33fb-46d1-8c53-0e87580ca060"
      },
      "source": [
        "ev"
      ],
      "execution_count": 35,
      "outputs": [
        {
          "output_type": "execute_result",
          "data": {
            "text/plain": [
              "array([5.13431118, 2.75188667, 2.14270195, 1.85232761, 1.54816285,\n",
              "       1.07358247, 0.83953893, 0.79920618, 0.71898919, 0.68808879,\n",
              "       0.67637336, 0.65179984, 0.62325295, 0.59656284, 0.56309083,\n",
              "       0.54330533, 0.51451752, 0.49450315, 0.48263952, 0.448921  ,\n",
              "       0.42336611, 0.40067145, 0.38780448, 0.38185679, 0.26253902])"
            ]
          },
          "metadata": {
            "tags": []
          },
          "execution_count": 35
        }
      ]
    },
    {
      "cell_type": "code",
      "metadata": {
        "id": "wgR8nGl79sdL",
        "colab": {
          "base_uri": "https://localhost:8080/"
        },
        "outputId": "3edb0bb6-bc9d-4c1f-9d75-933e380fe4a5"
      },
      "source": [
        "ev.shape"
      ],
      "execution_count": 36,
      "outputs": [
        {
          "output_type": "execute_result",
          "data": {
            "text/plain": [
              "(25,)"
            ]
          },
          "metadata": {
            "tags": []
          },
          "execution_count": 36
        }
      ]
    },
    {
      "cell_type": "markdown",
      "metadata": {
        "id": "8tU2N4r0_CX6"
      },
      "source": [
        "###scree plot "
      ]
    },
    {
      "cell_type": "code",
      "metadata": {
        "id": "cOOy1jc69wle",
        "colab": {
          "base_uri": "https://localhost:8080/",
          "height": 295
        },
        "outputId": "cdcb2809-5bb0-4241-fd23-f03775c55364"
      },
      "source": [
        "# Create scree plot using matplotlib\n",
        "plt.scatter(range(1,BFI_data_dropped.shape[1]+1),ev)\n",
        "plt.plot(range(1,BFI_data_dropped.shape[1]+1),ev)\n",
        "plt.title('Scree Plot')\n",
        "plt.xlabel('Factors')\n",
        "plt.ylabel('Eigenvalue')\n",
        "plt.grid()\n",
        "plt.show()"
      ],
      "execution_count": 37,
      "outputs": [
        {
          "output_type": "display_data",
          "data": {
            "image/png": "[encoded data removed]",
            "text/plain": [
              "<Figure size 432x288 with 1 Axes>"
            ]
          },
          "metadata": {
            "tags": [],
            "needs_background": "light"
          }
        }
      ]
    },
    {
      "cell_type": "code",
      "metadata": {
        "id": "GBDnz2J6_3jG",
        "colab": {
          "base_uri": "https://localhost:8080/",
          "height": 295
        },
        "outputId": "a6eeeabc-6788-417f-f37b-830afff2822a"
      },
      "source": [
        "# Create scree plot using matplotlib\n",
        "plt.scatter(range(1,BFI_data_dropped.shape[1]+1),ev)\n",
        "plt.plot(range(1,BFI_data_dropped.shape[1]+1),ev)\n",
        "plt.plot([0,BFI_data_dropped.shape[1]+1],[1,1],'r--')\n",
        "plt.title('Scree Plot')\n",
        "plt.xlabel('Factors')\n",
        "plt.ylabel('Eigenvalue')\n",
        "plt.grid()\n",
        "plt.show()"
      ],
      "execution_count": 38,
      "outputs": [
        {
          "output_type": "display_data",
          "data": {
            "image/png": "[encoded data removed]",
            "text/plain": [
              "<Figure size 432x288 with 1 Axes>"
            ]
          },
          "metadata": {
            "tags": [],
            "needs_background": "light"
          }
        }
      ]
    },
    {
      "cell_type": "code",
      "metadata": {
        "id": "gLh2oohzA-F-",
        "colab": {
          "base_uri": "https://localhost:8080/"
        },
        "outputId": "3c1cc94b-d71a-47d9-d6f8-e21e44bda281"
      },
      "source": [
        "data_fa[:,:6]"
      ],
      "execution_count": 39,
      "outputs": [
        {
          "output_type": "execute_result",
          "data": {
            "text/plain": [
              "array([[-0.89749661, -0.12809666, -1.22649076,  1.08665889,  0.42476701,\n",
              "         0.03981611],\n",
              "       [ 0.33679356, -0.15018138, -0.04332274, -0.10339328,  0.29665648,\n",
              "        -1.11019718],\n",
              "       [-0.24521029,  0.80409961,  0.39343377, -0.30106518,  0.82703928,\n",
              "        -0.2982022 ],\n",
              "       ...,\n",
              "       [ 0.38724631, -0.02183587,  1.19616826, -1.19357208,  0.79669501,\n",
              "        -0.95295109],\n",
              "       [-0.75695976,  0.94984758,  1.24363484, -1.15230215,  2.2534133 ,\n",
              "        -1.0218667 ],\n",
              "       [-2.35583952, -1.49829856,  0.49436981, -1.64734311,  0.94742323,\n",
              "         0.43462495]])"
            ]
          },
          "metadata": {
            "tags": []
          },
          "execution_count": 39
        }
      ]
    },
    {
      "cell_type": "markdown",
      "metadata": {
        "id": "CP8sr2WlCgwW"
      },
      "source": [
        "### Factor Analyzer\n",
        "\n"
      ]
    },
    {
      "cell_type": "markdown",
      "metadata": {
        "id": "FvnlITzZMkJA"
      },
      "source": [
        "รัน factor analyzer อีกรอบ\n"
      ]
    },
    {
      "cell_type": "code",
      "metadata": {
        "id": "LvImQWjsMvix"
      },
      "source": [
        "from factor_analyzer import FactorAnalyzer\n",
        "fa2 = FactorAnalyzer(n_factors=6)\n",
        "data_fa = fa2.fit_transform(BFI_data_dropped)"
      ],
      "execution_count": 40,
      "outputs": []
    },
    {
      "cell_type": "code",
      "metadata": {
        "id": "iFKzvhQEDR4_",
        "colab": {
          "base_uri": "https://localhost:8080/"
        },
        "outputId": "93b66521-ba67-49f2-ab72-b5b0fcc3c915"
      },
      "source": [
        "fa2.loadings_.shape"
      ],
      "execution_count": 41,
      "outputs": [
        {
          "output_type": "execute_result",
          "data": {
            "text/plain": [
              "(25, 6)"
            ]
          },
          "metadata": {
            "tags": []
          },
          "execution_count": 41
        }
      ]
    },
    {
      "cell_type": "markdown",
      "metadata": {
        "id": "bCWfv0h-O2KQ"
      },
      "source": [
        "###plot factor loadings"
      ]
    },
    {
      "cell_type": "code",
      "metadata": {
        "id": "8slTTargDYEh"
      },
      "source": [
        "from matplotlib import pyplot as plt\n",
        "import numpy as np\n",
        "import matplotlib"
      ],
      "execution_count": 42,
      "outputs": []
    },
    {
      "cell_type": "code",
      "metadata": {
        "id": "_eLA85JcPdEW",
        "colab": {
          "base_uri": "https://localhost:8080/",
          "height": 0
        },
        "outputId": "9ed01d32-2b80-4be3-c78e-96aa28a3b185"
      },
      "source": [
        "matplotlib.rcParams['figure.figsize']=[15,15]\n",
        "plt.imshow(np.absolute(fa2.loadings_)) #แถบไหนสว่างหมายความว่า ค่าตรงนั้นมาก"
      ],
      "execution_count": 43,
      "outputs": [
        {
          "output_type": "execute_result",
          "data": {
            "text/plain": [
              "<matplotlib.image.AxesImage at 0x7f2eeb665490>"
            ]
          },
          "metadata": {
            "tags": []
          },
          "execution_count": 43
        },
        {
          "output_type": "display_data",
          "data": {
            "image/png": "[encoded data removed]",
            "text/plain": [
              "<Figure size 1080x1080 with 1 Axes>"
            ]
          },
          "metadata": {
            "tags": [],
            "needs_background": "light"
          }
        }
      ]
    },
    {
      "cell_type": "markdown",
      "metadata": {
        "id": "Wv3lBHgMRwwJ"
      },
      "source": [
        "### กราฟแท่ง"
      ]
    },
    {
      "cell_type": "code",
      "metadata": {
        "id": "qMQ9S43jQQKY",
        "colab": {
          "base_uri": "https://localhost:8080/",
          "height": 644
        },
        "outputId": "cfdc60d8-9023-4a62-a595-6649de0bdfa0"
      },
      "source": [
        "plt.bar(range(25),np.absolute(fa2.loadings_[:,0]))"
      ],
      "execution_count": 44,
      "outputs": [
        {
          "output_type": "execute_result",
          "data": {
            "text/plain": [
              "<BarContainer object of 25 artists>"
            ]
          },
          "metadata": {
            "tags": []
          },
          "execution_count": 44
        },
        {
          "output_type": "display_data",
          "data": {
            "image/png": "[encoded data removed]",
            "text/plain": [
              "<Figure size 1080x1080 with 1 Axes>"
            ]
          },
          "metadata": {
            "tags": [],
            "needs_background": "light"
          }
        }
      ]
    },
    {
      "cell_type": "markdown",
      "metadata": {
        "id": "jpJDwvmTVSG1"
      },
      "source": [
        "### Exam 03\n",
        "ทำ factor analysis ข้อมูล fifa2018"
      ]
    },
    {
      "cell_type": "markdown",
      "metadata": {
        "id": "y5B-YmCZV5Fw"
      },
      "source": [
        "#### นำข้อมูลเข้า"
      ]
    },
    {
      "cell_type": "code",
      "metadata": {
        "id": "WsuSlS_BTK1C"
      },
      "source": [
        "import pandas as pd"
      ],
      "execution_count": 45,
      "outputs": []
    },
    {
      "cell_type": "code",
      "metadata": {
        "id": "e8p6dtUqV-oA",
        "outputId": "fcdd31b3-ab48-484f-e42e-057d0c303e18",
        "colab": {
          "base_uri": "https://localhost:8080/",
          "height": 441
        }
      },
      "source": [
        "fifa=pd.read_csv('/content/FIFA 2018 Statistics.csv')\n",
        "fifa.head()"
      ],
      "execution_count": 46,
      "outputs": [
        {
          "output_type": "execute_result",
          "data": {
            "text/html": [
              "<div>\n",
              "<style scoped>\n",
              "    .dataframe tbody tr th:only-of-type {\n",
              "        vertical-align: middle;\n",
              "    }\n",
              "\n",
              "    .dataframe tbody tr th {\n",
              "        vertical-align: top;\n",
              "    }\n",
              "\n",
              "    .dataframe thead th {\n",
              "        text-align: right;\n",
              "    }\n",
              "</style>\n",
              "<table border=\"1\" class=\"dataframe\">\n",
              "  <thead>\n",
              "    <tr style=\"text-align: right;\">\n",
              "      <th></th>\n",
              "      <th>Date</th>\n",
              "      <th>Team</th>\n",
              "      <th>Opponent</th>\n",
              "      <th>Goal Scored</th>\n",
              "      <th>Ball Possession %</th>\n",
              "      <th>Attempts</th>\n",
              "      <th>On-Target</th>\n",
              "      <th>Off-Target</th>\n",
              "      <th>Blocked</th>\n",
              "      <th>Corners</th>\n",
              "      <th>Offsides</th>\n",
              "      <th>Free Kicks</th>\n",
              "      <th>Saves</th>\n",
              "      <th>Pass Accuracy %</th>\n",
              "      <th>Passes</th>\n",
              "      <th>Distance Covered (Kms)</th>\n",
              "      <th>Fouls Committed</th>\n",
              "      <th>Yellow Card</th>\n",
              "      <th>Yellow &amp; Red</th>\n",
              "      <th>Red</th>\n",
              "      <th>Man of the Match</th>\n",
              "      <th>1st Goal</th>\n",
              "      <th>Round</th>\n",
              "      <th>PSO</th>\n",
              "      <th>Goals in PSO</th>\n",
              "      <th>Own goals</th>\n",
              "      <th>Own goal Time</th>\n",
              "    </tr>\n",
              "  </thead>\n",
              "  <tbody>\n",
              "    <tr>\n",
              "      <th>0</th>\n",
              "      <td>14-06-2018</td>\n",
              "      <td>Russia</td>\n",
              "      <td>Saudi Arabia</td>\n",
              "      <td>5</td>\n",
              "      <td>40</td>\n",
              "      <td>13</td>\n",
              "      <td>7</td>\n",
              "      <td>3</td>\n",
              "      <td>3</td>\n",
              "      <td>6</td>\n",
              "      <td>3</td>\n",
              "      <td>11</td>\n",
              "      <td>0</td>\n",
              "      <td>78</td>\n",
              "      <td>306</td>\n",
              "      <td>118</td>\n",
              "      <td>22</td>\n",
              "      <td>0</td>\n",
              "      <td>0</td>\n",
              "      <td>0</td>\n",
              "      <td>Yes</td>\n",
              "      <td>12.0</td>\n",
              "      <td>Group Stage</td>\n",
              "      <td>No</td>\n",
              "      <td>0</td>\n",
              "      <td>NaN</td>\n",
              "      <td>NaN</td>\n",
              "    </tr>\n",
              "    <tr>\n",
              "      <th>1</th>\n",
              "      <td>14-06-2018</td>\n",
              "      <td>Saudi Arabia</td>\n",
              "      <td>Russia</td>\n",
              "      <td>0</td>\n",
              "      <td>60</td>\n",
              "      <td>6</td>\n",
              "      <td>0</td>\n",
              "      <td>3</td>\n",
              "      <td>3</td>\n",
              "      <td>2</td>\n",
              "      <td>1</td>\n",
              "      <td>25</td>\n",
              "      <td>2</td>\n",
              "      <td>86</td>\n",
              "      <td>511</td>\n",
              "      <td>105</td>\n",
              "      <td>10</td>\n",
              "      <td>0</td>\n",
              "      <td>0</td>\n",
              "      <td>0</td>\n",
              "      <td>No</td>\n",
              "      <td>NaN</td>\n",
              "      <td>Group Stage</td>\n",
              "      <td>No</td>\n",
              "      <td>0</td>\n",
              "      <td>NaN</td>\n",
              "      <td>NaN</td>\n",
              "    </tr>\n",
              "    <tr>\n",
              "      <th>2</th>\n",
              "      <td>15-06-2018</td>\n",
              "      <td>Egypt</td>\n",
              "      <td>Uruguay</td>\n",
              "      <td>0</td>\n",
              "      <td>43</td>\n",
              "      <td>8</td>\n",
              "      <td>3</td>\n",
              "      <td>3</td>\n",
              "      <td>2</td>\n",
              "      <td>0</td>\n",
              "      <td>1</td>\n",
              "      <td>7</td>\n",
              "      <td>3</td>\n",
              "      <td>78</td>\n",
              "      <td>395</td>\n",
              "      <td>112</td>\n",
              "      <td>12</td>\n",
              "      <td>2</td>\n",
              "      <td>0</td>\n",
              "      <td>0</td>\n",
              "      <td>No</td>\n",
              "      <td>NaN</td>\n",
              "      <td>Group Stage</td>\n",
              "      <td>No</td>\n",
              "      <td>0</td>\n",
              "      <td>NaN</td>\n",
              "      <td>NaN</td>\n",
              "    </tr>\n",
              "    <tr>\n",
              "      <th>3</th>\n",
              "      <td>15-06-2018</td>\n",
              "      <td>Uruguay</td>\n",
              "      <td>Egypt</td>\n",
              "      <td>1</td>\n",
              "      <td>57</td>\n",
              "      <td>14</td>\n",
              "      <td>4</td>\n",
              "      <td>6</td>\n",
              "      <td>4</td>\n",
              "      <td>5</td>\n",
              "      <td>1</td>\n",
              "      <td>13</td>\n",
              "      <td>3</td>\n",
              "      <td>86</td>\n",
              "      <td>589</td>\n",
              "      <td>111</td>\n",
              "      <td>6</td>\n",
              "      <td>0</td>\n",
              "      <td>0</td>\n",
              "      <td>0</td>\n",
              "      <td>Yes</td>\n",
              "      <td>89.0</td>\n",
              "      <td>Group Stage</td>\n",
              "      <td>No</td>\n",
              "      <td>0</td>\n",
              "      <td>NaN</td>\n",
              "      <td>NaN</td>\n",
              "    </tr>\n",
              "    <tr>\n",
              "      <th>4</th>\n",
              "      <td>15-06-2018</td>\n",
              "      <td>Morocco</td>\n",
              "      <td>Iran</td>\n",
              "      <td>0</td>\n",
              "      <td>64</td>\n",
              "      <td>13</td>\n",
              "      <td>3</td>\n",
              "      <td>6</td>\n",
              "      <td>4</td>\n",
              "      <td>5</td>\n",
              "      <td>0</td>\n",
              "      <td>14</td>\n",
              "      <td>2</td>\n",
              "      <td>86</td>\n",
              "      <td>433</td>\n",
              "      <td>101</td>\n",
              "      <td>22</td>\n",
              "      <td>1</td>\n",
              "      <td>0</td>\n",
              "      <td>0</td>\n",
              "      <td>No</td>\n",
              "      <td>NaN</td>\n",
              "      <td>Group Stage</td>\n",
              "      <td>No</td>\n",
              "      <td>0</td>\n",
              "      <td>1.0</td>\n",
              "      <td>90.0</td>\n",
              "    </tr>\n",
              "  </tbody>\n",
              "</table>\n",
              "</div>"
            ],
            "text/plain": [
              "         Date          Team  ... Own goals  Own goal Time\n",
              "0  14-06-2018        Russia  ...       NaN            NaN\n",
              "1  14-06-2018  Saudi Arabia  ...       NaN            NaN\n",
              "2  15-06-2018         Egypt  ...       NaN            NaN\n",
              "3  15-06-2018       Uruguay  ...       NaN            NaN\n",
              "4  15-06-2018       Morocco  ...       1.0           90.0\n",
              "\n",
              "[5 rows x 27 columns]"
            ]
          },
          "metadata": {
            "tags": []
          },
          "execution_count": 46
        }
      ]
    },
    {
      "cell_type": "code",
      "metadata": {
        "id": "9RzIr6cyWMFo",
        "outputId": "8b1695e7-6e44-4332-9e3c-bcaa780bf12b",
        "colab": {
          "base_uri": "https://localhost:8080/"
        }
      },
      "source": [
        "fifa.shape"
      ],
      "execution_count": 47,
      "outputs": [
        {
          "output_type": "execute_result",
          "data": {
            "text/plain": [
              "(128, 27)"
            ]
          },
          "metadata": {
            "tags": []
          },
          "execution_count": 47
        }
      ]
    },
    {
      "cell_type": "markdown",
      "metadata": {
        "id": "yOVYsRPKWLwt"
      },
      "source": [
        "จากข้อมูลให้เลือกเฉพาะข้อมู,ที่เป็นตัวเลข เนื่อจากว่่าสามารถนำมาพลอตกราฟได้ ดังนั้นจึงเลือกข้อมูล Goal Scored ถึง Red"
      ]
    },
    {
      "cell_type": "code",
      "metadata": {
        "id": "XQdgQgJ4Widl"
      },
      "source": [
        "from factor_analyzer import FactorAnalyzer\n",
        "import matplotlib.pyplot as plt"
      ],
      "execution_count": 48,
      "outputs": []
    },
    {
      "cell_type": "code",
      "metadata": {
        "id": "Cuxb0l77WmuK",
        "outputId": "1182522d-c1bc-46f2-f92f-ec1afd4312ad",
        "colab": {
          "base_uri": "https://localhost:8080/",
          "height": 465
        }
      },
      "source": [
        "fifa_dropped=fifa.iloc[:,3:20] \n",
        "fifa_dropped"
      ],
      "execution_count": 50,
      "outputs": [
        {
          "output_type": "execute_result",
          "data": {
            "text/html": [
              "<div>\n",
              "<style scoped>\n",
              "    .dataframe tbody tr th:only-of-type {\n",
              "        vertical-align: middle;\n",
              "    }\n",
              "\n",
              "    .dataframe tbody tr th {\n",
              "        vertical-align: top;\n",
              "    }\n",
              "\n",
              "    .dataframe thead th {\n",
              "        text-align: right;\n",
              "    }\n",
              "</style>\n",
              "<table border=\"1\" class=\"dataframe\">\n",
              "  <thead>\n",
              "    <tr style=\"text-align: right;\">\n",
              "      <th></th>\n",
              "      <th>Goal Scored</th>\n",
              "      <th>Ball Possession %</th>\n",
              "      <th>Attempts</th>\n",
              "      <th>On-Target</th>\n",
              "      <th>Off-Target</th>\n",
              "      <th>Blocked</th>\n",
              "      <th>Corners</th>\n",
              "      <th>Offsides</th>\n",
              "      <th>Free Kicks</th>\n",
              "      <th>Saves</th>\n",
              "      <th>Pass Accuracy %</th>\n",
              "      <th>Passes</th>\n",
              "      <th>Distance Covered (Kms)</th>\n",
              "      <th>Fouls Committed</th>\n",
              "      <th>Yellow Card</th>\n",
              "      <th>Yellow &amp; Red</th>\n",
              "      <th>Red</th>\n",
              "    </tr>\n",
              "  </thead>\n",
              "  <tbody>\n",
              "    <tr>\n",
              "      <th>0</th>\n",
              "      <td>5</td>\n",
              "      <td>40</td>\n",
              "      <td>13</td>\n",
              "      <td>7</td>\n",
              "      <td>3</td>\n",
              "      <td>3</td>\n",
              "      <td>6</td>\n",
              "      <td>3</td>\n",
              "      <td>11</td>\n",
              "      <td>0</td>\n",
              "      <td>78</td>\n",
              "      <td>306</td>\n",
              "      <td>118</td>\n",
              "      <td>22</td>\n",
              "      <td>0</td>\n",
              "      <td>0</td>\n",
              "      <td>0</td>\n",
              "    </tr>\n",
              "    <tr>\n",
              "      <th>1</th>\n",
              "      <td>0</td>\n",
              "      <td>60</td>\n",
              "      <td>6</td>\n",
              "      <td>0</td>\n",
              "      <td>3</td>\n",
              "      <td>3</td>\n",
              "      <td>2</td>\n",
              "      <td>1</td>\n",
              "      <td>25</td>\n",
              "      <td>2</td>\n",
              "      <td>86</td>\n",
              "      <td>511</td>\n",
              "      <td>105</td>\n",
              "      <td>10</td>\n",
              "      <td>0</td>\n",
              "      <td>0</td>\n",
              "      <td>0</td>\n",
              "    </tr>\n",
              "    <tr>\n",
              "      <th>2</th>\n",
              "      <td>0</td>\n",
              "      <td>43</td>\n",
              "      <td>8</td>\n",
              "      <td>3</td>\n",
              "      <td>3</td>\n",
              "      <td>2</td>\n",
              "      <td>0</td>\n",
              "      <td>1</td>\n",
              "      <td>7</td>\n",
              "      <td>3</td>\n",
              "      <td>78</td>\n",
              "      <td>395</td>\n",
              "      <td>112</td>\n",
              "      <td>12</td>\n",
              "      <td>2</td>\n",
              "      <td>0</td>\n",
              "      <td>0</td>\n",
              "    </tr>\n",
              "    <tr>\n",
              "      <th>3</th>\n",
              "      <td>1</td>\n",
              "      <td>57</td>\n",
              "      <td>14</td>\n",
              "      <td>4</td>\n",
              "      <td>6</td>\n",
              "      <td>4</td>\n",
              "      <td>5</td>\n",
              "      <td>1</td>\n",
              "      <td>13</td>\n",
              "      <td>3</td>\n",
              "      <td>86</td>\n",
              "      <td>589</td>\n",
              "      <td>111</td>\n",
              "      <td>6</td>\n",
              "      <td>0</td>\n",
              "      <td>0</td>\n",
              "      <td>0</td>\n",
              "    </tr>\n",
              "    <tr>\n",
              "      <th>4</th>\n",
              "      <td>0</td>\n",
              "      <td>64</td>\n",
              "      <td>13</td>\n",
              "      <td>3</td>\n",
              "      <td>6</td>\n",
              "      <td>4</td>\n",
              "      <td>5</td>\n",
              "      <td>0</td>\n",
              "      <td>14</td>\n",
              "      <td>2</td>\n",
              "      <td>86</td>\n",
              "      <td>433</td>\n",
              "      <td>101</td>\n",
              "      <td>22</td>\n",
              "      <td>1</td>\n",
              "      <td>0</td>\n",
              "      <td>0</td>\n",
              "    </tr>\n",
              "    <tr>\n",
              "      <th>...</th>\n",
              "      <td>...</td>\n",
              "      <td>...</td>\n",
              "      <td>...</td>\n",
              "      <td>...</td>\n",
              "      <td>...</td>\n",
              "      <td>...</td>\n",
              "      <td>...</td>\n",
              "      <td>...</td>\n",
              "      <td>...</td>\n",
              "      <td>...</td>\n",
              "      <td>...</td>\n",
              "      <td>...</td>\n",
              "      <td>...</td>\n",
              "      <td>...</td>\n",
              "      <td>...</td>\n",
              "      <td>...</td>\n",
              "      <td>...</td>\n",
              "    </tr>\n",
              "    <tr>\n",
              "      <th>123</th>\n",
              "      <td>1</td>\n",
              "      <td>46</td>\n",
              "      <td>11</td>\n",
              "      <td>1</td>\n",
              "      <td>6</td>\n",
              "      <td>4</td>\n",
              "      <td>4</td>\n",
              "      <td>3</td>\n",
              "      <td>24</td>\n",
              "      <td>5</td>\n",
              "      <td>79</td>\n",
              "      <td>479</td>\n",
              "      <td>148</td>\n",
              "      <td>14</td>\n",
              "      <td>1</td>\n",
              "      <td>0</td>\n",
              "      <td>0</td>\n",
              "    </tr>\n",
              "    <tr>\n",
              "      <th>124</th>\n",
              "      <td>2</td>\n",
              "      <td>43</td>\n",
              "      <td>12</td>\n",
              "      <td>4</td>\n",
              "      <td>3</td>\n",
              "      <td>5</td>\n",
              "      <td>4</td>\n",
              "      <td>1</td>\n",
              "      <td>5</td>\n",
              "      <td>5</td>\n",
              "      <td>88</td>\n",
              "      <td>510</td>\n",
              "      <td>108</td>\n",
              "      <td>11</td>\n",
              "      <td>1</td>\n",
              "      <td>0</td>\n",
              "      <td>0</td>\n",
              "    </tr>\n",
              "    <tr>\n",
              "      <th>125</th>\n",
              "      <td>0</td>\n",
              "      <td>57</td>\n",
              "      <td>15</td>\n",
              "      <td>5</td>\n",
              "      <td>7</td>\n",
              "      <td>3</td>\n",
              "      <td>5</td>\n",
              "      <td>0</td>\n",
              "      <td>12</td>\n",
              "      <td>2</td>\n",
              "      <td>92</td>\n",
              "      <td>698</td>\n",
              "      <td>110</td>\n",
              "      <td>5</td>\n",
              "      <td>2</td>\n",
              "      <td>0</td>\n",
              "      <td>0</td>\n",
              "    </tr>\n",
              "    <tr>\n",
              "      <th>126</th>\n",
              "      <td>4</td>\n",
              "      <td>39</td>\n",
              "      <td>8</td>\n",
              "      <td>6</td>\n",
              "      <td>1</td>\n",
              "      <td>1</td>\n",
              "      <td>2</td>\n",
              "      <td>1</td>\n",
              "      <td>14</td>\n",
              "      <td>1</td>\n",
              "      <td>75</td>\n",
              "      <td>271</td>\n",
              "      <td>99</td>\n",
              "      <td>14</td>\n",
              "      <td>2</td>\n",
              "      <td>0</td>\n",
              "      <td>0</td>\n",
              "    </tr>\n",
              "    <tr>\n",
              "      <th>127</th>\n",
              "      <td>2</td>\n",
              "      <td>61</td>\n",
              "      <td>15</td>\n",
              "      <td>3</td>\n",
              "      <td>8</td>\n",
              "      <td>4</td>\n",
              "      <td>6</td>\n",
              "      <td>1</td>\n",
              "      <td>15</td>\n",
              "      <td>3</td>\n",
              "      <td>83</td>\n",
              "      <td>547</td>\n",
              "      <td>100</td>\n",
              "      <td>13</td>\n",
              "      <td>1</td>\n",
              "      <td>0</td>\n",
              "      <td>0</td>\n",
              "    </tr>\n",
              "  </tbody>\n",
              "</table>\n",
              "<p>128 rows × 17 columns</p>\n",
              "</div>"
            ],
            "text/plain": [
              "     Goal Scored  Ball Possession %  Attempts  ...  Yellow Card  Yellow & Red  Red\n",
              "0              5                 40        13  ...            0             0    0\n",
              "1              0                 60         6  ...            0             0    0\n",
              "2              0                 43         8  ...            2             0    0\n",
              "3              1                 57        14  ...            0             0    0\n",
              "4              0                 64        13  ...            1             0    0\n",
              "..           ...                ...       ...  ...          ...           ...  ...\n",
              "123            1                 46        11  ...            1             0    0\n",
              "124            2                 43        12  ...            1             0    0\n",
              "125            0                 57        15  ...            2             0    0\n",
              "126            4                 39         8  ...            2             0    0\n",
              "127            2                 61        15  ...            1             0    0\n",
              "\n",
              "[128 rows x 17 columns]"
            ]
          },
          "metadata": {
            "tags": []
          },
          "execution_count": 50
        }
      ]
    },
    {
      "cell_type": "code",
      "metadata": {
        "id": "uMB_ZbepWslN"
      },
      "source": [
        "fifa_dropped=fifa_dropped.dropna()"
      ],
      "execution_count": 51,
      "outputs": []
    },
    {
      "cell_type": "code",
      "metadata": {
        "id": "4ckzIudqW4eR",
        "outputId": "3115a8d2-e5ce-4f05-bd2d-5a8703b7be51",
        "colab": {
          "base_uri": "https://localhost:8080/"
        }
      },
      "source": [
        "fifa_dropped.shape"
      ],
      "execution_count": 52,
      "outputs": [
        {
          "output_type": "execute_result",
          "data": {
            "text/plain": [
              "(128, 17)"
            ]
          },
          "metadata": {
            "tags": []
          },
          "execution_count": 52
        }
      ]
    },
    {
      "cell_type": "markdown",
      "metadata": {
        "id": "mi06pzybW9bs"
      },
      "source": [
        "#### Bartter's test"
      ]
    },
    {
      "cell_type": "code",
      "metadata": {
        "id": "puXI8IkAW7ys",
        "outputId": "a1a7303d-e1f4-4769-a1f0-2d142da0bc43",
        "colab": {
          "base_uri": "https://localhost:8080/"
        }
      },
      "source": [
        "from factor_analyzer.factor_analyzer import calculate_bartlett_sphericity\n",
        "chi_square_value,p_value=calculate_bartlett_sphericity(fifa_dropped)\n",
        "chi_square_value,p_value"
      ],
      "execution_count": 53,
      "outputs": [
        {
          "output_type": "execute_result",
          "data": {
            "text/plain": [
              "(1299.3697851171412, 2.713580160466225e-189)"
            ]
          },
          "metadata": {
            "tags": []
          },
          "execution_count": 53
        }
      ]
    },
    {
      "cell_type": "markdown",
      "metadata": {
        "id": "HYcZNV4rXTxV"
      },
      "source": [
        "ถ้าค่า p-value มีค่าเข้าใกล้ 0 ถือว่าดี จากผลลัพธ์ พบว่า ค่า p-value = 2.713 ซึ่งมีค่าเข้าใกล้ 0 สรุปได้ว่า ข้อมูลนั้นมีความเหมาะสมที่จะนำไปทำ Factor Analysis "
      ]
    },
    {
      "cell_type": "markdown",
      "metadata": {
        "id": "A1tmgZmXXrAV"
      },
      "source": [
        "#### Kaiser Meyer Olkin (KMO) test\n",
        "\n",
        "ถ้าค่า KMO model มีค่ามากกว่า 0.6 แปลว่าข้อมูลเหมาะสมที่นำไปทำ Factor Analysis (ยิ่งมีค่าสูงยิ่งดี)"
      ]
    },
    {
      "cell_type": "code",
      "metadata": {
        "id": "veTdXMqtXODO",
        "outputId": "f62e4b79-ed00-438f-ee02-1446911f4b21",
        "colab": {
          "base_uri": "https://localhost:8080/"
        }
      },
      "source": [
        "from factor_analyzer.factor_analyzer import calculate_kmo\n",
        "kmo_all,kmo_model=calculate_kmo(fifa_dropped)\n",
        "kmo_model"
      ],
      "execution_count": 54,
      "outputs": [
        {
          "output_type": "execute_result",
          "data": {
            "text/plain": [
              "0.5594556344508279"
            ]
          },
          "metadata": {
            "tags": []
          },
          "execution_count": 54
        }
      ]
    },
    {
      "cell_type": "markdown",
      "metadata": {
        "id": "lEiAUQRrX-wq"
      },
      "source": [
        "จากผลลัพธ์ พบว่ามีค่าเท่ากับ 0.559 ประมาณ 0.6 ดังนั้นข้อมูลจึงมีความเหมาะสมที่จะนำไปทำ Factor Analysis"
      ]
    },
    {
      "cell_type": "markdown",
      "metadata": {
        "id": "Z_surO01YJzN"
      },
      "source": [
        "#### Factor Analysis"
      ]
    },
    {
      "cell_type": "markdown",
      "metadata": {
        "id": "NFxdc7I5YQ1f"
      },
      "source": [
        "##### Import"
      ]
    },
    {
      "cell_type": "code",
      "metadata": {
        "id": "RG2fYWsyX3ib"
      },
      "source": [
        "from factor_analyzer import FactorAnalyzer"
      ],
      "execution_count": 55,
      "outputs": []
    },
    {
      "cell_type": "markdown",
      "metadata": {
        "id": "ur87adT0Yc2j"
      },
      "source": [
        "##### Define"
      ]
    },
    {
      "cell_type": "code",
      "metadata": {
        "id": "iPxKfd8qYbwM"
      },
      "source": [
        "fa = FactorAnalyzer(n_factors=10)"
      ],
      "execution_count": 56,
      "outputs": []
    },
    {
      "cell_type": "markdown",
      "metadata": {
        "id": "PQcAJabIYkKP"
      },
      "source": [
        "##### Fit-tranform"
      ]
    },
    {
      "cell_type": "code",
      "metadata": {
        "id": "3LH8ReZTYhvb"
      },
      "source": [
        "data_fa=fa.fit_transform(fifa_dropped)"
      ],
      "execution_count": 57,
      "outputs": []
    },
    {
      "cell_type": "code",
      "metadata": {
        "id": "Cb8HovNqYvA-",
        "outputId": "451db35b-2a97-4d90-ca39-9021d45d16a6",
        "colab": {
          "base_uri": "https://localhost:8080/"
        }
      },
      "source": [
        "data_fa.shape"
      ],
      "execution_count": 58,
      "outputs": [
        {
          "output_type": "execute_result",
          "data": {
            "text/plain": [
              "(128, 10)"
            ]
          },
          "metadata": {
            "tags": []
          },
          "execution_count": 58
        }
      ]
    },
    {
      "cell_type": "markdown",
      "metadata": {
        "id": "UA0_zpy5Y6tL"
      },
      "source": [
        "จะลดเหลือกี่ Dimension ดูว่ามี Factors ทั้งหมดกี่ตัว"
      ]
    },
    {
      "cell_type": "code",
      "metadata": {
        "id": "3teY7NkFYwz6"
      },
      "source": [
        "ev,v=fa.get_eigenvalues()"
      ],
      "execution_count": 59,
      "outputs": []
    },
    {
      "cell_type": "code",
      "metadata": {
        "id": "gZH2HLNsZDb5",
        "outputId": "349d138a-24df-46d2-a4c4-e28c86df4469",
        "colab": {
          "base_uri": "https://localhost:8080/"
        }
      },
      "source": [
        "ev #ดูที่ค่า eigen values มากกว่า 1 "
      ],
      "execution_count": 60,
      "outputs": [
        {
          "output_type": "execute_result",
          "data": {
            "text/plain": [
              "array([4.93533676, 1.66110682, 1.45898601, 1.31857945, 1.27991548,\n",
              "       1.1607222 , 0.89822418, 0.80740568, 0.78874612, 0.65948826,\n",
              "       0.56563441, 0.48116939, 0.38549929, 0.29659929, 0.22859409,\n",
              "       0.06848785, 0.00550471])"
            ]
          },
          "metadata": {
            "tags": []
          },
          "execution_count": 60
        }
      ]
    },
    {
      "cell_type": "markdown",
      "metadata": {
        "id": "p0AOIz-QZS9f"
      },
      "source": [
        "##### Scree plot เพื่อดูลักษณะของข้อมูล"
      ]
    },
    {
      "cell_type": "code",
      "metadata": {
        "id": "C2Ou-_mOZFil",
        "outputId": "a25dec6f-5975-4c83-fcfd-189eb1f72e2f",
        "colab": {
          "base_uri": "https://localhost:8080/",
          "height": 645
        }
      },
      "source": [
        "#Create scree plot using matholotlib\n",
        "plt.plot(range(1,fifa_dropped.shape[1]+1),ev,'bo-')\n",
        "plt.plot([0,fifa_dropped.shape[1]+1],[1,1],'r--')\n",
        "plt.title('Scree Plot')\n",
        "plt.xlabel('Factors')\n",
        "plt.ylabel('Eigenvalues')\n",
        "plt.grid()\n",
        "plt.show()"
      ],
      "execution_count": 64,
      "outputs": [
        {
          "output_type": "display_data",
          "data": {
            "image/png": "[encoded data removed]",
            "text/plain": [
              "<Figure size 1080x1080 with 1 Axes>"
            ]
          },
          "metadata": {
            "tags": [],
            "needs_background": "light"
          }
        }
      ]
    },
    {
      "cell_type": "markdown",
      "metadata": {
        "id": "JgU_aMC5aTjL"
      },
      "source": [
        "มี factor ที่มีค่ามากกว่า 1 อยู่ 6 ตัว"
      ]
    },
    {
      "cell_type": "code",
      "metadata": {
        "id": "n0qooEvdaCfX",
        "outputId": "a972721f-b8e5-49e9-fd13-1bb61c0c8617",
        "colab": {
          "base_uri": "https://localhost:8080/"
        }
      },
      "source": [
        "data_fa[:,:6]"
      ],
      "execution_count": 65,
      "outputs": [
        {
          "output_type": "execute_result",
          "data": {
            "text/plain": [
              "array([[-1.14061137e+00,  1.05033795e+00,  2.79854567e+00,\n",
              "         3.57574560e-01, -5.95152711e-02, -7.48334076e-02],\n",
              "       [ 5.33831171e-01, -1.78150280e-01, -1.10088651e+00,\n",
              "         1.81432000e-02, -8.36944321e-01, -7.31531607e-01],\n",
              "       [-7.29379706e-01,  3.96402498e-01, -7.02153492e-01,\n",
              "        -2.77221903e-01,  1.34345254e-01, -5.61356514e-01],\n",
              "       [ 7.08580342e-01,  3.36178613e-01, -3.31529441e-01,\n",
              "        -2.60518967e-01, -1.38667315e+00,  1.34916077e-01],\n",
              "       [ 3.25530467e-01, -3.71841487e-01, -4.14431700e-01,\n",
              "         3.27492853e-01,  2.50366459e-01,  2.57255932e-01],\n",
              "       [-1.34130209e+00, -5.34562069e-01,  2.52429472e-01,\n",
              "        -5.22235915e-01,  1.05852627e+00, -1.07428697e+00],\n",
              "       [-5.46867894e-01, -4.92844282e-01,  9.46711298e-01,\n",
              "        -3.59877314e-01, -1.85391071e-01, -3.25465436e-01],\n",
              "       [ 1.67488741e+00, -4.32704892e-01,  7.61605381e-01,\n",
              "        -3.70473849e-01, -8.35201718e-01, -5.88310671e-01],\n",
              "       [ 2.62530209e-01, -3.24159295e-01,  6.58987216e-01,\n",
              "        -8.77493871e-02, -1.29974193e-01, -2.53944852e-01],\n",
              "       [-4.24340037e-01,  2.94944349e-01,  4.29409238e-02,\n",
              "        -1.64381947e-02,  1.25250458e+00, -1.11481292e+00],\n",
              "       [ 1.95876399e+00, -4.46975965e-01, -3.61523432e-01,\n",
              "         3.78163388e-02, -1.35874423e+00,  2.54926969e+00],\n",
              "       [-2.08882967e+00, -1.88315017e-02, -9.70957261e-02,\n",
              "        -2.16254041e-01, -6.44227818e-01, -7.44602446e-01],\n",
              "       [-1.13023467e-01, -1.86239106e-01, -2.97895618e-01,\n",
              "        -2.22964741e-01, -5.62470690e-01,  4.57419585e-01],\n",
              "       [-5.79705484e-01,  2.67017734e-01,  1.84093790e-01,\n",
              "         2.16481968e-01,  5.45634263e-01, -4.35644718e-01],\n",
              "       [ 1.91713667e-01, -1.68566869e-01,  2.97003398e-01,\n",
              "         7.05696188e-02,  5.23795988e-01, -5.16332969e-01],\n",
              "       [-2.72239288e-01, -4.89047675e-01, -9.80538749e-01,\n",
              "        -3.10055851e-02, -2.27316336e-02,  1.01966276e+00],\n",
              "       [-1.23346248e-01, -3.64285360e-02, -6.51761097e-01,\n",
              "         1.85936300e-01,  5.65122914e-01,  6.06494933e-02],\n",
              "       [-2.97922468e-01,  1.96200209e-01,  3.88046147e-02,\n",
              "         4.47998161e-03,  3.60714543e-01, -6.48805858e-01],\n",
              "       [ 9.39499385e-01,  2.95628629e-01, -2.39799127e-01,\n",
              "        -1.51633941e-01, -3.37278747e-01,  1.55986629e+00],\n",
              "       [-1.12457695e+00, -3.95892986e-02,  4.07359193e-01,\n",
              "        -4.24913701e-01,  2.84232064e-01, -3.72874610e-01],\n",
              "       [ 5.11996719e-01, -2.72746579e-01, -3.87642085e-01,\n",
              "        -3.10369709e-01, -5.43121239e-01,  1.26838979e+00],\n",
              "       [-2.42001288e-01,  7.95623673e-02, -3.26243458e-02,\n",
              "        -1.49980559e-01,  1.03658919e+00, -1.27621926e+00],\n",
              "       [ 3.09253969e-03, -3.45964922e-01, -6.97980197e-02,\n",
              "         2.32866611e-01,  1.89502372e-01,  7.59341359e-01],\n",
              "       [-5.31938248e-01, -3.40097273e-01, -9.32193283e-01,\n",
              "         4.35478826e-01,  1.00694242e+00, -4.14036551e-01],\n",
              "       [ 9.12307220e-01, -3.62280886e-01,  1.26221663e+00,\n",
              "         8.98399815e-02,  7.65873647e-01, -3.66204217e-01],\n",
              "       [-7.74051832e-01, -6.63482792e-01, -6.54190082e-01,\n",
              "        -2.59606852e-01,  1.99538017e+00, -1.29695998e+00],\n",
              "       [-8.42058865e-01, -3.54054671e-01, -2.02329205e-01,\n",
              "        -2.30382892e-01, -6.26005287e-01, -6.77676309e-01],\n",
              "       [ 6.12123138e-01, -1.09371483e-01,  9.07193812e-01,\n",
              "        -2.16378691e-01, -6.92670363e-01, -8.06428204e-02],\n",
              "       [-5.56953139e-01, -1.25871638e+00, -6.44086390e-01,\n",
              "        -3.87320560e-02,  4.59378691e-01,  7.09651980e-01],\n",
              "       [ 8.61050269e-01, -4.97631493e-01,  4.62562434e-01,\n",
              "        -1.38999280e-01, -7.04281466e-01, -1.57426034e-01],\n",
              "       [ 6.26529608e-01,  2.32296184e-01, -1.25986637e-02,\n",
              "        -2.81543275e-01, -7.01189194e-01, -1.09311691e+00],\n",
              "       [-8.03503780e-01,  1.25630962e-02,  3.69402988e-01,\n",
              "        -1.27813348e-01,  4.16918389e-01, -5.80145626e-01],\n",
              "       [-6.40380429e-01,  7.99243147e-01,  6.77333936e-01,\n",
              "         1.29494354e-01, -2.67289507e-01, -1.32356525e-01],\n",
              "       [-1.42818154e-01,  3.95529062e-01, -6.16044825e-01,\n",
              "        -2.21118615e-01, -4.81295325e-01,  1.54688879e-01],\n",
              "       [-4.67509318e-01, -1.05180767e-01, -3.99644730e-01,\n",
              "         3.17623410e-01,  1.30423140e-01, -2.73318455e-02],\n",
              "       [ 1.75653737e-02,  2.17735238e-01, -5.48974966e-01,\n",
              "         2.06757096e-01,  2.09977718e-02, -3.48556675e-01],\n",
              "       [ 3.15334813e-01, -5.23719722e-01, -1.52798556e-01,\n",
              "        -5.94117926e-01, -1.18169362e+00, -2.39310582e-01],\n",
              "       [ 7.39953249e-01, -7.07803705e-01, -9.24387707e-01,\n",
              "        -1.83811695e-01, -1.04862701e+00, -6.02493141e-01],\n",
              "       [-1.79979304e+00, -1.09617819e-03, -1.12941806e+00,\n",
              "        -2.25645701e-01,  3.52977742e-01, -1.36898273e+00],\n",
              "       [ 2.11628106e+00, -2.04181831e-01, -9.72704032e-01,\n",
              "         1.07305207e-01, -1.10551513e+00,  1.44924200e+00],\n",
              "       [-8.35656394e-02,  3.78366851e-01,  3.44536089e-01,\n",
              "        -5.59532265e-01, -2.58114607e-01, -1.06890930e+00],\n",
              "       [ 1.67554445e-01,  5.65854288e-01, -5.73410801e-02,\n",
              "        -3.29440672e-01, -1.37895603e+00,  2.71911174e-01],\n",
              "       [-4.31196011e-01, -2.63922738e-01, -3.31075560e-01,\n",
              "        -2.31018064e-01, -1.52384039e-02, -4.65153850e-01],\n",
              "       [ 4.26784251e-01, -3.95917274e-01, -1.07862229e+00,\n",
              "        -1.26605892e-01,  6.85655665e-02, -4.84575965e-01],\n",
              "       [ 5.24250313e-01, -5.59806839e-01, -1.05679538e+00,\n",
              "         3.20892875e-01,  7.71395466e-01, -8.51484399e-02],\n",
              "       [-6.00753883e-01, -1.86765428e-01,  1.13551613e+00,\n",
              "        -1.21896544e-01,  1.68593294e+00,  2.50503912e-01],\n",
              "       [ 1.83318956e+00, -1.57671240e-01,  5.19798791e-01,\n",
              "        -9.42187282e-02, -4.68241300e-01,  8.95443947e-01],\n",
              "       [-1.48697240e+00,  1.71561363e-01, -9.57228698e-01,\n",
              "        -2.77523180e-01, -3.58786384e-01, -1.41819697e+00],\n",
              "       [ 3.65377238e-01, -5.24106434e-01,  6.28968446e-02,\n",
              "        -6.97396846e-02, -6.08868149e-01,  1.00749388e+00],\n",
              "       [-1.09152620e+00,  5.61283999e-02, -6.57002482e-01,\n",
              "        -1.59965319e-01, -9.21816620e-01, -7.77388017e-01],\n",
              "       [-1.09542449e+00,  8.74395108e-01,  9.73556213e-02,\n",
              "        -1.62571719e-01,  1.50739351e+00, -4.42463168e-01],\n",
              "       [ 6.35415106e-01,  4.82706116e-01,  3.50489795e-01,\n",
              "        -1.19064003e-02, -5.10100926e-01,  1.27616924e+00],\n",
              "       [ 1.57581188e-01, -6.04215812e-02,  3.07763687e+00,\n",
              "        -2.75020586e-01, -1.14054663e+00,  1.68321217e-01],\n",
              "       [ 2.23136719e-02, -3.96667961e-01,  4.06988694e-01,\n",
              "        -3.27718473e-01, -5.44295664e-01,  2.11199645e-01],\n",
              "       [-6.17446737e-01, -7.65246076e-01, -5.07258978e-02,\n",
              "         2.27645849e-01,  1.87431164e+00,  2.29785384e+00],\n",
              "       [ 5.93535986e-01, -7.64998678e-01,  6.65610498e-01,\n",
              "        -2.81663239e-01, -1.19858606e+00, -6.45894662e-01],\n",
              "       [ 1.39732611e+00,  6.97261955e-01,  8.39941540e-01,\n",
              "         6.86060236e+00, -1.05958904e+00,  1.52461005e+00],\n",
              "       [-1.72862350e+00,  2.01911704e-01,  5.57043095e-01,\n",
              "        -1.70623257e-01,  4.14087979e-01, -9.37271899e-01],\n",
              "       [ 1.06162060e+00, -7.06922165e-01,  2.95283291e+00,\n",
              "        -3.03852935e-01, -3.70829664e-01, -5.72988807e-01],\n",
              "       [-1.50192669e-01, -1.55123241e+00, -3.44923296e-01,\n",
              "        -7.14113642e-01,  6.39170801e-01, -9.87671984e-01],\n",
              "       [ 7.78857235e-02, -2.23185003e-01,  3.06349978e-01,\n",
              "        -1.16703547e-01, -9.67119074e-03, -7.83437821e-01],\n",
              "       [-5.88555311e-01, -3.66730275e-01,  7.84246515e-01,\n",
              "        -6.05473962e-02,  6.68451875e-01, -2.62500889e-01],\n",
              "       [-3.16410702e-01, -5.78722830e-02, -1.13397372e+00,\n",
              "         1.45245631e-01,  3.52999911e-01,  1.66888315e-01],\n",
              "       [ 3.21732327e-01,  1.52672009e-01,  5.10237481e-01,\n",
              "         3.45947646e-03, -9.73890968e-01,  3.79486718e-01],\n",
              "       [ 4.48830971e-01, -3.88736473e-01,  1.45796168e+00,\n",
              "        -1.28695541e-01, -1.39507239e-01,  2.03202577e-01],\n",
              "       [-8.29502147e-01, -3.85982135e-01, -1.07600737e-01,\n",
              "         6.43474038e+00,  1.20387736e-01, -7.96790085e-01],\n",
              "       [ 1.37378390e+00, -3.98659636e-01,  3.74432422e-01,\n",
              "        -4.53974945e-01, -1.55089855e+00,  6.41033725e-01],\n",
              "       [-7.94831176e-01, -9.14604653e-02, -2.25737999e-01,\n",
              "        -4.41660950e-01,  2.83565339e-01, -8.34691403e-01],\n",
              "       [ 1.97973549e+00, -2.41284495e-01,  2.64567506e-02,\n",
              "        -5.21037743e-01, -1.78701068e+00, -8.49313013e-01],\n",
              "       [-1.45197320e+00,  2.38758388e-01,  7.35442027e-01,\n",
              "        -4.61763467e-01,  2.66063158e+00, -8.19300630e-01],\n",
              "       [-1.58854054e+00, -1.05850495e+00, -5.46549301e-01,\n",
              "        -3.10039539e-01,  3.46240540e-01, -8.27116414e-01],\n",
              "       [ 1.52325858e+00, -1.50843663e+00, -5.98411060e-01,\n",
              "        -2.37270317e-01,  7.43290476e-01, -9.22032969e-02],\n",
              "       [-1.18054959e+00, -1.04729691e-01, -1.18777824e+00,\n",
              "         2.86327819e-03, -3.48156640e-01, -6.33798413e-01],\n",
              "       [ 1.22384029e+00, -2.48435272e-01, -7.91731754e-01,\n",
              "        -3.72516111e-01, -1.34427743e+00, -9.21404229e-01],\n",
              "       [ 6.55975463e-01, -2.59964073e-01, -1.33412295e+00,\n",
              "        -1.30906659e-01,  9.45657624e-01,  6.27101751e-01],\n",
              "       [-2.06547806e-01, -6.45976725e-01,  2.73298804e-01,\n",
              "        -9.59877395e-02,  2.18025269e-01, -1.42610096e+00],\n",
              "       [-1.36105338e+00, -6.53452759e-01,  8.07283305e-04,\n",
              "        -2.05052100e-01,  6.80096146e-01, -8.58920121e-01],\n",
              "       [ 9.91007861e-01, -5.16227104e-01,  2.96272313e-01,\n",
              "         3.03517478e-01,  7.26596253e-01, -9.94374602e-01],\n",
              "       [-8.20914259e-01, -2.06848426e-01, -2.82781605e-01,\n",
              "        -6.15477586e-02,  3.92704377e-01,  2.30500537e-01],\n",
              "       [ 6.09760014e-01, -4.34871261e-01,  7.10763005e-02,\n",
              "        -2.92338746e-01, -4.97105567e-02, -4.19572253e-02],\n",
              "       [-1.84295447e+00,  9.75226801e-01,  9.27222165e-01,\n",
              "        -2.78279676e-01,  1.42661526e+00, -5.79832108e-01],\n",
              "       [ 1.63878087e+00,  7.69762606e-01, -9.17873969e-01,\n",
              "        -1.98512713e-02, -1.56930966e+00,  2.13780201e+00],\n",
              "       [ 6.85776817e-01, -9.32938161e-01, -1.29760941e+00,\n",
              "         1.72224325e-01,  5.53126239e-01,  1.83784749e+00],\n",
              "       [-1.68383975e+00, -1.66535905e-01,  9.05808023e-01,\n",
              "        -2.47581914e-01,  1.12644221e-01, -7.27421476e-01],\n",
              "       [-3.08543709e-01,  5.16585812e-01, -1.29671803e+00,\n",
              "        -7.82763160e-02,  5.88839989e-01,  1.72782332e-01],\n",
              "       [ 1.11242937e+00, -3.07010044e-01,  2.34024042e-01,\n",
              "         7.62563610e-03, -1.36027514e+00,  1.32278618e-01],\n",
              "       [ 9.75002126e-01, -4.07626361e-01, -9.28046254e-02,\n",
              "        -1.31839534e-01,  2.81834463e-01,  1.80282790e-01],\n",
              "       [-6.87440127e-01, -2.88109821e-01,  7.37388900e-01,\n",
              "        -3.83698312e-01,  6.81586124e-01, -2.63988762e-01],\n",
              "       [ 8.73916854e-01, -2.11435076e+00, -1.31599245e+00,\n",
              "        -3.58315317e-01, -7.45847140e-01, -7.06247597e-02],\n",
              "       [ 2.94990479e-01, -2.30411743e+00, -1.03671950e+00,\n",
              "        -4.35262424e-01, -1.29960964e+00,  2.37816682e-01],\n",
              "       [-9.22049552e-01, -7.66628038e-01, -5.55659268e-01,\n",
              "        -1.54029503e-01, -1.10392865e-01, -1.05099608e+00],\n",
              "       [ 1.39252794e-01, -6.30430511e-01, -1.97550284e-01,\n",
              "         2.50973243e-01, -7.18479537e-02, -1.16636089e+00],\n",
              "       [-1.17286516e+00, -4.13556107e-01,  1.52264136e-01,\n",
              "        -2.51873781e-01,  9.65462616e-01, -9.80541470e-01],\n",
              "       [ 1.17113964e+00, -3.21611722e-02,  7.48063765e-01,\n",
              "         2.99130715e-01,  8.44339992e-01,  2.17814703e-01],\n",
              "       [ 1.58108060e-01,  1.27557942e-01, -1.02709286e+00,\n",
              "        -2.43467615e-01, -9.99956129e-01,  4.26534245e-01],\n",
              "       [ 5.20518322e-01, -1.56196961e-01, -3.66857809e-01,\n",
              "        -2.68845760e-01,  1.56573099e-01,  1.11125424e+00],\n",
              "       [-6.14869856e-01, -7.69192616e-01,  1.75272972e+00,\n",
              "        -4.05733251e-01,  1.22748188e+00, -9.42610391e-01],\n",
              "       [ 8.61613649e-01, -1.03122898e+00,  5.07555979e-01,\n",
              "         1.14571396e-01,  1.82872685e+00, -2.43353253e-02],\n",
              "       [-1.41231457e+00,  3.31067060e-02,  3.03038995e-01,\n",
              "         9.74932562e-02, -6.10893631e-01, -9.97615378e-01],\n",
              "       [ 7.97572544e-01, -9.68142225e-03, -6.24196479e-01,\n",
              "         4.48854891e-01, -4.79246698e-01,  4.63543562e+00],\n",
              "       [ 3.29394397e+00,  2.34396356e+00, -5.63396140e-01,\n",
              "        -1.51773215e-02, -1.44749132e+00,  2.13423978e+00],\n",
              "       [-2.19323128e+00,  3.21978924e+00,  1.94039349e-01,\n",
              "         1.76432344e-01,  7.92413196e-01, -4.81739315e-01],\n",
              "       [ 4.52895857e-01,  2.17162592e+00, -3.73672458e-02,\n",
              "        -1.25553483e-01, -1.47977207e+00,  1.16593762e+00],\n",
              "       [-3.45399940e-01,  2.47674515e+00,  1.73797147e-01,\n",
              "        -1.75257029e-01, -2.31714813e-01, -2.68446882e-01],\n",
              "       [-3.08215719e-02, -1.16509055e+00,  8.32022714e-01,\n",
              "        -3.95475068e-01, -3.84932029e-01,  4.76903439e-01],\n",
              "       [ 2.02566911e-01, -1.65241863e+00, -1.43983134e+00,\n",
              "         9.89727976e-02,  1.35512330e+00,  1.85813498e+00],\n",
              "       [ 9.37403220e-01,  1.86828572e-01,  1.13120531e+00,\n",
              "        -1.79472936e-01, -1.23199543e+00,  1.33673402e+00],\n",
              "       [-1.97096339e-01,  1.16787588e-01,  3.50022339e-01,\n",
              "        -2.27310411e-01, -5.68574386e-01, -1.80014683e-01],\n",
              "       [-1.33269362e+00, -4.51982253e-02, -3.09578259e-01,\n",
              "        -2.55003796e-01, -3.85366969e-01, -1.32288257e-01],\n",
              "       [ 1.06977547e+00, -3.52114526e-01, -1.62581954e+00,\n",
              "         5.28272293e-01,  1.42892540e-01,  2.68850458e+00],\n",
              "       [-3.37723546e-01,  2.48688737e+00,  1.24489405e-01,\n",
              "         8.99632758e-02,  2.67537399e+00, -1.17521617e-01],\n",
              "       [ 5.76243036e-02,  3.08550560e+00, -1.91385431e-01,\n",
              "         1.27657861e-01,  1.80165882e-01,  3.13071356e-01],\n",
              "       [-1.04449446e+00, -1.51366494e-01, -8.65664172e-01,\n",
              "         1.07613223e-01,  3.51218517e-01, -7.52499062e-01],\n",
              "       [ 4.94945157e-01, -5.63588188e-01, -4.11149556e-02,\n",
              "        -1.33691061e-01,  1.19286621e-01, -5.50170600e-01],\n",
              "       [ 8.04067144e-01, -2.45849407e-01,  1.55475749e-01,\n",
              "        -2.87176633e-02,  1.23819193e-02,  2.58501926e+00],\n",
              "       [-5.87274103e-01, -2.15448624e-01,  6.11195481e-01,\n",
              "        -1.25087462e-01,  4.27715211e-01, -5.12536455e-01],\n",
              "       [-7.47844561e-01,  6.88896229e-03, -9.65814618e-01,\n",
              "        -2.02968717e-01, -1.74775984e-03, -9.34478128e-01],\n",
              "       [ 3.64878596e-01,  2.52253435e-01, -3.76627737e-01,\n",
              "         1.24370002e-01, -6.42372730e-01,  7.79646785e-01],\n",
              "       [-1.37603116e+00,  3.58469424e+00,  1.38343384e+00,\n",
              "         7.03147076e-01,  5.50942136e-01, -5.11665066e-01],\n",
              "       [ 1.15940104e+00,  2.75079228e+00,  1.88286547e-01,\n",
              "         2.83401811e-01,  1.17983014e+00,  1.37748637e-01],\n",
              "       [-6.13844647e-01, -3.70102043e-01, -6.77554436e-02,\n",
              "        -7.16807641e-01, -2.43361137e-01,  9.41210533e-01],\n",
              "       [ 1.12358329e+00, -5.38271194e-01, -7.69228672e-01,\n",
              "        -2.02726741e-01,  5.27644428e-01, -6.97091652e-01],\n",
              "       [ 2.58419141e-01,  3.22776919e+00,  1.04033154e+00,\n",
              "         3.27941148e-01,  5.08832897e-01,  4.31039051e-01],\n",
              "       [-6.42288719e-01,  3.47885322e+00, -9.61382551e-04,\n",
              "         2.50659970e-01, -6.03083583e-02, -2.39830165e-01],\n",
              "       [ 4.79581160e-02, -6.02050869e-02,  3.11324684e-01,\n",
              "        -4.38941726e-01, -5.26768869e-01,  6.03338453e-01],\n",
              "       [ 1.30564472e+00,  1.52376854e-01, -7.85831196e-01,\n",
              "        -6.45437778e-01, -6.58990947e-01, -1.05463445e-01],\n",
              "       [-1.14736335e+00, -6.04957682e-01,  1.72370918e+00,\n",
              "        -6.02569299e-02,  4.43664037e-01, -9.10766961e-01],\n",
              "       [ 7.44178734e-01, -4.71574957e-01, -3.29454853e-02,\n",
              "        -3.39511580e-02, -5.25737045e-01,  2.57221672e-01]])"
            ]
          },
          "metadata": {
            "tags": []
          },
          "execution_count": 65
        }
      ]
    },
    {
      "cell_type": "markdown",
      "metadata": {
        "id": "Nkm2dkwrawX6"
      },
      "source": [
        "รัน Factor Analyzer ด้วย Parameters จำนวน factors เท่ากับ 6"
      ]
    },
    {
      "cell_type": "code",
      "metadata": {
        "id": "kfbQCNRqaiwQ"
      },
      "source": [
        "from factor_analyzer import FactorAnalyzer\n",
        "fa2 = FactorAnalyzer(n_factors=6)\n",
        "data_fa = fa2.fit_transform(fifa_dropped)"
      ],
      "execution_count": 66,
      "outputs": []
    },
    {
      "cell_type": "code",
      "metadata": {
        "id": "nyyjCX_Qa8b7",
        "outputId": "c1927519-f6d6-4732-99bb-ab8a00452d28",
        "colab": {
          "base_uri": "https://localhost:8080/"
        }
      },
      "source": [
        "fa2.loadings_.shape"
      ],
      "execution_count": 67,
      "outputs": [
        {
          "output_type": "execute_result",
          "data": {
            "text/plain": [
              "(17, 6)"
            ]
          },
          "metadata": {
            "tags": []
          },
          "execution_count": 67
        }
      ]
    },
    {
      "cell_type": "markdown",
      "metadata": {
        "id": "iBymZDMlbApw"
      },
      "source": [
        "##### plot factor loadings"
      ]
    },
    {
      "cell_type": "code",
      "metadata": {
        "id": "ldFwsxtYa-yT"
      },
      "source": [
        "from matplotlib import  pyplot as plt\n",
        "import numpy as np\n",
        "import matplotlib"
      ],
      "execution_count": 69,
      "outputs": []
    },
    {
      "cell_type": "markdown",
      "metadata": {
        "id": "Yr9QsAApbS1v"
      },
      "source": [
        "##### Matrix plot"
      ]
    },
    {
      "cell_type": "markdown",
      "metadata": {
        "id": "Bj-HKUpIbYFY"
      },
      "source": [
        "โดยดูค่าจากสีของข้อมูล ถ้าสีสว่างมาก จะมีค่ามาก ถ้าสีเข้ม คือ มีค่าน้อย"
      ]
    },
    {
      "cell_type": "markdown",
      "metadata": {
        "id": "XuQt8fJpbtbU"
      },
      "source": [
        "##### Confirmatery"
      ]
    },
    {
      "cell_type": "code",
      "metadata": {
        "id": "Q67l1FrkbMgx",
        "outputId": "c507b06c-8dde-4f09-d007-8435c92d1e1b",
        "colab": {
          "base_uri": "https://localhost:8080/",
          "height": 863
        }
      },
      "source": [
        "matplotlib.rcParams['figure.figsize']=[15,15]\n",
        "plt.imshow(np.absolute(fa2.loadings_));"
      ],
      "execution_count": 71,
      "outputs": [
        {
          "output_type": "display_data",
          "data": {
            "image/png": "[encoded data removed]",
            "text/plain": [
              "<Figure size 1080x1080 with 1 Axes>"
            ]
          },
          "metadata": {
            "tags": [],
            "needs_background": "light"
          }
        }
      ]
    },
    {
      "cell_type": "markdown",
      "metadata": {
        "id": "kXyJsAG5cCOF"
      },
      "source": [
        "จากผลลัพธ์ พบว่า Factor Loadings ที่มีค่ามากคือ [0,1],[1,5],[2,3][3,13] ซึ่งสังเกตจากสีที่มีความสว่างมากกว่าสีอื่น ๆ"
      ]
    },
    {
      "cell_type": "markdown",
      "metadata": {
        "id": "3Bx9dL53cUtK"
      },
      "source": [
        "##### Exploratory กราฟแท่ง"
      ]
    },
    {
      "cell_type": "code",
      "metadata": {
        "id": "XK-bHIxDb1GZ",
        "outputId": "a99d314b-bdcc-4ebc-b0f6-dddff1eec0f9",
        "colab": {
          "base_uri": "https://localhost:8080/"
        }
      },
      "source": [
        "fifa_dropped.columns"
      ],
      "execution_count": 72,
      "outputs": [
        {
          "output_type": "execute_result",
          "data": {
            "text/plain": [
              "Index(['Goal Scored', 'Ball Possession %', 'Attempts', 'On-Target',\n",
              "       'Off-Target', 'Blocked', 'Corners', 'Offsides', 'Free Kicks', 'Saves',\n",
              "       'Pass Accuracy %', 'Passes', 'Distance Covered (Kms)',\n",
              "       'Fouls Committed', 'Yellow Card', 'Yellow & Red', 'Red'],\n",
              "      dtype='object')"
            ]
          },
          "metadata": {
            "tags": []
          },
          "execution_count": 72
        }
      ]
    },
    {
      "cell_type": "code",
      "metadata": {
        "id": "71Vp55RFcgNE",
        "outputId": "e8e3418e-6d0c-45f2-9165-4d09cebfdce4",
        "colab": {
          "base_uri": "https://localhost:8080/",
          "height": 881
        }
      },
      "source": [
        "plt.bar(range(17),np.absolute(fa2.loadings_[:,0]),tick_label=fifa_dropped.columns)"
      ],
      "execution_count": 73,
      "outputs": [
        {
          "output_type": "execute_result",
          "data": {
            "text/plain": [
              "<BarContainer object of 17 artists>"
            ]
          },
          "metadata": {
            "tags": []
          },
          "execution_count": 73
        },
        {
          "output_type": "display_data",
          "data": {
            "image/png": "[encoded data removed]",
            "text/plain": [
              "<Figure size 1080x1080 with 1 Axes>"
            ]
          },
          "metadata": {
            "tags": [],
            "needs_background": "light"
          }
        }
      ]
    },
    {
      "cell_type": "markdown",
      "metadata": {
        "id": "c9BDtsvacosJ"
      },
      "source": [
        "จากการวิเคราะห์ผล ดังนั้นจึงสรุปได้ว่า มีตัวแปรอิสระ 6 ตัวแปร ที่สามารถอธิบายข้อมูลได้ และจากกราฟสามารถบอกได้ว่าข้อมูลไหนควรอยู่กลุ่มเดียวกัน"
      ]
    },
    {
      "cell_type": "code",
      "metadata": {
        "id": "AYD9E43seJgK"
      },
      "source": [
        ""
      ],
      "execution_count": null,
      "outputs": []
    }
  ]
}