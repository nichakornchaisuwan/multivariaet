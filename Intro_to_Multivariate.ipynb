{
  "nbformat": 4,
  "nbformat_minor": 0,
  "metadata": {
    "colab": {
      "name": "Intro to Multivariate.ipynb",
      "provenance": [],
      "authorship_tag": "ABX9TyP5zF0uDZvYVGmJnRvG8Ya7",
      "include_colab_link": true
    },
    "kernelspec": {
      "name": "python3",
      "display_name": "Python 3"
    }
  },
  "cells": [
    {
      "cell_type": "markdown",
      "metadata": {
        "id": "view-in-github",
        "colab_type": "text"
      },
      "source": [
        "<a href=\"https://colab.research.google.com/github/nichakornchaisuwan/multivariaet/blob/main/Intro_to_Multivariate.ipynb\" target=\"_parent\"><img src=\"https://colab.research.google.com/assets/colab-badge.svg\" alt=\"Open In Colab\"/></a>"
      ]
    },
    {
      "cell_type": "markdown",
      "metadata": {
        "id": "yYRhWDellTFp"
      },
      "source": [
        "ณิชากร ไชยสุวรรณ ID:623020521-8"
      ]
    },
    {
      "cell_type": "code",
      "metadata": {
        "id": "iCiplo0vjFhO",
        "colab": {
          "base_uri": "https://localhost:8080/"
        },
        "outputId": "3fa59547-ab75-4f1c-e9f8-44e803da12e8"
      },
      "source": [
        "print('ณิชากร') #single quote(')ใช้ล้อมรอบข้อความ"
      ],
      "execution_count": null,
      "outputs": [
        {
          "output_type": "stream",
          "text": [
            "ณิชากร\n"
          ],
          "name": "stdout"
        }
      ]
    }
  ]
}