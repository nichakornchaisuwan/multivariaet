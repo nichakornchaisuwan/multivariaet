{
  "nbformat": 4,
  "nbformat_minor": 0,
  "metadata": {
    "colab": {
      "name": "python101.ipynb",
      "provenance": [],
      "authorship_tag": "ABX9TyOxwvySMoZ/K9VmJwWJSeFI",
      "include_colab_link": true
    },
    "kernelspec": {
      "name": "python3",
      "display_name": "Python 3"
    }
  },
  "cells": [
    {
      "cell_type": "markdown",
      "metadata": {
        "id": "view-in-github",
        "colab_type": "text"
      },
      "source": [
        "<a href=\"https://colab.research.google.com/github/nichakornchaisuwan/multivariaet/blob/main/python101.ipynb\" target=\"_parent\"><img src=\"https://colab.research.google.com/assets/colab-badge.svg\" alt=\"Open In Colab\"/></a>"
      ]
    },
    {
      "cell_type": "markdown",
      "metadata": {
        "id": "1hoa2OcrLj_J"
      },
      "source": [
        "ตัวแปร Variabie เป็นตัวชี้ว่า ตัวนั้นมีค่าเท่าไหร่"
      ]
    },
    {
      "cell_type": "markdown",
      "metadata": {
        "id": "rNR8f-lsMGAB"
      },
      "source": [
        "หลักการตั้งชื่อตัวแปรเริ่มต้น\r\n",
        "\r\n",
        "  1.ตั้งให้สื่อ\r\n",
        "\r\n",
        "  2.ภาษาอังกฤษ\r\n",
        "\r\n",
        "  3.ใช้ตัวเลขได้ แต่ห้ามขึ้นต้นด้วยตัวเลข\r\n",
        "\r\n",
        "  4.ห้ามเว้นวรรค\r\n",
        "  \r\n",
        "  5.ตัวเล็กกับตัวใหญ่ไม่เหมือนกัน\r\n",
        "  \r\n",
        "  6.ใน Code # hashtag หรือ sharp คือ comment (เราสามารถพิมพ์คำอธิบายไว้หลัง # ได้ โปรแกรมจะไม่อ่าน Outputที่อยู่หลัง#)\r\n",
        "\r\n",
        "  # มี Output 2 mode คือ แสดงออกหน้าจอ และ เข้าไปเก็บในตัวแปร"
      ]
    },
    {
      "cell_type": "code",
      "metadata": {
        "colab": {
          "base_uri": "https://localhost:8080/"
        },
        "id": "Fu2673yCMvRO",
        "outputId": "9a572e47-f675-4297-d33c-d94012db1371"
      },
      "source": [
        "3.14159 # อันนี้คือ Output ที่ออกหน้าจอ"
      ],
      "execution_count": 32,
      "outputs": [
        {
          "output_type": "execute_result",
          "data": {
            "text/plain": [
              "3.14159"
            ]
          },
          "metadata": {
            "tags": []
          },
          "execution_count": 32
        }
      ]
    },
    {
      "cell_type": "code",
      "metadata": {
        "id": "jPtU7xSjNYke"
      },
      "source": [
        "pi = 3.14159 # อันนี้คือ Output ที่เข้าไปเก็บในตัวแปร"
      ],
      "execution_count": 33,
      "outputs": []
    },
    {
      "cell_type": "code",
      "metadata": {
        "colab": {
          "base_uri": "https://localhost:8080/"
        },
        "id": "ATesll3tNh9p",
        "outputId": "ba0301fd-8f8e-4c5d-81c2-881e403779f0"
      },
      "source": [
        "pi"
      ],
      "execution_count": 34,
      "outputs": [
        {
          "output_type": "execute_result",
          "data": {
            "text/plain": [
              "3.14159"
            ]
          },
          "metadata": {
            "tags": []
          },
          "execution_count": 34
        }
      ]
    },
    {
      "cell_type": "code",
      "metadata": {
        "colab": {
          "base_uri": "https://localhost:8080/"
        },
        "id": "xmy1z241NnvM",
        "outputId": "aaa7f8e6-c796-4943-dadf-d4f6fec33518"
      },
      "source": [
        "aa = 12345\r\n",
        "print (aa)"
      ],
      "execution_count": 35,
      "outputs": [
        {
          "output_type": "stream",
          "text": [
            "12345\n"
          ],
          "name": "stdout"
        }
      ]
    },
    {
      "cell_type": "markdown",
      "metadata": {
        "id": "WlcjvrcdOYi0"
      },
      "source": [
        "# **ชนิดของตัวแปรที่เห็นบ่อย 3 ชนิด**"
      ]
    },
    {
      "cell_type": "markdown",
      "metadata": {
        "id": "IJSMwLgcOkM4"
      },
      "source": [
        "**จำนวนเต็ม (Integer,int)**"
      ]
    },
    {
      "cell_type": "code",
      "metadata": {
        "colab": {
          "base_uri": "https://localhost:8080/"
        },
        "id": "dn70E8bgOjCG",
        "outputId": "5a2fb97d-6233-4f2e-996d-4c4a1d0548b3"
      },
      "source": [
        "a = 259\r\n",
        "print(a)"
      ],
      "execution_count": 36,
      "outputs": [
        {
          "output_type": "stream",
          "text": [
            "259\n"
          ],
          "name": "stdout"
        }
      ]
    },
    {
      "cell_type": "markdown",
      "metadata": {
        "id": "99T7ckNDO8aa"
      },
      "source": [
        "**จำนวนจริง (float)**"
      ]
    },
    {
      "cell_type": "code",
      "metadata": {
        "colab": {
          "base_uri": "https://localhost:8080/"
        },
        "id": "Qu8OmMunPCd_",
        "outputId": "6cf01427-bb2f-4b85-83ee-06772f3585ff"
      },
      "source": [
        "b = 159.\r\n",
        "print (b)"
      ],
      "execution_count": 37,
      "outputs": [
        {
          "output_type": "stream",
          "text": [
            "159.0\n"
          ],
          "name": "stdout"
        }
      ]
    },
    {
      "cell_type": "markdown",
      "metadata": {
        "id": "3UjrIIicPQWs"
      },
      "source": [
        "**ตัวอักษร,ข้อความ (character และ text,string)**"
      ]
    },
    {
      "cell_type": "code",
      "metadata": {
        "colab": {
          "base_uri": "https://localhost:8080/"
        },
        "id": "c_JJ4brHPWpv",
        "outputId": "9264e280-e27c-4e71-cb04-ff6ce2d4d340"
      },
      "source": [
        "c = '1234'       # ใช้ single qoute ('') หรือ double quote (\"\")ล้อมรอบตัวหนังสือเพื่อระบุว่าเป็น character-string\r\n",
        "print(c)"
      ],
      "execution_count": 38,
      "outputs": [
        {
          "output_type": "stream",
          "text": [
            "1234\n"
          ],
          "name": "stdout"
        }
      ]
    },
    {
      "cell_type": "code",
      "metadata": {
        "id": "8g7A0Ijs5b_M",
        "colab": {
          "base_uri": "https://localhost:8080/"
        },
        "outputId": "b88ec815-e0da-489c-d308-59faf230fa09"
      },
      "source": [
        "c = \"1234\"\r\n",
        "print(c)"
      ],
      "execution_count": 39,
      "outputs": [
        {
          "output_type": "stream",
          "text": [
            "1234\n"
          ],
          "name": "stdout"
        }
      ]
    },
    {
      "cell_type": "code",
      "metadata": {
        "id": "kTo5t11059W9",
        "colab": {
          "base_uri": "https://localhost:8080/"
        },
        "outputId": "d266ca73-d2a0-4d24-e4c1-b0ab38ae3c63"
      },
      "source": [
        "a+b        #float + int = float"
      ],
      "execution_count": 40,
      "outputs": [
        {
          "output_type": "execute_result",
          "data": {
            "text/plain": [
              "418.0"
            ]
          },
          "metadata": {
            "tags": []
          },
          "execution_count": 40
        }
      ]
    },
    {
      "cell_type": "code",
      "metadata": {
        "colab": {
          "base_uri": "https://localhost:8080/",
          "height": 201
        },
        "id": "D1c54on6PuBO",
        "outputId": "6d1d402e-b65b-49c8-d480-5d914fd34ea0"
      },
      "source": [
        "b + c # เวลาอ่านค่า Error ให้อ่านที่บรรทัดสุดท้าย \r\n",
        "      # ในข้อนี้หมายความว่า ไม่สามารถเอา float บวกกับ string ได้ เนื่องจากตัวแปรคนละชนิดกัน"
      ],
      "execution_count": 41,
      "outputs": [
        {
          "output_type": "error",
          "ename": "TypeError",
          "evalue": "ignored",
          "traceback": [
            "\u001b[0;31m---------------------------------------------------------------------------\u001b[0m",
            "\u001b[0;31mTypeError\u001b[0m                                 Traceback (most recent call last)",
            "\u001b[0;32m<ipython-input-41-fecf5a964882>\u001b[0m in \u001b[0;36m<module>\u001b[0;34m()\u001b[0m\n\u001b[0;32m----> 1\u001b[0;31m \u001b[0mb\u001b[0m \u001b[0;34m+\u001b[0m \u001b[0mc\u001b[0m \u001b[0;31m# เวลาอ่านค่า Error ให้อ่านที่บรรทัดสุดท้าย\u001b[0m\u001b[0;34m\u001b[0m\u001b[0;34m\u001b[0m\u001b[0m\n\u001b[0m\u001b[1;32m      2\u001b[0m       \u001b[0;31m# ในข้อนี้หมายความว่า ไม่สามารถเอา float บวกกับ string ได้ เนื่องจากตัวแปรคนละชนิดกัน\u001b[0m\u001b[0;34m\u001b[0m\u001b[0;34m\u001b[0m\u001b[0;34m\u001b[0m\u001b[0m\n",
            "\u001b[0;31mTypeError\u001b[0m: unsupported operand type(s) for +: 'float' and 'str'"
          ]
        }
      ]
    },
    {
      "cell_type": "code",
      "metadata": {
        "colab": {
          "base_uri": "https://localhost:8080/"
        },
        "id": "n30o4C1jQSf3",
        "outputId": "0924a422-8990-4bcd-9aa8-4097e4cb34a8"
      },
      "source": [
        "d = 'สวัสดี'\r\n",
        "print(d)"
      ],
      "execution_count": 42,
      "outputs": [
        {
          "output_type": "stream",
          "text": [
            "สวัสดี\n"
          ],
          "name": "stdout"
        }
      ]
    },
    {
      "cell_type": "markdown",
      "metadata": {
        "id": "tjVh29d_Q9K4"
      },
      "source": [
        "#**การเปลี่ยนชนิดของตัวแปร variable casting**"
      ]
    },
    {
      "cell_type": "code",
      "metadata": {
        "colab": {
          "base_uri": "https://localhost:8080/",
          "height": 166
        },
        "id": "akq5oMXSRGra",
        "outputId": "261d8d1b-1eb5-4227-8532-e28231992247"
      },
      "source": [
        "a + c # เกิด Error เนื่องจากตัวแปรคนละชนิด (1)"
      ],
      "execution_count": 43,
      "outputs": [
        {
          "output_type": "error",
          "ename": "TypeError",
          "evalue": "ignored",
          "traceback": [
            "\u001b[0;31m---------------------------------------------------------------------------\u001b[0m",
            "\u001b[0;31mTypeError\u001b[0m                                 Traceback (most recent call last)",
            "\u001b[0;32m<ipython-input-43-4cc4efb161b0>\u001b[0m in \u001b[0;36m<module>\u001b[0;34m()\u001b[0m\n\u001b[0;32m----> 1\u001b[0;31m \u001b[0ma\u001b[0m \u001b[0;34m+\u001b[0m \u001b[0mc\u001b[0m \u001b[0;31m# เกิด Error เนื่องจากตัวแปรคนละชนิด (1)\u001b[0m\u001b[0;34m\u001b[0m\u001b[0;34m\u001b[0m\u001b[0m\n\u001b[0m",
            "\u001b[0;31mTypeError\u001b[0m: unsupported operand type(s) for +: 'int' and 'str'"
          ]
        }
      ]
    },
    {
      "cell_type": "code",
      "metadata": {
        "id": "Z2KJRKh29ndc",
        "colab": {
          "base_uri": "https://localhost:8080/",
          "height": 166
        },
        "outputId": "74b861ac-b80a-402a-b7bc-c5a91976b020"
      },
      "source": [
        "a + int(C) # ที่เกิด Error เนื่องจาก ไม่มีตัวแปร C (ตัว C ใหญ่)"
      ],
      "execution_count": 44,
      "outputs": [
        {
          "output_type": "error",
          "ename": "NameError",
          "evalue": "ignored",
          "traceback": [
            "\u001b[0;31m---------------------------------------------------------------------------\u001b[0m",
            "\u001b[0;31mNameError\u001b[0m                                 Traceback (most recent call last)",
            "\u001b[0;32m<ipython-input-44-e67f15632816>\u001b[0m in \u001b[0;36m<module>\u001b[0;34m()\u001b[0m\n\u001b[0;32m----> 1\u001b[0;31m \u001b[0ma\u001b[0m \u001b[0;34m+\u001b[0m \u001b[0mint\u001b[0m\u001b[0;34m(\u001b[0m\u001b[0mC\u001b[0m\u001b[0;34m)\u001b[0m \u001b[0;31m# ที่เกิด Error เนื่องจาก ไม่มีตัวแปร C (ตัว C ใหญ่)\u001b[0m\u001b[0;34m\u001b[0m\u001b[0;34m\u001b[0m\u001b[0m\n\u001b[0m",
            "\u001b[0;31mNameError\u001b[0m: name 'C' is not defined"
          ]
        }
      ]
    },
    {
      "cell_type": "code",
      "metadata": {
        "id": "GOYaUXlI-Hgr",
        "colab": {
          "base_uri": "https://localhost:8080/"
        },
        "outputId": "7c966d00-c4db-41ec-87bf-97a28ecdb83d"
      },
      "source": [
        "a + int(c) #การเติม int หน้า c คือการเปลี่ยชนิดของตัวแปรจากเดิม คือ จาก str ไปเป็น int"
      ],
      "execution_count": 45,
      "outputs": [
        {
          "output_type": "execute_result",
          "data": {
            "text/plain": [
              "1493"
            ]
          },
          "metadata": {
            "tags": []
          },
          "execution_count": 45
        }
      ]
    },
    {
      "cell_type": "code",
      "metadata": {
        "id": "XaMUoNqN_TkX",
        "colab": {
          "base_uri": "https://localhost:8080/"
        },
        "outputId": "fe1305ec-692d-4354-8f4c-f45e43497809"
      },
      "source": [
        "a + float(c) #การเติม float หน้า c คือการเปลี่ยชนิดของตัวแปรจากเดิม คือ จาก str ไปเป็น float"
      ],
      "execution_count": 46,
      "outputs": [
        {
          "output_type": "execute_result",
          "data": {
            "text/plain": [
              "1493.0"
            ]
          },
          "metadata": {
            "tags": []
          },
          "execution_count": 46
        }
      ]
    },
    {
      "cell_type": "code",
      "metadata": {
        "id": "RqgckTsH_aBh",
        "colab": {
          "base_uri": "https://localhost:8080/",
          "height": 35
        },
        "outputId": "74f336cb-e48b-46a5-dfce-246d537b3fb6"
      },
      "source": [
        "str(a) # การใส่ str ข้างงหน้า a คือการให้โปรแกรมอ่านค่า a ที่เป็น int ออกมาเป็นข้อความ (string)"
      ],
      "execution_count": 47,
      "outputs": [
        {
          "output_type": "execute_result",
          "data": {
            "application/vnd.google.colaboratory.intrinsic+json": {
              "type": "string"
            },
            "text/plain": [
              "'259'"
            ]
          },
          "metadata": {
            "tags": []
          },
          "execution_count": 47
        }
      ]
    },
    {
      "cell_type": "markdown",
      "metadata": {
        "id": "XADqe0cDAT8z"
      },
      "source": [
        "# **การดำเนินการ Operation (Operators +,-,*,/,% )** "
      ]
    },
    {
      "cell_type": "code",
      "metadata": {
        "id": "pAEYW4PlBAs6",
        "colab": {
          "base_uri": "https://localhost:8080/"
        },
        "outputId": "3bd5cabe-705a-40fa-96f9-a380d88202c2"
      },
      "source": [
        "a + b"
      ],
      "execution_count": 48,
      "outputs": [
        {
          "output_type": "execute_result",
          "data": {
            "text/plain": [
              "418.0"
            ]
          },
          "metadata": {
            "tags": []
          },
          "execution_count": 48
        }
      ]
    },
    {
      "cell_type": "code",
      "metadata": {
        "id": "fNbJcJV6BNqu",
        "colab": {
          "base_uri": "https://localhost:8080/"
        },
        "outputId": "f62bef0e-4485-4359-8650-7b43bb62f774"
      },
      "source": [
        "a - b"
      ],
      "execution_count": 49,
      "outputs": [
        {
          "output_type": "execute_result",
          "data": {
            "text/plain": [
              "100.0"
            ]
          },
          "metadata": {
            "tags": []
          },
          "execution_count": 49
        }
      ]
    },
    {
      "cell_type": "code",
      "metadata": {
        "id": "UOCb4M5EBRQE",
        "colab": {
          "base_uri": "https://localhost:8080/"
        },
        "outputId": "f1f78f91-2b07-4223-f713-8bac56e69a46"
      },
      "source": [
        "ab = a*b\r\n",
        "print(ab)"
      ],
      "execution_count": 50,
      "outputs": [
        {
          "output_type": "stream",
          "text": [
            "41181.0\n"
          ],
          "name": "stdout"
        }
      ]
    },
    {
      "cell_type": "code",
      "metadata": {
        "id": "dHSCu5h6Bax1",
        "colab": {
          "base_uri": "https://localhost:8080/"
        },
        "outputId": "09490af0-1c98-4291-eb6c-ef770c294455"
      },
      "source": [
        "ab + int(c)"
      ],
      "execution_count": 51,
      "outputs": [
        {
          "output_type": "execute_result",
          "data": {
            "text/plain": [
              "42415.0"
            ]
          },
          "metadata": {
            "tags": []
          },
          "execution_count": 51
        }
      ]
    },
    {
      "cell_type": "markdown",
      "metadata": {
        "id": "ROXP9PLSBrLJ"
      },
      "source": [
        "% คือ modulo หมายถึงการหารเอาเศษ"
      ]
    },
    {
      "cell_type": "code",
      "metadata": {
        "id": "Ui_mkpQOBoHs",
        "colab": {
          "base_uri": "https://localhost:8080/"
        },
        "outputId": "a5b0e70b-a60e-44f0-885a-34f0f45f47b0"
      },
      "source": [
        "6%3 "
      ],
      "execution_count": 52,
      "outputs": [
        {
          "output_type": "execute_result",
          "data": {
            "text/plain": [
              "0"
            ]
          },
          "metadata": {
            "tags": []
          },
          "execution_count": 52
        }
      ]
    },
    {
      "cell_type": "code",
      "metadata": {
        "id": "9mt_1s52B7B5",
        "colab": {
          "base_uri": "https://localhost:8080/"
        },
        "outputId": "c8fffd12-3192-4de2-e6b3-6e02da9db492"
      },
      "source": [
        "5%3"
      ],
      "execution_count": 53,
      "outputs": [
        {
          "output_type": "execute_result",
          "data": {
            "text/plain": [
              "2"
            ]
          },
          "metadata": {
            "tags": []
          },
          "execution_count": 53
        }
      ]
    },
    {
      "cell_type": "markdown",
      "metadata": {
        "id": "P_A8L2g8DgZB"
      },
      "source": [
        "# **คำสั่ง print แบบพิเศษ (การ format string)**"
      ]
    },
    {
      "cell_type": "code",
      "metadata": {
        "id": "KyhXw7QlEGAP",
        "colab": {
          "base_uri": "https://localhost:8080/"
        },
        "outputId": "1a3712b5-923e-4f45-b7d7-44c58549be46"
      },
      "source": [
        "print('สวัสดีค่ะ') # สิ่งที่อยู่ในวงเล็บคือ สวัสดีค่ะ และเป็นข้อความ string"
      ],
      "execution_count": 54,
      "outputs": [
        {
          "output_type": "stream",
          "text": [
            "สวัสดีค่ะ\n"
          ],
          "name": "stdout"
        }
      ]
    },
    {
      "cell_type": "code",
      "metadata": {
        "id": "0cyNK61kAiB9",
        "colab": {
          "base_uri": "https://localhost:8080/"
        },
        "outputId": "6343d805-7723-4da8-cac2-2a5a2d90de3f"
      },
      "source": [
        "print (f'% คือการหารเอาเศษ เช่น 7%3 = {7%3}')  # การเพิ่ม f หน้า string คือสามารถใส่ code ใน string ได้โดยใส่ {} รอบล้อมตัวที่ต้องการให้โปรแกรมแปรผล"
      ],
      "execution_count": 56,
      "outputs": [
        {
          "output_type": "stream",
          "text": [
            "% คือการหารเอาเศษ เช่น 7%3 = 1\n"
          ],
          "name": "stdout"
        }
      ]
    },
    {
      "cell_type": "code",
      "metadata": {
        "id": "tYlYWUpBCOVw",
        "colab": {
          "base_uri": "https://localhost:8080/",
          "height": 131
        },
        "outputId": "d9de33ad-9417-4886-bbb6-86c29b451a10"
      },
      "source": [
        "print(f'% คือการหารเอาเศษ เช่น 7%3 = {7%3}\r\n",
        "      แต่\\n/ คือการหารปกติ เช่น 7/3 = {7/3}\r\n",
        "      และ\\n// คือการหารเอาส่วน เช่น 7//3 = {7//3}\r\n",
        "      หรือ\\nใช้ int() เพื่อหารเอาส่วน เช่น int(7/3)= {int(7/3)}')  # เกิด Error เนื่องจาก เมื่อเราตัด code แล้วโปรแกรมไม่สามารถรับรู้ได้ว่าเราตัด code  ทำให้โปรแกรมอ่านcodeเพียงบรรทัดแรก ทำให้เกิด Error (1)"
      ],
      "execution_count": 57,
      "outputs": [
        {
          "output_type": "error",
          "ename": "SyntaxError",
          "evalue": "ignored",
          "traceback": [
            "\u001b[0;36m  File \u001b[0;32m\"<ipython-input-57-7dcdc5aebd99>\"\u001b[0;36m, line \u001b[0;32m1\u001b[0m\n\u001b[0;31m    print(f'% คือการหารเอาเศษ เช่น 7%3 = {7%3}\u001b[0m\n\u001b[0m                                              ^\u001b[0m\n\u001b[0;31mSyntaxError\u001b[0m\u001b[0;31m:\u001b[0m EOL while scanning string literal\n"
          ]
        }
      ]
    },
    {
      "cell_type": "code",
      "metadata": {
        "id": "zodiCo8AFkyO",
        "colab": {
          "base_uri": "https://localhost:8080/"
        },
        "outputId": "7decac79-c74e-4a9f-81c5-329a240f41d7"
      },
      "source": [
        "print(f'% คือการหารเอาเศษ เช่น 7%3 = {7%3}\\\r\n",
        "      แต่\\n/ คือการหารปกติ เช่น 7/3 = {7/3}\\\r\n",
        "      และ\\n// คือการหารเอาส่วน เช่น 7//3 = {7//3}\\\r\n",
        "      หรือ\\nใช้ int() เพื่อหารเอาส่วน เช่น int(7/3)= {int(7/3)}') # เมื่อเติม\\ท้ายcodeก่อนที่จะตัดcode ทำให้โปรแกรมรับรู้ว่าตัดcode แต่โปรแกรมจะไม่เห็น \\\r\n",
        "                                                           # \\n คือการขึ้นบรรทัดใหม่   (2)"
      ],
      "execution_count": 58,
      "outputs": [
        {
          "output_type": "stream",
          "text": [
            "% คือการหารเอาเศษ เช่น 7%3 = 1      แต่\n",
            "/ คือการหารปกติ เช่น 7/3 = 2.3333333333333335      และ\n",
            "// คือการหารเอาส่วน เช่น 7//3 = 2      หรือ\n",
            "ใช้ int() เพื่อหารเอาส่วน เช่น int(7/3)= 2\n"
          ],
          "name": "stdout"
        }
      ]
    },
    {
      "cell_type": "markdown",
      "metadata": {
        "id": "fp54qSB6HFx1"
      },
      "source": [
        "#**DATA STRUCTURE (โครงสร้างข้อมูล)**"
      ]
    },
    {
      "cell_type": "code",
      "metadata": {
        "id": "_HBqKgCwHTca",
        "colab": {
          "base_uri": "https://localhost:8080/"
        },
        "outputId": "649b94bf-0a34-4cc3-a65f-8bd8255c6e52"
      },
      "source": [
        "[111,'t','ก',a]"
      ],
      "execution_count": 59,
      "outputs": [
        {
          "output_type": "execute_result",
          "data": {
            "text/plain": [
              "[111, 't', 'ก', 259]"
            ]
          },
          "metadata": {
            "tags": []
          },
          "execution_count": 59
        }
      ]
    },
    {
      "cell_type": "markdown",
      "metadata": {
        "id": "rv8gH6mTImL1"
      },
      "source": [
        "**List คือการเอาข้อมูลหลายๆตัวมาเรียงต่อกัน**\r\n",
        "\r\n",
        "######**list สามารถสร้างได้ 2 แบบ ดังนี้**\r\n",
        "\r\n",
        "**แบบที่ 1 square brackets**"
      ]
    },
    {
      "cell_type": "code",
      "metadata": {
        "id": "UmtMFnwMIRbL",
        "colab": {
          "base_uri": "https://localhost:8080/"
        },
        "outputId": "cc5b0ed3-b212-4f19-c76c-09724b8d4912"
      },
      "source": [
        "list_aaa =[]\r\n",
        "print(list_aaa)"
      ],
      "execution_count": 60,
      "outputs": [
        {
          "output_type": "stream",
          "text": [
            "[]\n"
          ],
          "name": "stdout"
        }
      ]
    },
    {
      "cell_type": "code",
      "metadata": {
        "id": "fLh8BvBiKZ2u",
        "colab": {
          "base_uri": "https://localhost:8080/"
        },
        "outputId": "4f48d9d2-77ac-4290-8795-99e4e2863777"
      },
      "source": [
        "list_bbb = [111,'t','ก',a]\r\n",
        "print(list_bbb)"
      ],
      "execution_count": 61,
      "outputs": [
        {
          "output_type": "stream",
          "text": [
            "[111, 't', 'ก', 259]\n"
          ],
          "name": "stdout"
        }
      ]
    },
    {
      "cell_type": "markdown",
      "metadata": {
        "id": "XFlQDapQKqKJ"
      },
      "source": [
        "ลำดับที่อยู่ใน list มีความสำคัญ เริ่มจาก 0,1,2,3,...."
      ]
    },
    {
      "cell_type": "code",
      "metadata": {
        "id": "mEcPOF7EK_EI",
        "colab": {
          "base_uri": "https://localhost:8080/",
          "height": 35
        },
        "outputId": "b189d2f6-fa99-43cf-bf1f-33ccbb32b1b5"
      },
      "source": [
        "list_bbb[2]"
      ],
      "execution_count": 62,
      "outputs": [
        {
          "output_type": "execute_result",
          "data": {
            "application/vnd.google.colaboratory.intrinsic+json": {
              "type": "string"
            },
            "text/plain": [
              "'ก'"
            ]
          },
          "metadata": {
            "tags": []
          },
          "execution_count": 62
        }
      ]
    },
    {
      "cell_type": "markdown",
      "metadata": {
        "id": "ja0zuG3VLPus"
      },
      "source": [
        "**แบบที่ 2**"
      ]
    },
    {
      "cell_type": "code",
      "metadata": {
        "id": "ph_68YoRLI4y",
        "colab": {
          "base_uri": "https://localhost:8080/"
        },
        "outputId": "bfc988e1-a3f7-477a-d621-a27049f1ec2f"
      },
      "source": [
        "list_ccc = list()\r\n",
        "print(list_ccc)"
      ],
      "execution_count": 63,
      "outputs": [
        {
          "output_type": "stream",
          "text": [
            "[]\n"
          ],
          "name": "stdout"
        }
      ]
    },
    {
      "cell_type": "markdown",
      "metadata": {
        "id": "CkFxXeN6L8aD"
      },
      "source": [
        "######**append() เพิ่มสมาชิกใน list**"
      ]
    },
    {
      "cell_type": "code",
      "metadata": {
        "id": "09JwaLDAMKMQ",
        "colab": {
          "base_uri": "https://localhost:8080/"
        },
        "outputId": "32ec79b4-6c94-4bf0-ca77-861110cdb0be"
      },
      "source": [
        "list_bbb.append('r')\r\n",
        "print(list_bbb)"
      ],
      "execution_count": 65,
      "outputs": [
        {
          "output_type": "stream",
          "text": [
            "[111, 't', 'ก', 259, 'r', 'r']\n"
          ],
          "name": "stdout"
        }
      ]
    },
    {
      "cell_type": "markdown",
      "metadata": {
        "id": "HmF3PtSXMle9"
      },
      "source": [
        "ตัวที่อยู่ในตัวแปร list เรียกว่า index ใช้สำหรับชี้ข้อมูลใน list  \r\n",
        "\r\n",
        "โดยการชี้สามารถชี้ได้ 2 แบบ คือ การชี้จากข้างหน้า และ การชี้จากข้างหลัง \r\n",
        "\r\n",
        "0 คือสมาชิกตัวแรก -1 คือสมาชิกตัวสุดท้าย"
      ]
    },
    {
      "cell_type": "code",
      "metadata": {
        "id": "6smIpGiwMgoJ",
        "colab": {
          "base_uri": "https://localhost:8080/",
          "height": 35
        },
        "outputId": "ff764d4a-3144-4440-8dd2-5be36569bd5f"
      },
      "source": [
        "list_bbb[-1]"
      ],
      "execution_count": 66,
      "outputs": [
        {
          "output_type": "execute_result",
          "data": {
            "application/vnd.google.colaboratory.intrinsic+json": {
              "type": "string"
            },
            "text/plain": [
              "'r'"
            ]
          },
          "metadata": {
            "tags": []
          },
          "execution_count": 66
        }
      ]
    },
    {
      "cell_type": "markdown",
      "metadata": {
        "id": "n-LaWBuaNjK_"
      },
      "source": [
        "######**String > list of characters**"
      ]
    },
    {
      "cell_type": "code",
      "metadata": {
        "id": "y8tn-ZGpNhbr",
        "colab": {
          "base_uri": "https://localhost:8080/"
        },
        "outputId": "bddc27e9-6cbe-4fe4-82dd-da830f0bd3fa"
      },
      "source": [
        "t = 'python is easy'\r\n",
        "print(t)"
      ],
      "execution_count": 67,
      "outputs": [
        {
          "output_type": "stream",
          "text": [
            "python is easy\n"
          ],
          "name": "stdout"
        }
      ]
    },
    {
      "cell_type": "code",
      "metadata": {
        "id": "UKnJ4b3SN4Sj",
        "colab": {
          "base_uri": "https://localhost:8080/",
          "height": 0
        },
        "outputId": "e552bd31-5e38-4704-fb91-c5b1481abc72"
      },
      "source": [
        "t[1]"
      ],
      "execution_count": 68,
      "outputs": [
        {
          "output_type": "execute_result",
          "data": {
            "application/vnd.google.colaboratory.intrinsic+json": {
              "type": "string"
            },
            "text/plain": [
              "'y'"
            ]
          },
          "metadata": {
            "tags": []
          },
          "execution_count": 68
        }
      ]
    },
    {
      "cell_type": "code",
      "metadata": {
        "id": "2at48mFQOF6N",
        "colab": {
          "base_uri": "https://localhost:8080/",
          "height": 0
        },
        "outputId": "f85406ad-b7ac-4b07-b45b-f2ef9ba8a107"
      },
      "source": [
        "t[-3]"
      ],
      "execution_count": 69,
      "outputs": [
        {
          "output_type": "execute_result",
          "data": {
            "application/vnd.google.colaboratory.intrinsic+json": {
              "type": "string"
            },
            "text/plain": [
              "'a'"
            ]
          },
          "metadata": {
            "tags": []
          },
          "execution_count": 69
        }
      ]
    },
    {
      "cell_type": "code",
      "metadata": {
        "id": "ANUnxELJOIUV",
        "colab": {
          "base_uri": "https://localhost:8080/",
          "height": 0
        },
        "outputId": "3b01269a-6f8c-42d1-a3bd-f82b151b79fd"
      },
      "source": [
        "t[6]"
      ],
      "execution_count": 70,
      "outputs": [
        {
          "output_type": "execute_result",
          "data": {
            "application/vnd.google.colaboratory.intrinsic+json": {
              "type": "string"
            },
            "text/plain": [
              "' '"
            ]
          },
          "metadata": {
            "tags": []
          },
          "execution_count": 70
        }
      ]
    },
    {
      "cell_type": "code",
      "metadata": {
        "id": "kSPwg-F7OKYJ",
        "colab": {
          "base_uri": "https://localhost:8080/"
        },
        "outputId": "e91536c0-21d4-4dfb-9cf0-afc761ea1d33"
      },
      "source": [
        "g = 'สถิติ'\r\n",
        "print(g)"
      ],
      "execution_count": 71,
      "outputs": [
        {
          "output_type": "stream",
          "text": [
            "สถิติ\n"
          ],
          "name": "stdout"
        }
      ]
    },
    {
      "cell_type": "code",
      "metadata": {
        "id": "W2feWsWDOXdq",
        "colab": {
          "base_uri": "https://localhost:8080/",
          "height": 0
        },
        "outputId": "66c39021-eca3-4a79-d646-d87b0e1c36a2"
      },
      "source": [
        "g[0]"
      ],
      "execution_count": 72,
      "outputs": [
        {
          "output_type": "execute_result",
          "data": {
            "application/vnd.google.colaboratory.intrinsic+json": {
              "type": "string"
            },
            "text/plain": [
              "'ส'"
            ]
          },
          "metadata": {
            "tags": []
          },
          "execution_count": 72
        }
      ]
    },
    {
      "cell_type": "code",
      "metadata": {
        "id": "Qn8Gcv4bOass",
        "outputId": "337dd997-8409-4468-d91d-16638a0e3e64",
        "colab": {
          "base_uri": "https://localhost:8080/",
          "height": 0
        }
      },
      "source": [
        "g[1]"
      ],
      "execution_count": 73,
      "outputs": [
        {
          "output_type": "execute_result",
          "data": {
            "application/vnd.google.colaboratory.intrinsic+json": {
              "type": "string"
            },
            "text/plain": [
              "'ถ'"
            ]
          },
          "metadata": {
            "tags": []
          },
          "execution_count": 73
        }
      ]
    },
    {
      "cell_type": "code",
      "metadata": {
        "id": "cqtzCCCoOh2w",
        "outputId": "185c40f0-4422-4707-b094-0abfc3560f16",
        "colab": {
          "base_uri": "https://localhost:8080/",
          "height": 0
        }
      },
      "source": [
        "g[2]"
      ],
      "execution_count": 74,
      "outputs": [
        {
          "output_type": "execute_result",
          "data": {
            "application/vnd.google.colaboratory.intrinsic+json": {
              "type": "string"
            },
            "text/plain": [
              "'ิ'"
            ]
          },
          "metadata": {
            "tags": []
          },
          "execution_count": 74
        }
      ]
    },
    {
      "cell_type": "code",
      "metadata": {
        "id": "gl6PNOQkOktu",
        "outputId": "94f00be2-efb5-4807-99a4-7aaf2cc8ebc2",
        "colab": {
          "base_uri": "https://localhost:8080/",
          "height": 0
        }
      },
      "source": [
        "g[-1]"
      ],
      "execution_count": 75,
      "outputs": [
        {
          "output_type": "execute_result",
          "data": {
            "application/vnd.google.colaboratory.intrinsic+json": {
              "type": "string"
            },
            "text/plain": [
              "'ิ'"
            ]
          },
          "metadata": {
            "tags": []
          },
          "execution_count": 75
        }
      ]
    },
    {
      "cell_type": "markdown",
      "metadata": {
        "id": "QsqtSLache7I"
      },
      "source": [
        "# คาบ 3 วันที่ 11 มค 2564"
      ]
    },
    {
      "cell_type": "code",
      "metadata": {
        "id": "i01DD79OiSCl",
        "outputId": "dac23fb5-1c0c-47ee-80c6-8915333bee1f",
        "colab": {
          "base_uri": "https://localhost:8080/"
        }
      },
      "source": [
        "len(t) # len คือคำสั่งตรวจสอบความยาวของ list (จำนวนสมาชิก)"
      ],
      "execution_count": 29,
      "outputs": [
        {
          "output_type": "execute_result",
          "data": {
            "text/plain": [
              "14"
            ]
          },
          "metadata": {
            "tags": []
          },
          "execution_count": 29
        }
      ]
    },
    {
      "cell_type": "code",
      "metadata": {
        "id": "z8D7CJ92kYhj",
        "colab": {
          "base_uri": "https://localhost:8080/"
        },
        "outputId": "9d7ccc7f-63c5-4128-8f4c-b9c914c16d17"
      },
      "source": [
        "len(list_bbb)"
      ],
      "execution_count": 76,
      "outputs": [
        {
          "output_type": "execute_result",
          "data": {
            "text/plain": [
              "6"
            ]
          },
          "metadata": {
            "tags": []
          },
          "execution_count": 76
        }
      ]
    },
    {
      "cell_type": "code",
      "metadata": {
        "id": "QDVDLZ4MlDnA",
        "colab": {
          "base_uri": "https://localhost:8080/"
        },
        "outputId": "8cf9e9a0-d63f-4ab1-eecc-35a2c537bc58"
      },
      "source": [
        "list_bbb.append(t)\r\n",
        "print(list_bbb)"
      ],
      "execution_count": 77,
      "outputs": [
        {
          "output_type": "stream",
          "text": [
            "[111, 't', 'ก', 259, 'r', 'r', 'python is easy']\n"
          ],
          "name": "stdout"
        }
      ]
    },
    {
      "cell_type": "markdown",
      "metadata": {
        "id": "74j76uI7lLK6"
      },
      "source": [
        "**ตัวที่อยู่ข้างใน [ ] เราเรียกว่าตัวชี้ (Index)**"
      ]
    },
    {
      "cell_type": "markdown",
      "metadata": {
        "id": "5gU4LMJinHRY"
      },
      "source": [
        "**List slicing สมารถทำได้โดยใช้ colon :**\r\n",
        "\r\n",
        "[a:b] -> [a,b)\r\n",
        "\r\n",
        " ![ภาพอธิบายเพิ่ม](ภาพอธิบาย.png)\r\n",
        "\r\n",
        "\r\n",
        "\r\n",
        "\r\n",
        "\r\n",
        "\r\n",
        "\r\n"
      ]
    },
    {
      "cell_type": "code",
      "metadata": {
        "id": "6CkKwC_Ol2h0",
        "colab": {
          "base_uri": "https://localhost:8080/"
        },
        "outputId": "925270dd-921b-4448-a111-d50c3695dd82"
      },
      "source": [
        "print(t)\r\n",
        "print(t[7:9])\r\n",
        "print(len(t[7:9]))"
      ],
      "execution_count": 51,
      "outputs": [
        {
          "output_type": "stream",
          "text": [
            "python is easy\n",
            "is\n",
            "2\n"
          ],
          "name": "stdout"
        }
      ]
    },
    {
      "cell_type": "code",
      "metadata": {
        "id": "Md9DeU7lnmA_",
        "colab": {
          "base_uri": "https://localhost:8080/",
          "height": 35
        },
        "outputId": "51c037bf-b536-4312-ed4f-71f6ace5dced"
      },
      "source": [
        "t[0:14:2] #ถ้าเพิ่ม: มาแปลว่า จะเป็นการกระโดด"
      ],
      "execution_count": 50,
      "outputs": [
        {
          "output_type": "execute_result",
          "data": {
            "application/vnd.google.colaboratory.intrinsic+json": {
              "type": "string"
            },
            "text/plain": [
              "'pto ses'"
            ]
          },
          "metadata": {
            "tags": []
          },
          "execution_count": 50
        }
      ]
    },
    {
      "cell_type": "code",
      "metadata": {
        "id": "EAYkYb_AoMAB"
      },
      "source": [
        "z = [1,2,3,4,5,6,7,8,9,10]\r\n",
        "print(z)"
      ],
      "execution_count": null,
      "outputs": []
    },
    {
      "cell_type": "markdown",
      "metadata": {
        "id": "rEN0hl1zoYOW"
      },
      "source": [
        "# quiz\r\n",
        "ให้ใช้ list slicing เลือกมาเฉพาะเลขคู่\r\n"
      ]
    },
    {
      "cell_type": "code",
      "metadata": {
        "id": "AAfcPHY1oWlc",
        "colab": {
          "base_uri": "https://localhost:8080/"
        },
        "outputId": "cf94ecb3-fd15-4621-d728-e4f5ed4e4b86"
      },
      "source": [
        "z [1:10:2]"
      ],
      "execution_count": null,
      "outputs": [
        {
          "output_type": "execute_result",
          "data": {
            "text/plain": [
              "[2, 4, 6, 8, 10]"
            ]
          },
          "metadata": {
            "tags": []
          },
          "execution_count": 68
        }
      ]
    },
    {
      "cell_type": "markdown",
      "metadata": {
        "id": "BxBIAuUnmh9k"
      },
      "source": [
        "ถ้าเว้นว่างหน้า : หมายความว่า เริ่มตั้งแต่ตัวแรก (0)\r\n",
        "\r\n",
        "ถ้าเว้นว่างหลัง : หมายความว่า ไปจนถึงตัวสุดท้าย (len(list))"
      ]
    },
    {
      "cell_type": "code",
      "metadata": {
        "id": "Fbc5GlfRm_1t",
        "colab": {
          "base_uri": "https://localhost:8080/"
        },
        "outputId": "2462218e-ec4a-4a7c-fc5f-cd3c8b5740b3"
      },
      "source": [
        "print(t)\r\n",
        "print(t[:6])\r\n",
        "print(t[10:])\r\n",
        "print(t[-4:])\r\n",
        "print(t[:])"
      ],
      "execution_count": null,
      "outputs": [
        {
          "output_type": "stream",
          "text": [
            "python is easy\n",
            "python\n",
            "easy\n",
            "easy\n",
            "python is easy\n"
          ],
          "name": "stdout"
        }
      ]
    },
    {
      "cell_type": "code",
      "metadata": {
        "id": "VR_AlhhZp46F",
        "colab": {
          "base_uri": "https://localhost:8080/"
        },
        "outputId": "90a32add-fb08-4e09-acb8-aaa24376a702"
      },
      "source": [
        "print(z[::2])"
      ],
      "execution_count": null,
      "outputs": [
        {
          "output_type": "stream",
          "text": [
            "[1, 3, 5, 7, 9]\n"
          ],
          "name": "stdout"
        }
      ]
    },
    {
      "cell_type": "markdown",
      "metadata": {
        "id": "j_PWLbUppt2D"
      },
      "source": [
        "# เราสามารถเอา list มาต่อกันได้ด้วย +"
      ]
    },
    {
      "cell_type": "code",
      "metadata": {
        "id": "Je-HfNHbp0uz",
        "colab": {
          "base_uri": "https://localhost:8080/",
          "height": 35
        },
        "outputId": "58a9c06c-f0c1-4d4f-8aac-356ce664280a"
      },
      "source": [
        "t+'??'"
      ],
      "execution_count": null,
      "outputs": [
        {
          "output_type": "execute_result",
          "data": {
            "application/vnd.google.colaboratory.intrinsic+json": {
              "type": "string"
            },
            "text/plain": [
              "'python is easy??'"
            ]
          },
          "metadata": {
            "tags": []
          },
          "execution_count": 71
        }
      ]
    },
    {
      "cell_type": "code",
      "metadata": {
        "id": "SXd4ghpjr6wV",
        "colab": {
          "base_uri": "https://localhost:8080/",
          "height": 166
        },
        "outputId": "52a3a6af-c265-40d9-e3c8-6205a4bafd0f"
      },
      "source": [
        "t+list_bbb #ไม่สามารถเอาlist มาต่อกับ string ได้"
      ],
      "execution_count": null,
      "outputs": [
        {
          "output_type": "error",
          "ename": "TypeError",
          "evalue": "ignored",
          "traceback": [
            "\u001b[0;31m---------------------------------------------------------------------------\u001b[0m",
            "\u001b[0;31mTypeError\u001b[0m                                 Traceback (most recent call last)",
            "\u001b[0;32m<ipython-input-72-c2478fa28c7c>\u001b[0m in \u001b[0;36m<module>\u001b[0;34m()\u001b[0m\n\u001b[0;32m----> 1\u001b[0;31m \u001b[0mt\u001b[0m\u001b[0;34m+\u001b[0m\u001b[0mlist_bbb\u001b[0m\u001b[0;34m\u001b[0m\u001b[0;34m\u001b[0m\u001b[0m\n\u001b[0m",
            "\u001b[0;31mTypeError\u001b[0m: must be str, not list"
          ]
        }
      ]
    },
    {
      "cell_type": "code",
      "metadata": {
        "id": "MBeSZq4ssGKI",
        "colab": {
          "base_uri": "https://localhost:8080/"
        },
        "outputId": "c5399f7d-4036-4b6e-f2ad-b5aeb39bb5f9"
      },
      "source": [
        "print(list_aaa)\r\n",
        "print(list_bbb)\r\n",
        "print(list_bbb + list_aaa) # + คือการเอาสมาชิกมารวกกัน"
      ],
      "execution_count": null,
      "outputs": [
        {
          "output_type": "stream",
          "text": [
            "[]\n",
            "[111, 't', 'ก', 259, 'python is easy']\n",
            "[111, 't', 'ก', 259, 'python is easy']\n"
          ],
          "name": "stdout"
        }
      ]
    },
    {
      "cell_type": "code",
      "metadata": {
        "id": "v4kVndD9tCp-",
        "colab": {
          "base_uri": "https://localhost:8080/"
        },
        "outputId": "101d2f1d-ed04-48f2-d96f-83bfc0966fa6"
      },
      "source": [
        "list_bbb.append(list_aaa)\r\n",
        "print(list_bbb)"
      ],
      "execution_count": null,
      "outputs": [
        {
          "output_type": "stream",
          "text": [
            "[111, 't', 'ก', 259, 'python is easy', []]\n"
          ],
          "name": "stdout"
        }
      ]
    },
    {
      "cell_type": "markdown",
      "metadata": {
        "id": "KNoZ1khJqlSv"
      },
      "source": [
        "# การแบ่ง String ตามสัญลักษณ์ที่กำหนด -> Split string"
      ]
    },
    {
      "cell_type": "code",
      "metadata": {
        "id": "J5zLedZpt5wR",
        "colab": {
          "base_uri": "https://localhost:8080/",
          "height": 35
        },
        "outputId": "3706e65b-e06d-46ca-9c12-db8609dafb42"
      },
      "source": [
        "t"
      ],
      "execution_count": null,
      "outputs": [
        {
          "output_type": "execute_result",
          "data": {
            "application/vnd.google.colaboratory.intrinsic+json": {
              "type": "string"
            },
            "text/plain": [
              "'python is easy'"
            ]
          },
          "metadata": {
            "tags": []
          },
          "execution_count": 77
        }
      ]
    },
    {
      "cell_type": "code",
      "metadata": {
        "id": "xybTLph9qkw6",
        "colab": {
          "base_uri": "https://localhost:8080/"
        },
        "outputId": "26053f26-add9-4d7d-a9c8-61e36877de6a"
      },
      "source": [
        "t.split(' ')"
      ],
      "execution_count": null,
      "outputs": [
        {
          "output_type": "execute_result",
          "data": {
            "text/plain": [
              "['python', 'is', 'easy']"
            ]
          },
          "metadata": {
            "tags": []
          },
          "execution_count": 78
        }
      ]
    },
    {
      "cell_type": "code",
      "metadata": {
        "id": "HuLMNmgUuC9c"
      },
      "source": [
        "time = '12:30:15'"
      ],
      "execution_count": 52,
      "outputs": []
    },
    {
      "cell_type": "code",
      "metadata": {
        "id": "r3wHjErzuvyf",
        "colab": {
          "base_uri": "https://localhost:8080/"
        },
        "outputId": "c708f435-f62f-4f0d-8508-6090ee58f9cf"
      },
      "source": [
        "time.split(':')"
      ],
      "execution_count": null,
      "outputs": [
        {
          "output_type": "execute_result",
          "data": {
            "text/plain": [
              "['12', '30', '15']"
            ]
          },
          "metadata": {
            "tags": []
          },
          "execution_count": 80
        }
      ]
    },
    {
      "cell_type": "code",
      "metadata": {
        "id": "-xOuVo6ou6wZ",
        "colab": {
          "base_uri": "https://localhost:8080/"
        },
        "outputId": "651ffc96-ff5c-4ea0-f00b-4bcb8b18904b"
      },
      "source": [
        "t_sp = t.split(' ')\r\n",
        "print(t_sp)"
      ],
      "execution_count": null,
      "outputs": [
        {
          "output_type": "stream",
          "text": [
            "['python', 'is', 'easy']\n"
          ],
          "name": "stdout"
        }
      ]
    },
    {
      "cell_type": "code",
      "metadata": {
        "id": "wIkDD7WovHUM",
        "colab": {
          "base_uri": "https://localhost:8080/"
        },
        "outputId": "4427a954-cdd2-4f87-b01b-b93243909e0f"
      },
      "source": [
        "print(':'.join(t_sp)) #เป็นวิธีการรวมกลับ"
      ],
      "execution_count": null,
      "outputs": [
        {
          "output_type": "stream",
          "text": [
            "python:is:easy\n"
          ],
          "name": "stdout"
        }
      ]
    },
    {
      "cell_type": "markdown",
      "metadata": {
        "id": "yztvUPaKrLuK"
      },
      "source": [
        "**HW คำนวนเวลาเป็นวินาทีของเวลาต่อไปนี้โดยใช้คำสั่ง split() ช่วย (ptint ออกมาให้สวยงาม)** \r\n",
        "\r\n",
        "การบ้าน คาบที่ 3 (จ. 110121)\r\n",
        "\r\n",
        "\r\n",
        "\r\n",
        "\r\n"
      ]
    },
    {
      "cell_type": "markdown",
      "metadata": {
        "id": "eWXB-NmwrsER"
      },
      "source": [
        "###Q1. 12:30:15"
      ]
    },
    {
      "cell_type": "code",
      "metadata": {
        "id": "C76EF2ObrnSN",
        "outputId": "31332fb7-7fe9-4d2d-feaa-170fd8328f2c",
        "colab": {
          "base_uri": "https://localhost:8080/"
        }
      },
      "source": [
        "Q1='12:30:15'  #โจทย์\r\n",
        "Q1.split(':')  #ใช้คำสั่ง split แบ่งตามสัญลักษณ์ :\r\n",
        "list_Q1=[12,30,15] #ใช้คำสั่ง list เพื่อบอกลำดับของ list\r\n",
        "A1=list_Q1[0]*3600 #0 คือลำดับตัวแรกใน list ตัวแรกใน list คือชั่วโมง ต้องการทำให้เป็นวินาทีจึง คูณ 3600\r\n",
        "B1=list_Q1[1]*60  #1 คือลำดับตัวที่สองใน list ตัวที่สองใน list คือนาที ต้องการทำให้เป็นวินาทีจึง คูณ 60\r\n",
        "C1=list_Q1[2]*1 #2 คือลำดับตัวที่สามใน list ตัวที่สามใน list คือวินาที ต้องการทำให้เป็นวินาทีจึง คูณ 1\r\n",
        "Ans_Q1 = A1+B1+C1 \r\n",
        "print(f'12:30:15 คำนวนเวลาเป็นวินาทีได้เท่ากับ {Ans_Q1} วินาที')\r\n"
      ],
      "execution_count": 13,
      "outputs": [
        {
          "output_type": "stream",
          "text": [
            "12:30:15 คำนวนเวลาเป็นวินาทีได้เท่ากับ 45015 วินาที\n"
          ],
          "name": "stdout"
        }
      ]
    },
    {
      "cell_type": "markdown",
      "metadata": {
        "id": "mIGhLCUvpWFE"
      },
      "source": [
        "###Q2. 13:41:07\r\n",
        "\r\n"
      ]
    },
    {
      "cell_type": "code",
      "metadata": {
        "id": "O5dITqFxsRwN",
        "outputId": "d057fb9f-f908-4cea-8353-cc431d189abd",
        "colab": {
          "base_uri": "https://localhost:8080/"
        }
      },
      "source": [
        "Q2 ='13:41:07'\r\n",
        "Q2.split(':') \r\n",
        "list_Q2=[13,41,7] #ถ้าใส่ 07 มันจะขึ้น error\r\n",
        "A2=list_Q2[0]*3600\r\n",
        "B2=list_Q2[1]*60\r\n",
        "C2=list_Q2[2]*1\r\n",
        "Ans_Q2 = A2+B2+C2\r\n",
        "print(f'13:41:07 คำนวนเวลาเป็นวินาทีได้เท่ากับ {Ans_Q2} วินาที')"
      ],
      "execution_count": 15,
      "outputs": [
        {
          "output_type": "stream",
          "text": [
            "13:41:07 คำนวนเวลาเป็นวินาทีได้เท่ากับ 49267 วินาที\n"
          ],
          "name": "stdout"
        }
      ]
    },
    {
      "cell_type": "markdown",
      "metadata": {
        "id": "sSIdVp9asgpT"
      },
      "source": [
        "###Q3. 12:53:15"
      ]
    },
    {
      "cell_type": "code",
      "metadata": {
        "id": "fwlLCYwrsrS3",
        "outputId": "084c437c-59b1-4074-de79-795cc11dbe21",
        "colab": {
          "base_uri": "https://localhost:8080/"
        }
      },
      "source": [
        "Q3 ='12:53:15'\r\n",
        "Q3.split(':') \r\n",
        "list_Q3=[12,53,15]\r\n",
        "A3=list_Q3[0]*3600\r\n",
        "B3=list_Q3[1]*60\r\n",
        "C3=list_Q3[2]*1\r\n",
        "Ans_Q3 = A3+B3+C3\r\n",
        "print(f'12:53:15 คำนวนเวลาเป็นวินาทีได้เท่ากับ {Ans_Q3} วินาที')"
      ],
      "execution_count": 18,
      "outputs": [
        {
          "output_type": "stream",
          "text": [
            "12:53:15 คำนวนเวลาเป็นวินาทีได้เท่ากับ 46395 วินาที\n"
          ],
          "name": "stdout"
        }
      ]
    },
    {
      "cell_type": "markdown",
      "metadata": {
        "id": "FN90RNDmss5T"
      },
      "source": [
        "###Q4. 00:59:25"
      ]
    },
    {
      "cell_type": "code",
      "metadata": {
        "id": "iaFkY3i9sxpp",
        "outputId": "74b74b51-8ed9-4fcc-8bea-f3ecd4cc3d80",
        "colab": {
          "base_uri": "https://localhost:8080/"
        }
      },
      "source": [
        "Q4 ='00:59:25'\r\n",
        "Q4.split(':') \r\n",
        "list_Q4=[00,59,25]\r\n",
        "A4=list_Q4[0]*3600\r\n",
        "B4=list_Q4[1]*60\r\n",
        "C4=list_Q4[2]*1\r\n",
        "Ans_Q4 = A4+B4+C4\r\n",
        "print(f'00:59:25 คำนวนเวลาเป็นวินาทีได้เท่ากับ {Ans_Q4} วินาที')"
      ],
      "execution_count": 19,
      "outputs": [
        {
          "output_type": "stream",
          "text": [
            "00:59:25 คำนวนเวลาเป็นวินาทีได้เท่ากับ 3565 วินาที\n"
          ],
          "name": "stdout"
        }
      ]
    },
    {
      "cell_type": "markdown",
      "metadata": {
        "id": "QXH015iMszvS"
      },
      "source": [
        "###Q5. 11:11:11"
      ]
    },
    {
      "cell_type": "code",
      "metadata": {
        "id": "zwo27S2Ps3jG",
        "outputId": "8b9fa17d-c891-4557-c75b-411df1c35f92",
        "colab": {
          "base_uri": "https://localhost:8080/"
        }
      },
      "source": [
        "Q5 ='11:11:11'\r\n",
        "Q5.split(':') \r\n",
        "list_Q5=[11,11,11]\r\n",
        "A5=list_Q5[0]*3600\r\n",
        "B5=list_Q5[1]*60\r\n",
        "C5=list_Q5[2]*1\r\n",
        "Ans_Q5 = A5+B5+C5\r\n",
        "print(f'11:11:11 คำนวนเวลาเป็นวินาทีได้เท่ากับ {Ans_Q5} วินาที')"
      ],
      "execution_count": 20,
      "outputs": [
        {
          "output_type": "stream",
          "text": [
            "11:11:11 คำนวนเวลาเป็นวินาทีได้เท่ากับ 40271 วินาที\n"
          ],
          "name": "stdout"
        }
      ]
    },
    {
      "cell_type": "markdown",
      "metadata": {
        "id": "1Djdx2d-s4Zz"
      },
      "source": [
        "###Q6. 16:06:09"
      ]
    },
    {
      "cell_type": "code",
      "metadata": {
        "id": "isreSoW8s8WE",
        "outputId": "3e7e9eaa-6b83-495d-af3f-d345011ceef9",
        "colab": {
          "base_uri": "https://localhost:8080/"
        }
      },
      "source": [
        "Q6 ='16:06:09'\r\n",
        "Q6.split(':') \r\n",
        "list_Q6=[16,6,9]\r\n",
        "A6=list_Q6[0]*3600\r\n",
        "B6=list_Q6[1]*60\r\n",
        "C6=list_Q6[2]*1\r\n",
        "Ans_Q6 = A6+B6+C6\r\n",
        "print(f'16:06:09 คำนวนเวลาเป็นวินาทีได้เท่ากับ {Ans_Q6} วินาที')"
      ],
      "execution_count": 23,
      "outputs": [
        {
          "output_type": "stream",
          "text": [
            "16:06:09 คำนวนเวลาเป็นวินาทีได้เท่ากับ 57969 วินาที\n"
          ],
          "name": "stdout"
        }
      ]
    },
    {
      "cell_type": "markdown",
      "metadata": {
        "id": "Bb-5HfBss9OD"
      },
      "source": [
        "###Q7. 21:12:30"
      ]
    },
    {
      "cell_type": "code",
      "metadata": {
        "id": "OXRWiJietDpS",
        "outputId": "33b19718-1cd3-4fd6-b7bb-ac94f0acd8a8",
        "colab": {
          "base_uri": "https://localhost:8080/"
        }
      },
      "source": [
        "Q7 ='21:12:30'\r\n",
        "Q7.split(':') \r\n",
        "list_Q7=[21,12,30]\r\n",
        "A7=list_Q7[0]*3600\r\n",
        "B7=list_Q7[1]*60\r\n",
        "C7=list_Q7[2]*1\r\n",
        "Ans_Q7 = A7+B7+C7\r\n",
        "print(f'21:12:30 คำนวนเวลาเป็นวินาทีได้เท่ากับ {Ans_Q7} วินาที')"
      ],
      "execution_count": 24,
      "outputs": [
        {
          "output_type": "stream",
          "text": [
            "21:12:30 คำนวนเวลาเป็นวินาทีได้เท่ากับ 76350 วินาที\n"
          ],
          "name": "stdout"
        }
      ]
    },
    {
      "cell_type": "markdown",
      "metadata": {
        "id": "CrksgphWtJOB"
      },
      "source": [
        "###Q8. 10:06:15"
      ]
    },
    {
      "cell_type": "code",
      "metadata": {
        "id": "ZHetoygQtOc1",
        "outputId": "579ffbe2-7b2c-4b37-c049-9638d41d4abc",
        "colab": {
          "base_uri": "https://localhost:8080/"
        }
      },
      "source": [
        "Q8 ='10:06:15'\r\n",
        "Q8.split(':') \r\n",
        "list_Q8=[10,6,15]\r\n",
        "A8=list_Q8[0]*3600\r\n",
        "B8=list_Q8[1]*60\r\n",
        "C8=list_Q8[2]*1\r\n",
        "Ans_Q8 = A8+B8+C8\r\n",
        "print(f'10:06:15 คำนวนเวลาเป็นวินาทีได้เท่ากับ {Ans_Q8} วินาที')"
      ],
      "execution_count": 26,
      "outputs": [
        {
          "output_type": "stream",
          "text": [
            "10:06:15 คำนวนเวลาเป็นวินาทีได้เท่ากับ 36375 วินาที\n"
          ],
          "name": "stdout"
        }
      ]
    }
  ]
}