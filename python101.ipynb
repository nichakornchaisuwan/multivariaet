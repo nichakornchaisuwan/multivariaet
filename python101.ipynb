{
  "nbformat": 4,
  "nbformat_minor": 0,
  "metadata": {
    "colab": {
      "name": "python101.ipynb",
      "provenance": [],
      "authorship_tag": "ABX9TyOXl66ddUh9dBkhVbcbEWHW",
      "include_colab_link": true
    },
    "kernelspec": {
      "name": "python3",
      "display_name": "Python 3"
    }
  },
  "cells": [
    {
      "cell_type": "markdown",
      "metadata": {
        "id": "view-in-github",
        "colab_type": "text"
      },
      "source": [
        "<a href=\"https://colab.research.google.com/github/nichakornchaisuwan/multivariaet/blob/main/python101.ipynb\" target=\"_parent\"><img src=\"https://colab.research.google.com/assets/colab-badge.svg\" alt=\"Open In Colab\"/></a>"
      ]
    },
    {
      "cell_type": "markdown",
      "metadata": {
        "id": "1hoa2OcrLj_J"
      },
      "source": [
        "ตัวแปร Variabie เป็นตัวชี้ว่า ตัวนั้นมีค่าเท่าไหร่"
      ]
    },
    {
      "cell_type": "markdown",
      "metadata": {
        "id": "rNR8f-lsMGAB"
      },
      "source": [
        "หลักการตั้งชื่อตัวแปรเริ่มต้น\r\n",
        "\r\n",
        "  1.ตั้งให้สื่อ\r\n",
        "\r\n",
        "  2.ภาษาอังกฤษ\r\n",
        "\r\n",
        "  3.ใช้ตัวเลขได้ แต่ห้ามขึ้นต้นด้วยตัวเลข\r\n",
        "\r\n",
        "  4.ห้ามเว้นวรรค\r\n",
        "  \r\n",
        "  5.ตัวเล็กกับตัวใหญ่ไม่เหมือนกัน\r\n",
        "  \r\n",
        "  6.ใน Code # hashtag หรือ sharp คือ comment (เราสามารถพิมพ์คำอธิบายไว้หลัง # ได้ โปรแกรมจะไม่อ่าน Outputที่อยู่หลัง#)\r\n",
        "\r\n",
        "  # มี Output 2 mode คือ แสดงออกหน้าจอ และ เข้าไปเก็บในตัวแปร"
      ]
    },
    {
      "cell_type": "code",
      "metadata": {
        "colab": {
          "base_uri": "https://localhost:8080/"
        },
        "id": "Fu2673yCMvRO",
        "outputId": "b7b9791a-3f31-4718-e60c-11d667ee60b0"
      },
      "source": [
        "3.14159 # อันนี้คือ Output ที่ออกหน้าจอ"
      ],
      "execution_count": 1,
      "outputs": [
        {
          "output_type": "execute_result",
          "data": {
            "text/plain": [
              "3.14159"
            ]
          },
          "metadata": {
            "tags": []
          },
          "execution_count": 1
        }
      ]
    },
    {
      "cell_type": "code",
      "metadata": {
        "id": "jPtU7xSjNYke"
      },
      "source": [
        "pi = 3.14159 # อันนี้คือ Output ที่เข้าไปเก็บในตัวแปร"
      ],
      "execution_count": 3,
      "outputs": []
    },
    {
      "cell_type": "code",
      "metadata": {
        "colab": {
          "base_uri": "https://localhost:8080/"
        },
        "id": "ATesll3tNh9p",
        "outputId": "4b8d2dd1-b63c-4232-cd1f-4eb6e97b91aa"
      },
      "source": [
        "pi"
      ],
      "execution_count": 4,
      "outputs": [
        {
          "output_type": "execute_result",
          "data": {
            "text/plain": [
              "3.14159"
            ]
          },
          "metadata": {
            "tags": []
          },
          "execution_count": 4
        }
      ]
    },
    {
      "cell_type": "code",
      "metadata": {
        "colab": {
          "base_uri": "https://localhost:8080/"
        },
        "id": "xmy1z241NnvM",
        "outputId": "b93c82af-7e49-4d92-a5d4-176270a6d3ea"
      },
      "source": [
        "aa = 12345\r\n",
        "print (aa)"
      ],
      "execution_count": 27,
      "outputs": [
        {
          "output_type": "stream",
          "text": [
            "12345\n"
          ],
          "name": "stdout"
        }
      ]
    },
    {
      "cell_type": "markdown",
      "metadata": {
        "id": "WlcjvrcdOYi0"
      },
      "source": [
        "# **ชนิดของตัวแปรที่เห็นบ่อย 3 ชนิด**"
      ]
    },
    {
      "cell_type": "markdown",
      "metadata": {
        "id": "IJSMwLgcOkM4"
      },
      "source": [
        "**จำนวนเต็ม (Integer,int)**"
      ]
    },
    {
      "cell_type": "code",
      "metadata": {
        "colab": {
          "base_uri": "https://localhost:8080/"
        },
        "id": "dn70E8bgOjCG",
        "outputId": "6f948b45-8e58-4eaa-bc16-f9f604da4ae3"
      },
      "source": [
        "a = 259\r\n",
        "print(a)"
      ],
      "execution_count": 10,
      "outputs": [
        {
          "output_type": "stream",
          "text": [
            "259\n"
          ],
          "name": "stdout"
        }
      ]
    },
    {
      "cell_type": "markdown",
      "metadata": {
        "id": "99T7ckNDO8aa"
      },
      "source": [
        "**จำนวนจริง (float)**"
      ]
    },
    {
      "cell_type": "code",
      "metadata": {
        "colab": {
          "base_uri": "https://localhost:8080/"
        },
        "id": "Qu8OmMunPCd_",
        "outputId": "8a9aa289-792a-4da9-d89d-8fa6933e0144"
      },
      "source": [
        "b = 159.\r\n",
        "print (b)"
      ],
      "execution_count": 10,
      "outputs": [
        {
          "output_type": "stream",
          "text": [
            "159.0\n"
          ],
          "name": "stdout"
        }
      ]
    },
    {
      "cell_type": "markdown",
      "metadata": {
        "id": "3UjrIIicPQWs"
      },
      "source": [
        "**ตัวอักษร,ข้อความ (character และ text,string)**"
      ]
    },
    {
      "cell_type": "code",
      "metadata": {
        "colab": {
          "base_uri": "https://localhost:8080/"
        },
        "id": "c_JJ4brHPWpv",
        "outputId": "3a445a53-7482-4d58-a3bd-f100449cd64e"
      },
      "source": [
        "c = '1234'       # ใช้ single qoute ('') หรือ double quote (\"\")ล้อมรอบตัวหนังสือเพื่อระบุว่าเป็น character-string\r\n",
        "print(c)"
      ],
      "execution_count": 15,
      "outputs": [
        {
          "output_type": "stream",
          "text": [
            "1234\n"
          ],
          "name": "stdout"
        }
      ]
    },
    {
      "cell_type": "code",
      "metadata": {
        "id": "8g7A0Ijs5b_M",
        "outputId": "9bf10283-7f98-4729-ef1f-ea62b81fbf1e",
        "colab": {
          "base_uri": "https://localhost:8080/"
        }
      },
      "source": [
        "c = \"1234\"\r\n",
        "print(c)"
      ],
      "execution_count": 16,
      "outputs": [
        {
          "output_type": "stream",
          "text": [
            "1234\n"
          ],
          "name": "stdout"
        }
      ]
    },
    {
      "cell_type": "code",
      "metadata": {
        "id": "kTo5t11059W9",
        "outputId": "e05e245a-ca84-4178-8194-3d43e6fb9eaa",
        "colab": {
          "base_uri": "https://localhost:8080/"
        }
      },
      "source": [
        "a+b        #float + int = float"
      ],
      "execution_count": 17,
      "outputs": [
        {
          "output_type": "execute_result",
          "data": {
            "text/plain": [
              "418.0"
            ]
          },
          "metadata": {
            "tags": []
          },
          "execution_count": 17
        }
      ]
    },
    {
      "cell_type": "code",
      "metadata": {
        "colab": {
          "base_uri": "https://localhost:8080/",
          "height": 183
        },
        "id": "D1c54on6PuBO",
        "outputId": "aeead541-d1e8-41f6-f6da-b17a008839b5"
      },
      "source": [
        "b + c # เวลาอ่านค่า Error ให้อ่านที่บรรทัดสุดท้าย \r\n",
        "      # ในข้อนี้หมายความว่า ไม่สามารถเอา float บวกกับ string ได้ เนื่องจากตัวแปรคนละชนิดกัน"
      ],
      "execution_count": 19,
      "outputs": [
        {
          "output_type": "error",
          "ename": "TypeError",
          "evalue": "ignored",
          "traceback": [
            "\u001b[0;31m---------------------------------------------------------------------------\u001b[0m",
            "\u001b[0;31mTypeError\u001b[0m                                 Traceback (most recent call last)",
            "\u001b[0;32m<ipython-input-19-36a6963354eb>\u001b[0m in \u001b[0;36m<module>\u001b[0;34m()\u001b[0m\n\u001b[0;32m----> 1\u001b[0;31m \u001b[0mb\u001b[0m \u001b[0;34m+\u001b[0m \u001b[0mc\u001b[0m \u001b[0;31m#เวลาอ่านค่า Error ให้อ่านที่บรรทัดสุดท้าย\u001b[0m\u001b[0;34m\u001b[0m\u001b[0;34m\u001b[0m\u001b[0m\n\u001b[0m\u001b[1;32m      2\u001b[0m       \u001b[0;31m# ในข้อนี้หมายความว่า ไม่สามารถเอา float บวกกับ string ได้ เนื่องจากตัวแปรคนละชนิดกัน\u001b[0m\u001b[0;34m\u001b[0m\u001b[0;34m\u001b[0m\u001b[0;34m\u001b[0m\u001b[0m\n",
            "\u001b[0;31mTypeError\u001b[0m: unsupported operand type(s) for +: 'float' and 'str'"
          ]
        }
      ]
    },
    {
      "cell_type": "code",
      "metadata": {
        "colab": {
          "base_uri": "https://localhost:8080/"
        },
        "id": "n30o4C1jQSf3",
        "outputId": "d3a8e237-f7f9-4660-b502-e8a4d2ad21ee"
      },
      "source": [
        "d = 'สวัสดี'\r\n",
        "print(d)"
      ],
      "execution_count": 20,
      "outputs": [
        {
          "output_type": "stream",
          "text": [
            "สวัสดี\n"
          ],
          "name": "stdout"
        }
      ]
    },
    {
      "cell_type": "markdown",
      "metadata": {
        "id": "tjVh29d_Q9K4"
      },
      "source": [
        "#**การเปลี่ยนชนิดของตัวแปร variable casting**"
      ]
    },
    {
      "cell_type": "code",
      "metadata": {
        "colab": {
          "base_uri": "https://localhost:8080/",
          "height": 166
        },
        "id": "akq5oMXSRGra",
        "outputId": "9cc68006-ffa8-4751-940f-c729e107ce40"
      },
      "source": [
        "a + c # เกิด Error เนื่องจากตัวแปรคนละชนิด (1)"
      ],
      "execution_count": 22,
      "outputs": [
        {
          "output_type": "error",
          "ename": "TypeError",
          "evalue": "ignored",
          "traceback": [
            "\u001b[0;31m---------------------------------------------------------------------------\u001b[0m",
            "\u001b[0;31mTypeError\u001b[0m                                 Traceback (most recent call last)",
            "\u001b[0;32m<ipython-input-22-22d49d7b8966>\u001b[0m in \u001b[0;36m<module>\u001b[0;34m()\u001b[0m\n\u001b[0;32m----> 1\u001b[0;31m \u001b[0ma\u001b[0m \u001b[0;34m+\u001b[0m \u001b[0mc\u001b[0m \u001b[0;31m# เกิด Error เนื่องจากตัวแปรคนละชนิด\u001b[0m\u001b[0;34m\u001b[0m\u001b[0;34m\u001b[0m\u001b[0m\n\u001b[0m",
            "\u001b[0;31mTypeError\u001b[0m: unsupported operand type(s) for +: 'int' and 'str'"
          ]
        }
      ]
    },
    {
      "cell_type": "code",
      "metadata": {
        "id": "Z2KJRKh29ndc",
        "outputId": "eee800c8-e00d-43e3-a51d-02938eebd751",
        "colab": {
          "base_uri": "https://localhost:8080/",
          "height": 166
        }
      },
      "source": [
        "a + int(C) # ที่เกิด Error เนื่องจาก ไม่มีตัวแปร C (ตัว C ใหญ่)"
      ],
      "execution_count": 23,
      "outputs": [
        {
          "output_type": "error",
          "ename": "NameError",
          "evalue": "ignored",
          "traceback": [
            "\u001b[0;31m---------------------------------------------------------------------------\u001b[0m",
            "\u001b[0;31mNameError\u001b[0m                                 Traceback (most recent call last)",
            "\u001b[0;32m<ipython-input-23-a6614ddfd004>\u001b[0m in \u001b[0;36m<module>\u001b[0;34m()\u001b[0m\n\u001b[0;32m----> 1\u001b[0;31m \u001b[0ma\u001b[0m \u001b[0;34m+\u001b[0m \u001b[0mint\u001b[0m\u001b[0;34m(\u001b[0m\u001b[0mC\u001b[0m\u001b[0;34m)\u001b[0m\u001b[0;34m\u001b[0m\u001b[0;34m\u001b[0m\u001b[0m\n\u001b[0m",
            "\u001b[0;31mNameError\u001b[0m: name 'C' is not defined"
          ]
        }
      ]
    },
    {
      "cell_type": "code",
      "metadata": {
        "id": "GOYaUXlI-Hgr",
        "outputId": "d5e82a4e-33c9-499b-cbab-2f26ccf6e920",
        "colab": {
          "base_uri": "https://localhost:8080/"
        }
      },
      "source": [
        "a + int(c) #การเติม int หน้า c คือการเปลี่ยชนิดของตัวแปรจากเดิม คือ จาก str ไปเป็น int"
      ],
      "execution_count": 29,
      "outputs": [
        {
          "output_type": "execute_result",
          "data": {
            "text/plain": [
              "1493"
            ]
          },
          "metadata": {
            "tags": []
          },
          "execution_count": 29
        }
      ]
    },
    {
      "cell_type": "code",
      "metadata": {
        "id": "XaMUoNqN_TkX",
        "outputId": "4010e54f-cded-443b-c9f8-c76df9ba9e27",
        "colab": {
          "base_uri": "https://localhost:8080/"
        }
      },
      "source": [
        "a + float(c) #การเติม float หน้า c คือการเปลี่ยชนิดของตัวแปรจากเดิม คือ จาก str ไปเป็น float"
      ],
      "execution_count": 30,
      "outputs": [
        {
          "output_type": "execute_result",
          "data": {
            "text/plain": [
              "1493.0"
            ]
          },
          "metadata": {
            "tags": []
          },
          "execution_count": 30
        }
      ]
    },
    {
      "cell_type": "code",
      "metadata": {
        "id": "RqgckTsH_aBh",
        "outputId": "f2a8ef35-fa87-4602-dc8e-6efe532dd9bc",
        "colab": {
          "base_uri": "https://localhost:8080/",
          "height": 35
        }
      },
      "source": [
        "str(a) # การใส่ str ข้างงหน้า a คือการให้โปรแกรมอ่านค่า a ที่เป็น int ออกมาเป็นข้อความ (string)"
      ],
      "execution_count": 31,
      "outputs": [
        {
          "output_type": "execute_result",
          "data": {
            "application/vnd.google.colaboratory.intrinsic+json": {
              "type": "string"
            },
            "text/plain": [
              "'259'"
            ]
          },
          "metadata": {
            "tags": []
          },
          "execution_count": 31
        }
      ]
    },
    {
      "cell_type": "markdown",
      "metadata": {
        "id": "XADqe0cDAT8z"
      },
      "source": [
        "# **การดำเนินการ Operation (Operators +,-,*,/,% )** "
      ]
    },
    {
      "cell_type": "code",
      "metadata": {
        "id": "pAEYW4PlBAs6",
        "outputId": "f66b4520-7f46-4b76-cf50-52e07042b735",
        "colab": {
          "base_uri": "https://localhost:8080/"
        }
      },
      "source": [
        "a + b"
      ],
      "execution_count": 32,
      "outputs": [
        {
          "output_type": "execute_result",
          "data": {
            "text/plain": [
              "418.0"
            ]
          },
          "metadata": {
            "tags": []
          },
          "execution_count": 32
        }
      ]
    },
    {
      "cell_type": "code",
      "metadata": {
        "id": "fNbJcJV6BNqu",
        "outputId": "e39a9594-d62a-4860-c795-8cbfbcbe0d02",
        "colab": {
          "base_uri": "https://localhost:8080/"
        }
      },
      "source": [
        "a - b"
      ],
      "execution_count": 33,
      "outputs": [
        {
          "output_type": "execute_result",
          "data": {
            "text/plain": [
              "100.0"
            ]
          },
          "metadata": {
            "tags": []
          },
          "execution_count": 33
        }
      ]
    },
    {
      "cell_type": "code",
      "metadata": {
        "id": "UOCb4M5EBRQE",
        "outputId": "13812d83-72be-4f0d-f827-48275a1bd276",
        "colab": {
          "base_uri": "https://localhost:8080/"
        }
      },
      "source": [
        "ab = a*b\r\n",
        "print(ab)"
      ],
      "execution_count": 34,
      "outputs": [
        {
          "output_type": "stream",
          "text": [
            "41181.0\n"
          ],
          "name": "stdout"
        }
      ]
    },
    {
      "cell_type": "code",
      "metadata": {
        "id": "dHSCu5h6Bax1",
        "outputId": "7f4dc038-ddad-46bd-a83c-6a585db947bd",
        "colab": {
          "base_uri": "https://localhost:8080/"
        }
      },
      "source": [
        "ab + int(c)"
      ],
      "execution_count": 35,
      "outputs": [
        {
          "output_type": "execute_result",
          "data": {
            "text/plain": [
              "42415.0"
            ]
          },
          "metadata": {
            "tags": []
          },
          "execution_count": 35
        }
      ]
    },
    {
      "cell_type": "markdown",
      "metadata": {
        "id": "ROXP9PLSBrLJ"
      },
      "source": [
        "% คือ modulo หมายถึงการหารเอาเศษ"
      ]
    },
    {
      "cell_type": "code",
      "metadata": {
        "id": "Ui_mkpQOBoHs",
        "outputId": "7fea1c76-dccb-4aa4-97ac-72cd9b71cd3c",
        "colab": {
          "base_uri": "https://localhost:8080/"
        }
      },
      "source": [
        "6%3 "
      ],
      "execution_count": 43,
      "outputs": [
        {
          "output_type": "execute_result",
          "data": {
            "text/plain": [
              "0"
            ]
          },
          "metadata": {
            "tags": []
          },
          "execution_count": 43
        }
      ]
    },
    {
      "cell_type": "code",
      "metadata": {
        "id": "9mt_1s52B7B5",
        "outputId": "25eaf4bc-84d7-4e15-de0e-67870e0c4ad9",
        "colab": {
          "base_uri": "https://localhost:8080/"
        }
      },
      "source": [
        "5%3"
      ],
      "execution_count": 37,
      "outputs": [
        {
          "output_type": "execute_result",
          "data": {
            "text/plain": [
              "2"
            ]
          },
          "metadata": {
            "tags": []
          },
          "execution_count": 37
        }
      ]
    },
    {
      "cell_type": "markdown",
      "metadata": {
        "id": "P_A8L2g8DgZB"
      },
      "source": [
        "# **คำสั่ง print แบบพิเศษ (การ format string)**"
      ]
    },
    {
      "cell_type": "code",
      "metadata": {
        "id": "KyhXw7QlEGAP",
        "outputId": "c1745d2e-5fd7-4341-a6ee-2e4c8ca6f35d",
        "colab": {
          "base_uri": "https://localhost:8080/"
        }
      },
      "source": [
        "print('สวัสดีค่ะ') # สิ่งที่อยู่ในวงเล็บคือ สวัสดีค่ะ และเป็นข้อความ string"
      ],
      "execution_count": 1,
      "outputs": [
        {
          "output_type": "stream",
          "text": [
            "สวัสดีค่ะ\n"
          ],
          "name": "stdout"
        }
      ]
    },
    {
      "cell_type": "code",
      "metadata": {
        "id": "0cyNK61kAiB9",
        "outputId": "63e2be2b-2194-4daf-ba5b-14e3aaaa0faf",
        "colab": {
          "base_uri": "https://localhost:8080/"
        }
      },
      "source": [
        "print (f'% คือการหารเอาเศษ เช่น 7%3 = {7%3}')  # การเพิ่ม f หน้า string คือสามารถใส่ code ใน string ได้โดยใส่ {} รอบล้อมตัวที่ต้องการให้โปรแกรมแปรผล"
      ],
      "execution_count": 3,
      "outputs": [
        {
          "output_type": "stream",
          "text": [
            "% คือการหารเอาเศษ เช่น 7%3 = 1\n"
          ],
          "name": "stdout"
        }
      ]
    },
    {
      "cell_type": "code",
      "metadata": {
        "id": "tYlYWUpBCOVw",
        "outputId": "16cfc7cd-fd54-4294-ed20-ff8c9413f42b",
        "colab": {
          "base_uri": "https://localhost:8080/",
          "height": 131
        }
      },
      "source": [
        "print(f'% คือการหารเอาเศษ เช่น 7%3 = {7%3}\r\n",
        "      แต่\\n/ คือการหารปกติ เช่น 7/3 = {7/3}\r\n",
        "      และ\\n// คือการหารเอาส่วน เช่น 7//3 = {7//3}\r\n",
        "      หรือ\\nใช้ int() เพื่อหารเอาส่วน เช่น int(7/3)= {int(7/3)}')  # เกิด Error เนื่องจาก เมื่อเราตัด code แล้วโปรแกรมไม่สามารถรับรู้ได้ว่าเราตัด code  ทำให้โปรแกรมอ่านcodeเพียงบรรทัดแรก ทำให้เกิด Error (1)"
      ],
      "execution_count": 6,
      "outputs": [
        {
          "output_type": "error",
          "ename": "SyntaxError",
          "evalue": "ignored",
          "traceback": [
            "\u001b[0;36m  File \u001b[0;32m\"<ipython-input-6-7dcdc5aebd99>\"\u001b[0;36m, line \u001b[0;32m1\u001b[0m\n\u001b[0;31m    print(f'% คือการหารเอาเศษ เช่น 7%3 = {7%3}\u001b[0m\n\u001b[0m                                              ^\u001b[0m\n\u001b[0;31mSyntaxError\u001b[0m\u001b[0;31m:\u001b[0m EOL while scanning string literal\n"
          ]
        }
      ]
    },
    {
      "cell_type": "code",
      "metadata": {
        "id": "zodiCo8AFkyO",
        "outputId": "79dfc986-a817-49ac-dde4-921683371f51",
        "colab": {
          "base_uri": "https://localhost:8080/"
        }
      },
      "source": [
        "print(f'% คือการหารเอาเศษ เช่น 7%3 = {7%3}\\\r\n",
        "      แต่\\n/ คือการหารปกติ เช่น 7/3 = {7/3}\\\r\n",
        "      และ\\n// คือการหารเอาส่วน เช่น 7//3 = {7//3}\\\r\n",
        "      หรือ\\nใช้ int() เพื่อหารเอาส่วน เช่น int(7/3)= {int(7/3)}') # เมื่อเติม\\ท้ายcodeก่อนที่จะตัดcode ทำให้โปรแกรมรับรู้ว่าตัดcode แต่โปรแกรมจะไม่เห็น \\\r\n",
        "                                                           # \\n คือการขึ้นบรรทัดใหม่   (2)"
      ],
      "execution_count": 7,
      "outputs": [
        {
          "output_type": "stream",
          "text": [
            "% คือการหารเอาเศษ เช่น 7%3 = 1      แต่\n",
            "/ คือการหารปกติ เช่น 7/3 = 2.3333333333333335      และ\n",
            "// คือการหารเอาส่วน เช่น 7//3 = 2      หรือ\n",
            "ใช้ int() เพื่อหารเอาส่วน เช่น int(7/3)= 2\n"
          ],
          "name": "stdout"
        }
      ]
    },
    {
      "cell_type": "markdown",
      "metadata": {
        "id": "fp54qSB6HFx1"
      },
      "source": [
        "#**DATA STRUCTURE (โครงสร้างข้อมูล)**"
      ]
    },
    {
      "cell_type": "code",
      "metadata": {
        "id": "_HBqKgCwHTca",
        "outputId": "f4ab66d6-80b6-43dc-b299-66716f605090",
        "colab": {
          "base_uri": "https://localhost:8080/"
        }
      },
      "source": [
        "[111,'t','ก',a]"
      ],
      "execution_count": 12,
      "outputs": [
        {
          "output_type": "execute_result",
          "data": {
            "text/plain": [
              "[111, 't', 'ก', 259]"
            ]
          },
          "metadata": {
            "tags": []
          },
          "execution_count": 12
        }
      ]
    },
    {
      "cell_type": "markdown",
      "metadata": {
        "id": "rv8gH6mTImL1"
      },
      "source": [
        "**List คือการเอาข้อมูลหลายๆตัวมาเรียงต่อกัน**\r\n",
        "\r\n",
        "######**list สามารถสร้างได้ 2 แบบ ดังนี้**\r\n",
        "\r\n",
        "**แบบที่ 1 square brackets**"
      ]
    },
    {
      "cell_type": "code",
      "metadata": {
        "id": "UmtMFnwMIRbL",
        "outputId": "44161b30-359b-478a-8aa4-95a51be59097",
        "colab": {
          "base_uri": "https://localhost:8080/"
        }
      },
      "source": [
        "list_aaa =[]\r\n",
        "print(list_aaa)"
      ],
      "execution_count": 13,
      "outputs": [
        {
          "output_type": "stream",
          "text": [
            "[]\n"
          ],
          "name": "stdout"
        }
      ]
    },
    {
      "cell_type": "code",
      "metadata": {
        "id": "fLh8BvBiKZ2u",
        "outputId": "72a8c637-3646-4745-dc98-0b481c152e51",
        "colab": {
          "base_uri": "https://localhost:8080/"
        }
      },
      "source": [
        "list_bbb = [111,'t','ก',a]\r\n",
        "print(list_bbb)"
      ],
      "execution_count": 14,
      "outputs": [
        {
          "output_type": "stream",
          "text": [
            "[111, 't', 'ก', 259]\n"
          ],
          "name": "stdout"
        }
      ]
    },
    {
      "cell_type": "markdown",
      "metadata": {
        "id": "XFlQDapQKqKJ"
      },
      "source": [
        "ลำดับที่อยู่ใน list มีความสำคัญ เริ่มจาก 0,1,2,3,...."
      ]
    },
    {
      "cell_type": "code",
      "metadata": {
        "id": "mEcPOF7EK_EI",
        "outputId": "25c170cc-76b3-433b-acb1-98b3469daf6f",
        "colab": {
          "base_uri": "https://localhost:8080/",
          "height": 35
        }
      },
      "source": [
        "list_bbb[2]"
      ],
      "execution_count": 15,
      "outputs": [
        {
          "output_type": "execute_result",
          "data": {
            "application/vnd.google.colaboratory.intrinsic+json": {
              "type": "string"
            },
            "text/plain": [
              "'ก'"
            ]
          },
          "metadata": {
            "tags": []
          },
          "execution_count": 15
        }
      ]
    },
    {
      "cell_type": "markdown",
      "metadata": {
        "id": "ja0zuG3VLPus"
      },
      "source": [
        "**แบบที่ 2**"
      ]
    },
    {
      "cell_type": "code",
      "metadata": {
        "id": "ph_68YoRLI4y",
        "outputId": "7f513f37-f87b-4d95-c630-d37abc4afcc4",
        "colab": {
          "base_uri": "https://localhost:8080/"
        }
      },
      "source": [
        "list_ccc = list()\r\n",
        "print(list_ccc)"
      ],
      "execution_count": 16,
      "outputs": [
        {
          "output_type": "stream",
          "text": [
            "[]\n"
          ],
          "name": "stdout"
        }
      ]
    },
    {
      "cell_type": "markdown",
      "metadata": {
        "id": "CkFxXeN6L8aD"
      },
      "source": [
        "######**append() เพิ่มสมาชิกใน list**"
      ]
    },
    {
      "cell_type": "code",
      "metadata": {
        "id": "09JwaLDAMKMQ",
        "outputId": "6e8be515-d27f-4d69-ebd8-2a39241a8d5a",
        "colab": {
          "base_uri": "https://localhost:8080/"
        }
      },
      "source": [
        "list_bbb.append('r')\r\n",
        "print(list_bbb)"
      ],
      "execution_count": 17,
      "outputs": [
        {
          "output_type": "stream",
          "text": [
            "[111, 't', 'ก', 259, 'r']\n"
          ],
          "name": "stdout"
        }
      ]
    },
    {
      "cell_type": "markdown",
      "metadata": {
        "id": "HmF3PtSXMle9"
      },
      "source": [
        "ตัวที่อยู่ในตัวแปร list เรียกว่า index ใช้สำหรับชี้ข้อมูลใน list  \r\n",
        "\r\n",
        "โดยการชี้สามารถชี้ได้ 2 แบบ คือ การชี้จากข้างหน้า และ การชี้จากข้างหลัง \r\n",
        "\r\n",
        "0 คือสมาชิกตัวแรก -1 คือสมาชิกตัวสุดท้าย"
      ]
    },
    {
      "cell_type": "code",
      "metadata": {
        "id": "6smIpGiwMgoJ",
        "outputId": "0e521493-fdbb-47c3-f38a-baedd7f2b8a3",
        "colab": {
          "base_uri": "https://localhost:8080/",
          "height": 35
        }
      },
      "source": [
        "list_bbb[-1]"
      ],
      "execution_count": 18,
      "outputs": [
        {
          "output_type": "execute_result",
          "data": {
            "application/vnd.google.colaboratory.intrinsic+json": {
              "type": "string"
            },
            "text/plain": [
              "'r'"
            ]
          },
          "metadata": {
            "tags": []
          },
          "execution_count": 18
        }
      ]
    },
    {
      "cell_type": "markdown",
      "metadata": {
        "id": "n-LaWBuaNjK_"
      },
      "source": [
        "######**String > list of characters**"
      ]
    },
    {
      "cell_type": "code",
      "metadata": {
        "id": "y8tn-ZGpNhbr",
        "outputId": "356efee3-8935-4d47-a76c-e416777ae62a",
        "colab": {
          "base_uri": "https://localhost:8080/"
        }
      },
      "source": [
        "t = 'python is easy'\r\n",
        "print(t)"
      ],
      "execution_count": 21,
      "outputs": [
        {
          "output_type": "stream",
          "text": [
            "python is easy\n"
          ],
          "name": "stdout"
        }
      ]
    },
    {
      "cell_type": "code",
      "metadata": {
        "id": "UKnJ4b3SN4Sj",
        "outputId": "3851c333-3c4a-4ad9-b77b-94ca26893326",
        "colab": {
          "base_uri": "https://localhost:8080/",
          "height": 35
        }
      },
      "source": [
        "t[1]"
      ],
      "execution_count": 22,
      "outputs": [
        {
          "output_type": "execute_result",
          "data": {
            "application/vnd.google.colaboratory.intrinsic+json": {
              "type": "string"
            },
            "text/plain": [
              "'y'"
            ]
          },
          "metadata": {
            "tags": []
          },
          "execution_count": 22
        }
      ]
    },
    {
      "cell_type": "code",
      "metadata": {
        "id": "2at48mFQOF6N",
        "outputId": "8352a270-0110-40cf-b1b9-1275808bece5",
        "colab": {
          "base_uri": "https://localhost:8080/",
          "height": 35
        }
      },
      "source": [
        "t[-3]"
      ],
      "execution_count": 23,
      "outputs": [
        {
          "output_type": "execute_result",
          "data": {
            "application/vnd.google.colaboratory.intrinsic+json": {
              "type": "string"
            },
            "text/plain": [
              "'a'"
            ]
          },
          "metadata": {
            "tags": []
          },
          "execution_count": 23
        }
      ]
    },
    {
      "cell_type": "code",
      "metadata": {
        "id": "ANUnxELJOIUV",
        "outputId": "d3930ea9-77fd-4d43-d3b2-6d20d4dd0917",
        "colab": {
          "base_uri": "https://localhost:8080/",
          "height": 35
        }
      },
      "source": [
        "t[6]"
      ],
      "execution_count": 24,
      "outputs": [
        {
          "output_type": "execute_result",
          "data": {
            "application/vnd.google.colaboratory.intrinsic+json": {
              "type": "string"
            },
            "text/plain": [
              "' '"
            ]
          },
          "metadata": {
            "tags": []
          },
          "execution_count": 24
        }
      ]
    },
    {
      "cell_type": "code",
      "metadata": {
        "id": "kSPwg-F7OKYJ",
        "outputId": "16cbefb3-bb18-4a85-91a4-62604797475a",
        "colab": {
          "base_uri": "https://localhost:8080/"
        }
      },
      "source": [
        "g = 'สถิติ'\r\n",
        "print(g)"
      ],
      "execution_count": 25,
      "outputs": [
        {
          "output_type": "stream",
          "text": [
            "สถิติ\n"
          ],
          "name": "stdout"
        }
      ]
    },
    {
      "cell_type": "code",
      "metadata": {
        "id": "W2feWsWDOXdq",
        "outputId": "cd47fe2b-e85f-40aa-aa79-87c9f707efe3",
        "colab": {
          "base_uri": "https://localhost:8080/",
          "height": 35
        }
      },
      "source": [
        "g[0]"
      ],
      "execution_count": 27,
      "outputs": [
        {
          "output_type": "execute_result",
          "data": {
            "application/vnd.google.colaboratory.intrinsic+json": {
              "type": "string"
            },
            "text/plain": [
              "'ส'"
            ]
          },
          "metadata": {
            "tags": []
          },
          "execution_count": 27
        }
      ]
    },
    {
      "cell_type": "code",
      "metadata": {
        "id": "Qn8Gcv4bOass",
        "outputId": "18522c49-6c30-4eeb-f475-4b8fd5de790e",
        "colab": {
          "base_uri": "https://localhost:8080/",
          "height": 35
        }
      },
      "source": [
        "g[1]"
      ],
      "execution_count": 28,
      "outputs": [
        {
          "output_type": "execute_result",
          "data": {
            "application/vnd.google.colaboratory.intrinsic+json": {
              "type": "string"
            },
            "text/plain": [
              "'ถ'"
            ]
          },
          "metadata": {
            "tags": []
          },
          "execution_count": 28
        }
      ]
    },
    {
      "cell_type": "code",
      "metadata": {
        "id": "cqtzCCCoOh2w",
        "outputId": "815d6b10-90e1-42fe-e49a-1a21d44b3a01",
        "colab": {
          "base_uri": "https://localhost:8080/",
          "height": 35
        }
      },
      "source": [
        "g[2]"
      ],
      "execution_count": 29,
      "outputs": [
        {
          "output_type": "execute_result",
          "data": {
            "application/vnd.google.colaboratory.intrinsic+json": {
              "type": "string"
            },
            "text/plain": [
              "'ิ'"
            ]
          },
          "metadata": {
            "tags": []
          },
          "execution_count": 29
        }
      ]
    },
    {
      "cell_type": "code",
      "metadata": {
        "id": "gl6PNOQkOktu",
        "outputId": "415596d9-3461-4661-d339-7d1c732e50cf",
        "colab": {
          "base_uri": "https://localhost:8080/",
          "height": 35
        }
      },
      "source": [
        "g[-1]"
      ],
      "execution_count": 32,
      "outputs": [
        {
          "output_type": "execute_result",
          "data": {
            "application/vnd.google.colaboratory.intrinsic+json": {
              "type": "string"
            },
            "text/plain": [
              "'ิ'"
            ]
          },
          "metadata": {
            "tags": []
          },
          "execution_count": 32
        }
      ]
    }
  ]
}