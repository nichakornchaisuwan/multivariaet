{
  "nbformat": 4,
  "nbformat_minor": 0,
  "metadata": {
    "colab": {
      "name": "python101.ipynb",
      "provenance": [],
      "authorship_tag": "ABX9TyOkUZA/um5BIhVf0Uf2xUqD",
      "include_colab_link": true
    },
    "kernelspec": {
      "name": "python3",
      "display_name": "Python 3"
    }
  },
  "cells": [
    {
      "cell_type": "markdown",
      "metadata": {
        "id": "view-in-github",
        "colab_type": "text"
      },
      "source": [
        "<a href=\"https://colab.research.google.com/github/nichakornchaisuwan/multivariaet/blob/main/python101.ipynb\" target=\"_parent\"><img src=\"https://colab.research.google.com/assets/colab-badge.svg\" alt=\"Open In Colab\"/></a>"
      ]
    },
    {
      "cell_type": "markdown",
      "metadata": {
        "id": "1hoa2OcrLj_J"
      },
      "source": [
        "ตัวแปร Variabie เป็นตัวชี้ว่า ตัวนั้นมีค่าเท่าไหร่"
      ]
    },
    {
      "cell_type": "markdown",
      "metadata": {
        "id": "rNR8f-lsMGAB"
      },
      "source": [
        "หลักการตั้งชื่อตัวแปรเริ่มต้น\r\n",
        "\r\n",
        "  1.ตั้งให้สื่อ\r\n",
        "\r\n",
        "  2.ภาษาอังกฤษ\r\n",
        "\r\n",
        "  3.ใช้ตัวเลขได้ แต่ห้ามขึ้นต้นด้วยตัวเลข\r\n",
        "\r\n",
        "  4.ห้ามเว้นวรรค\r\n",
        "  \r\n",
        "  5.ตัวเล็กกับตัวใหญ่ไม่เหมือนกัน\r\n",
        "  \r\n",
        "  6.ใน Code # hashtag หรือ sharp คือ comment (เราสามารถพิมพ์คำอธิบายไว้หลัง # ได้ โปรแกรมจะไม่อ่าน Outputที่อยู่หลัง#)\r\n",
        "\r\n",
        "  # มี Output 2 mode คือ แสดงออกหน้าจอ และ เข้าไปเก็บในตัวแปร"
      ]
    },
    {
      "cell_type": "code",
      "metadata": {
        "colab": {
          "base_uri": "https://localhost:8080/"
        },
        "id": "Fu2673yCMvRO",
        "outputId": "bc1c84f7-e20c-449d-d761-16739f7271c8"
      },
      "source": [
        "3.14159 # อันนี้คือ Output ที่ออกหน้าจอ"
      ],
      "execution_count": 14,
      "outputs": [
        {
          "output_type": "execute_result",
          "data": {
            "text/plain": [
              "3.14159"
            ]
          },
          "metadata": {
            "tags": []
          },
          "execution_count": 14
        }
      ]
    },
    {
      "cell_type": "code",
      "metadata": {
        "id": "jPtU7xSjNYke"
      },
      "source": [
        "pi = 3.14159 # อันนี้คือ Output ที่เข้าไปเก็บในตัวแปร"
      ],
      "execution_count": 15,
      "outputs": []
    },
    {
      "cell_type": "code",
      "metadata": {
        "colab": {
          "base_uri": "https://localhost:8080/"
        },
        "id": "ATesll3tNh9p",
        "outputId": "bdc55533-7b48-4382-eb6b-76bd2716dd55"
      },
      "source": [
        "pi"
      ],
      "execution_count": 16,
      "outputs": [
        {
          "output_type": "execute_result",
          "data": {
            "text/plain": [
              "3.14159"
            ]
          },
          "metadata": {
            "tags": []
          },
          "execution_count": 16
        }
      ]
    },
    {
      "cell_type": "code",
      "metadata": {
        "colab": {
          "base_uri": "https://localhost:8080/"
        },
        "id": "xmy1z241NnvM",
        "outputId": "65af58af-844d-492c-eda4-f3dca52db0cf"
      },
      "source": [
        "aa = 12345\r\n",
        "print (aa)"
      ],
      "execution_count": 17,
      "outputs": [
        {
          "output_type": "stream",
          "text": [
            "12345\n"
          ],
          "name": "stdout"
        }
      ]
    },
    {
      "cell_type": "markdown",
      "metadata": {
        "id": "WlcjvrcdOYi0"
      },
      "source": [
        "# **ชนิดของตัวแปรที่เห็นบ่อย 3 ชนิด**"
      ]
    },
    {
      "cell_type": "markdown",
      "metadata": {
        "id": "IJSMwLgcOkM4"
      },
      "source": [
        "**จำนวนเต็ม (Integer,int)**"
      ]
    },
    {
      "cell_type": "code",
      "metadata": {
        "colab": {
          "base_uri": "https://localhost:8080/"
        },
        "id": "dn70E8bgOjCG",
        "outputId": "73533723-5f19-4fa2-def5-3b0820d3aed8"
      },
      "source": [
        "a = 259\r\n",
        "print(a)"
      ],
      "execution_count": 18,
      "outputs": [
        {
          "output_type": "stream",
          "text": [
            "259\n"
          ],
          "name": "stdout"
        }
      ]
    },
    {
      "cell_type": "markdown",
      "metadata": {
        "id": "99T7ckNDO8aa"
      },
      "source": [
        "**จำนวนจริง (float)**"
      ]
    },
    {
      "cell_type": "code",
      "metadata": {
        "colab": {
          "base_uri": "https://localhost:8080/"
        },
        "id": "Qu8OmMunPCd_",
        "outputId": "5e37c5c0-26e2-4a67-9cc8-e36a01f6b825"
      },
      "source": [
        "b = 159.\r\n",
        "print (b)"
      ],
      "execution_count": 19,
      "outputs": [
        {
          "output_type": "stream",
          "text": [
            "159.0\n"
          ],
          "name": "stdout"
        }
      ]
    },
    {
      "cell_type": "markdown",
      "metadata": {
        "id": "3UjrIIicPQWs"
      },
      "source": [
        "**ตัวอักษร,ข้อความ (character และ text,string)**"
      ]
    },
    {
      "cell_type": "code",
      "metadata": {
        "colab": {
          "base_uri": "https://localhost:8080/"
        },
        "id": "c_JJ4brHPWpv",
        "outputId": "a67b1dd0-ff8d-448c-a918-8a19ec280de7"
      },
      "source": [
        "c = '1234'       # ใช้ single qoute ('') หรือ double quote (\"\")ล้อมรอบตัวหนังสือเพื่อระบุว่าเป็น character-string\r\n",
        "print(c)"
      ],
      "execution_count": 20,
      "outputs": [
        {
          "output_type": "stream",
          "text": [
            "1234\n"
          ],
          "name": "stdout"
        }
      ]
    },
    {
      "cell_type": "code",
      "metadata": {
        "id": "8g7A0Ijs5b_M",
        "colab": {
          "base_uri": "https://localhost:8080/"
        },
        "outputId": "f2130e58-813c-438b-ff4c-f75e475ba67e"
      },
      "source": [
        "c = \"1234\"\r\n",
        "print(c)"
      ],
      "execution_count": 21,
      "outputs": [
        {
          "output_type": "stream",
          "text": [
            "1234\n"
          ],
          "name": "stdout"
        }
      ]
    },
    {
      "cell_type": "code",
      "metadata": {
        "id": "kTo5t11059W9",
        "colab": {
          "base_uri": "https://localhost:8080/"
        },
        "outputId": "907c69f0-15bb-479c-fd97-670d70bd7d0a"
      },
      "source": [
        "a+b        #float + int = float"
      ],
      "execution_count": 22,
      "outputs": [
        {
          "output_type": "execute_result",
          "data": {
            "text/plain": [
              "418.0"
            ]
          },
          "metadata": {
            "tags": []
          },
          "execution_count": 22
        }
      ]
    },
    {
      "cell_type": "code",
      "metadata": {
        "colab": {
          "base_uri": "https://localhost:8080/",
          "height": 183
        },
        "id": "D1c54on6PuBO",
        "outputId": "cf56f06f-a856-4b90-a3c1-41193a84c4be"
      },
      "source": [
        "b + c # เวลาอ่านค่า Error ให้อ่านที่บรรทัดสุดท้าย \r\n",
        "      # ในข้อนี้หมายความว่า ไม่สามารถเอา float บวกกับ string ได้ เนื่องจากตัวแปรคนละชนิดกัน"
      ],
      "execution_count": 23,
      "outputs": [
        {
          "output_type": "error",
          "ename": "TypeError",
          "evalue": "ignored",
          "traceback": [
            "\u001b[0;31m---------------------------------------------------------------------------\u001b[0m",
            "\u001b[0;31mTypeError\u001b[0m                                 Traceback (most recent call last)",
            "\u001b[0;32m<ipython-input-23-fecf5a964882>\u001b[0m in \u001b[0;36m<module>\u001b[0;34m()\u001b[0m\n\u001b[0;32m----> 1\u001b[0;31m \u001b[0mb\u001b[0m \u001b[0;34m+\u001b[0m \u001b[0mc\u001b[0m \u001b[0;31m# เวลาอ่านค่า Error ให้อ่านที่บรรทัดสุดท้าย\u001b[0m\u001b[0;34m\u001b[0m\u001b[0;34m\u001b[0m\u001b[0m\n\u001b[0m\u001b[1;32m      2\u001b[0m       \u001b[0;31m# ในข้อนี้หมายความว่า ไม่สามารถเอา float บวกกับ string ได้ เนื่องจากตัวแปรคนละชนิดกัน\u001b[0m\u001b[0;34m\u001b[0m\u001b[0;34m\u001b[0m\u001b[0;34m\u001b[0m\u001b[0m\n",
            "\u001b[0;31mTypeError\u001b[0m: unsupported operand type(s) for +: 'float' and 'str'"
          ]
        }
      ]
    },
    {
      "cell_type": "code",
      "metadata": {
        "colab": {
          "base_uri": "https://localhost:8080/"
        },
        "id": "n30o4C1jQSf3",
        "outputId": "e30b85eb-d07b-4632-e210-32bb3c9bcfe5"
      },
      "source": [
        "d = 'สวัสดี'\r\n",
        "print(d)"
      ],
      "execution_count": 24,
      "outputs": [
        {
          "output_type": "stream",
          "text": [
            "สวัสดี\n"
          ],
          "name": "stdout"
        }
      ]
    },
    {
      "cell_type": "markdown",
      "metadata": {
        "id": "tjVh29d_Q9K4"
      },
      "source": [
        "#**การเปลี่ยนชนิดของตัวแปร variable casting**"
      ]
    },
    {
      "cell_type": "code",
      "metadata": {
        "colab": {
          "base_uri": "https://localhost:8080/",
          "height": 166
        },
        "id": "akq5oMXSRGra",
        "outputId": "9831e79a-a880-427f-8d30-81cb7340ab5a"
      },
      "source": [
        "a + c # เกิด Error เนื่องจากตัวแปรคนละชนิด (1)"
      ],
      "execution_count": 25,
      "outputs": [
        {
          "output_type": "error",
          "ename": "TypeError",
          "evalue": "ignored",
          "traceback": [
            "\u001b[0;31m---------------------------------------------------------------------------\u001b[0m",
            "\u001b[0;31mTypeError\u001b[0m                                 Traceback (most recent call last)",
            "\u001b[0;32m<ipython-input-25-4cc4efb161b0>\u001b[0m in \u001b[0;36m<module>\u001b[0;34m()\u001b[0m\n\u001b[0;32m----> 1\u001b[0;31m \u001b[0ma\u001b[0m \u001b[0;34m+\u001b[0m \u001b[0mc\u001b[0m \u001b[0;31m# เกิด Error เนื่องจากตัวแปรคนละชนิด (1)\u001b[0m\u001b[0;34m\u001b[0m\u001b[0;34m\u001b[0m\u001b[0m\n\u001b[0m",
            "\u001b[0;31mTypeError\u001b[0m: unsupported operand type(s) for +: 'int' and 'str'"
          ]
        }
      ]
    },
    {
      "cell_type": "code",
      "metadata": {
        "id": "Z2KJRKh29ndc",
        "colab": {
          "base_uri": "https://localhost:8080/",
          "height": 166
        },
        "outputId": "8adf6734-6c10-48a7-bb51-734feae2bfb7"
      },
      "source": [
        "a + int(C) # ที่เกิด Error เนื่องจาก ไม่มีตัวแปร C (ตัว C ใหญ่)"
      ],
      "execution_count": 26,
      "outputs": [
        {
          "output_type": "error",
          "ename": "NameError",
          "evalue": "ignored",
          "traceback": [
            "\u001b[0;31m---------------------------------------------------------------------------\u001b[0m",
            "\u001b[0;31mNameError\u001b[0m                                 Traceback (most recent call last)",
            "\u001b[0;32m<ipython-input-26-e67f15632816>\u001b[0m in \u001b[0;36m<module>\u001b[0;34m()\u001b[0m\n\u001b[0;32m----> 1\u001b[0;31m \u001b[0ma\u001b[0m \u001b[0;34m+\u001b[0m \u001b[0mint\u001b[0m\u001b[0;34m(\u001b[0m\u001b[0mC\u001b[0m\u001b[0;34m)\u001b[0m \u001b[0;31m# ที่เกิด Error เนื่องจาก ไม่มีตัวแปร C (ตัว C ใหญ่)\u001b[0m\u001b[0;34m\u001b[0m\u001b[0;34m\u001b[0m\u001b[0m\n\u001b[0m",
            "\u001b[0;31mNameError\u001b[0m: name 'C' is not defined"
          ]
        }
      ]
    },
    {
      "cell_type": "code",
      "metadata": {
        "id": "GOYaUXlI-Hgr",
        "colab": {
          "base_uri": "https://localhost:8080/"
        },
        "outputId": "c451f41f-3311-472e-bd6f-44b15b3e3e5e"
      },
      "source": [
        "a + int(c) #การเติม int หน้า c คือการเปลี่ยชนิดของตัวแปรจากเดิม คือ จาก str ไปเป็น int"
      ],
      "execution_count": 27,
      "outputs": [
        {
          "output_type": "execute_result",
          "data": {
            "text/plain": [
              "1493"
            ]
          },
          "metadata": {
            "tags": []
          },
          "execution_count": 27
        }
      ]
    },
    {
      "cell_type": "code",
      "metadata": {
        "id": "XaMUoNqN_TkX",
        "colab": {
          "base_uri": "https://localhost:8080/"
        },
        "outputId": "8ac9210a-0087-4d78-aa81-7f18e17df484"
      },
      "source": [
        "a + float(c) #การเติม float หน้า c คือการเปลี่ยชนิดของตัวแปรจากเดิม คือ จาก str ไปเป็น float"
      ],
      "execution_count": 28,
      "outputs": [
        {
          "output_type": "execute_result",
          "data": {
            "text/plain": [
              "1493.0"
            ]
          },
          "metadata": {
            "tags": []
          },
          "execution_count": 28
        }
      ]
    },
    {
      "cell_type": "code",
      "metadata": {
        "id": "RqgckTsH_aBh",
        "colab": {
          "base_uri": "https://localhost:8080/",
          "height": 35
        },
        "outputId": "5a70daaf-1a8e-4317-f844-6a2ed3f36376"
      },
      "source": [
        "str(a) # การใส่ str ข้างงหน้า a คือการให้โปรแกรมอ่านค่า a ที่เป็น int ออกมาเป็นข้อความ (string)"
      ],
      "execution_count": 29,
      "outputs": [
        {
          "output_type": "execute_result",
          "data": {
            "application/vnd.google.colaboratory.intrinsic+json": {
              "type": "string"
            },
            "text/plain": [
              "'259'"
            ]
          },
          "metadata": {
            "tags": []
          },
          "execution_count": 29
        }
      ]
    },
    {
      "cell_type": "markdown",
      "metadata": {
        "id": "XADqe0cDAT8z"
      },
      "source": [
        "# **การดำเนินการ Operation (Operators +,-,*,/,% )** "
      ]
    },
    {
      "cell_type": "code",
      "metadata": {
        "id": "pAEYW4PlBAs6",
        "colab": {
          "base_uri": "https://localhost:8080/"
        },
        "outputId": "a11325d2-1837-4efc-9ed4-9117fdeb0e66"
      },
      "source": [
        "a + b"
      ],
      "execution_count": 30,
      "outputs": [
        {
          "output_type": "execute_result",
          "data": {
            "text/plain": [
              "418.0"
            ]
          },
          "metadata": {
            "tags": []
          },
          "execution_count": 30
        }
      ]
    },
    {
      "cell_type": "code",
      "metadata": {
        "id": "fNbJcJV6BNqu",
        "colab": {
          "base_uri": "https://localhost:8080/"
        },
        "outputId": "f52d7d6b-954c-4ea4-9409-ff545ad4995e"
      },
      "source": [
        "a - b"
      ],
      "execution_count": 31,
      "outputs": [
        {
          "output_type": "execute_result",
          "data": {
            "text/plain": [
              "100.0"
            ]
          },
          "metadata": {
            "tags": []
          },
          "execution_count": 31
        }
      ]
    },
    {
      "cell_type": "code",
      "metadata": {
        "id": "UOCb4M5EBRQE",
        "colab": {
          "base_uri": "https://localhost:8080/"
        },
        "outputId": "380760da-a46d-471f-8802-66bb918fb5d4"
      },
      "source": [
        "ab = a*b\r\n",
        "print(ab)"
      ],
      "execution_count": 32,
      "outputs": [
        {
          "output_type": "stream",
          "text": [
            "41181.0\n"
          ],
          "name": "stdout"
        }
      ]
    },
    {
      "cell_type": "code",
      "metadata": {
        "id": "dHSCu5h6Bax1",
        "colab": {
          "base_uri": "https://localhost:8080/"
        },
        "outputId": "3651b8e1-56f4-444d-8813-ee2fb5d322bf"
      },
      "source": [
        "ab + int(c)"
      ],
      "execution_count": 33,
      "outputs": [
        {
          "output_type": "execute_result",
          "data": {
            "text/plain": [
              "42415.0"
            ]
          },
          "metadata": {
            "tags": []
          },
          "execution_count": 33
        }
      ]
    },
    {
      "cell_type": "markdown",
      "metadata": {
        "id": "ROXP9PLSBrLJ"
      },
      "source": [
        "% คือ modulo หมายถึงการหารเอาเศษ"
      ]
    },
    {
      "cell_type": "code",
      "metadata": {
        "id": "Ui_mkpQOBoHs",
        "colab": {
          "base_uri": "https://localhost:8080/"
        },
        "outputId": "65c62c12-6978-4d3e-bca6-5efffdcf21e3"
      },
      "source": [
        "6%3 "
      ],
      "execution_count": 34,
      "outputs": [
        {
          "output_type": "execute_result",
          "data": {
            "text/plain": [
              "0"
            ]
          },
          "metadata": {
            "tags": []
          },
          "execution_count": 34
        }
      ]
    },
    {
      "cell_type": "code",
      "metadata": {
        "id": "9mt_1s52B7B5",
        "colab": {
          "base_uri": "https://localhost:8080/"
        },
        "outputId": "d976b396-1c7f-419b-ce3e-1a509fcf3fe8"
      },
      "source": [
        "5%3"
      ],
      "execution_count": 35,
      "outputs": [
        {
          "output_type": "execute_result",
          "data": {
            "text/plain": [
              "2"
            ]
          },
          "metadata": {
            "tags": []
          },
          "execution_count": 35
        }
      ]
    },
    {
      "cell_type": "markdown",
      "metadata": {
        "id": "P_A8L2g8DgZB"
      },
      "source": [
        "# **คำสั่ง print แบบพิเศษ (การ format string)**"
      ]
    },
    {
      "cell_type": "code",
      "metadata": {
        "id": "KyhXw7QlEGAP",
        "colab": {
          "base_uri": "https://localhost:8080/"
        },
        "outputId": "b87db0bb-f57d-460f-eaf6-f5a47ebb5950"
      },
      "source": [
        "print('สวัสดีค่ะ') # สิ่งที่อยู่ในวงเล็บคือ สวัสดีค่ะ และเป็นข้อความ string"
      ],
      "execution_count": 36,
      "outputs": [
        {
          "output_type": "stream",
          "text": [
            "สวัสดีค่ะ\n"
          ],
          "name": "stdout"
        }
      ]
    },
    {
      "cell_type": "code",
      "metadata": {
        "id": "0cyNK61kAiB9",
        "colab": {
          "base_uri": "https://localhost:8080/"
        },
        "outputId": "209501c0-20f0-4b5f-ac67-b1fa8841265c"
      },
      "source": [
        "print (f'% คือการหารเอาเศษ เช่น 7%3 = {7%3}')  # การเพิ่ม f หน้า string คือสามารถใส่ code ใน string ได้โดยใส่ {} รอบล้อมตัวที่ต้องการให้โปรแกรมแปรผล"
      ],
      "execution_count": 37,
      "outputs": [
        {
          "output_type": "stream",
          "text": [
            "% คือการหารเอาเศษ เช่น 7%3 = 1\n"
          ],
          "name": "stdout"
        }
      ]
    },
    {
      "cell_type": "code",
      "metadata": {
        "id": "tYlYWUpBCOVw",
        "colab": {
          "base_uri": "https://localhost:8080/",
          "height": 131
        },
        "outputId": "fe490b5c-7b01-41ae-fc18-7318158b066a"
      },
      "source": [
        "print(f'% คือการหารเอาเศษ เช่น 7%3 = {7%3}\r\n",
        "      แต่\\n/ คือการหารปกติ เช่น 7/3 = {7/3}\r\n",
        "      และ\\n// คือการหารเอาส่วน เช่น 7//3 = {7//3}\r\n",
        "      หรือ\\nใช้ int() เพื่อหารเอาส่วน เช่น int(7/3)= {int(7/3)}')  # เกิด Error เนื่องจาก เมื่อเราตัด code แล้วโปรแกรมไม่สามารถรับรู้ได้ว่าเราตัด code  ทำให้โปรแกรมอ่านcodeเพียงบรรทัดแรก ทำให้เกิด Error (1)"
      ],
      "execution_count": 38,
      "outputs": [
        {
          "output_type": "error",
          "ename": "SyntaxError",
          "evalue": "ignored",
          "traceback": [
            "\u001b[0;36m  File \u001b[0;32m\"<ipython-input-38-7dcdc5aebd99>\"\u001b[0;36m, line \u001b[0;32m1\u001b[0m\n\u001b[0;31m    print(f'% คือการหารเอาเศษ เช่น 7%3 = {7%3}\u001b[0m\n\u001b[0m                                              ^\u001b[0m\n\u001b[0;31mSyntaxError\u001b[0m\u001b[0;31m:\u001b[0m EOL while scanning string literal\n"
          ]
        }
      ]
    },
    {
      "cell_type": "code",
      "metadata": {
        "id": "zodiCo8AFkyO",
        "colab": {
          "base_uri": "https://localhost:8080/"
        },
        "outputId": "36643796-a544-4dc5-d340-01712e9b09e5"
      },
      "source": [
        "print(f'% คือการหารเอาเศษ เช่น 7%3 = {7%3}\\\r\n",
        "      แต่\\n/ คือการหารปกติ เช่น 7/3 = {7/3}\\\r\n",
        "      และ\\n// คือการหารเอาส่วน เช่น 7//3 = {7//3}\\\r\n",
        "      หรือ\\nใช้ int() เพื่อหารเอาส่วน เช่น int(7/3)= {int(7/3)}') # เมื่อเติม\\ท้ายcodeก่อนที่จะตัดcode ทำให้โปรแกรมรับรู้ว่าตัดcode แต่โปรแกรมจะไม่เห็น \\\r\n",
        "                                                           # \\n คือการขึ้นบรรทัดใหม่   (2)"
      ],
      "execution_count": 39,
      "outputs": [
        {
          "output_type": "stream",
          "text": [
            "% คือการหารเอาเศษ เช่น 7%3 = 1      แต่\n",
            "/ คือการหารปกติ เช่น 7/3 = 2.3333333333333335      และ\n",
            "// คือการหารเอาส่วน เช่น 7//3 = 2      หรือ\n",
            "ใช้ int() เพื่อหารเอาส่วน เช่น int(7/3)= 2\n"
          ],
          "name": "stdout"
        }
      ]
    },
    {
      "cell_type": "markdown",
      "metadata": {
        "id": "fp54qSB6HFx1"
      },
      "source": [
        "#**DATA STRUCTURE (โครงสร้างข้อมูล)**"
      ]
    },
    {
      "cell_type": "code",
      "metadata": {
        "id": "_HBqKgCwHTca",
        "colab": {
          "base_uri": "https://localhost:8080/"
        },
        "outputId": "5699428e-d28c-49ae-b165-104d1c064715"
      },
      "source": [
        "[111,'t','ก',a]"
      ],
      "execution_count": 40,
      "outputs": [
        {
          "output_type": "execute_result",
          "data": {
            "text/plain": [
              "[111, 't', 'ก', 259]"
            ]
          },
          "metadata": {
            "tags": []
          },
          "execution_count": 40
        }
      ]
    },
    {
      "cell_type": "markdown",
      "metadata": {
        "id": "rv8gH6mTImL1"
      },
      "source": [
        "**List คือการเอาข้อมูลหลายๆตัวมาเรียงต่อกัน**\r\n",
        "\r\n",
        "######**list สามารถสร้างได้ 2 แบบ ดังนี้**\r\n",
        "\r\n",
        "**แบบที่ 1 square brackets**"
      ]
    },
    {
      "cell_type": "code",
      "metadata": {
        "id": "UmtMFnwMIRbL",
        "colab": {
          "base_uri": "https://localhost:8080/"
        },
        "outputId": "cfa8719f-247e-4c51-ad92-3a6b86a3f544"
      },
      "source": [
        "list_aaa =[]\r\n",
        "print(list_aaa)"
      ],
      "execution_count": 41,
      "outputs": [
        {
          "output_type": "stream",
          "text": [
            "[]\n"
          ],
          "name": "stdout"
        }
      ]
    },
    {
      "cell_type": "code",
      "metadata": {
        "id": "fLh8BvBiKZ2u",
        "colab": {
          "base_uri": "https://localhost:8080/"
        },
        "outputId": "ee9191d9-67ae-414a-b244-996befbbd86d"
      },
      "source": [
        "list_bbb = [111,'t','ก',a]\r\n",
        "print(list_bbb)"
      ],
      "execution_count": 55,
      "outputs": [
        {
          "output_type": "stream",
          "text": [
            "[111, 't', 'ก', 259]\n"
          ],
          "name": "stdout"
        }
      ]
    },
    {
      "cell_type": "markdown",
      "metadata": {
        "id": "XFlQDapQKqKJ"
      },
      "source": [
        "ลำดับที่อยู่ใน list มีความสำคัญ เริ่มจาก 0,1,2,3,...."
      ]
    },
    {
      "cell_type": "code",
      "metadata": {
        "id": "mEcPOF7EK_EI",
        "colab": {
          "base_uri": "https://localhost:8080/",
          "height": 35
        },
        "outputId": "9d596c2b-a1b8-4c04-e5b8-2b67fb0c29aa"
      },
      "source": [
        "list_bbb[2]"
      ],
      "execution_count": 43,
      "outputs": [
        {
          "output_type": "execute_result",
          "data": {
            "application/vnd.google.colaboratory.intrinsic+json": {
              "type": "string"
            },
            "text/plain": [
              "'ก'"
            ]
          },
          "metadata": {
            "tags": []
          },
          "execution_count": 43
        }
      ]
    },
    {
      "cell_type": "markdown",
      "metadata": {
        "id": "ja0zuG3VLPus"
      },
      "source": [
        "**แบบที่ 2**"
      ]
    },
    {
      "cell_type": "code",
      "metadata": {
        "id": "ph_68YoRLI4y",
        "colab": {
          "base_uri": "https://localhost:8080/"
        },
        "outputId": "7754f1b6-f606-45a2-ef7e-3e3c142931ac"
      },
      "source": [
        "list_ccc = list()\r\n",
        "print(list_ccc)"
      ],
      "execution_count": 44,
      "outputs": [
        {
          "output_type": "stream",
          "text": [
            "[]\n"
          ],
          "name": "stdout"
        }
      ]
    },
    {
      "cell_type": "markdown",
      "metadata": {
        "id": "CkFxXeN6L8aD"
      },
      "source": [
        "######**append() เพิ่มสมาชิกใน list**"
      ]
    },
    {
      "cell_type": "code",
      "metadata": {
        "id": "09JwaLDAMKMQ",
        "colab": {
          "base_uri": "https://localhost:8080/"
        },
        "outputId": "54113595-d223-44be-fc45-a72d7153e05d"
      },
      "source": [
        "list_bbb.append('r')\r\n",
        "print(list_bbb)"
      ],
      "execution_count": 45,
      "outputs": [
        {
          "output_type": "stream",
          "text": [
            "[111, 't', 'ก', 259, 'r']\n"
          ],
          "name": "stdout"
        }
      ]
    },
    {
      "cell_type": "markdown",
      "metadata": {
        "id": "HmF3PtSXMle9"
      },
      "source": [
        "ตัวที่อยู่ในตัวแปร list เรียกว่า index ใช้สำหรับชี้ข้อมูลใน list  \r\n",
        "\r\n",
        "โดยการชี้สามารถชี้ได้ 2 แบบ คือ การชี้จากข้างหน้า และ การชี้จากข้างหลัง \r\n",
        "\r\n",
        "0 คือสมาชิกตัวแรก -1 คือสมาชิกตัวสุดท้าย"
      ]
    },
    {
      "cell_type": "code",
      "metadata": {
        "id": "6smIpGiwMgoJ",
        "colab": {
          "base_uri": "https://localhost:8080/",
          "height": 35
        },
        "outputId": "28d87b9c-efb3-42db-e1bd-66f12cc59dc1"
      },
      "source": [
        "list_bbb[-1]"
      ],
      "execution_count": 46,
      "outputs": [
        {
          "output_type": "execute_result",
          "data": {
            "application/vnd.google.colaboratory.intrinsic+json": {
              "type": "string"
            },
            "text/plain": [
              "'r'"
            ]
          },
          "metadata": {
            "tags": []
          },
          "execution_count": 46
        }
      ]
    },
    {
      "cell_type": "markdown",
      "metadata": {
        "id": "n-LaWBuaNjK_"
      },
      "source": [
        "######**String > list of characters**"
      ]
    },
    {
      "cell_type": "code",
      "metadata": {
        "id": "y8tn-ZGpNhbr",
        "colab": {
          "base_uri": "https://localhost:8080/"
        },
        "outputId": "62539955-fa7a-4081-b5eb-72d683cb17f4"
      },
      "source": [
        "t = 'python is easy'\r\n",
        "print(t)"
      ],
      "execution_count": 47,
      "outputs": [
        {
          "output_type": "stream",
          "text": [
            "python is easy\n"
          ],
          "name": "stdout"
        }
      ]
    },
    {
      "cell_type": "code",
      "metadata": {
        "id": "UKnJ4b3SN4Sj",
        "colab": {
          "base_uri": "https://localhost:8080/",
          "height": 35
        },
        "outputId": "710a2c10-0c80-47af-d29f-f39a2c452f6b"
      },
      "source": [
        "t[1]"
      ],
      "execution_count": 48,
      "outputs": [
        {
          "output_type": "execute_result",
          "data": {
            "application/vnd.google.colaboratory.intrinsic+json": {
              "type": "string"
            },
            "text/plain": [
              "'y'"
            ]
          },
          "metadata": {
            "tags": []
          },
          "execution_count": 48
        }
      ]
    },
    {
      "cell_type": "code",
      "metadata": {
        "id": "2at48mFQOF6N",
        "colab": {
          "base_uri": "https://localhost:8080/",
          "height": 35
        },
        "outputId": "fa810318-9d4c-4f78-dc2a-0e175c176bff"
      },
      "source": [
        "t[-3]"
      ],
      "execution_count": 49,
      "outputs": [
        {
          "output_type": "execute_result",
          "data": {
            "application/vnd.google.colaboratory.intrinsic+json": {
              "type": "string"
            },
            "text/plain": [
              "'a'"
            ]
          },
          "metadata": {
            "tags": []
          },
          "execution_count": 49
        }
      ]
    },
    {
      "cell_type": "code",
      "metadata": {
        "id": "ANUnxELJOIUV",
        "colab": {
          "base_uri": "https://localhost:8080/",
          "height": 35
        },
        "outputId": "42621931-6a64-49f7-9b05-d35b4ae099d9"
      },
      "source": [
        "t[6]"
      ],
      "execution_count": 50,
      "outputs": [
        {
          "output_type": "execute_result",
          "data": {
            "application/vnd.google.colaboratory.intrinsic+json": {
              "type": "string"
            },
            "text/plain": [
              "' '"
            ]
          },
          "metadata": {
            "tags": []
          },
          "execution_count": 50
        }
      ]
    },
    {
      "cell_type": "code",
      "metadata": {
        "id": "kSPwg-F7OKYJ",
        "colab": {
          "base_uri": "https://localhost:8080/"
        },
        "outputId": "8d990138-bf8e-4afd-f9ba-9d9292cdcf6e"
      },
      "source": [
        "g = 'สถิติ'\r\n",
        "print(g)"
      ],
      "execution_count": 51,
      "outputs": [
        {
          "output_type": "stream",
          "text": [
            "สถิติ\n"
          ],
          "name": "stdout"
        }
      ]
    },
    {
      "cell_type": "code",
      "metadata": {
        "id": "W2feWsWDOXdq",
        "colab": {
          "base_uri": "https://localhost:8080/",
          "height": 35
        },
        "outputId": "819f8e61-8123-4815-abe3-6f631a3520fe"
      },
      "source": [
        "g[0]"
      ],
      "execution_count": 53,
      "outputs": [
        {
          "output_type": "execute_result",
          "data": {
            "application/vnd.google.colaboratory.intrinsic+json": {
              "type": "string"
            },
            "text/plain": [
              "'ส'"
            ]
          },
          "metadata": {
            "tags": []
          },
          "execution_count": 53
        }
      ]
    },
    {
      "cell_type": "code",
      "metadata": {
        "id": "Qn8Gcv4bOass"
      },
      "source": [
        "g[1]"
      ],
      "execution_count": null,
      "outputs": []
    },
    {
      "cell_type": "code",
      "metadata": {
        "id": "cqtzCCCoOh2w"
      },
      "source": [
        "g[2]"
      ],
      "execution_count": null,
      "outputs": []
    },
    {
      "cell_type": "code",
      "metadata": {
        "id": "gl6PNOQkOktu"
      },
      "source": [
        "g[-1]"
      ],
      "execution_count": null,
      "outputs": []
    },
    {
      "cell_type": "markdown",
      "metadata": {
        "id": "QsqtSLache7I"
      },
      "source": [
        "# คาบ 3 วันที่ 11 มค 2564"
      ]
    },
    {
      "cell_type": "code",
      "metadata": {
        "id": "i01DD79OiSCl"
      },
      "source": [
        "len(t) # len คือคำสั่งตรวจสอบความยาวของ list (จำนวนสมาชิก)"
      ],
      "execution_count": null,
      "outputs": []
    },
    {
      "cell_type": "code",
      "metadata": {
        "id": "z8D7CJ92kYhj",
        "outputId": "eb5f7385-ee6a-41da-e19b-e073135bfdc3",
        "colab": {
          "base_uri": "https://localhost:8080/"
        }
      },
      "source": [
        "len(list_bbb)"
      ],
      "execution_count": 56,
      "outputs": [
        {
          "output_type": "execute_result",
          "data": {
            "text/plain": [
              "4"
            ]
          },
          "metadata": {
            "tags": []
          },
          "execution_count": 56
        }
      ]
    },
    {
      "cell_type": "code",
      "metadata": {
        "id": "QDVDLZ4MlDnA",
        "outputId": "899a6d0b-47cc-4039-9d33-d00696f81c18",
        "colab": {
          "base_uri": "https://localhost:8080/"
        }
      },
      "source": [
        "list_bbb.append(t)\r\n",
        "print(list_bbb)"
      ],
      "execution_count": 57,
      "outputs": [
        {
          "output_type": "stream",
          "text": [
            "[111, 't', 'ก', 259, 'python is easy']\n"
          ],
          "name": "stdout"
        }
      ]
    },
    {
      "cell_type": "code",
      "metadata": {
        "id": "Md9DeU7lnmA_",
        "outputId": "1812da20-5eca-49ed-8928-6ab5bf3f51e0",
        "colab": {
          "base_uri": "https://localhost:8080/",
          "height": 35
        }
      },
      "source": [
        "t[0:14:2] #ถ้าเพิ่ม: มาแปลว่า จะเป็นการกระโดด"
      ],
      "execution_count": 60,
      "outputs": [
        {
          "output_type": "execute_result",
          "data": {
            "application/vnd.google.colaboratory.intrinsic+json": {
              "type": "string"
            },
            "text/plain": [
              "'pto ses'"
            ]
          },
          "metadata": {
            "tags": []
          },
          "execution_count": 60
        }
      ]
    },
    {
      "cell_type": "markdown",
      "metadata": {
        "id": "OJLQOdvQleAN"
      },
      "source": [
        "List slicing สมารถทำได้โดยใช้ colon"
      ]
    },
    {
      "cell_type": "code",
      "metadata": {
        "id": "6CkKwC_Ol2h0",
        "outputId": "e03b0648-0a14-4f1a-81a3-47b62b7686ae",
        "colab": {
          "base_uri": "https://localhost:8080/"
        }
      },
      "source": [
        "print(t)\r\n",
        "print(t[7:9])\r\n",
        "print(len(t[7:9]))"
      ],
      "execution_count": 59,
      "outputs": [
        {
          "output_type": "stream",
          "text": [
            "python is easy\n",
            "is\n",
            "2\n"
          ],
          "name": "stdout"
        }
      ]
    },
    {
      "cell_type": "code",
      "metadata": {
        "id": "EAYkYb_AoMAB",
        "outputId": "6c1925d4-17f9-4b42-ba70-642b59e4889e",
        "colab": {
          "base_uri": "https://localhost:8080/"
        }
      },
      "source": [
        "z = [1,2,3,4,5,6,7,8,9,10]\r\n",
        "print(z)"
      ],
      "execution_count": 66,
      "outputs": [
        {
          "output_type": "stream",
          "text": [
            "[1, 2, 3, 4, 5, 6, 7, 8, 9, 10]\n"
          ],
          "name": "stdout"
        }
      ]
    },
    {
      "cell_type": "markdown",
      "metadata": {
        "id": "rEN0hl1zoYOW"
      },
      "source": [
        "# quiz\r\n",
        "ให้ใช้ list slicing เลือกมาเฉพาะเลขคู่\r\n"
      ]
    },
    {
      "cell_type": "code",
      "metadata": {
        "id": "AAfcPHY1oWlc",
        "outputId": "cf94ecb3-fd15-4621-d728-e4f5ed4e4b86",
        "colab": {
          "base_uri": "https://localhost:8080/"
        }
      },
      "source": [
        "z [1:10:2]"
      ],
      "execution_count": 68,
      "outputs": [
        {
          "output_type": "execute_result",
          "data": {
            "text/plain": [
              "[2, 4, 6, 8, 10]"
            ]
          },
          "metadata": {
            "tags": []
          },
          "execution_count": 68
        }
      ]
    },
    {
      "cell_type": "markdown",
      "metadata": {
        "id": "BxBIAuUnmh9k"
      },
      "source": [
        "ถ้าเว้นว่างหน้า : หมายความว่า เริ่มตั้งแต่ตัวแรก (0)\r\n",
        "\r\n",
        "ถ้าเว้นว่างหลัง : หมายความว่า ไปจนถึงตัวสุดท้าย (len(list))"
      ]
    },
    {
      "cell_type": "code",
      "metadata": {
        "id": "Fbc5GlfRm_1t",
        "outputId": "2462218e-ec4a-4a7c-fc5f-cd3c8b5740b3",
        "colab": {
          "base_uri": "https://localhost:8080/"
        }
      },
      "source": [
        "print(t)\r\n",
        "print(t[:6])\r\n",
        "print(t[10:])\r\n",
        "print(t[-4:])\r\n",
        "print(t[:])"
      ],
      "execution_count": 69,
      "outputs": [
        {
          "output_type": "stream",
          "text": [
            "python is easy\n",
            "python\n",
            "easy\n",
            "easy\n",
            "python is easy\n"
          ],
          "name": "stdout"
        }
      ]
    },
    {
      "cell_type": "code",
      "metadata": {
        "id": "VR_AlhhZp46F",
        "outputId": "90a32add-fb08-4e09-acb8-aaa24376a702",
        "colab": {
          "base_uri": "https://localhost:8080/"
        }
      },
      "source": [
        "print(z[::2])"
      ],
      "execution_count": 70,
      "outputs": [
        {
          "output_type": "stream",
          "text": [
            "[1, 3, 5, 7, 9]\n"
          ],
          "name": "stdout"
        }
      ]
    },
    {
      "cell_type": "markdown",
      "metadata": {
        "id": "j_PWLbUppt2D"
      },
      "source": [
        "# เราสามารถเอา list มาต่อกันได้ด้วย +"
      ]
    },
    {
      "cell_type": "code",
      "metadata": {
        "id": "Je-HfNHbp0uz",
        "outputId": "58a9c06c-f0c1-4d4f-8aac-356ce664280a",
        "colab": {
          "base_uri": "https://localhost:8080/",
          "height": 35
        }
      },
      "source": [
        "t+'??'"
      ],
      "execution_count": 71,
      "outputs": [
        {
          "output_type": "execute_result",
          "data": {
            "application/vnd.google.colaboratory.intrinsic+json": {
              "type": "string"
            },
            "text/plain": [
              "'python is easy??'"
            ]
          },
          "metadata": {
            "tags": []
          },
          "execution_count": 71
        }
      ]
    },
    {
      "cell_type": "code",
      "metadata": {
        "id": "SXd4ghpjr6wV",
        "outputId": "52a3a6af-c265-40d9-e3c8-6205a4bafd0f",
        "colab": {
          "base_uri": "https://localhost:8080/",
          "height": 166
        }
      },
      "source": [
        "t+list_bbb"
      ],
      "execution_count": 72,
      "outputs": [
        {
          "output_type": "error",
          "ename": "TypeError",
          "evalue": "ignored",
          "traceback": [
            "\u001b[0;31m---------------------------------------------------------------------------\u001b[0m",
            "\u001b[0;31mTypeError\u001b[0m                                 Traceback (most recent call last)",
            "\u001b[0;32m<ipython-input-72-c2478fa28c7c>\u001b[0m in \u001b[0;36m<module>\u001b[0;34m()\u001b[0m\n\u001b[0;32m----> 1\u001b[0;31m \u001b[0mt\u001b[0m\u001b[0;34m+\u001b[0m\u001b[0mlist_bbb\u001b[0m\u001b[0;34m\u001b[0m\u001b[0;34m\u001b[0m\u001b[0m\n\u001b[0m",
            "\u001b[0;31mTypeError\u001b[0m: must be str, not list"
          ]
        }
      ]
    },
    {
      "cell_type": "code",
      "metadata": {
        "id": "MBeSZq4ssGKI",
        "outputId": "c5399f7d-4036-4b6e-f2ad-b5aeb39bb5f9",
        "colab": {
          "base_uri": "https://localhost:8080/"
        }
      },
      "source": [
        "print(list_aaa)\r\n",
        "print(list_bbb)\r\n",
        "print(list_bbb + list_aaa)\r\n",
        "print()"
      ],
      "execution_count": 74,
      "outputs": [
        {
          "output_type": "stream",
          "text": [
            "[]\n",
            "[111, 't', 'ก', 259, 'python is easy']\n",
            "[111, 't', 'ก', 259, 'python is easy']\n"
          ],
          "name": "stdout"
        }
      ]
    },
    {
      "cell_type": "code",
      "metadata": {
        "id": "v4kVndD9tCp-",
        "outputId": "101d2f1d-ed04-48f2-d96f-83bfc0966fa6",
        "colab": {
          "base_uri": "https://localhost:8080/"
        }
      },
      "source": [
        "list_bbb.append(list_aaa)\r\n",
        "print(list_bbb)"
      ],
      "execution_count": 75,
      "outputs": [
        {
          "output_type": "stream",
          "text": [
            "[111, 't', 'ก', 259, 'python is easy', []]\n"
          ],
          "name": "stdout"
        }
      ]
    },
    {
      "cell_type": "markdown",
      "metadata": {
        "id": "KNoZ1khJqlSv"
      },
      "source": [
        "# การแบ่ง String ตามสัญลักษณ์ที่กำหนด -> Split string"
      ]
    },
    {
      "cell_type": "code",
      "metadata": {
        "id": "J5zLedZpt5wR",
        "outputId": "3706e65b-e06d-46ca-9c12-db8609dafb42",
        "colab": {
          "base_uri": "https://localhost:8080/",
          "height": 35
        }
      },
      "source": [
        "t"
      ],
      "execution_count": 77,
      "outputs": [
        {
          "output_type": "execute_result",
          "data": {
            "application/vnd.google.colaboratory.intrinsic+json": {
              "type": "string"
            },
            "text/plain": [
              "'python is easy'"
            ]
          },
          "metadata": {
            "tags": []
          },
          "execution_count": 77
        }
      ]
    },
    {
      "cell_type": "code",
      "metadata": {
        "id": "xybTLph9qkw6",
        "outputId": "26053f26-add9-4d7d-a9c8-61e36877de6a",
        "colab": {
          "base_uri": "https://localhost:8080/"
        }
      },
      "source": [
        "t.split(' ')"
      ],
      "execution_count": 78,
      "outputs": [
        {
          "output_type": "execute_result",
          "data": {
            "text/plain": [
              "['python', 'is', 'easy']"
            ]
          },
          "metadata": {
            "tags": []
          },
          "execution_count": 78
        }
      ]
    },
    {
      "cell_type": "code",
      "metadata": {
        "id": "HuLMNmgUuC9c"
      },
      "source": [
        "time = '12:30:15'"
      ],
      "execution_count": 79,
      "outputs": []
    },
    {
      "cell_type": "code",
      "metadata": {
        "id": "r3wHjErzuvyf",
        "outputId": "c708f435-f62f-4f0d-8508-6090ee58f9cf",
        "colab": {
          "base_uri": "https://localhost:8080/"
        }
      },
      "source": [
        "time.split(':')"
      ],
      "execution_count": 80,
      "outputs": [
        {
          "output_type": "execute_result",
          "data": {
            "text/plain": [
              "['12', '30', '15']"
            ]
          },
          "metadata": {
            "tags": []
          },
          "execution_count": 80
        }
      ]
    },
    {
      "cell_type": "code",
      "metadata": {
        "id": "-xOuVo6ou6wZ",
        "outputId": "651ffc96-ff5c-4ea0-f00b-4bcb8b18904b",
        "colab": {
          "base_uri": "https://localhost:8080/"
        }
      },
      "source": [
        "t_sp = t.split(' ')\r\n",
        "print(t_sp)"
      ],
      "execution_count": 81,
      "outputs": [
        {
          "output_type": "stream",
          "text": [
            "['python', 'is', 'easy']\n"
          ],
          "name": "stdout"
        }
      ]
    },
    {
      "cell_type": "code",
      "metadata": {
        "id": "wIkDD7WovHUM",
        "outputId": "4427a954-cdd2-4f87-b01b-b93243909e0f",
        "colab": {
          "base_uri": "https://localhost:8080/"
        }
      },
      "source": [
        "print(':'.join(t_sp))"
      ],
      "execution_count": 83,
      "outputs": [
        {
          "output_type": "stream",
          "text": [
            "python:is:easy\n"
          ],
          "name": "stdout"
        }
      ]
    },
    {
      "cell_type": "markdown",
      "metadata": {
        "id": "yztvUPaKrLuK"
      },
      "source": [
        "HW "
      ]
    }
  ]
}