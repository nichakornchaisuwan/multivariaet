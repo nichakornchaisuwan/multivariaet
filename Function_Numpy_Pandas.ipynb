{
  "nbformat": 4,
  "nbformat_minor": 0,
  "metadata": {
    "colab": {
      "name": "Function_Numpy_Pandas.ipynb",
      "provenance": [],
      "authorship_tag": "ABX9TyP+KdDZjYwFBSJ340FUdhzJ",
      "include_colab_link": true
    },
    "kernelspec": {
      "name": "python3",
      "display_name": "Python 3"
    }
  },
  "cells": [
    {
      "cell_type": "markdown",
      "metadata": {
        "id": "view-in-github",
        "colab_type": "text"
      },
      "source": [
        "<a href=\"https://colab.research.google.com/github/nichakornchaisuwan/multivariaet/blob/main/Function_Numpy_Pandas.ipynb\" target=\"_parent\"><img src=\"https://colab.research.google.com/assets/colab-badge.svg\" alt=\"Open In Colab\"/></a>"
      ]
    },
    {
      "cell_type": "markdown",
      "metadata": {
        "id": "rU4s463tSOx_"
      },
      "source": [
        "#Function"
      ]
    },
    {
      "cell_type": "markdown",
      "metadata": {
        "id": "lkPQ1bpvS68g"
      },
      "source": [
        "\r\n",
        "```python\r\n",
        "def function_name(_Input_):\r\n",
        "    do_something with _Input_ to produce _Output_\r\n",
        "    return _Output_\r\n",
        "```\r\n",
        "\r\n"
      ]
    },
    {
      "cell_type": "markdown",
      "metadata": {
        "id": "ifKwBtqoTfAe"
      },
      "source": [
        "function มีส่วนสำคัญทั้งหมด 4 ส่วน\r\n",
        "\r\n",
        "1. บอก python ว่าเราจะเขียนฟังก์ชั่น ชื่ออะไร def function_name(): (ขาดไม่ได้)\r\n",
        "2. กำหนดตัวแปรที่จะเป็น input *Input* (ขาดได้)\r\n",
        "3. ส่วนประมวลผล do_something with Input to get Output (ขาดไม่ได้)\r\n",
        "4. ส่วน output return Output(ขาดได้)\r\n",
        "\r\n",
        "เราใช้ เว้นวรรค (indent) เพื่อบอกขอบเขตของ code"
      ]
    },
    {
      "cell_type": "markdown",
      "metadata": {
        "id": "qYb4Vn5XpvUc"
      },
      "source": [
        "สร้างฟังก์ชั่น"
      ]
    },
    {
      "cell_type": "code",
      "metadata": {
        "colab": {
          "base_uri": "https://localhost:8080/"
        },
        "id": "u26wZW1MSANU",
        "outputId": "14f16f26-624c-4ceb-e7ef-200fb686e176"
      },
      "source": [
        "def print_name(name,surname,ID):\r\n",
        "    st=f'ชื่อ {name} นามสกุล {surname} ID {ID}' #การสร้างฟังก์ชั่น\r\n",
        "    return st\r\n",
        "print('outside function')"
      ],
      "execution_count": 15,
      "outputs": [
        {
          "output_type": "stream",
          "text": [
            "outside function\n"
          ],
          "name": "stdout"
        }
      ]
    },
    {
      "cell_type": "markdown",
      "metadata": {
        "id": "atoj1nJNqMPO"
      },
      "source": [
        "การเรียกใช้ฟังก์ชั่น"
      ]
    },
    {
      "cell_type": "code",
      "metadata": {
        "colab": {
          "base_uri": "https://localhost:8080/",
          "height": 35
        },
        "id": "nRqaFTj4VQsK",
        "outputId": "c7860066-8132-4bb2-c1cd-e5298ded0f64"
      },
      "source": [
        "print_name('กิตติมา','อุปสุข','623021040-9') #การเรียกใช้"
      ],
      "execution_count": 16,
      "outputs": [
        {
          "output_type": "execute_result",
          "data": {
            "application/vnd.google.colaboratory.intrinsic+json": {
              "type": "string"
            },
            "text/plain": [
              "'ชื่อ กิตติมา นามสกุล อุปสุข ID 623021040-9'"
            ]
          },
          "metadata": {
            "tags": []
          },
          "execution_count": 16
        }
      ]
    },
    {
      "cell_type": "code",
      "metadata": {
        "colab": {
          "base_uri": "https://localhost:8080/"
        },
        "id": "C2rB6RdCXKC-",
        "outputId": "f6d37830-1b56-4c1b-8c1c-a590268f9be3"
      },
      "source": [
        "output_string = print_name('กิตติมา','อุปสุข','623021040-9')\r\n",
        "print(output_string)"
      ],
      "execution_count": 17,
      "outputs": [
        {
          "output_type": "stream",
          "text": [
            "ชื่อ กิตติมา นามสกุล อุปสุข ID 623021040-9\n"
          ],
          "name": "stdout"
        }
      ]
    },
    {
      "cell_type": "markdown",
      "metadata": {
        "id": "8v88p1m5t21E"
      },
      "source": [
        "ฟังก์ชั่นไม่จำเป็นต้องมร Output"
      ]
    },
    {
      "cell_type": "code",
      "metadata": {
        "id": "V9yaDGjRXptC"
      },
      "source": [
        "def print_name2(surname,ID,name):\r\n",
        "    st=f'ชื่อ {name} นามสกุล {surname} ID {ID}' #ฟังก์ชั่นไม่จำเป็นต้องมี output\r\n",
        "    print(st)"
      ],
      "execution_count": 18,
      "outputs": []
    },
    {
      "cell_type": "code",
      "metadata": {
        "colab": {
          "base_uri": "https://localhost:8080/"
        },
        "id": "Yz_xaDMSYBR4",
        "outputId": "66e443cb-66d9-4412-dbec-7e79304aa176"
      },
      "source": [
        "print_name2('กิตติมา','อุปสุข','623021040-9')"
      ],
      "execution_count": 19,
      "outputs": [
        {
          "output_type": "stream",
          "text": [
            "ชื่อ 623021040-9 นามสกุล กิตติมา ID อุปสุข\n"
          ],
          "name": "stdout"
        }
      ]
    },
    {
      "cell_type": "code",
      "metadata": {
        "colab": {
          "base_uri": "https://localhost:8080/"
        },
        "id": "stH0Drl5YruM",
        "outputId": "8a8b2eaf-b4d1-4be2-9098-4b776413213c"
      },
      "source": [
        "op2 = print_name2('กิตติมา','อุปสุข','623021040-9')"
      ],
      "execution_count": 20,
      "outputs": [
        {
          "output_type": "stream",
          "text": [
            "ชื่อ 623021040-9 นามสกุล กิตติมา ID อุปสุข\n"
          ],
          "name": "stdout"
        }
      ]
    },
    {
      "cell_type": "code",
      "metadata": {
        "colab": {
          "base_uri": "https://localhost:8080/"
        },
        "id": "XD8n_to4Y0pi",
        "outputId": "aef5a192-5296-413c-e5cd-5cbe99c6a8ab"
      },
      "source": [
        "print(op2)"
      ],
      "execution_count": 21,
      "outputs": [
        {
          "output_type": "stream",
          "text": [
            "None\n"
          ],
          "name": "stdout"
        }
      ]
    },
    {
      "cell_type": "markdown",
      "metadata": {
        "id": "UEKG5Zk4uTuV"
      },
      "source": [
        "ฟังก์ชั่นไม่จำเป็นต้องมี Input"
      ]
    },
    {
      "cell_type": "code",
      "metadata": {
        "id": "TsgfY_BpZKyO"
      },
      "source": [
        "def Pi():\r\n",
        "    return 3.14159265359"
      ],
      "execution_count": 22,
      "outputs": []
    },
    {
      "cell_type": "code",
      "metadata": {
        "colab": {
          "base_uri": "https://localhost:8080/"
        },
        "id": "tHzp4H8fZbmo",
        "outputId": "b99952eb-64e8-42fd-a46d-908bb19cf7a1"
      },
      "source": [
        "Pi()*(1.5**2) # คำนวนพื้นที่วงกลมที่มีขนาดเส้นผ่าศูนย์กลางเท่ากับ 3 "
      ],
      "execution_count": 23,
      "outputs": [
        {
          "output_type": "execute_result",
          "data": {
            "text/plain": [
              "7.0685834705775"
            ]
          },
          "metadata": {
            "tags": []
          },
          "execution_count": 23
        }
      ]
    },
    {
      "cell_type": "code",
      "metadata": {
        "id": "DpSzhWuDZtES"
      },
      "source": [
        "def print_my_name():\r\n",
        "    print('ณิชากร ไชยสุวรรณ ID 623020521-8')"
      ],
      "execution_count": 9,
      "outputs": []
    },
    {
      "cell_type": "code",
      "metadata": {
        "colab": {
          "base_uri": "https://localhost:8080/"
        },
        "id": "oHuSl1j9Z-Tr",
        "outputId": "5cb3d86d-7e1f-4940-842b-a61cd287bc88"
      },
      "source": [
        "print_my_name()"
      ],
      "execution_count": 24,
      "outputs": [
        {
          "output_type": "stream",
          "text": [
            "ณิชากร ไชยสุวรรณ ID 623020521-8\n"
          ],
          "name": "stdout"
        }
      ]
    },
    {
      "cell_type": "markdown",
      "metadata": {
        "id": "_wyZe3qAaHXr"
      },
      "source": [
        "# input ของฟังก์ชั่นใน python มี 2 แบบ\r\n",
        "จำเป็นต้องใส่ \r\n",
        "\r\n",
        "ไม่จำเป็นต้องใส่ (มีค่า default)\r\n",
        "\r\n",
        "โดยเราจะเรียง input ที่จำเป็นต้องใส่ขึ้นก่อน"
      ]
    },
    {
      "cell_type": "code",
      "metadata": {
        "id": "Lrb8FfWxar-d"
      },
      "source": [
        "def print_2lines_default(name,surname,ID,grade='F'):\r\n",
        "    st = f'= ชื่อ {name} นามสกุล {surname} ID {ID}'\r\n",
        "    print(st)\r\n",
        "    st2 = f'เกรดวิชา Multivariate >>>{grade}'\r\n",
        "    print(st2)"
      ],
      "execution_count": 25,
      "outputs": []
    },
    {
      "cell_type": "code",
      "metadata": {
        "id": "CohdaGx5vTuA",
        "outputId": "c33ad9bd-4090-4efa-a649-3e6bfa759979",
        "colab": {
          "base_uri": "https://localhost:8080/"
        }
      },
      "source": [
        "print_2lines_default('ภิญญาดา','เพ็ญสุข','623021052-2')"
      ],
      "execution_count": 26,
      "outputs": [
        {
          "output_type": "stream",
          "text": [
            "= ชื่อ ภิญญาดา นามสกุล เพ็ญสุข ID 623021052-2\n",
            "เกรดวิชา Multivariate >>>F\n"
          ],
          "name": "stdout"
        }
      ]
    },
    {
      "cell_type": "code",
      "metadata": {
        "id": "nck0ViGRv-42",
        "outputId": "0e00e2ca-3513-478d-aa8b-19752a1d13e7",
        "colab": {
          "base_uri": "https://localhost:8080/"
        }
      },
      "source": [
        "print_2lines_default('ภิญญาดา','เพ็ญสุข','623021052-2','A')"
      ],
      "execution_count": 27,
      "outputs": [
        {
          "output_type": "stream",
          "text": [
            "= ชื่อ ภิญญาดา นามสกุล เพ็ญสุข ID 623021052-2\n",
            "เกรดวิชา Multivariate >>>A\n"
          ],
          "name": "stdout"
        }
      ]
    },
    {
      "cell_type": "markdown",
      "metadata": {
        "id": "oTgbB-mPwav5"
      },
      "source": [
        "เราสามารถเรียกฟังก์ชั่นโดยใช้ชื่อตัวแปรของฟังก์ชั่นช่วยได้"
      ]
    },
    {
      "cell_type": "code",
      "metadata": {
        "id": "-xrw2PE6wYET",
        "outputId": "1c56161c-94d1-4de7-d071-3315fb395f5c",
        "colab": {
          "base_uri": "https://localhost:8080/"
        }
      },
      "source": [
        "print_name2(name='กิตติมา',surname='อุปสุข', ID='623021040-9')"
      ],
      "execution_count": 28,
      "outputs": [
        {
          "output_type": "stream",
          "text": [
            "ชื่อ กิตติมา นามสกุล อุปสุข ID 623021040-9\n"
          ],
          "name": "stdout"
        }
      ]
    },
    {
      "cell_type": "markdown",
      "metadata": {
        "id": "kXgjFg_5xWfh"
      },
      "source": [
        "#**HW3 ให้เขียน function คำนวณจำนวนวินาทีจากเวลาต่อไปนี้ และ printให้สวยงาม**\r\n",
        "\r\n",
        "Q1. '14-15-31'\r\n",
        "\r\n",
        "Q2. '13-00-01'\r\n",
        "\r\n",
        "Q3. '05-49-44'\r\n",
        "\r\n",
        "# Q4. '00-00-16'"
      ]
    },
    {
      "cell_type": "code",
      "metadata": {
        "id": "j3xSL1GI0nvI"
      },
      "source": [
        "def time(t):\r\n",
        "  time_sp = t.split('-')\r\n",
        "  h1=int (time_sp[0])*3600\r\n",
        "  m1=int (time_sp[1])*60\r\n",
        "  s1=int (time_sp[2])*1\r\n",
        "  Ans = h1+m1+s1\r\n",
        "  print(f'เวลา {t} สามารถแปลงได้เป็น {Ans} วินาที')"
      ],
      "execution_count": 1,
      "outputs": []
    },
    {
      "cell_type": "code",
      "metadata": {
        "id": "lf_wBY2wnyv_",
        "outputId": "405c3dac-de56-462c-85cc-21c677ae3dd6",
        "colab": {
          "base_uri": "https://localhost:8080/"
        }
      },
      "source": [
        "time ('14-15-31')"
      ],
      "execution_count": 2,
      "outputs": [
        {
          "output_type": "stream",
          "text": [
            "เวลา 14-15-31 สามารถแปลงได้เป็น 51331 วินาที\n"
          ],
          "name": "stdout"
        }
      ]
    },
    {
      "cell_type": "code",
      "metadata": {
        "id": "920JLKTXoAES",
        "outputId": "ba532a28-e4d3-411c-fb3f-f770b43ff021",
        "colab": {
          "base_uri": "https://localhost:8080/"
        }
      },
      "source": [
        "time('13-00-01')"
      ],
      "execution_count": 3,
      "outputs": [
        {
          "output_type": "stream",
          "text": [
            "เวลา 13-00-01 สามารถแปลงได้เป็น 46801 วินาที\n"
          ],
          "name": "stdout"
        }
      ]
    },
    {
      "cell_type": "code",
      "metadata": {
        "id": "gu9tDcMtoFHH",
        "outputId": "32605237-528a-48b1-bca2-cb9c4ef188a6",
        "colab": {
          "base_uri": "https://localhost:8080/"
        }
      },
      "source": [
        "time ('05-49-44')"
      ],
      "execution_count": 5,
      "outputs": [
        {
          "output_type": "stream",
          "text": [
            "เวลา 05-49-44 สามารถแปลงได้เป็น 20984 วินาที\n"
          ],
          "name": "stdout"
        }
      ]
    },
    {
      "cell_type": "code",
      "metadata": {
        "id": "9EZXJE8ToKCS",
        "outputId": "e739e246-c155-43c3-e2a5-890a83a74a38",
        "colab": {
          "base_uri": "https://localhost:8080/"
        }
      },
      "source": [
        "time ('00-00-16')"
      ],
      "execution_count": 6,
      "outputs": [
        {
          "output_type": "stream",
          "text": [
            "เวลา 00-00-16 สามารถแปลงได้เป็น 16 วินาที\n"
          ],
          "name": "stdout"
        }
      ]
    }
  ]
}