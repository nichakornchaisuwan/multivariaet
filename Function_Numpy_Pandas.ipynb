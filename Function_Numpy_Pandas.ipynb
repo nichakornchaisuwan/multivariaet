{
  "nbformat": 4,
  "nbformat_minor": 0,
  "metadata": {
    "colab": {
      "name": "Function_Numpy_Pandas.ipynb",
      "provenance": [],
      "authorship_tag": "ABX9TyNGvB4BWAF7UQ0yhxxfOdax",
      "include_colab_link": true
    },
    "kernelspec": {
      "name": "python3",
      "display_name": "Python 3"
    }
  },
  "cells": [
    {
      "cell_type": "markdown",
      "metadata": {
        "id": "view-in-github",
        "colab_type": "text"
      },
      "source": [
        "<a href=\"https://colab.research.google.com/github/nichakornchaisuwan/multivariaet/blob/main/Function_Numpy_Pandas.ipynb\" target=\"_parent\"><img src=\"https://colab.research.google.com/assets/colab-badge.svg\" alt=\"Open In Colab\"/></a>"
      ]
    },
    {
      "cell_type": "markdown",
      "metadata": {
        "id": "rU4s463tSOx_"
      },
      "source": [
        "#Function"
      ]
    },
    {
      "cell_type": "markdown",
      "metadata": {
        "id": "lkPQ1bpvS68g"
      },
      "source": [
        "\r\n",
        "```python\r\n",
        "def function_name(_Input_):\r\n",
        "    do_something with _Input_ to produce _Output_\r\n",
        "    return _Output_\r\n",
        "```\r\n",
        "\r\n"
      ]
    },
    {
      "cell_type": "markdown",
      "metadata": {
        "id": "ifKwBtqoTfAe"
      },
      "source": [
        "function มีส่วนสำคัญทั้งหมด 4 ส่วน\r\n",
        "\r\n",
        "1. บอก python ว่าเราจะเขียนฟังก์ชั่น ชื่ออะไร def function_name(): (ขาดไม่ได้)\r\n",
        "2. กำหนดตัวแปรที่จะเป็น input *Input* (ขาดได้)\r\n",
        "3. ส่วนประมวลผล do_something with Input to get Output (ขาดไม่ได้)\r\n",
        "4. ส่วน output return Output(ขาดได้)\r\n",
        "\r\n",
        "เราใช้ เว้นวรรค (indent) เพื่อบอกขอบเขตของ code"
      ]
    },
    {
      "cell_type": "markdown",
      "metadata": {
        "id": "qYb4Vn5XpvUc"
      },
      "source": [
        "สร้างฟังก์ชั่น"
      ]
    },
    {
      "cell_type": "code",
      "metadata": {
        "colab": {
          "base_uri": "https://localhost:8080/"
        },
        "id": "u26wZW1MSANU",
        "outputId": "14f16f26-624c-4ceb-e7ef-200fb686e176"
      },
      "source": [
        "def print_name(name,surname,ID):\r\n",
        "    st=f'ชื่อ {name} นามสกุล {surname} ID {ID}' #การสร้างฟังก์ชั่น\r\n",
        "    return st\r\n",
        "print('outside function')"
      ],
      "execution_count": null,
      "outputs": [
        {
          "output_type": "stream",
          "text": [
            "outside function\n"
          ],
          "name": "stdout"
        }
      ]
    },
    {
      "cell_type": "markdown",
      "metadata": {
        "id": "atoj1nJNqMPO"
      },
      "source": [
        "การเรียกใช้ฟังก์ชั่น"
      ]
    },
    {
      "cell_type": "code",
      "metadata": {
        "colab": {
          "base_uri": "https://localhost:8080/",
          "height": 35
        },
        "id": "nRqaFTj4VQsK",
        "outputId": "c7860066-8132-4bb2-c1cd-e5298ded0f64"
      },
      "source": [
        "print_name('กิตติมา','อุปสุข','623021040-9') #การเรียกใช้"
      ],
      "execution_count": null,
      "outputs": [
        {
          "output_type": "execute_result",
          "data": {
            "application/vnd.google.colaboratory.intrinsic+json": {
              "type": "string"
            },
            "text/plain": [
              "'ชื่อ กิตติมา นามสกุล อุปสุข ID 623021040-9'"
            ]
          },
          "metadata": {
            "tags": []
          },
          "execution_count": 16
        }
      ]
    },
    {
      "cell_type": "code",
      "metadata": {
        "colab": {
          "base_uri": "https://localhost:8080/"
        },
        "id": "C2rB6RdCXKC-",
        "outputId": "f6d37830-1b56-4c1b-8c1c-a590268f9be3"
      },
      "source": [
        "output_string = print_name('กิตติมา','อุปสุข','623021040-9')\r\n",
        "print(output_string)"
      ],
      "execution_count": null,
      "outputs": [
        {
          "output_type": "stream",
          "text": [
            "ชื่อ กิตติมา นามสกุล อุปสุข ID 623021040-9\n"
          ],
          "name": "stdout"
        }
      ]
    },
    {
      "cell_type": "markdown",
      "metadata": {
        "id": "8v88p1m5t21E"
      },
      "source": [
        "ฟังก์ชั่นไม่จำเป็นต้องมร Output"
      ]
    },
    {
      "cell_type": "code",
      "metadata": {
        "id": "V9yaDGjRXptC"
      },
      "source": [
        "def print_name2(surname,ID,name):\r\n",
        "    st=f'ชื่อ {name} นามสกุล {surname} ID {ID}' #ฟังก์ชั่นไม่จำเป็นต้องมี output\r\n",
        "    print(st)"
      ],
      "execution_count": null,
      "outputs": []
    },
    {
      "cell_type": "code",
      "metadata": {
        "colab": {
          "base_uri": "https://localhost:8080/"
        },
        "id": "Yz_xaDMSYBR4",
        "outputId": "66e443cb-66d9-4412-dbec-7e79304aa176"
      },
      "source": [
        "print_name2('กิตติมา','อุปสุข','623021040-9')"
      ],
      "execution_count": null,
      "outputs": [
        {
          "output_type": "stream",
          "text": [
            "ชื่อ 623021040-9 นามสกุล กิตติมา ID อุปสุข\n"
          ],
          "name": "stdout"
        }
      ]
    },
    {
      "cell_type": "code",
      "metadata": {
        "colab": {
          "base_uri": "https://localhost:8080/"
        },
        "id": "stH0Drl5YruM",
        "outputId": "8a8b2eaf-b4d1-4be2-9098-4b776413213c"
      },
      "source": [
        "op2 = print_name2('กิตติมา','อุปสุข','623021040-9')"
      ],
      "execution_count": null,
      "outputs": [
        {
          "output_type": "stream",
          "text": [
            "ชื่อ 623021040-9 นามสกุล กิตติมา ID อุปสุข\n"
          ],
          "name": "stdout"
        }
      ]
    },
    {
      "cell_type": "code",
      "metadata": {
        "colab": {
          "base_uri": "https://localhost:8080/"
        },
        "id": "XD8n_to4Y0pi",
        "outputId": "aef5a192-5296-413c-e5cd-5cbe99c6a8ab"
      },
      "source": [
        "print(op2)"
      ],
      "execution_count": null,
      "outputs": [
        {
          "output_type": "stream",
          "text": [
            "None\n"
          ],
          "name": "stdout"
        }
      ]
    },
    {
      "cell_type": "markdown",
      "metadata": {
        "id": "UEKG5Zk4uTuV"
      },
      "source": [
        "ฟังก์ชั่นไม่จำเป็นต้องมี Input"
      ]
    },
    {
      "cell_type": "code",
      "metadata": {
        "id": "TsgfY_BpZKyO"
      },
      "source": [
        "def Pi():\r\n",
        "    return 3.14159265359"
      ],
      "execution_count": null,
      "outputs": []
    },
    {
      "cell_type": "code",
      "metadata": {
        "colab": {
          "base_uri": "https://localhost:8080/"
        },
        "id": "tHzp4H8fZbmo",
        "outputId": "b99952eb-64e8-42fd-a46d-908bb19cf7a1"
      },
      "source": [
        "Pi()*(1.5**2) # คำนวนพื้นที่วงกลมที่มีขนาดเส้นผ่าศูนย์กลางเท่ากับ 3 "
      ],
      "execution_count": null,
      "outputs": [
        {
          "output_type": "execute_result",
          "data": {
            "text/plain": [
              "7.0685834705775"
            ]
          },
          "metadata": {
            "tags": []
          },
          "execution_count": 23
        }
      ]
    },
    {
      "cell_type": "code",
      "metadata": {
        "id": "DpSzhWuDZtES"
      },
      "source": [
        "def print_my_name():\r\n",
        "    print('ณิชากร ไชยสุวรรณ ID 623020521-8')"
      ],
      "execution_count": null,
      "outputs": []
    },
    {
      "cell_type": "code",
      "metadata": {
        "colab": {
          "base_uri": "https://localhost:8080/"
        },
        "id": "oHuSl1j9Z-Tr",
        "outputId": "5cb3d86d-7e1f-4940-842b-a61cd287bc88"
      },
      "source": [
        "print_my_name()"
      ],
      "execution_count": null,
      "outputs": [
        {
          "output_type": "stream",
          "text": [
            "ณิชากร ไชยสุวรรณ ID 623020521-8\n"
          ],
          "name": "stdout"
        }
      ]
    },
    {
      "cell_type": "markdown",
      "metadata": {
        "id": "_wyZe3qAaHXr"
      },
      "source": [
        "# input ของฟังก์ชั่นใน python มี 2 แบบ\r\n",
        "จำเป็นต้องใส่ \r\n",
        "\r\n",
        "ไม่จำเป็นต้องใส่ (มีค่า default)\r\n",
        "\r\n",
        "โดยเราจะเรียง input ที่จำเป็นต้องใส่ขึ้นก่อน"
      ]
    },
    {
      "cell_type": "code",
      "metadata": {
        "id": "Lrb8FfWxar-d"
      },
      "source": [
        "def print_2lines_default(name,surname,ID,grade='F'):\r\n",
        "    st = f'= ชื่อ {name} นามสกุล {surname} ID {ID}'\r\n",
        "    print(st)\r\n",
        "    st2 = f'เกรดวิชา Multivariate >>>{grade}'\r\n",
        "    print(st2)"
      ],
      "execution_count": null,
      "outputs": []
    },
    {
      "cell_type": "code",
      "metadata": {
        "id": "CohdaGx5vTuA",
        "colab": {
          "base_uri": "https://localhost:8080/"
        },
        "outputId": "c33ad9bd-4090-4efa-a649-3e6bfa759979"
      },
      "source": [
        "print_2lines_default('ภิญญาดา','เพ็ญสุข','623021052-2')"
      ],
      "execution_count": null,
      "outputs": [
        {
          "output_type": "stream",
          "text": [
            "= ชื่อ ภิญญาดา นามสกุล เพ็ญสุข ID 623021052-2\n",
            "เกรดวิชา Multivariate >>>F\n"
          ],
          "name": "stdout"
        }
      ]
    },
    {
      "cell_type": "code",
      "metadata": {
        "id": "nck0ViGRv-42",
        "colab": {
          "base_uri": "https://localhost:8080/"
        },
        "outputId": "0e00e2ca-3513-478d-aa8b-19752a1d13e7"
      },
      "source": [
        "print_2lines_default('ภิญญาดา','เพ็ญสุข','623021052-2','A')"
      ],
      "execution_count": null,
      "outputs": [
        {
          "output_type": "stream",
          "text": [
            "= ชื่อ ภิญญาดา นามสกุล เพ็ญสุข ID 623021052-2\n",
            "เกรดวิชา Multivariate >>>A\n"
          ],
          "name": "stdout"
        }
      ]
    },
    {
      "cell_type": "markdown",
      "metadata": {
        "id": "oTgbB-mPwav5"
      },
      "source": [
        "เราสามารถเรียกฟังก์ชั่นโดยใช้ชื่อตัวแปรของฟังก์ชั่นช่วยได้"
      ]
    },
    {
      "cell_type": "code",
      "metadata": {
        "id": "-xrw2PE6wYET",
        "colab": {
          "base_uri": "https://localhost:8080/"
        },
        "outputId": "1c56161c-94d1-4de7-d071-3315fb395f5c"
      },
      "source": [
        "print_name2(name='กิตติมา',surname='อุปสุข', ID='623021040-9')"
      ],
      "execution_count": null,
      "outputs": [
        {
          "output_type": "stream",
          "text": [
            "ชื่อ กิตติมา นามสกุล อุปสุข ID 623021040-9\n"
          ],
          "name": "stdout"
        }
      ]
    },
    {
      "cell_type": "markdown",
      "metadata": {
        "id": "kXgjFg_5xWfh"
      },
      "source": [
        "#**HW3 ให้เขียน function คำนวณจำนวนวินาทีจากเวลาต่อไปนี้ และ printให้สวยงาม**\r\n",
        "\r\n",
        "Q1. '14-15-31'\r\n",
        "\r\n",
        "Q2. '13-00-01'\r\n",
        "\r\n",
        "Q3. '05-49-44'\r\n",
        "\r\n",
        "# Q4. '00-00-16'"
      ]
    },
    {
      "cell_type": "code",
      "metadata": {
        "id": "j3xSL1GI0nvI"
      },
      "source": [
        "def time(t):\r\n",
        "  time_sp = t.split('-')\r\n",
        "  h1=int (time_sp[0])*3600\r\n",
        "  m1=int (time_sp[1])*60\r\n",
        "  s1=int (time_sp[2])*1\r\n",
        "  Ans = h1+m1+s1\r\n",
        "  print(f'เวลา {t} สามารถแปลงได้เป็น {Ans} วินาที')"
      ],
      "execution_count": null,
      "outputs": []
    },
    {
      "cell_type": "code",
      "metadata": {
        "id": "lf_wBY2wnyv_",
        "colab": {
          "base_uri": "https://localhost:8080/"
        },
        "outputId": "405c3dac-de56-462c-85cc-21c677ae3dd6"
      },
      "source": [
        "time ('14-15-31')"
      ],
      "execution_count": null,
      "outputs": [
        {
          "output_type": "stream",
          "text": [
            "เวลา 14-15-31 สามารถแปลงได้เป็น 51331 วินาที\n"
          ],
          "name": "stdout"
        }
      ]
    },
    {
      "cell_type": "code",
      "metadata": {
        "id": "920JLKTXoAES",
        "colab": {
          "base_uri": "https://localhost:8080/"
        },
        "outputId": "ba532a28-e4d3-411c-fb3f-f770b43ff021"
      },
      "source": [
        "time('13-00-01')"
      ],
      "execution_count": null,
      "outputs": [
        {
          "output_type": "stream",
          "text": [
            "เวลา 13-00-01 สามารถแปลงได้เป็น 46801 วินาที\n"
          ],
          "name": "stdout"
        }
      ]
    },
    {
      "cell_type": "code",
      "metadata": {
        "id": "gu9tDcMtoFHH",
        "colab": {
          "base_uri": "https://localhost:8080/"
        },
        "outputId": "32605237-528a-48b1-bca2-cb9c4ef188a6"
      },
      "source": [
        "time ('05-49-44')"
      ],
      "execution_count": null,
      "outputs": [
        {
          "output_type": "stream",
          "text": [
            "เวลา 05-49-44 สามารถแปลงได้เป็น 20984 วินาที\n"
          ],
          "name": "stdout"
        }
      ]
    },
    {
      "cell_type": "code",
      "metadata": {
        "id": "9EZXJE8ToKCS",
        "colab": {
          "base_uri": "https://localhost:8080/"
        },
        "outputId": "e739e246-c155-43c3-e2a5-890a83a74a38"
      },
      "source": [
        "time ('00-00-16')"
      ],
      "execution_count": null,
      "outputs": [
        {
          "output_type": "stream",
          "text": [
            "เวลา 00-00-16 สามารถแปลงได้เป็น 16 วินาที\n"
          ],
          "name": "stdout"
        }
      ]
    },
    {
      "cell_type": "markdown",
      "metadata": {
        "id": "l9m2WEHVQCx3"
      },
      "source": [
        "#**Numpy** -> package (สำหรับจัดการกับ Array ที่เป็นตัวเลข Matrix)\r\n",
        "\r\n",
        "Num+py -> Number-Numerical + python\r\n",
        "\r\n",
        "การใช้ package \r\n",
        "\r\n",
        "1.``` Import``` ``` ชื่อ package``` # \r\n",
        "2. ``` ชื่อ package.```\r\n",
        "\r\n",
        "\r\n"
      ]
    },
    {
      "cell_type": "code",
      "metadata": {
        "id": "TRD6i0l_R7Bu"
      },
      "source": [
        "import numpy"
      ],
      "execution_count": 1,
      "outputs": []
    },
    {
      "cell_type": "markdown",
      "metadata": {
        "id": "3C__m_M7SE7R"
      },
      "source": [
        "data structure -> array"
      ]
    },
    {
      "cell_type": "markdown",
      "metadata": {
        "id": "hxRj8lPJUDdk"
      },
      "source": [
        "สร้าง array (numpy array)"
      ]
    },
    {
      "cell_type": "code",
      "metadata": {
        "id": "YbOrBGy7SDpa",
        "outputId": "df9bd2f0-8953-4901-ba14-ac3943a8d235",
        "colab": {
          "base_uri": "https://localhost:8080/"
        }
      },
      "source": [
        "max_ex1 = numpy.array([[5.2,3.0,4.5],[9.1,0.1,0.3]])\r\n",
        "print(max_ex1)"
      ],
      "execution_count": 3,
      "outputs": [
        {
          "output_type": "stream",
          "text": [
            "[[5.2 3.  4.5]\n",
            " [9.1 0.1 0.3]]\n"
          ],
          "name": "stdout"
        }
      ]
    },
    {
      "cell_type": "markdown",
      "metadata": {
        "id": "K9NF7cCNUp47"
      },
      "source": [
        "ชี้ค่าใน numpy array"
      ]
    },
    {
      "cell_type": "code",
      "metadata": {
        "id": "CducmCrQUkzp",
        "outputId": "6f8ce5aa-1e77-4d78-c2f0-8a91700c5d0e",
        "colab": {
          "base_uri": "https://localhost:8080/"
        }
      },
      "source": [
        "max_ex1[1,1] #ข้างหน้า, คือแถว ข้างหลัง, คือหลัก (การระบุค่าของ แมทริกซ์)"
      ],
      "execution_count": 5,
      "outputs": [
        {
          "output_type": "execute_result",
          "data": {
            "text/plain": [
              "0.1"
            ]
          },
          "metadata": {
            "tags": []
          },
          "execution_count": 5
        }
      ]
    },
    {
      "cell_type": "markdown",
      "metadata": {
        "id": "lsFkS2GaVzaL"
      },
      "source": [
        "ถ้าไม่มี numpy array "
      ]
    },
    {
      "cell_type": "code",
      "metadata": {
        "id": "3D4u48gqVlm1",
        "outputId": "3ceee635-9e53-4873-8334-5416298eea55",
        "colab": {
          "base_uri": "https://localhost:8080/"
        }
      },
      "source": [
        "list_ex1 = [[5.2,3.0,4.5],[9.1,0.1,0.3]]\r\n",
        "print(list_ex1)"
      ],
      "execution_count": 6,
      "outputs": [
        {
          "output_type": "stream",
          "text": [
            "[[5.2, 3.0, 4.5], [9.1, 0.1, 0.3]]\n"
          ],
          "name": "stdout"
        }
      ]
    },
    {
      "cell_type": "code",
      "metadata": {
        "id": "wNA5X4SZWIVC",
        "outputId": "7edf9698-45ab-4b77-e3f3-8039cb4e7ff2",
        "colab": {
          "base_uri": "https://localhost:8080/"
        }
      },
      "source": [
        "list_ex1[1][1] "
      ],
      "execution_count": 8,
      "outputs": [
        {
          "output_type": "execute_result",
          "data": {
            "text/plain": [
              "0.1"
            ]
          },
          "metadata": {
            "tags": []
          },
          "execution_count": 8
        }
      ]
    },
    {
      "cell_type": "code",
      "metadata": {
        "id": "X1Dsk_FMWl2B",
        "outputId": "53e4621c-9266-45e9-d91a-f984d2c39433",
        "colab": {
          "base_uri": "https://localhost:8080/"
        }
      },
      "source": [
        "print(list_ex1)\r\n",
        "a=list_ex1[1]\r\n",
        "print(a)\r\n",
        "print(a[1])"
      ],
      "execution_count": 10,
      "outputs": [
        {
          "output_type": "stream",
          "text": [
            "[[5.2, 3.0, 4.5], [9.1, 0.1, 0.3]]\n",
            "[9.1, 0.1, 0.3]\n",
            "0.1\n"
          ],
          "name": "stdout"
        }
      ]
    },
    {
      "cell_type": "markdown",
      "metadata": {
        "id": "5D6RhnWAX6S2"
      },
      "source": [
        "Matrix operation\r\n",
        "\r\n",
        "data 2 แบบ ->\r\n",
        "matrix (2D array) "
      ]
    },
    {
      "cell_type": "markdown",
      "metadata": {
        "id": "LtoOyqpBX4u7"
      },
      "source": [
        ""
      ]
    },
    {
      "cell_type": "code",
      "metadata": {
        "id": "vbysv4PYXhWj",
        "outputId": "56464eb0-6b72-4487-af80-0468ab4174f3",
        "colab": {
          "base_uri": "https://localhost:8080/"
        }
      },
      "source": [
        "mat_ex1 = numpy.array([[5.2,3.0,4.5],[9.1,0.1,0.3]])\r\n",
        "print(mat_ex1)\r\n",
        "mat_ex2 = numpy.array([[2,3.7,5.9],[91,1.5,7.3]])\r\n",
        "print(mat_ex2)"
      ],
      "execution_count": 13,
      "outputs": [
        {
          "output_type": "stream",
          "text": [
            "[[5.2 3.  4.5]\n",
            " [9.1 0.1 0.3]]\n",
            "[[ 2.   3.7  5.9]\n",
            " [91.   1.5  7.3]]\n"
          ],
          "name": "stdout"
        }
      ]
    },
    {
      "cell_type": "markdown",
      "metadata": {
        "id": "yQ6wacnwZFXr"
      },
      "source": [
        "บวกกับลบ matrix เอาตัวเลขตำแหน่งเดียวกันมาบวกกับ"
      ]
    },
    {
      "cell_type": "code",
      "metadata": {
        "id": "18ueelWtZDrT",
        "outputId": "d94d4b25-2245-4055-ed0a-e2fc1cf174a1",
        "colab": {
          "base_uri": "https://localhost:8080/"
        }
      },
      "source": [
        "mat_ex3 = mat_ex1 + mat_ex2\r\n",
        "print(mat_ex3)\r\n",
        "mat_ex4 = mat_ex1 - mat_ex2\r\n",
        "print(mat_ex4)"
      ],
      "execution_count": 14,
      "outputs": [
        {
          "output_type": "stream",
          "text": [
            "[[  7.2   6.7  10.4]\n",
            " [100.1   1.6   7.6]]\n",
            "[[  3.2  -0.7  -1.4]\n",
            " [-81.9  -1.4  -7. ]]\n"
          ],
          "name": "stdout"
        }
      ]
    },
    {
      "cell_type": "code",
      "metadata": {
        "id": "AofpjvW7ZpX2"
      },
      "source": [
        ""
      ],
      "execution_count": null,
      "outputs": []
    },
    {
      "cell_type": "markdown",
      "metadata": {
        "id": "S-yokf9MZ8wR"
      },
      "source": [
        "การตรวจสอบขนาดของ matrix"
      ]
    },
    {
      "cell_type": "code",
      "metadata": {
        "id": "LX1kTVyPaKBm",
        "outputId": "39907ef3-6530-42af-dacc-268a23e32fc6",
        "colab": {
          "base_uri": "https://localhost:8080/"
        }
      },
      "source": [
        "mat_ex3.shape"
      ],
      "execution_count": 15,
      "outputs": [
        {
          "output_type": "execute_result",
          "data": {
            "text/plain": [
              "(2, 3)"
            ]
          },
          "metadata": {
            "tags": []
          },
          "execution_count": 15
        }
      ]
    },
    {
      "cell_type": "code",
      "metadata": {
        "id": "BEgTZg2maQqK",
        "outputId": "4e4cd9ca-4540-4ba0-a463-8bdd3be5eb47",
        "colab": {
          "base_uri": "https://localhost:8080/"
        }
      },
      "source": [
        "mat_ex3.shape[0]"
      ],
      "execution_count": 16,
      "outputs": [
        {
          "output_type": "execute_result",
          "data": {
            "text/plain": [
              "2"
            ]
          },
          "metadata": {
            "tags": []
          },
          "execution_count": 16
        }
      ]
    },
    {
      "cell_type": "markdown",
      "metadata": {
        "id": "UQX6N5OfbWGd"
      },
      "source": [
        "# คูณ *matrix*\r\n",
        "\r\n",
        "แถวคูณหลัก \r\n",
        "\r\n",
        "หลักของ matrix ตัวข้างหน้า ต้องเท่ากับแถวของmatrix ของตัวข้างหลัง\r\n",
        "\r\n",
        "dot product (AAA,x),(x,BBB) = (AAA,BBB)"
      ]
    },
    {
      "cell_type": "code",
      "metadata": {
        "id": "orvO8xjda4Sh",
        "outputId": "2c95ad2b-d970-4ef8-ed80-205a941c8082",
        "colab": {
          "base_uri": "https://localhost:8080/"
        }
      },
      "source": [
        "mat_ex1*mat_ex2"
      ],
      "execution_count": 17,
      "outputs": [
        {
          "output_type": "execute_result",
          "data": {
            "text/plain": [
              "array([[1.040e+01, 1.110e+01, 2.655e+01],\n",
              "       [8.281e+02, 1.500e-01, 2.190e+00]])"
            ]
          },
          "metadata": {
            "tags": []
          },
          "execution_count": 17
        }
      ]
    },
    {
      "cell_type": "code",
      "metadata": {
        "id": "e1CVmhTncbJm",
        "outputId": "48614b00-2930-40b6-d262-91493dd2f0c1",
        "colab": {
          "base_uri": "https://localhost:8080/",
          "height": 201
        }
      },
      "source": [
        "numpy.dot(mat_ex1,mat_ex2)"
      ],
      "execution_count": 18,
      "outputs": [
        {
          "output_type": "error",
          "ename": "ValueError",
          "evalue": "ignored",
          "traceback": [
            "\u001b[0;31m---------------------------------------------------------------------------\u001b[0m",
            "\u001b[0;31mValueError\u001b[0m                                Traceback (most recent call last)",
            "\u001b[0;32m<ipython-input-18-87326e5d09ab>\u001b[0m in \u001b[0;36m<module>\u001b[0;34m()\u001b[0m\n\u001b[0;32m----> 1\u001b[0;31m \u001b[0mnumpy\u001b[0m\u001b[0;34m.\u001b[0m\u001b[0mdot\u001b[0m\u001b[0;34m(\u001b[0m\u001b[0mmat_ex1\u001b[0m\u001b[0;34m,\u001b[0m\u001b[0mmat_ex2\u001b[0m\u001b[0;34m)\u001b[0m\u001b[0;34m\u001b[0m\u001b[0;34m\u001b[0m\u001b[0m\n\u001b[0m",
            "\u001b[0;32m<__array_function__ internals>\u001b[0m in \u001b[0;36mdot\u001b[0;34m(*args, **kwargs)\u001b[0m\n",
            "\u001b[0;31mValueError\u001b[0m: shapes (2,3) and (2,3) not aligned: 3 (dim 1) != 2 (dim 0)"
          ]
        }
      ]
    },
    {
      "cell_type": "code",
      "metadata": {
        "id": "zqy2XiANckCs",
        "outputId": "b67146ec-ac64-473c-c208-25c33c674caa",
        "colab": {
          "base_uri": "https://localhost:8080/"
        }
      },
      "source": [
        "print(mat_ex1)\r\n",
        "print(mat_ex1.shape)\r\n",
        "print(mat_ex2)\r\n",
        "print(mat_ex2.shape)"
      ],
      "execution_count": 19,
      "outputs": [
        {
          "output_type": "stream",
          "text": [
            "[[5.2 3.  4.5]\n",
            " [9.1 0.1 0.3]]\n",
            "(2, 3)\n",
            "[[ 2.   3.7  5.9]\n",
            " [91.   1.5  7.3]]\n",
            "(2, 3)\n"
          ],
          "name": "stdout"
        }
      ]
    },
    {
      "cell_type": "markdown",
      "metadata": {
        "id": "MEcx3u46f8iS"
      },
      "source": [
        "#Transpose กลับแถวเป็นหลัก กลับหลักเป็นแถว\r\n",
        "\r\n",
        "\r\n",
        "``` matrix.T```\r\n",
        "\r\n"
      ]
    },
    {
      "cell_type": "code",
      "metadata": {
        "id": "7stxIMq_hGqg",
        "outputId": "99afc8e3-4f32-4196-e91f-27c82f9017ab",
        "colab": {
          "base_uri": "https://localhost:8080/"
        }
      },
      "source": [
        "print(mat_ex2.T)\r\n",
        "print(mat_ex2.T.shape)"
      ],
      "execution_count": 21,
      "outputs": [
        {
          "output_type": "stream",
          "text": [
            "[[ 2.  91. ]\n",
            " [ 3.7  1.5]\n",
            " [ 5.9  7.3]]\n",
            "(3, 2)\n"
          ],
          "name": "stdout"
        }
      ]
    },
    {
      "cell_type": "code",
      "metadata": {
        "id": "E8clAeBWgQHC",
        "outputId": "cea5dcfe-6162-4975-e0d2-20faa0285a84",
        "colab": {
          "base_uri": "https://localhost:8080/"
        }
      },
      "source": [
        "numpy.dot(mat_ex1,mat_ex2.T) #(2,3).(3,2)"
      ],
      "execution_count": 20,
      "outputs": [
        {
          "output_type": "execute_result",
          "data": {
            "text/plain": [
              "array([[ 48.05, 510.55],\n",
              "       [ 20.34, 830.44]])"
            ]
          },
          "metadata": {
            "tags": []
          },
          "execution_count": 20
        }
      ]
    },
    {
      "cell_type": "code",
      "metadata": {
        "id": "V-P-rBxzgT3r",
        "outputId": "ffcb8c49-0f60-4cda-cd01-cfc67f04fc24",
        "colab": {
          "base_uri": "https://localhost:8080/"
        }
      },
      "source": [
        "numpy.dot(mat_ex1.T,mat_ex2) #(3,2).(2,3) = (3,3)"
      ],
      "execution_count": 23,
      "outputs": [
        {
          "output_type": "execute_result",
          "data": {
            "text/plain": [
              "array([[838.5 ,  32.89,  97.11],\n",
              "       [ 15.1 ,  11.25,  18.43],\n",
              "       [ 36.3 ,  17.1 ,  28.74]])"
            ]
          },
          "metadata": {
            "tags": []
          },
          "execution_count": 23
        }
      ]
    },
    {
      "cell_type": "code",
      "metadata": {
        "id": "MpIWNfjDiits"
      },
      "source": [
        ""
      ],
      "execution_count": null,
      "outputs": []
    }
  ]
}