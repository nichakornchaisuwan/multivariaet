{
  "nbformat": 4,
  "nbformat_minor": 0,
  "metadata": {
    "colab": {
      "name": "Function_Numpy_Pandas.ipynb",
      "provenance": [],
      "authorship_tag": "ABX9TyMtg7MV1LCvFafSki08LicL",
      "include_colab_link": true
    },
    "kernelspec": {
      "name": "python3",
      "display_name": "Python 3"
    }
  },
  "cells": [
    {
      "cell_type": "markdown",
      "metadata": {
        "id": "view-in-github",
        "colab_type": "text"
      },
      "source": [
        "<a href=\"https://colab.research.google.com/github/nichakornchaisuwan/multivariaet/blob/main/Function_Numpy_Pandas.ipynb\" target=\"_parent\"><img src=\"https://colab.research.google.com/assets/colab-badge.svg\" alt=\"Open In Colab\"/></a>"
      ]
    },
    {
      "cell_type": "markdown",
      "metadata": {
        "id": "rU4s463tSOx_"
      },
      "source": [
        "#Function"
      ]
    },
    {
      "cell_type": "markdown",
      "metadata": {
        "id": "lkPQ1bpvS68g"
      },
      "source": [
        "def fun"
      ]
    },
    {
      "cell_type": "markdown",
      "metadata": {
        "id": "ifKwBtqoTfAe"
      },
      "source": [
        "function มีส่วนสำคัญทั้งหมด 4 ส่วน\r\n",
        "\r\n",
        "1. บอก python ว่าเราจะเขียนฟังก์ชั่น ชื่ออะไร def function_name():\r\n",
        "2. กำหนดตัวแปรที่จะเป็น input \r\n",
        "3. ส่วนประมวลผล do_something with input"
      ]
    },
    {
      "cell_type": "code",
      "metadata": {
        "colab": {
          "base_uri": "https://localhost:8080/"
        },
        "id": "u26wZW1MSANU",
        "outputId": "59f38f47-d04a-4eb7-a51a-c13a8a6395be"
      },
      "source": [
        "def print_name(name,surname,ID):\r\n",
        "    st=f'ชื่อ {name} นามสกุล {surname} ID {ID}' #การสร้างฟังก์ชั่น\r\n",
        "    return st\r\n",
        "print('outside function')"
      ],
      "execution_count": 6,
      "outputs": [
        {
          "output_type": "stream",
          "text": [
            "outside function\n"
          ],
          "name": "stdout"
        }
      ]
    },
    {
      "cell_type": "code",
      "metadata": {
        "colab": {
          "base_uri": "https://localhost:8080/",
          "height": 35
        },
        "id": "nRqaFTj4VQsK",
        "outputId": "2c0d34ac-75ad-4c3b-8b50-65de4e1c6692"
      },
      "source": [
        "print_name('กิตติมา','อุปสุข','623021040-9') #การเรียกใช้"
      ],
      "execution_count": 7,
      "outputs": [
        {
          "output_type": "execute_result",
          "data": {
            "application/vnd.google.colaboratory.intrinsic+json": {
              "type": "string"
            },
            "text/plain": [
              "'ชื่อ กิตติมา นามสกุล อุปสุข ID 623021040-9'"
            ]
          },
          "metadata": {
            "tags": []
          },
          "execution_count": 7
        }
      ]
    },
    {
      "cell_type": "code",
      "metadata": {
        "colab": {
          "base_uri": "https://localhost:8080/"
        },
        "id": "C2rB6RdCXKC-",
        "outputId": "8527d41f-54aa-477d-ab04-04c58989fcf1"
      },
      "source": [
        "output_string = print_name('กิตติมา','อุปสุข','623021040-9')\r\n",
        "print(output_string)"
      ],
      "execution_count": 8,
      "outputs": [
        {
          "output_type": "stream",
          "text": [
            "ชื่อ กิตติมา นามสกุล อุปสุข ID 623021040-9\n"
          ],
          "name": "stdout"
        }
      ]
    },
    {
      "cell_type": "code",
      "metadata": {
        "id": "V9yaDGjRXptC"
      },
      "source": [
        "def print_name2(surname,ID,name):\r\n",
        "    st=f'ชื่อ {name} นามสกุล {surname} ID {ID}' #ฟังก์ชั่นไม่จำเป็นต้องมี output\r\n",
        "    print(st)"
      ],
      "execution_count": 14,
      "outputs": []
    },
    {
      "cell_type": "code",
      "metadata": {
        "colab": {
          "base_uri": "https://localhost:8080/"
        },
        "id": "Yz_xaDMSYBR4",
        "outputId": "8d47dfb9-055d-463d-ccb0-4e60bbbdc5b0"
      },
      "source": [
        "print_name2('กิตติมา','อุปสุข','623021040-9')"
      ],
      "execution_count": 15,
      "outputs": [
        {
          "output_type": "stream",
          "text": [
            "ชื่อ 623021040-9 นามสกุล กิตติมา ID อุปสุข\n"
          ],
          "name": "stdout"
        }
      ]
    },
    {
      "cell_type": "code",
      "metadata": {
        "colab": {
          "base_uri": "https://localhost:8080/"
        },
        "id": "stH0Drl5YruM",
        "outputId": "69cbc30c-73ff-4c7c-f130-aaab37b3dec1"
      },
      "source": [
        "op2 = print_name2('กิตติมา','อุปสุข','623021040-9')"
      ],
      "execution_count": 16,
      "outputs": [
        {
          "output_type": "stream",
          "text": [
            "ชื่อ 623021040-9 นามสกุล กิตติมา ID อุปสุข\n"
          ],
          "name": "stdout"
        }
      ]
    },
    {
      "cell_type": "code",
      "metadata": {
        "colab": {
          "base_uri": "https://localhost:8080/"
        },
        "id": "XD8n_to4Y0pi",
        "outputId": "502c1042-89d1-4f9e-b002-f76842d932a5"
      },
      "source": [
        "print(op2)"
      ],
      "execution_count": 17,
      "outputs": [
        {
          "output_type": "stream",
          "text": [
            "None\n"
          ],
          "name": "stdout"
        }
      ]
    },
    {
      "cell_type": "code",
      "metadata": {
        "id": "TsgfY_BpZKyO"
      },
      "source": [
        "def Pi():\r\n",
        "    return 3.14159265359"
      ],
      "execution_count": 18,
      "outputs": []
    },
    {
      "cell_type": "code",
      "metadata": {
        "colab": {
          "base_uri": "https://localhost:8080/"
        },
        "id": "tHzp4H8fZbmo",
        "outputId": "c700d346-d0af-4135-c0bf-3be0bf771762"
      },
      "source": [
        "Pi()*(1.5**2) # คำนวนพื้นที่วงกลมที่มีขนาดเส้นผ่าศูนย์กลางเท่ากับ 3 "
      ],
      "execution_count": 19,
      "outputs": [
        {
          "output_type": "execute_result",
          "data": {
            "text/plain": [
              "7.0685834705775"
            ]
          },
          "metadata": {
            "tags": []
          },
          "execution_count": 19
        }
      ]
    },
    {
      "cell_type": "code",
      "metadata": {
        "id": "DpSzhWuDZtES"
      },
      "source": [
        "def print_my_name():\r\n",
        "    print('ณิชากร ไชยสุวรรณ ID 623020521-8')"
      ],
      "execution_count": 20,
      "outputs": []
    },
    {
      "cell_type": "code",
      "metadata": {
        "colab": {
          "base_uri": "https://localhost:8080/"
        },
        "id": "oHuSl1j9Z-Tr",
        "outputId": "c32f2d2f-02b2-43cd-8c28-4e6951050a0a"
      },
      "source": [
        "print_my_name()"
      ],
      "execution_count": 22,
      "outputs": [
        {
          "output_type": "stream",
          "text": [
            "ณิชากร ไชยสุวรรณ ID 623020521-8\n"
          ],
          "name": "stdout"
        }
      ]
    },
    {
      "cell_type": "markdown",
      "metadata": {
        "id": "_wyZe3qAaHXr"
      },
      "source": [
        "# input ของฟังก์ชั่นใน python มี 2 แบบ\r\n",
        "จำเป็นต้องใส่ \r\n",
        "\r\n",
        "ไม่จำเป็นต้องใส่"
      ]
    },
    {
      "cell_type": "code",
      "metadata": {
        "id": "Lrb8FfWxar-d"
      },
      "source": [
        "def print_2lines_default (name,surname,ID,grade='F'):\r\n",
        "    st = f'= ชื่อ {name} นามสกุล {surname} ID {ID}'\r\n",
        "    print(st)\r\n",
        "    st2 = f'เกรดวิชา Multivariate >>>{grade}'\r\n",
        "    print(st2)"
      ],
      "execution_count": 23,
      "outputs": []
    }
  ]
}