{
  "nbformat": 4,
  "nbformat_minor": 0,
  "metadata": {
    "colab": {
      "name": "Multivariate - Exam.ipynb",
      "provenance": [],
      "include_colab_link": true
    },
    "kernelspec": {
      "name": "python3",
      "display_name": "Python 3"
    },
    "language_info": {
      "name": "python"
    }
  },
  "cells": [
    {
      "cell_type": "markdown",
      "metadata": {
        "id": "view-in-github",
        "colab_type": "text"
      },
      "source": [
        "<a href=\"https://colab.research.google.com/github/nichakornchaisuwan/multivariaet/blob/main/Multivariate_Exam.ipynb\" target=\"_parent\"><img src=\"https://colab.research.google.com/assets/colab-badge.svg\" alt=\"Open In Colab\"/></a>"
      ]
    },
    {
      "cell_type": "markdown",
      "metadata": {
        "id": "JZxiNADfaDtv"
      },
      "source": [
        "ให้นักศึกษาทำข้อสอบใน Colab Notebook นี้โดยกรอกข้อมูลของตัวเองใน cell ที่ 2 แล้วรัน cell ที่ 1 - 5 และเริ่มทำข้อสอบใน cell ที่ 6 เป็นต้นไป\n",
        "\n",
        "โดยโจทย์คือ\n",
        "1. ข้อมูลโจทย์ อยู่ใน ตัวแปร ```Data```\n",
        "2. ทำ clustering แล้วทำ visualize ข้อมูลแบบ 2 มิติ\n",
        "3. ลด Dimension ของข้อมูลเหลือ 2 มิติ แล้วทำ clustering แล้ว visualize ข้อมูลแบบ 2 มิติ\n",
        "4. เปรียบเทียบความแตกต่างของผลข้อ 2. กับ ข้อ 3.\n",
        "5. เขียน comments อธิบายทุกขั้นตอน\n",
        "6. อัด video อธิบาย code ทุกๆขั้นตอนรวมถึงผลแล้วอัพลง youtube ในรูปแบบ unlist \n",
        "7. commit โดยใช้ชื่อ commit เป็น link youtube ที่อธิบาย code ในข้อ 6.\n",
        "\n",
        "กำหนดส่งวันที่ 2 พฤษภาคม 2564 (โดยให้มากรอกวันที่ commit ครั้งสุดท้ายใน sheet: https://docs.google.com/spreadsheets/d/1_qJwLDJVtOW1HxBcf_FHVc6UT4J_SOonuR6o3EEnVzw/edit?usp=sharing ช่อง Final)"
      ]
    },
    {
      "cell_type": "code",
      "metadata": {
        "id": "cWl2x1bPGtQl"
      },
      "source": [
        "from sklearn.datasets import make_blobs\n",
        "import random,math\n",
        "import numpy as np\n",
        "import pandas"
      ],
      "execution_count": 6,
      "outputs": []
    },
    {
      "cell_type": "code",
      "metadata": {
        "id": "gZfzuiHsZksh"
      },
      "source": [
        "Name = 'ณิชากร ไชยสุวรรณ'\n",
        "ID = '6230205218'"
      ],
      "execution_count": 7,
      "outputs": []
    },
    {
      "cell_type": "code",
      "metadata": {
        "id": "8hFQXkF5aAiA"
      },
      "source": [
        "def DataGenerator(name,id):\n",
        "    random.seed(int(id[3:6]))\n",
        "    numfeat = random.randint(20,30)\n",
        "    ct = random.randint(len(name)-6,len(name))\n",
        "    \n",
        "    X, y = make_blobs(n_samples=10000, centers=ct, n_features=numfeat , random_state=int(id[3:6]))\n",
        "\n",
        "    print(f'{id[3:6]}:{numfeat}:{ct}')\n",
        "    X_t = (X[:,1]*2)+int(id[3])\n",
        "    X_t2 = (X[:,-1]*5)+int(id[4])\n",
        "\n",
        "    DT = np.append(X,X_t.reshape([10000,1]),axis=1)\n",
        "    DT = np.append(DT,X_t2.reshape([10000,1]),axis=1)\n",
        "    \n",
        "    return pandas.DataFrame(DT)"
      ],
      "execution_count": 8,
      "outputs": []
    },
    {
      "cell_type": "code",
      "metadata": {
        "colab": {
          "base_uri": "https://localhost:8080/"
        },
        "id": "hbXlxumSBX9i",
        "outputId": "3312ec16-56b7-4426-f606-3d1c522096a4"
      },
      "source": [
        "Data = DataGenerator(Name,ID)"
      ],
      "execution_count": 9,
      "outputs": [
        {
          "output_type": "stream",
          "text": [
            "020:30:16\n"
          ],
          "name": "stdout"
        }
      ]
    },
    {
      "cell_type": "code",
      "metadata": {
        "colab": {
          "base_uri": "https://localhost:8080/",
          "height": 431
        },
        "id": "pQcCySXvBdN-",
        "outputId": "2376e195-686d-4317-d6f1-c98aab23d4a3"
      },
      "source": [
        "Data"
      ],
      "execution_count": 10,
      "outputs": [
        {
          "output_type": "execute_result",
          "data": {
            "text/html": [
              "<div>\n",
              "<style scoped>\n",
              "    .dataframe tbody tr th:only-of-type {\n",
              "        vertical-align: middle;\n",
              "    }\n",
              "\n",
              "    .dataframe tbody tr th {\n",
              "        vertical-align: top;\n",
              "    }\n",
              "\n",
              "    .dataframe thead th {\n",
              "        text-align: right;\n",
              "    }\n",
              "</style>\n",
              "<table border=\"1\" class=\"dataframe\">\n",
              "  <thead>\n",
              "    <tr style=\"text-align: right;\">\n",
              "      <th></th>\n",
              "      <th>0</th>\n",
              "      <th>1</th>\n",
              "      <th>2</th>\n",
              "      <th>3</th>\n",
              "      <th>4</th>\n",
              "      <th>5</th>\n",
              "      <th>6</th>\n",
              "      <th>7</th>\n",
              "      <th>8</th>\n",
              "      <th>9</th>\n",
              "      <th>10</th>\n",
              "      <th>11</th>\n",
              "      <th>12</th>\n",
              "      <th>13</th>\n",
              "      <th>14</th>\n",
              "      <th>15</th>\n",
              "      <th>16</th>\n",
              "      <th>17</th>\n",
              "      <th>18</th>\n",
              "      <th>19</th>\n",
              "      <th>20</th>\n",
              "      <th>21</th>\n",
              "      <th>22</th>\n",
              "      <th>23</th>\n",
              "      <th>24</th>\n",
              "      <th>25</th>\n",
              "      <th>26</th>\n",
              "      <th>27</th>\n",
              "      <th>28</th>\n",
              "      <th>29</th>\n",
              "      <th>30</th>\n",
              "      <th>31</th>\n",
              "    </tr>\n",
              "  </thead>\n",
              "  <tbody>\n",
              "    <tr>\n",
              "      <th>0</th>\n",
              "      <td>-10.187117</td>\n",
              "      <td>5.645359</td>\n",
              "      <td>-1.512009</td>\n",
              "      <td>-8.408605</td>\n",
              "      <td>-7.160649</td>\n",
              "      <td>8.152055</td>\n",
              "      <td>-5.137610</td>\n",
              "      <td>-8.514089</td>\n",
              "      <td>-6.140884</td>\n",
              "      <td>10.495298</td>\n",
              "      <td>1.590252</td>\n",
              "      <td>3.370453</td>\n",
              "      <td>0.659568</td>\n",
              "      <td>5.630557</td>\n",
              "      <td>1.300547</td>\n",
              "      <td>2.487644</td>\n",
              "      <td>6.066393</td>\n",
              "      <td>8.233752</td>\n",
              "      <td>-9.202617</td>\n",
              "      <td>-5.345057</td>\n",
              "      <td>5.844010</td>\n",
              "      <td>1.529182</td>\n",
              "      <td>-3.323277</td>\n",
              "      <td>3.321481</td>\n",
              "      <td>2.621559</td>\n",
              "      <td>-4.425307</td>\n",
              "      <td>4.524257</td>\n",
              "      <td>-4.957104</td>\n",
              "      <td>6.386672</td>\n",
              "      <td>-10.452964</td>\n",
              "      <td>11.290718</td>\n",
              "      <td>-50.264820</td>\n",
              "    </tr>\n",
              "    <tr>\n",
              "      <th>1</th>\n",
              "      <td>8.802957</td>\n",
              "      <td>-9.680265</td>\n",
              "      <td>-5.146325</td>\n",
              "      <td>-1.400457</td>\n",
              "      <td>4.109127</td>\n",
              "      <td>9.107175</td>\n",
              "      <td>8.461001</td>\n",
              "      <td>1.703898</td>\n",
              "      <td>-0.734701</td>\n",
              "      <td>-0.662673</td>\n",
              "      <td>3.817067</td>\n",
              "      <td>1.822420</td>\n",
              "      <td>4.052866</td>\n",
              "      <td>-3.271882</td>\n",
              "      <td>7.773785</td>\n",
              "      <td>7.411452</td>\n",
              "      <td>-4.505587</td>\n",
              "      <td>2.963060</td>\n",
              "      <td>7.674272</td>\n",
              "      <td>-9.869400</td>\n",
              "      <td>-8.226315</td>\n",
              "      <td>8.427967</td>\n",
              "      <td>5.859954</td>\n",
              "      <td>2.930561</td>\n",
              "      <td>4.895293</td>\n",
              "      <td>-7.116522</td>\n",
              "      <td>-8.471998</td>\n",
              "      <td>5.241182</td>\n",
              "      <td>-1.075735</td>\n",
              "      <td>4.753808</td>\n",
              "      <td>-19.360529</td>\n",
              "      <td>25.769040</td>\n",
              "    </tr>\n",
              "    <tr>\n",
              "      <th>2</th>\n",
              "      <td>4.566708</td>\n",
              "      <td>10.088068</td>\n",
              "      <td>6.267673</td>\n",
              "      <td>-5.007461</td>\n",
              "      <td>-6.157636</td>\n",
              "      <td>-4.656535</td>\n",
              "      <td>9.834261</td>\n",
              "      <td>1.608311</td>\n",
              "      <td>6.068735</td>\n",
              "      <td>-10.170915</td>\n",
              "      <td>7.084125</td>\n",
              "      <td>-9.178798</td>\n",
              "      <td>-7.684204</td>\n",
              "      <td>-11.860847</td>\n",
              "      <td>-3.715293</td>\n",
              "      <td>-3.697722</td>\n",
              "      <td>9.908313</td>\n",
              "      <td>6.599582</td>\n",
              "      <td>0.364110</td>\n",
              "      <td>7.548956</td>\n",
              "      <td>-8.481781</td>\n",
              "      <td>5.089799</td>\n",
              "      <td>-7.056839</td>\n",
              "      <td>-5.440225</td>\n",
              "      <td>7.366136</td>\n",
              "      <td>-6.099482</td>\n",
              "      <td>5.900475</td>\n",
              "      <td>-0.567453</td>\n",
              "      <td>3.676044</td>\n",
              "      <td>3.636315</td>\n",
              "      <td>20.176137</td>\n",
              "      <td>20.181577</td>\n",
              "    </tr>\n",
              "    <tr>\n",
              "      <th>3</th>\n",
              "      <td>-1.557750</td>\n",
              "      <td>-5.619996</td>\n",
              "      <td>-0.729111</td>\n",
              "      <td>7.873232</td>\n",
              "      <td>-7.234014</td>\n",
              "      <td>-3.057497</td>\n",
              "      <td>-2.156534</td>\n",
              "      <td>-4.396004</td>\n",
              "      <td>-8.843602</td>\n",
              "      <td>-6.002348</td>\n",
              "      <td>6.974013</td>\n",
              "      <td>-6.001278</td>\n",
              "      <td>-8.506518</td>\n",
              "      <td>-2.456330</td>\n",
              "      <td>1.138076</td>\n",
              "      <td>-3.899233</td>\n",
              "      <td>9.395032</td>\n",
              "      <td>-6.214876</td>\n",
              "      <td>9.013846</td>\n",
              "      <td>1.558676</td>\n",
              "      <td>6.049342</td>\n",
              "      <td>2.618855</td>\n",
              "      <td>-7.194114</td>\n",
              "      <td>-10.214505</td>\n",
              "      <td>8.954457</td>\n",
              "      <td>7.642740</td>\n",
              "      <td>4.098489</td>\n",
              "      <td>-1.835569</td>\n",
              "      <td>-1.134072</td>\n",
              "      <td>7.054722</td>\n",
              "      <td>-11.239992</td>\n",
              "      <td>37.273609</td>\n",
              "    </tr>\n",
              "    <tr>\n",
              "      <th>4</th>\n",
              "      <td>9.105714</td>\n",
              "      <td>-10.918593</td>\n",
              "      <td>-6.447384</td>\n",
              "      <td>1.260397</td>\n",
              "      <td>6.235345</td>\n",
              "      <td>10.998694</td>\n",
              "      <td>9.431398</td>\n",
              "      <td>4.326759</td>\n",
              "      <td>-1.366271</td>\n",
              "      <td>0.720983</td>\n",
              "      <td>2.657494</td>\n",
              "      <td>5.502511</td>\n",
              "      <td>6.129621</td>\n",
              "      <td>-1.155109</td>\n",
              "      <td>9.711989</td>\n",
              "      <td>5.343099</td>\n",
              "      <td>-7.353672</td>\n",
              "      <td>2.485260</td>\n",
              "      <td>7.425995</td>\n",
              "      <td>-9.048266</td>\n",
              "      <td>-7.630582</td>\n",
              "      <td>7.810077</td>\n",
              "      <td>6.552491</td>\n",
              "      <td>3.859978</td>\n",
              "      <td>5.717528</td>\n",
              "      <td>-3.768863</td>\n",
              "      <td>-7.753635</td>\n",
              "      <td>5.075417</td>\n",
              "      <td>-1.536883</td>\n",
              "      <td>5.055226</td>\n",
              "      <td>-21.837186</td>\n",
              "      <td>27.276130</td>\n",
              "    </tr>\n",
              "    <tr>\n",
              "      <th>...</th>\n",
              "      <td>...</td>\n",
              "      <td>...</td>\n",
              "      <td>...</td>\n",
              "      <td>...</td>\n",
              "      <td>...</td>\n",
              "      <td>...</td>\n",
              "      <td>...</td>\n",
              "      <td>...</td>\n",
              "      <td>...</td>\n",
              "      <td>...</td>\n",
              "      <td>...</td>\n",
              "      <td>...</td>\n",
              "      <td>...</td>\n",
              "      <td>...</td>\n",
              "      <td>...</td>\n",
              "      <td>...</td>\n",
              "      <td>...</td>\n",
              "      <td>...</td>\n",
              "      <td>...</td>\n",
              "      <td>...</td>\n",
              "      <td>...</td>\n",
              "      <td>...</td>\n",
              "      <td>...</td>\n",
              "      <td>...</td>\n",
              "      <td>...</td>\n",
              "      <td>...</td>\n",
              "      <td>...</td>\n",
              "      <td>...</td>\n",
              "      <td>...</td>\n",
              "      <td>...</td>\n",
              "      <td>...</td>\n",
              "      <td>...</td>\n",
              "    </tr>\n",
              "    <tr>\n",
              "      <th>9995</th>\n",
              "      <td>1.012739</td>\n",
              "      <td>-5.982394</td>\n",
              "      <td>-2.377600</td>\n",
              "      <td>3.991366</td>\n",
              "      <td>2.066386</td>\n",
              "      <td>8.939499</td>\n",
              "      <td>3.515521</td>\n",
              "      <td>-0.687216</td>\n",
              "      <td>-7.096250</td>\n",
              "      <td>-0.483933</td>\n",
              "      <td>-3.487503</td>\n",
              "      <td>-6.412030</td>\n",
              "      <td>1.698171</td>\n",
              "      <td>5.591985</td>\n",
              "      <td>2.200870</td>\n",
              "      <td>1.710173</td>\n",
              "      <td>4.215186</td>\n",
              "      <td>7.796989</td>\n",
              "      <td>7.679128</td>\n",
              "      <td>5.763228</td>\n",
              "      <td>-5.406276</td>\n",
              "      <td>-5.459429</td>\n",
              "      <td>8.663905</td>\n",
              "      <td>-0.663315</td>\n",
              "      <td>-1.347786</td>\n",
              "      <td>1.658434</td>\n",
              "      <td>4.270892</td>\n",
              "      <td>5.375995</td>\n",
              "      <td>-0.445427</td>\n",
              "      <td>10.680069</td>\n",
              "      <td>-11.964788</td>\n",
              "      <td>55.400344</td>\n",
              "    </tr>\n",
              "    <tr>\n",
              "      <th>9996</th>\n",
              "      <td>1.971844</td>\n",
              "      <td>9.351393</td>\n",
              "      <td>5.487986</td>\n",
              "      <td>5.947889</td>\n",
              "      <td>-8.621342</td>\n",
              "      <td>5.833916</td>\n",
              "      <td>-0.831200</td>\n",
              "      <td>0.799592</td>\n",
              "      <td>2.719228</td>\n",
              "      <td>-3.751520</td>\n",
              "      <td>-4.101230</td>\n",
              "      <td>3.144996</td>\n",
              "      <td>3.296714</td>\n",
              "      <td>7.119346</td>\n",
              "      <td>3.873315</td>\n",
              "      <td>-10.067322</td>\n",
              "      <td>-7.486359</td>\n",
              "      <td>5.966499</td>\n",
              "      <td>-6.699479</td>\n",
              "      <td>-5.169989</td>\n",
              "      <td>7.498531</td>\n",
              "      <td>8.563825</td>\n",
              "      <td>0.733198</td>\n",
              "      <td>-6.472467</td>\n",
              "      <td>4.942586</td>\n",
              "      <td>-0.162590</td>\n",
              "      <td>2.895984</td>\n",
              "      <td>5.859200</td>\n",
              "      <td>1.094162</td>\n",
              "      <td>0.813355</td>\n",
              "      <td>18.702787</td>\n",
              "      <td>6.066777</td>\n",
              "    </tr>\n",
              "    <tr>\n",
              "      <th>9997</th>\n",
              "      <td>4.313977</td>\n",
              "      <td>7.818759</td>\n",
              "      <td>6.398568</td>\n",
              "      <td>-4.755216</td>\n",
              "      <td>-5.181228</td>\n",
              "      <td>-3.405445</td>\n",
              "      <td>11.223262</td>\n",
              "      <td>3.490421</td>\n",
              "      <td>6.006418</td>\n",
              "      <td>-9.669740</td>\n",
              "      <td>6.020925</td>\n",
              "      <td>-9.548196</td>\n",
              "      <td>-8.811076</td>\n",
              "      <td>-9.948476</td>\n",
              "      <td>-4.142153</td>\n",
              "      <td>-3.013274</td>\n",
              "      <td>8.687351</td>\n",
              "      <td>7.583746</td>\n",
              "      <td>1.857641</td>\n",
              "      <td>5.131343</td>\n",
              "      <td>-10.503256</td>\n",
              "      <td>2.915657</td>\n",
              "      <td>-8.064281</td>\n",
              "      <td>-3.891103</td>\n",
              "      <td>7.350757</td>\n",
              "      <td>-5.370867</td>\n",
              "      <td>5.108498</td>\n",
              "      <td>0.922176</td>\n",
              "      <td>3.686926</td>\n",
              "      <td>3.322278</td>\n",
              "      <td>15.637518</td>\n",
              "      <td>18.611389</td>\n",
              "    </tr>\n",
              "    <tr>\n",
              "      <th>9998</th>\n",
              "      <td>3.029997</td>\n",
              "      <td>-7.750469</td>\n",
              "      <td>9.031552</td>\n",
              "      <td>9.307987</td>\n",
              "      <td>-1.619870</td>\n",
              "      <td>1.449752</td>\n",
              "      <td>-2.457904</td>\n",
              "      <td>6.772582</td>\n",
              "      <td>-7.931218</td>\n",
              "      <td>8.501263</td>\n",
              "      <td>6.798074</td>\n",
              "      <td>1.240366</td>\n",
              "      <td>4.155902</td>\n",
              "      <td>6.037059</td>\n",
              "      <td>0.815239</td>\n",
              "      <td>-5.158712</td>\n",
              "      <td>-5.980060</td>\n",
              "      <td>5.424738</td>\n",
              "      <td>4.949754</td>\n",
              "      <td>-0.027357</td>\n",
              "      <td>9.037065</td>\n",
              "      <td>-4.983274</td>\n",
              "      <td>-2.470661</td>\n",
              "      <td>-4.061016</td>\n",
              "      <td>-3.000973</td>\n",
              "      <td>3.853341</td>\n",
              "      <td>-7.830560</td>\n",
              "      <td>2.054371</td>\n",
              "      <td>2.182887</td>\n",
              "      <td>-10.723758</td>\n",
              "      <td>-15.500938</td>\n",
              "      <td>-51.618788</td>\n",
              "    </tr>\n",
              "    <tr>\n",
              "      <th>9999</th>\n",
              "      <td>5.167087</td>\n",
              "      <td>11.360828</td>\n",
              "      <td>5.989421</td>\n",
              "      <td>-5.527974</td>\n",
              "      <td>-5.459924</td>\n",
              "      <td>-3.514900</td>\n",
              "      <td>8.817097</td>\n",
              "      <td>-0.313162</td>\n",
              "      <td>9.560471</td>\n",
              "      <td>-10.101839</td>\n",
              "      <td>5.200510</td>\n",
              "      <td>-10.135598</td>\n",
              "      <td>-8.593570</td>\n",
              "      <td>-9.544607</td>\n",
              "      <td>-5.230351</td>\n",
              "      <td>-3.073770</td>\n",
              "      <td>9.298421</td>\n",
              "      <td>7.449832</td>\n",
              "      <td>2.206924</td>\n",
              "      <td>5.900636</td>\n",
              "      <td>-12.027623</td>\n",
              "      <td>6.250410</td>\n",
              "      <td>-8.929068</td>\n",
              "      <td>-5.143601</td>\n",
              "      <td>8.422081</td>\n",
              "      <td>-4.812894</td>\n",
              "      <td>6.345059</td>\n",
              "      <td>-0.791921</td>\n",
              "      <td>5.813688</td>\n",
              "      <td>1.784168</td>\n",
              "      <td>22.721657</td>\n",
              "      <td>10.920841</td>\n",
              "    </tr>\n",
              "  </tbody>\n",
              "</table>\n",
              "<p>10000 rows × 32 columns</p>\n",
              "</div>"
            ],
            "text/plain": [
              "             0          1         2   ...         29         30         31\n",
              "0    -10.187117   5.645359 -1.512009  ... -10.452964  11.290718 -50.264820\n",
              "1      8.802957  -9.680265 -5.146325  ...   4.753808 -19.360529  25.769040\n",
              "2      4.566708  10.088068  6.267673  ...   3.636315  20.176137  20.181577\n",
              "3     -1.557750  -5.619996 -0.729111  ...   7.054722 -11.239992  37.273609\n",
              "4      9.105714 -10.918593 -6.447384  ...   5.055226 -21.837186  27.276130\n",
              "...         ...        ...       ...  ...        ...        ...        ...\n",
              "9995   1.012739  -5.982394 -2.377600  ...  10.680069 -11.964788  55.400344\n",
              "9996   1.971844   9.351393  5.487986  ...   0.813355  18.702787   6.066777\n",
              "9997   4.313977   7.818759  6.398568  ...   3.322278  15.637518  18.611389\n",
              "9998   3.029997  -7.750469  9.031552  ... -10.723758 -15.500938 -51.618788\n",
              "9999   5.167087  11.360828  5.989421  ...   1.784168  22.721657  10.920841\n",
              "\n",
              "[10000 rows x 32 columns]"
            ]
          },
          "metadata": {
            "tags": []
          },
          "execution_count": 10
        }
      ]
    },
    {
      "cell_type": "code",
      "metadata": {
        "id": "jUARadkFEuyJ",
        "colab": {
          "base_uri": "https://localhost:8080/"
        },
        "outputId": "8985283d-0dff-4421-8816-111c0b64d278"
      },
      "source": [
        "Data.shape #เพื่อดูขนาดของข้อมูล"
      ],
      "execution_count": 11,
      "outputs": [
        {
          "output_type": "execute_result",
          "data": {
            "text/plain": [
              "(10000, 32)"
            ]
          },
          "metadata": {
            "tags": []
          },
          "execution_count": 11
        }
      ]
    },
    {
      "cell_type": "markdown",
      "metadata": {
        "id": "eVHDYy5aIZx3"
      },
      "source": [
        "ตัดข้อมูลที่มี correlation กัน เพื่อลดข้อมูลที่ซ้ำกันออกจาก Data"
      ]
    },
    {
      "cell_type": "code",
      "metadata": {
        "id": "ib6WtBFrFUab"
      },
      "source": [
        "corr = np.corrcoef(Data.to_numpy().T)"
      ],
      "execution_count": 12,
      "outputs": []
    },
    {
      "cell_type": "code",
      "metadata": {
        "id": "ohnX-IKhKT9V",
        "colab": {
          "base_uri": "https://localhost:8080/"
        },
        "outputId": "89e01504-5736-4e69-f007-03b7156bfa8b"
      },
      "source": [
        "corr.shape #เพื่อดูขนาดของความสัมพันธ์"
      ],
      "execution_count": 13,
      "outputs": [
        {
          "output_type": "execute_result",
          "data": {
            "text/plain": [
              "(32, 32)"
            ]
          },
          "metadata": {
            "tags": []
          },
          "execution_count": 13
        }
      ]
    },
    {
      "cell_type": "code",
      "metadata": {
        "id": "k4XCU3l2KfQu",
        "colab": {
          "base_uri": "https://localhost:8080/"
        },
        "outputId": "7cb6f47d-c2fb-4fb0-a762-f10ec07325b5"
      },
      "source": [
        "corr"
      ],
      "execution_count": 14,
      "outputs": [
        {
          "output_type": "execute_result",
          "data": {
            "text/plain": [
              "array([[ 1.        , -0.05083607,  0.10638536, ...,  0.27341509,\n",
              "        -0.05083607,  0.27341509],\n",
              "       [-0.05083607,  1.        ,  0.11548714, ...,  0.01997763,\n",
              "         1.        ,  0.01997763],\n",
              "       [ 0.10638536,  0.11548714,  1.        , ..., -0.23673439,\n",
              "         0.11548714, -0.23673439],\n",
              "       ...,\n",
              "       [ 0.27341509,  0.01997763, -0.23673439, ...,  1.        ,\n",
              "         0.01997763,  1.        ],\n",
              "       [-0.05083607,  1.        ,  0.11548714, ...,  0.01997763,\n",
              "         1.        ,  0.01997763],\n",
              "       [ 0.27341509,  0.01997763, -0.23673439, ...,  1.        ,\n",
              "         0.01997763,  1.        ]])"
            ]
          },
          "metadata": {
            "tags": []
          },
          "execution_count": 14
        }
      ]
    },
    {
      "cell_type": "code",
      "metadata": {
        "id": "o0aTt_hLKv72",
        "colab": {
          "base_uri": "https://localhost:8080/"
        },
        "outputId": "e47a2624-4eec-44b3-a726-ec37b00888bc"
      },
      "source": [
        "for i in range(corr.shape[0]):\n",
        "  for j in range(corr.shape[1]):\n",
        "    if(i!= j) and (corr[i,j]==1.):\n",
        "      print(f'row ={i} column = {j} corrcoef = {corr[i,j]}')"
      ],
      "execution_count": 15,
      "outputs": [
        {
          "output_type": "stream",
          "text": [
            "row =1 column = 30 corrcoef = 1.0\n",
            "row =30 column = 1 corrcoef = 1.0\n"
          ],
          "name": "stdout"
        }
      ]
    },
    {
      "cell_type": "markdown",
      "metadata": {
        "id": "JXLI_EQGNVm4"
      },
      "source": [
        "หลังจากการทำการวนซ้ำ จะเห็นว่ามีการซ้ำกันของขอมูล จึงต้องทำการตัดข้อมูลออก"
      ]
    },
    {
      "cell_type": "code",
      "metadata": {
        "id": "SdLRekDjNU_Q",
        "colab": {
          "base_uri": "https://localhost:8080/",
          "height": 431
        },
        "outputId": "ec66db1a-2733-4661-8b2d-df828b10d217"
      },
      "source": [
        "new_Data = Data.iloc[:,1:-2]\n",
        "new_Data"
      ],
      "execution_count": 18,
      "outputs": [
        {
          "output_type": "execute_result",
          "data": {
            "text/html": [
              "<div>\n",
              "<style scoped>\n",
              "    .dataframe tbody tr th:only-of-type {\n",
              "        vertical-align: middle;\n",
              "    }\n",
              "\n",
              "    .dataframe tbody tr th {\n",
              "        vertical-align: top;\n",
              "    }\n",
              "\n",
              "    .dataframe thead th {\n",
              "        text-align: right;\n",
              "    }\n",
              "</style>\n",
              "<table border=\"1\" class=\"dataframe\">\n",
              "  <thead>\n",
              "    <tr style=\"text-align: right;\">\n",
              "      <th></th>\n",
              "      <th>1</th>\n",
              "      <th>2</th>\n",
              "      <th>3</th>\n",
              "      <th>4</th>\n",
              "      <th>5</th>\n",
              "      <th>6</th>\n",
              "      <th>7</th>\n",
              "      <th>8</th>\n",
              "      <th>9</th>\n",
              "      <th>10</th>\n",
              "      <th>11</th>\n",
              "      <th>12</th>\n",
              "      <th>13</th>\n",
              "      <th>14</th>\n",
              "      <th>15</th>\n",
              "      <th>16</th>\n",
              "      <th>17</th>\n",
              "      <th>18</th>\n",
              "      <th>19</th>\n",
              "      <th>20</th>\n",
              "      <th>21</th>\n",
              "      <th>22</th>\n",
              "      <th>23</th>\n",
              "      <th>24</th>\n",
              "      <th>25</th>\n",
              "      <th>26</th>\n",
              "      <th>27</th>\n",
              "      <th>28</th>\n",
              "      <th>29</th>\n",
              "    </tr>\n",
              "  </thead>\n",
              "  <tbody>\n",
              "    <tr>\n",
              "      <th>0</th>\n",
              "      <td>5.645359</td>\n",
              "      <td>-1.512009</td>\n",
              "      <td>-8.408605</td>\n",
              "      <td>-7.160649</td>\n",
              "      <td>8.152055</td>\n",
              "      <td>-5.137610</td>\n",
              "      <td>-8.514089</td>\n",
              "      <td>-6.140884</td>\n",
              "      <td>10.495298</td>\n",
              "      <td>1.590252</td>\n",
              "      <td>3.370453</td>\n",
              "      <td>0.659568</td>\n",
              "      <td>5.630557</td>\n",
              "      <td>1.300547</td>\n",
              "      <td>2.487644</td>\n",
              "      <td>6.066393</td>\n",
              "      <td>8.233752</td>\n",
              "      <td>-9.202617</td>\n",
              "      <td>-5.345057</td>\n",
              "      <td>5.844010</td>\n",
              "      <td>1.529182</td>\n",
              "      <td>-3.323277</td>\n",
              "      <td>3.321481</td>\n",
              "      <td>2.621559</td>\n",
              "      <td>-4.425307</td>\n",
              "      <td>4.524257</td>\n",
              "      <td>-4.957104</td>\n",
              "      <td>6.386672</td>\n",
              "      <td>-10.452964</td>\n",
              "    </tr>\n",
              "    <tr>\n",
              "      <th>1</th>\n",
              "      <td>-9.680265</td>\n",
              "      <td>-5.146325</td>\n",
              "      <td>-1.400457</td>\n",
              "      <td>4.109127</td>\n",
              "      <td>9.107175</td>\n",
              "      <td>8.461001</td>\n",
              "      <td>1.703898</td>\n",
              "      <td>-0.734701</td>\n",
              "      <td>-0.662673</td>\n",
              "      <td>3.817067</td>\n",
              "      <td>1.822420</td>\n",
              "      <td>4.052866</td>\n",
              "      <td>-3.271882</td>\n",
              "      <td>7.773785</td>\n",
              "      <td>7.411452</td>\n",
              "      <td>-4.505587</td>\n",
              "      <td>2.963060</td>\n",
              "      <td>7.674272</td>\n",
              "      <td>-9.869400</td>\n",
              "      <td>-8.226315</td>\n",
              "      <td>8.427967</td>\n",
              "      <td>5.859954</td>\n",
              "      <td>2.930561</td>\n",
              "      <td>4.895293</td>\n",
              "      <td>-7.116522</td>\n",
              "      <td>-8.471998</td>\n",
              "      <td>5.241182</td>\n",
              "      <td>-1.075735</td>\n",
              "      <td>4.753808</td>\n",
              "    </tr>\n",
              "    <tr>\n",
              "      <th>2</th>\n",
              "      <td>10.088068</td>\n",
              "      <td>6.267673</td>\n",
              "      <td>-5.007461</td>\n",
              "      <td>-6.157636</td>\n",
              "      <td>-4.656535</td>\n",
              "      <td>9.834261</td>\n",
              "      <td>1.608311</td>\n",
              "      <td>6.068735</td>\n",
              "      <td>-10.170915</td>\n",
              "      <td>7.084125</td>\n",
              "      <td>-9.178798</td>\n",
              "      <td>-7.684204</td>\n",
              "      <td>-11.860847</td>\n",
              "      <td>-3.715293</td>\n",
              "      <td>-3.697722</td>\n",
              "      <td>9.908313</td>\n",
              "      <td>6.599582</td>\n",
              "      <td>0.364110</td>\n",
              "      <td>7.548956</td>\n",
              "      <td>-8.481781</td>\n",
              "      <td>5.089799</td>\n",
              "      <td>-7.056839</td>\n",
              "      <td>-5.440225</td>\n",
              "      <td>7.366136</td>\n",
              "      <td>-6.099482</td>\n",
              "      <td>5.900475</td>\n",
              "      <td>-0.567453</td>\n",
              "      <td>3.676044</td>\n",
              "      <td>3.636315</td>\n",
              "    </tr>\n",
              "    <tr>\n",
              "      <th>3</th>\n",
              "      <td>-5.619996</td>\n",
              "      <td>-0.729111</td>\n",
              "      <td>7.873232</td>\n",
              "      <td>-7.234014</td>\n",
              "      <td>-3.057497</td>\n",
              "      <td>-2.156534</td>\n",
              "      <td>-4.396004</td>\n",
              "      <td>-8.843602</td>\n",
              "      <td>-6.002348</td>\n",
              "      <td>6.974013</td>\n",
              "      <td>-6.001278</td>\n",
              "      <td>-8.506518</td>\n",
              "      <td>-2.456330</td>\n",
              "      <td>1.138076</td>\n",
              "      <td>-3.899233</td>\n",
              "      <td>9.395032</td>\n",
              "      <td>-6.214876</td>\n",
              "      <td>9.013846</td>\n",
              "      <td>1.558676</td>\n",
              "      <td>6.049342</td>\n",
              "      <td>2.618855</td>\n",
              "      <td>-7.194114</td>\n",
              "      <td>-10.214505</td>\n",
              "      <td>8.954457</td>\n",
              "      <td>7.642740</td>\n",
              "      <td>4.098489</td>\n",
              "      <td>-1.835569</td>\n",
              "      <td>-1.134072</td>\n",
              "      <td>7.054722</td>\n",
              "    </tr>\n",
              "    <tr>\n",
              "      <th>4</th>\n",
              "      <td>-10.918593</td>\n",
              "      <td>-6.447384</td>\n",
              "      <td>1.260397</td>\n",
              "      <td>6.235345</td>\n",
              "      <td>10.998694</td>\n",
              "      <td>9.431398</td>\n",
              "      <td>4.326759</td>\n",
              "      <td>-1.366271</td>\n",
              "      <td>0.720983</td>\n",
              "      <td>2.657494</td>\n",
              "      <td>5.502511</td>\n",
              "      <td>6.129621</td>\n",
              "      <td>-1.155109</td>\n",
              "      <td>9.711989</td>\n",
              "      <td>5.343099</td>\n",
              "      <td>-7.353672</td>\n",
              "      <td>2.485260</td>\n",
              "      <td>7.425995</td>\n",
              "      <td>-9.048266</td>\n",
              "      <td>-7.630582</td>\n",
              "      <td>7.810077</td>\n",
              "      <td>6.552491</td>\n",
              "      <td>3.859978</td>\n",
              "      <td>5.717528</td>\n",
              "      <td>-3.768863</td>\n",
              "      <td>-7.753635</td>\n",
              "      <td>5.075417</td>\n",
              "      <td>-1.536883</td>\n",
              "      <td>5.055226</td>\n",
              "    </tr>\n",
              "    <tr>\n",
              "      <th>...</th>\n",
              "      <td>...</td>\n",
              "      <td>...</td>\n",
              "      <td>...</td>\n",
              "      <td>...</td>\n",
              "      <td>...</td>\n",
              "      <td>...</td>\n",
              "      <td>...</td>\n",
              "      <td>...</td>\n",
              "      <td>...</td>\n",
              "      <td>...</td>\n",
              "      <td>...</td>\n",
              "      <td>...</td>\n",
              "      <td>...</td>\n",
              "      <td>...</td>\n",
              "      <td>...</td>\n",
              "      <td>...</td>\n",
              "      <td>...</td>\n",
              "      <td>...</td>\n",
              "      <td>...</td>\n",
              "      <td>...</td>\n",
              "      <td>...</td>\n",
              "      <td>...</td>\n",
              "      <td>...</td>\n",
              "      <td>...</td>\n",
              "      <td>...</td>\n",
              "      <td>...</td>\n",
              "      <td>...</td>\n",
              "      <td>...</td>\n",
              "      <td>...</td>\n",
              "    </tr>\n",
              "    <tr>\n",
              "      <th>9995</th>\n",
              "      <td>-5.982394</td>\n",
              "      <td>-2.377600</td>\n",
              "      <td>3.991366</td>\n",
              "      <td>2.066386</td>\n",
              "      <td>8.939499</td>\n",
              "      <td>3.515521</td>\n",
              "      <td>-0.687216</td>\n",
              "      <td>-7.096250</td>\n",
              "      <td>-0.483933</td>\n",
              "      <td>-3.487503</td>\n",
              "      <td>-6.412030</td>\n",
              "      <td>1.698171</td>\n",
              "      <td>5.591985</td>\n",
              "      <td>2.200870</td>\n",
              "      <td>1.710173</td>\n",
              "      <td>4.215186</td>\n",
              "      <td>7.796989</td>\n",
              "      <td>7.679128</td>\n",
              "      <td>5.763228</td>\n",
              "      <td>-5.406276</td>\n",
              "      <td>-5.459429</td>\n",
              "      <td>8.663905</td>\n",
              "      <td>-0.663315</td>\n",
              "      <td>-1.347786</td>\n",
              "      <td>1.658434</td>\n",
              "      <td>4.270892</td>\n",
              "      <td>5.375995</td>\n",
              "      <td>-0.445427</td>\n",
              "      <td>10.680069</td>\n",
              "    </tr>\n",
              "    <tr>\n",
              "      <th>9996</th>\n",
              "      <td>9.351393</td>\n",
              "      <td>5.487986</td>\n",
              "      <td>5.947889</td>\n",
              "      <td>-8.621342</td>\n",
              "      <td>5.833916</td>\n",
              "      <td>-0.831200</td>\n",
              "      <td>0.799592</td>\n",
              "      <td>2.719228</td>\n",
              "      <td>-3.751520</td>\n",
              "      <td>-4.101230</td>\n",
              "      <td>3.144996</td>\n",
              "      <td>3.296714</td>\n",
              "      <td>7.119346</td>\n",
              "      <td>3.873315</td>\n",
              "      <td>-10.067322</td>\n",
              "      <td>-7.486359</td>\n",
              "      <td>5.966499</td>\n",
              "      <td>-6.699479</td>\n",
              "      <td>-5.169989</td>\n",
              "      <td>7.498531</td>\n",
              "      <td>8.563825</td>\n",
              "      <td>0.733198</td>\n",
              "      <td>-6.472467</td>\n",
              "      <td>4.942586</td>\n",
              "      <td>-0.162590</td>\n",
              "      <td>2.895984</td>\n",
              "      <td>5.859200</td>\n",
              "      <td>1.094162</td>\n",
              "      <td>0.813355</td>\n",
              "    </tr>\n",
              "    <tr>\n",
              "      <th>9997</th>\n",
              "      <td>7.818759</td>\n",
              "      <td>6.398568</td>\n",
              "      <td>-4.755216</td>\n",
              "      <td>-5.181228</td>\n",
              "      <td>-3.405445</td>\n",
              "      <td>11.223262</td>\n",
              "      <td>3.490421</td>\n",
              "      <td>6.006418</td>\n",
              "      <td>-9.669740</td>\n",
              "      <td>6.020925</td>\n",
              "      <td>-9.548196</td>\n",
              "      <td>-8.811076</td>\n",
              "      <td>-9.948476</td>\n",
              "      <td>-4.142153</td>\n",
              "      <td>-3.013274</td>\n",
              "      <td>8.687351</td>\n",
              "      <td>7.583746</td>\n",
              "      <td>1.857641</td>\n",
              "      <td>5.131343</td>\n",
              "      <td>-10.503256</td>\n",
              "      <td>2.915657</td>\n",
              "      <td>-8.064281</td>\n",
              "      <td>-3.891103</td>\n",
              "      <td>7.350757</td>\n",
              "      <td>-5.370867</td>\n",
              "      <td>5.108498</td>\n",
              "      <td>0.922176</td>\n",
              "      <td>3.686926</td>\n",
              "      <td>3.322278</td>\n",
              "    </tr>\n",
              "    <tr>\n",
              "      <th>9998</th>\n",
              "      <td>-7.750469</td>\n",
              "      <td>9.031552</td>\n",
              "      <td>9.307987</td>\n",
              "      <td>-1.619870</td>\n",
              "      <td>1.449752</td>\n",
              "      <td>-2.457904</td>\n",
              "      <td>6.772582</td>\n",
              "      <td>-7.931218</td>\n",
              "      <td>8.501263</td>\n",
              "      <td>6.798074</td>\n",
              "      <td>1.240366</td>\n",
              "      <td>4.155902</td>\n",
              "      <td>6.037059</td>\n",
              "      <td>0.815239</td>\n",
              "      <td>-5.158712</td>\n",
              "      <td>-5.980060</td>\n",
              "      <td>5.424738</td>\n",
              "      <td>4.949754</td>\n",
              "      <td>-0.027357</td>\n",
              "      <td>9.037065</td>\n",
              "      <td>-4.983274</td>\n",
              "      <td>-2.470661</td>\n",
              "      <td>-4.061016</td>\n",
              "      <td>-3.000973</td>\n",
              "      <td>3.853341</td>\n",
              "      <td>-7.830560</td>\n",
              "      <td>2.054371</td>\n",
              "      <td>2.182887</td>\n",
              "      <td>-10.723758</td>\n",
              "    </tr>\n",
              "    <tr>\n",
              "      <th>9999</th>\n",
              "      <td>11.360828</td>\n",
              "      <td>5.989421</td>\n",
              "      <td>-5.527974</td>\n",
              "      <td>-5.459924</td>\n",
              "      <td>-3.514900</td>\n",
              "      <td>8.817097</td>\n",
              "      <td>-0.313162</td>\n",
              "      <td>9.560471</td>\n",
              "      <td>-10.101839</td>\n",
              "      <td>5.200510</td>\n",
              "      <td>-10.135598</td>\n",
              "      <td>-8.593570</td>\n",
              "      <td>-9.544607</td>\n",
              "      <td>-5.230351</td>\n",
              "      <td>-3.073770</td>\n",
              "      <td>9.298421</td>\n",
              "      <td>7.449832</td>\n",
              "      <td>2.206924</td>\n",
              "      <td>5.900636</td>\n",
              "      <td>-12.027623</td>\n",
              "      <td>6.250410</td>\n",
              "      <td>-8.929068</td>\n",
              "      <td>-5.143601</td>\n",
              "      <td>8.422081</td>\n",
              "      <td>-4.812894</td>\n",
              "      <td>6.345059</td>\n",
              "      <td>-0.791921</td>\n",
              "      <td>5.813688</td>\n",
              "      <td>1.784168</td>\n",
              "    </tr>\n",
              "  </tbody>\n",
              "</table>\n",
              "<p>10000 rows × 29 columns</p>\n",
              "</div>"
            ],
            "text/plain": [
              "             1         2         3   ...        27        28         29\n",
              "0      5.645359 -1.512009 -8.408605  ... -4.957104  6.386672 -10.452964\n",
              "1     -9.680265 -5.146325 -1.400457  ...  5.241182 -1.075735   4.753808\n",
              "2     10.088068  6.267673 -5.007461  ... -0.567453  3.676044   3.636315\n",
              "3     -5.619996 -0.729111  7.873232  ... -1.835569 -1.134072   7.054722\n",
              "4    -10.918593 -6.447384  1.260397  ...  5.075417 -1.536883   5.055226\n",
              "...         ...       ...       ...  ...       ...       ...        ...\n",
              "9995  -5.982394 -2.377600  3.991366  ...  5.375995 -0.445427  10.680069\n",
              "9996   9.351393  5.487986  5.947889  ...  5.859200  1.094162   0.813355\n",
              "9997   7.818759  6.398568 -4.755216  ...  0.922176  3.686926   3.322278\n",
              "9998  -7.750469  9.031552  9.307987  ...  2.054371  2.182887 -10.723758\n",
              "9999  11.360828  5.989421 -5.527974  ... -0.791921  5.813688   1.784168\n",
              "\n",
              "[10000 rows x 29 columns]"
            ]
          },
          "metadata": {
            "tags": []
          },
          "execution_count": 18
        }
      ]
    },
    {
      "cell_type": "code",
      "metadata": {
        "id": "V7iYYluCMcIx",
        "colab": {
          "base_uri": "https://localhost:8080/"
        },
        "outputId": "99170499-85b6-4380-af12-046a0baa29b5"
      },
      "source": [
        "new_Data.shape"
      ],
      "execution_count": 19,
      "outputs": [
        {
          "output_type": "execute_result",
          "data": {
            "text/plain": [
              "(10000, 29)"
            ]
          },
          "metadata": {
            "tags": []
          },
          "execution_count": 19
        }
      ]
    },
    {
      "cell_type": "markdown",
      "metadata": {
        "id": "R8g16r9IYeBd"
      },
      "source": [
        "ทำ Clustering แล้วทำ Visualize ของข้อมูลแบบสองมิติ"
      ]
    },
    {
      "cell_type": "markdown",
      "metadata": {
        "id": "Ui1YFAHdZwEH"
      },
      "source": [
        "Import"
      ]
    },
    {
      "cell_type": "code",
      "metadata": {
        "id": "9Qi_BRHCSzz9"
      },
      "source": [
        "from sklearn.cluster import KMeans"
      ],
      "execution_count": 20,
      "outputs": []
    },
    {
      "cell_type": "markdown",
      "metadata": {
        "id": "UtHhyb4pZ-vJ"
      },
      "source": [
        "Define"
      ]
    },
    {
      "cell_type": "code",
      "metadata": {
        "id": "GAC0myDsZ9fS"
      },
      "source": [
        "kmeans = KMeans(n_clusters=3,random_state=2021)"
      ],
      "execution_count": 27,
      "outputs": []
    },
    {
      "cell_type": "markdown",
      "metadata": {
        "id": "Q4mqDj9va5_U"
      },
      "source": [
        "fit-transform"
      ]
    },
    {
      "cell_type": "code",
      "metadata": {
        "id": "cD5a8i1waqBK",
        "outputId": "a46209e2-302f-4a10-bb7e-7f4e3078bf2a",
        "colab": {
          "base_uri": "https://localhost:8080/"
        }
      },
      "source": [
        "kmeans.fit(new_Data)"
      ],
      "execution_count": 28,
      "outputs": [
        {
          "output_type": "execute_result",
          "data": {
            "text/plain": [
              "KMeans(algorithm='auto', copy_x=True, init='k-means++', max_iter=300,\n",
              "       n_clusters=3, n_init=10, n_jobs=None, precompute_distances='auto',\n",
              "       random_state=2021, tol=0.0001, verbose=0)"
            ]
          },
          "metadata": {
            "tags": []
          },
          "execution_count": 28
        }
      ]
    },
    {
      "cell_type": "code",
      "metadata": {
        "id": "EDN_3cgZcbBA",
        "outputId": "38d496d7-c9c0-4473-ff8c-30ff29fa2699",
        "colab": {
          "base_uri": "https://localhost:8080/"
        }
      },
      "source": [
        "kmeans.cluster_centers_"
      ],
      "execution_count": 29,
      "outputs": [
        {
          "output_type": "execute_result",
          "data": {
            "text/plain": [
              "array([[-1.5456627 ,  0.25781517,  2.40928773, -0.10750198, -0.88632014,\n",
              "        -2.49835529, -0.22768456, -2.46378259,  4.38559333,  1.87623604,\n",
              "         3.5948659 ,  2.69541412,  4.71442694, -0.973899  ,  3.4990912 ,\n",
              "         3.5080643 ,  2.21015434, -4.346085  ,  3.78462975,  0.15743889,\n",
              "        -0.76703649, -2.13559153,  1.01782694, -2.48636489, -4.47607081,\n",
              "        -2.2031181 ,  0.07729235,  1.34740627, -6.68158328],\n",
              "       [ 1.47882354, -2.8933356 ,  0.5357953 ,  1.92347044, -3.62212321,\n",
              "         4.35447446,  1.0156692 ,  2.1086338 , -3.32862248,  1.66950039,\n",
              "        -3.06018237, -3.78770297, -4.14528077, -3.56080701, -0.41180727,\n",
              "         1.60886296, -0.07951553,  3.65054853, -2.93566402,  1.41744566,\n",
              "        -2.205982  , -1.71796173, -3.80952897,  6.75212935, -0.78810482,\n",
              "         2.18060378, -0.01692502,  2.06719533,  3.5196445 ],\n",
              "       [-0.15730541,  1.67045332,  3.86578222, -2.02619681,  7.62319369,\n",
              "         4.66858531, -0.90355063,  0.03175224, -2.2460016 , -0.75573018,\n",
              "         1.91551486,  5.33826619,  4.94295415,  6.73944263,  0.23623628,\n",
              "        -4.56165025,  6.10021749,  1.56898412, -1.57854925,  0.77609563,\n",
              "         3.62218522,  5.82479418,  2.15086549,  5.26285572, -1.71315819,\n",
              "        -1.59630103,  2.8114644 , -0.7532751 ,  5.4432644 ]])"
            ]
          },
          "metadata": {
            "tags": []
          },
          "execution_count": 29
        }
      ]
    },
    {
      "cell_type": "code",
      "metadata": {
        "id": "dYd0aX4bcsTp",
        "outputId": "d43ee578-45e8-40e4-c1e8-e0e0664d1b25",
        "colab": {
          "base_uri": "https://localhost:8080/"
        }
      },
      "source": [
        "y=kmeans.predict(new_Data)\n",
        "y"
      ],
      "execution_count": 32,
      "outputs": [
        {
          "output_type": "execute_result",
          "data": {
            "text/plain": [
              "array([0, 2, 1, ..., 1, 0, 1], dtype=int32)"
            ]
          },
          "metadata": {
            "tags": []
          },
          "execution_count": 32
        }
      ]
    },
    {
      "cell_type": "markdown",
      "metadata": {
        "id": "lxczCy5Ee3MF"
      },
      "source": [
        "###Visualize"
      ]
    },
    {
      "cell_type": "markdown",
      "metadata": {
        "id": "Epj2Wa2De2xY"
      },
      "source": [
        "ทำการลด Dimension โดยวิธี PCA"
      ]
    },
    {
      "cell_type": "code",
      "metadata": {
        "id": "EZqkxXCPdA5I"
      },
      "source": [
        "from sklearn.decomposition import PCA"
      ],
      "execution_count": 33,
      "outputs": []
    },
    {
      "cell_type": "code",
      "metadata": {
        "id": "GYnIwwm5fSi9"
      },
      "source": [
        "pca=PCA(n_components=2)"
      ],
      "execution_count": 34,
      "outputs": []
    },
    {
      "cell_type": "code",
      "metadata": {
        "id": "kHu18KLofX_Q"
      },
      "source": [
        "new_pca=pca.fit_transform(new_Data)"
      ],
      "execution_count": 35,
      "outputs": []
    },
    {
      "cell_type": "code",
      "metadata": {
        "id": "xpG_Ybnpf6iX"
      },
      "source": [
        "import matplotlib"
      ],
      "execution_count": 41,
      "outputs": []
    },
    {
      "cell_type": "code",
      "metadata": {
        "id": "LdWRWh58gLd5"
      },
      "source": [
        "from matplotlib import pyplot as plt"
      ],
      "execution_count": 39,
      "outputs": []
    },
    {
      "cell_type": "code",
      "metadata": {
        "id": "jmjnhfqtfgaC"
      },
      "source": [
        "matplotlib.rcParams['figure.figsize']=[10,10]"
      ],
      "execution_count": 52,
      "outputs": []
    },
    {
      "cell_type": "code",
      "metadata": {
        "id": "M8j6Tl8Zf-fJ",
        "outputId": "de4b680d-c3fc-4d7d-9dad-cab26807dd65",
        "colab": {
          "base_uri": "https://localhost:8080/",
          "height": 592
        }
      },
      "source": [
        "kmeans=KMeans(random_state=2021)\n",
        "kmeans.fit(new_Data)\n",
        "y=kmeans.predict(new_Data)\n",
        "plt.scatter(new_pca[:,0],new_pca[:,1],c=y,alpha=0.5);"
      ],
      "execution_count": 54,
      "outputs": [
        {
          "output_type": "display_data",
          "data": {
            "image/png": "[encoded data removed]",
            "text/plain": [
              "<Figure size 720x720 with 1 Axes>"
            ]
          },
          "metadata": {
            "tags": [],
            "needs_background": "light"
          }
        }
      ]
    },
    {
      "cell_type": "code",
      "metadata": {
        "id": "tw8sljp3hPn_"
      },
      "source": [
        ""
      ],
      "execution_count": null,
      "outputs": []
    }
  ]
}