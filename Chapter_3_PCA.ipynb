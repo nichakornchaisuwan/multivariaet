{
  "nbformat": 4,
  "nbformat_minor": 0,
  "metadata": {
    "colab": {
      "name": "Chapter 3 PCA.ipynb",
      "provenance": [],
      "authorship_tag": "ABX9TyNUtbnAluJQ3GIOh4UM+nyP",
      "include_colab_link": true
    },
    "kernelspec": {
      "name": "python3",
      "display_name": "Python 3"
    }
  },
  "cells": [
    {
      "cell_type": "markdown",
      "metadata": {
        "id": "view-in-github",
        "colab_type": "text"
      },
      "source": [
        "<a href=\"https://colab.research.google.com/github/nichakornchaisuwan/multivariaet/blob/main/Chapter_3_PCA.ipynb\" target=\"_parent\"><img src=\"https://colab.research.google.com/assets/colab-badge.svg\" alt=\"Open In Colab\"/></a>"
      ]
    },
    {
      "cell_type": "markdown",
      "metadata": {
        "id": "j1tOkb_tbyLa"
      },
      "source": [
        "# PCA (Principle Componant Analysis"
      ]
    },
    {
      "cell_type": "markdown",
      "metadata": {
        "id": "BCoQlgNVZvzK"
      },
      "source": [
        "projection"
      ]
    },
    {
      "cell_type": "markdown",
      "metadata": {
        "id": "3H4L1WNWaUA8"
      },
      "source": [
        "![image.png](data:image/png;base64,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)\r\n",
        "\r\n",
        "1. Standardizing the data (ปรับ mean และ std ให้มี mean=0,std=1)\r\n",
        "2. Calculating the covariance matrix (หา coveriance matrix ของข้อมูลเรา)\r\n",
        "3. Cimputing the Eigenvector and Eigenvalues ( คำนวณ eigen values-vectors)\r\n",
        "4.Picking principal Components Using the Explained Variance (เลือกมาเฉพาะ eigen ที่จำเป็น)\r\n",
        "5.Project Data Onto Lower-Dimensional Linear Subspace (Map data ไปบนแกนใหม่)"
      ]
    },
    {
      "cell_type": "markdown",
      "metadata": {
        "id": "BicQkOxbeEn_"
      },
      "source": [
        "## PCA step by step"
      ]
    },
    {
      "cell_type": "code",
      "metadata": {
        "id": "BospIYsQecoB"
      },
      "source": [
        "import pandas as pd"
      ],
      "execution_count": 1,
      "outputs": []
    },
    {
      "cell_type": "markdown",
      "metadata": {
        "id": "esx_T9y_ePSM"
      },
      "source": [
        "load data"
      ]
    },
    {
      "cell_type": "code",
      "metadata": {
        "colab": {
          "base_uri": "https://localhost:8080/",
          "height": 415
        },
        "id": "r6Hp0CPgZaM8",
        "outputId": "f0ba4046-2c5a-44ee-aa72-ea2c68540bca"
      },
      "source": [
        "example_df = pd.read_csv('https://raw.github.com/pandas-dev/pandas/master/pandas/tests/io/data/csv/iris.csv')\r\n",
        "example_df"
      ],
      "execution_count": 2,
      "outputs": [
        {
          "output_type": "execute_result",
          "data": {
            "text/html": [
              "<div>\n",
              "<style scoped>\n",
              "    .dataframe tbody tr th:only-of-type {\n",
              "        vertical-align: middle;\n",
              "    }\n",
              "\n",
              "    .dataframe tbody tr th {\n",
              "        vertical-align: top;\n",
              "    }\n",
              "\n",
              "    .dataframe thead th {\n",
              "        text-align: right;\n",
              "    }\n",
              "</style>\n",
              "<table border=\"1\" class=\"dataframe\">\n",
              "  <thead>\n",
              "    <tr style=\"text-align: right;\">\n",
              "      <th></th>\n",
              "      <th>SepalLength</th>\n",
              "      <th>SepalWidth</th>\n",
              "      <th>PetalLength</th>\n",
              "      <th>PetalWidth</th>\n",
              "      <th>Name</th>\n",
              "    </tr>\n",
              "  </thead>\n",
              "  <tbody>\n",
              "    <tr>\n",
              "      <th>0</th>\n",
              "      <td>5.1</td>\n",
              "      <td>3.5</td>\n",
              "      <td>1.4</td>\n",
              "      <td>0.2</td>\n",
              "      <td>Iris-setosa</td>\n",
              "    </tr>\n",
              "    <tr>\n",
              "      <th>1</th>\n",
              "      <td>4.9</td>\n",
              "      <td>3.0</td>\n",
              "      <td>1.4</td>\n",
              "      <td>0.2</td>\n",
              "      <td>Iris-setosa</td>\n",
              "    </tr>\n",
              "    <tr>\n",
              "      <th>2</th>\n",
              "      <td>4.7</td>\n",
              "      <td>3.2</td>\n",
              "      <td>1.3</td>\n",
              "      <td>0.2</td>\n",
              "      <td>Iris-setosa</td>\n",
              "    </tr>\n",
              "    <tr>\n",
              "      <th>3</th>\n",
              "      <td>4.6</td>\n",
              "      <td>3.1</td>\n",
              "      <td>1.5</td>\n",
              "      <td>0.2</td>\n",
              "      <td>Iris-setosa</td>\n",
              "    </tr>\n",
              "    <tr>\n",
              "      <th>4</th>\n",
              "      <td>5.0</td>\n",
              "      <td>3.6</td>\n",
              "      <td>1.4</td>\n",
              "      <td>0.2</td>\n",
              "      <td>Iris-setosa</td>\n",
              "    </tr>\n",
              "    <tr>\n",
              "      <th>...</th>\n",
              "      <td>...</td>\n",
              "      <td>...</td>\n",
              "      <td>...</td>\n",
              "      <td>...</td>\n",
              "      <td>...</td>\n",
              "    </tr>\n",
              "    <tr>\n",
              "      <th>145</th>\n",
              "      <td>6.7</td>\n",
              "      <td>3.0</td>\n",
              "      <td>5.2</td>\n",
              "      <td>2.3</td>\n",
              "      <td>Iris-virginica</td>\n",
              "    </tr>\n",
              "    <tr>\n",
              "      <th>146</th>\n",
              "      <td>6.3</td>\n",
              "      <td>2.5</td>\n",
              "      <td>5.0</td>\n",
              "      <td>1.9</td>\n",
              "      <td>Iris-virginica</td>\n",
              "    </tr>\n",
              "    <tr>\n",
              "      <th>147</th>\n",
              "      <td>6.5</td>\n",
              "      <td>3.0</td>\n",
              "      <td>5.2</td>\n",
              "      <td>2.0</td>\n",
              "      <td>Iris-virginica</td>\n",
              "    </tr>\n",
              "    <tr>\n",
              "      <th>148</th>\n",
              "      <td>6.2</td>\n",
              "      <td>3.4</td>\n",
              "      <td>5.4</td>\n",
              "      <td>2.3</td>\n",
              "      <td>Iris-virginica</td>\n",
              "    </tr>\n",
              "    <tr>\n",
              "      <th>149</th>\n",
              "      <td>5.9</td>\n",
              "      <td>3.0</td>\n",
              "      <td>5.1</td>\n",
              "      <td>1.8</td>\n",
              "      <td>Iris-virginica</td>\n",
              "    </tr>\n",
              "  </tbody>\n",
              "</table>\n",
              "<p>150 rows × 5 columns</p>\n",
              "</div>"
            ],
            "text/plain": [
              "     SepalLength  SepalWidth  PetalLength  PetalWidth            Name\n",
              "0            5.1         3.5          1.4         0.2     Iris-setosa\n",
              "1            4.9         3.0          1.4         0.2     Iris-setosa\n",
              "2            4.7         3.2          1.3         0.2     Iris-setosa\n",
              "3            4.6         3.1          1.5         0.2     Iris-setosa\n",
              "4            5.0         3.6          1.4         0.2     Iris-setosa\n",
              "..           ...         ...          ...         ...             ...\n",
              "145          6.7         3.0          5.2         2.3  Iris-virginica\n",
              "146          6.3         2.5          5.0         1.9  Iris-virginica\n",
              "147          6.5         3.0          5.2         2.0  Iris-virginica\n",
              "148          6.2         3.4          5.4         2.3  Iris-virginica\n",
              "149          5.9         3.0          5.1         1.8  Iris-virginica\n",
              "\n",
              "[150 rows x 5 columns]"
            ]
          },
          "metadata": {
            "tags": []
          },
          "execution_count": 2
        }
      ]
    },
    {
      "cell_type": "code",
      "metadata": {
        "colab": {
          "base_uri": "https://localhost:8080/",
          "height": 286
        },
        "id": "hpi-tvPUeTCL",
        "outputId": "a6fd587a-3f08-424d-fbf2-ef9f25d2dcb9"
      },
      "source": [
        "pd.plotting.scatter_matrix(example_df);"
      ],
      "execution_count": 3,
      "outputs": [
        {
          "output_type": "display_data",
          "data": {
            "image/png": "[encoded data removed]",
            "text/plain": [
              "<Figure size 432x288 with 16 Axes>"
            ]
          },
          "metadata": {
            "tags": [],
            "needs_background": "light"
          }
        }
      ]
    },
    {
      "cell_type": "code",
      "metadata": {
        "id": "twfjhQY5f0XS"
      },
      "source": [
        "import numpy as np"
      ],
      "execution_count": 4,
      "outputs": []
    },
    {
      "cell_type": "code",
      "metadata": {
        "colab": {
          "base_uri": "https://localhost:8080/"
        },
        "id": "Y71u-GWLflwU",
        "outputId": "8e123ee4-b47b-41b5-c08d-3da5d32f8bb6"
      },
      "source": [
        "data_matrix = np.array(example_df.iloc[:,:-1])\r\n",
        "data_matrix"
      ],
      "execution_count": 5,
      "outputs": [
        {
          "output_type": "execute_result",
          "data": {
            "text/plain": [
              "array([[5.1, 3.5, 1.4, 0.2],\n",
              "       [4.9, 3. , 1.4, 0.2],\n",
              "       [4.7, 3.2, 1.3, 0.2],\n",
              "       [4.6, 3.1, 1.5, 0.2],\n",
              "       [5. , 3.6, 1.4, 0.2],\n",
              "       [5.4, 3.9, 1.7, 0.4],\n",
              "       [4.6, 3.4, 1.4, 0.3],\n",
              "       [5. , 3.4, 1.5, 0.2],\n",
              "       [4.4, 2.9, 1.4, 0.2],\n",
              "       [4.9, 3.1, 1.5, 0.1],\n",
              "       [5.4, 3.7, 1.5, 0.2],\n",
              "       [4.8, 3.4, 1.6, 0.2],\n",
              "       [4.8, 3. , 1.4, 0.1],\n",
              "       [4.3, 3. , 1.1, 0.1],\n",
              "       [5.8, 4. , 1.2, 0.2],\n",
              "       [5.7, 4.4, 1.5, 0.4],\n",
              "       [5.4, 3.9, 1.3, 0.4],\n",
              "       [5.1, 3.5, 1.4, 0.3],\n",
              "       [5.7, 3.8, 1.7, 0.3],\n",
              "       [5.1, 3.8, 1.5, 0.3],\n",
              "       [5.4, 3.4, 1.7, 0.2],\n",
              "       [5.1, 3.7, 1.5, 0.4],\n",
              "       [4.6, 3.6, 1. , 0.2],\n",
              "       [5.1, 3.3, 1.7, 0.5],\n",
              "       [4.8, 3.4, 1.9, 0.2],\n",
              "       [5. , 3. , 1.6, 0.2],\n",
              "       [5. , 3.4, 1.6, 0.4],\n",
              "       [5.2, 3.5, 1.5, 0.2],\n",
              "       [5.2, 3.4, 1.4, 0.2],\n",
              "       [4.7, 3.2, 1.6, 0.2],\n",
              "       [4.8, 3.1, 1.6, 0.2],\n",
              "       [5.4, 3.4, 1.5, 0.4],\n",
              "       [5.2, 4.1, 1.5, 0.1],\n",
              "       [5.5, 4.2, 1.4, 0.2],\n",
              "       [4.9, 3.1, 1.5, 0.1],\n",
              "       [5. , 3.2, 1.2, 0.2],\n",
              "       [5.5, 3.5, 1.3, 0.2],\n",
              "       [4.9, 3.1, 1.5, 0.1],\n",
              "       [4.4, 3. , 1.3, 0.2],\n",
              "       [5.1, 3.4, 1.5, 0.2],\n",
              "       [5. , 3.5, 1.3, 0.3],\n",
              "       [4.5, 2.3, 1.3, 0.3],\n",
              "       [4.4, 3.2, 1.3, 0.2],\n",
              "       [5. , 3.5, 1.6, 0.6],\n",
              "       [5.1, 3.8, 1.9, 0.4],\n",
              "       [4.8, 3. , 1.4, 0.3],\n",
              "       [5.1, 3.8, 1.6, 0.2],\n",
              "       [4.6, 3.2, 1.4, 0.2],\n",
              "       [5.3, 3.7, 1.5, 0.2],\n",
              "       [5. , 3.3, 1.4, 0.2],\n",
              "       [7. , 3.2, 4.7, 1.4],\n",
              "       [6.4, 3.2, 4.5, 1.5],\n",
              "       [6.9, 3.1, 4.9, 1.5],\n",
              "       [5.5, 2.3, 4. , 1.3],\n",
              "       [6.5, 2.8, 4.6, 1.5],\n",
              "       [5.7, 2.8, 4.5, 1.3],\n",
              "       [6.3, 3.3, 4.7, 1.6],\n",
              "       [4.9, 2.4, 3.3, 1. ],\n",
              "       [6.6, 2.9, 4.6, 1.3],\n",
              "       [5.2, 2.7, 3.9, 1.4],\n",
              "       [5. , 2. , 3.5, 1. ],\n",
              "       [5.9, 3. , 4.2, 1.5],\n",
              "       [6. , 2.2, 4. , 1. ],\n",
              "       [6.1, 2.9, 4.7, 1.4],\n",
              "       [5.6, 2.9, 3.6, 1.3],\n",
              "       [6.7, 3.1, 4.4, 1.4],\n",
              "       [5.6, 3. , 4.5, 1.5],\n",
              "       [5.8, 2.7, 4.1, 1. ],\n",
              "       [6.2, 2.2, 4.5, 1.5],\n",
              "       [5.6, 2.5, 3.9, 1.1],\n",
              "       [5.9, 3.2, 4.8, 1.8],\n",
              "       [6.1, 2.8, 4. , 1.3],\n",
              "       [6.3, 2.5, 4.9, 1.5],\n",
              "       [6.1, 2.8, 4.7, 1.2],\n",
              "       [6.4, 2.9, 4.3, 1.3],\n",
              "       [6.6, 3. , 4.4, 1.4],\n",
              "       [6.8, 2.8, 4.8, 1.4],\n",
              "       [6.7, 3. , 5. , 1.7],\n",
              "       [6. , 2.9, 4.5, 1.5],\n",
              "       [5.7, 2.6, 3.5, 1. ],\n",
              "       [5.5, 2.4, 3.8, 1.1],\n",
              "       [5.5, 2.4, 3.7, 1. ],\n",
              "       [5.8, 2.7, 3.9, 1.2],\n",
              "       [6. , 2.7, 5.1, 1.6],\n",
              "       [5.4, 3. , 4.5, 1.5],\n",
              "       [6. , 3.4, 4.5, 1.6],\n",
              "       [6.7, 3.1, 4.7, 1.5],\n",
              "       [6.3, 2.3, 4.4, 1.3],\n",
              "       [5.6, 3. , 4.1, 1.3],\n",
              "       [5.5, 2.5, 4. , 1.3],\n",
              "       [5.5, 2.6, 4.4, 1.2],\n",
              "       [6.1, 3. , 4.6, 1.4],\n",
              "       [5.8, 2.6, 4. , 1.2],\n",
              "       [5. , 2.3, 3.3, 1. ],\n",
              "       [5.6, 2.7, 4.2, 1.3],\n",
              "       [5.7, 3. , 4.2, 1.2],\n",
              "       [5.7, 2.9, 4.2, 1.3],\n",
              "       [6.2, 2.9, 4.3, 1.3],\n",
              "       [5.1, 2.5, 3. , 1.1],\n",
              "       [5.7, 2.8, 4.1, 1.3],\n",
              "       [6.3, 3.3, 6. , 2.5],\n",
              "       [5.8, 2.7, 5.1, 1.9],\n",
              "       [7.1, 3. , 5.9, 2.1],\n",
              "       [6.3, 2.9, 5.6, 1.8],\n",
              "       [6.5, 3. , 5.8, 2.2],\n",
              "       [7.6, 3. , 6.6, 2.1],\n",
              "       [4.9, 2.5, 4.5, 1.7],\n",
              "       [7.3, 2.9, 6.3, 1.8],\n",
              "       [6.7, 2.5, 5.8, 1.8],\n",
              "       [7.2, 3.6, 6.1, 2.5],\n",
              "       [6.5, 3.2, 5.1, 2. ],\n",
              "       [6.4, 2.7, 5.3, 1.9],\n",
              "       [6.8, 3. , 5.5, 2.1],\n",
              "       [5.7, 2.5, 5. , 2. ],\n",
              "       [5.8, 2.8, 5.1, 2.4],\n",
              "       [6.4, 3.2, 5.3, 2.3],\n",
              "       [6.5, 3. , 5.5, 1.8],\n",
              "       [7.7, 3.8, 6.7, 2.2],\n",
              "       [7.7, 2.6, 6.9, 2.3],\n",
              "       [6. , 2.2, 5. , 1.5],\n",
              "       [6.9, 3.2, 5.7, 2.3],\n",
              "       [5.6, 2.8, 4.9, 2. ],\n",
              "       [7.7, 2.8, 6.7, 2. ],\n",
              "       [6.3, 2.7, 4.9, 1.8],\n",
              "       [6.7, 3.3, 5.7, 2.1],\n",
              "       [7.2, 3.2, 6. , 1.8],\n",
              "       [6.2, 2.8, 4.8, 1.8],\n",
              "       [6.1, 3. , 4.9, 1.8],\n",
              "       [6.4, 2.8, 5.6, 2.1],\n",
              "       [7.2, 3. , 5.8, 1.6],\n",
              "       [7.4, 2.8, 6.1, 1.9],\n",
              "       [7.9, 3.8, 6.4, 2. ],\n",
              "       [6.4, 2.8, 5.6, 2.2],\n",
              "       [6.3, 2.8, 5.1, 1.5],\n",
              "       [6.1, 2.6, 5.6, 1.4],\n",
              "       [7.7, 3. , 6.1, 2.3],\n",
              "       [6.3, 3.4, 5.6, 2.4],\n",
              "       [6.4, 3.1, 5.5, 1.8],\n",
              "       [6. , 3. , 4.8, 1.8],\n",
              "       [6.9, 3.1, 5.4, 2.1],\n",
              "       [6.7, 3.1, 5.6, 2.4],\n",
              "       [6.9, 3.1, 5.1, 2.3],\n",
              "       [5.8, 2.7, 5.1, 1.9],\n",
              "       [6.8, 3.2, 5.9, 2.3],\n",
              "       [6.7, 3.3, 5.7, 2.5],\n",
              "       [6.7, 3. , 5.2, 2.3],\n",
              "       [6.3, 2.5, 5. , 1.9],\n",
              "       [6.5, 3. , 5.2, 2. ],\n",
              "       [6.2, 3.4, 5.4, 2.3],\n",
              "       [5.9, 3. , 5.1, 1.8]])"
            ]
          },
          "metadata": {
            "tags": []
          },
          "execution_count": 5
        }
      ]
    },
    {
      "cell_type": "code",
      "metadata": {
        "colab": {
          "base_uri": "https://localhost:8080/"
        },
        "id": "-dbU4ZOUgy_Y",
        "outputId": "d6059ac7-b639-4bb1-a405-945f2d9d78f9"
      },
      "source": [
        "data_matrix = data_matrix.T\r\n",
        "print(data_matrix.shape)\r\n",
        "data_matrix"
      ],
      "execution_count": 6,
      "outputs": [
        {
          "output_type": "stream",
          "text": [
            "(4, 150)\n"
          ],
          "name": "stdout"
        },
        {
          "output_type": "execute_result",
          "data": {
            "text/plain": [
              "array([[5.1, 4.9, 4.7, 4.6, 5. , 5.4, 4.6, 5. , 4.4, 4.9, 5.4, 4.8, 4.8,\n",
              "        4.3, 5.8, 5.7, 5.4, 5.1, 5.7, 5.1, 5.4, 5.1, 4.6, 5.1, 4.8, 5. ,\n",
              "        5. , 5.2, 5.2, 4.7, 4.8, 5.4, 5.2, 5.5, 4.9, 5. , 5.5, 4.9, 4.4,\n",
              "        5.1, 5. , 4.5, 4.4, 5. , 5.1, 4.8, 5.1, 4.6, 5.3, 5. , 7. , 6.4,\n",
              "        6.9, 5.5, 6.5, 5.7, 6.3, 4.9, 6.6, 5.2, 5. , 5.9, 6. , 6.1, 5.6,\n",
              "        6.7, 5.6, 5.8, 6.2, 5.6, 5.9, 6.1, 6.3, 6.1, 6.4, 6.6, 6.8, 6.7,\n",
              "        6. , 5.7, 5.5, 5.5, 5.8, 6. , 5.4, 6. , 6.7, 6.3, 5.6, 5.5, 5.5,\n",
              "        6.1, 5.8, 5. , 5.6, 5.7, 5.7, 6.2, 5.1, 5.7, 6.3, 5.8, 7.1, 6.3,\n",
              "        6.5, 7.6, 4.9, 7.3, 6.7, 7.2, 6.5, 6.4, 6.8, 5.7, 5.8, 6.4, 6.5,\n",
              "        7.7, 7.7, 6. , 6.9, 5.6, 7.7, 6.3, 6.7, 7.2, 6.2, 6.1, 6.4, 7.2,\n",
              "        7.4, 7.9, 6.4, 6.3, 6.1, 7.7, 6.3, 6.4, 6. , 6.9, 6.7, 6.9, 5.8,\n",
              "        6.8, 6.7, 6.7, 6.3, 6.5, 6.2, 5.9],\n",
              "       [3.5, 3. , 3.2, 3.1, 3.6, 3.9, 3.4, 3.4, 2.9, 3.1, 3.7, 3.4, 3. ,\n",
              "        3. , 4. , 4.4, 3.9, 3.5, 3.8, 3.8, 3.4, 3.7, 3.6, 3.3, 3.4, 3. ,\n",
              "        3.4, 3.5, 3.4, 3.2, 3.1, 3.4, 4.1, 4.2, 3.1, 3.2, 3.5, 3.1, 3. ,\n",
              "        3.4, 3.5, 2.3, 3.2, 3.5, 3.8, 3. , 3.8, 3.2, 3.7, 3.3, 3.2, 3.2,\n",
              "        3.1, 2.3, 2.8, 2.8, 3.3, 2.4, 2.9, 2.7, 2. , 3. , 2.2, 2.9, 2.9,\n",
              "        3.1, 3. , 2.7, 2.2, 2.5, 3.2, 2.8, 2.5, 2.8, 2.9, 3. , 2.8, 3. ,\n",
              "        2.9, 2.6, 2.4, 2.4, 2.7, 2.7, 3. , 3.4, 3.1, 2.3, 3. , 2.5, 2.6,\n",
              "        3. , 2.6, 2.3, 2.7, 3. , 2.9, 2.9, 2.5, 2.8, 3.3, 2.7, 3. , 2.9,\n",
              "        3. , 3. , 2.5, 2.9, 2.5, 3.6, 3.2, 2.7, 3. , 2.5, 2.8, 3.2, 3. ,\n",
              "        3.8, 2.6, 2.2, 3.2, 2.8, 2.8, 2.7, 3.3, 3.2, 2.8, 3. , 2.8, 3. ,\n",
              "        2.8, 3.8, 2.8, 2.8, 2.6, 3. , 3.4, 3.1, 3. , 3.1, 3.1, 3.1, 2.7,\n",
              "        3.2, 3.3, 3. , 2.5, 3. , 3.4, 3. ],\n",
              "       [1.4, 1.4, 1.3, 1.5, 1.4, 1.7, 1.4, 1.5, 1.4, 1.5, 1.5, 1.6, 1.4,\n",
              "        1.1, 1.2, 1.5, 1.3, 1.4, 1.7, 1.5, 1.7, 1.5, 1. , 1.7, 1.9, 1.6,\n",
              "        1.6, 1.5, 1.4, 1.6, 1.6, 1.5, 1.5, 1.4, 1.5, 1.2, 1.3, 1.5, 1.3,\n",
              "        1.5, 1.3, 1.3, 1.3, 1.6, 1.9, 1.4, 1.6, 1.4, 1.5, 1.4, 4.7, 4.5,\n",
              "        4.9, 4. , 4.6, 4.5, 4.7, 3.3, 4.6, 3.9, 3.5, 4.2, 4. , 4.7, 3.6,\n",
              "        4.4, 4.5, 4.1, 4.5, 3.9, 4.8, 4. , 4.9, 4.7, 4.3, 4.4, 4.8, 5. ,\n",
              "        4.5, 3.5, 3.8, 3.7, 3.9, 5.1, 4.5, 4.5, 4.7, 4.4, 4.1, 4. , 4.4,\n",
              "        4.6, 4. , 3.3, 4.2, 4.2, 4.2, 4.3, 3. , 4.1, 6. , 5.1, 5.9, 5.6,\n",
              "        5.8, 6.6, 4.5, 6.3, 5.8, 6.1, 5.1, 5.3, 5.5, 5. , 5.1, 5.3, 5.5,\n",
              "        6.7, 6.9, 5. , 5.7, 4.9, 6.7, 4.9, 5.7, 6. , 4.8, 4.9, 5.6, 5.8,\n",
              "        6.1, 6.4, 5.6, 5.1, 5.6, 6.1, 5.6, 5.5, 4.8, 5.4, 5.6, 5.1, 5.1,\n",
              "        5.9, 5.7, 5.2, 5. , 5.2, 5.4, 5.1],\n",
              "       [0.2, 0.2, 0.2, 0.2, 0.2, 0.4, 0.3, 0.2, 0.2, 0.1, 0.2, 0.2, 0.1,\n",
              "        0.1, 0.2, 0.4, 0.4, 0.3, 0.3, 0.3, 0.2, 0.4, 0.2, 0.5, 0.2, 0.2,\n",
              "        0.4, 0.2, 0.2, 0.2, 0.2, 0.4, 0.1, 0.2, 0.1, 0.2, 0.2, 0.1, 0.2,\n",
              "        0.2, 0.3, 0.3, 0.2, 0.6, 0.4, 0.3, 0.2, 0.2, 0.2, 0.2, 1.4, 1.5,\n",
              "        1.5, 1.3, 1.5, 1.3, 1.6, 1. , 1.3, 1.4, 1. , 1.5, 1. , 1.4, 1.3,\n",
              "        1.4, 1.5, 1. , 1.5, 1.1, 1.8, 1.3, 1.5, 1.2, 1.3, 1.4, 1.4, 1.7,\n",
              "        1.5, 1. , 1.1, 1. , 1.2, 1.6, 1.5, 1.6, 1.5, 1.3, 1.3, 1.3, 1.2,\n",
              "        1.4, 1.2, 1. , 1.3, 1.2, 1.3, 1.3, 1.1, 1.3, 2.5, 1.9, 2.1, 1.8,\n",
              "        2.2, 2.1, 1.7, 1.8, 1.8, 2.5, 2. , 1.9, 2.1, 2. , 2.4, 2.3, 1.8,\n",
              "        2.2, 2.3, 1.5, 2.3, 2. , 2. , 1.8, 2.1, 1.8, 1.8, 1.8, 2.1, 1.6,\n",
              "        1.9, 2. , 2.2, 1.5, 1.4, 2.3, 2.4, 1.8, 1.8, 2.1, 2.4, 2.3, 1.9,\n",
              "        2.3, 2.5, 2.3, 1.9, 2. , 2.3, 1.8]])"
            ]
          },
          "metadata": {
            "tags": []
          },
          "execution_count": 6
        }
      ]
    },
    {
      "cell_type": "markdown",
      "metadata": {
        "id": "Qv5P4Cybfc0i"
      },
      "source": [
        "##1. Standardizing the data (ปรับ mean และ std ให้มี mean=0,std=1)"
      ]
    },
    {
      "cell_type": "markdown",
      "metadata": {
        "id": "mWDBI8AP7K25"
      },
      "source": [
        "![image.png](data:image/png;base64,iVBORw0KGgoAAAANSUhEUgAAAgAAAAEgCAYAAADCPMtRAAAgAElEQVR4Ae2ddXRUydb2549vfe9373rvnbl43IUEgrsFD+7uwd0HGQYYZHAGGdxdBrfBBhnc3Z0QgiUkARJIgOdbu0LnpmMkJ52kD/2ctXp1uvtUnapfVU49p2rX3t+BBwmQAAmQAAmQgMUR+M7iaswKkwAJkAAJkAAJgAKAnYAESIAESIAELJAABYAFNjqrTAIkQAIkQAIUAOwDJEACJEACJGCBBCgALLDRWWUSIAESIAESoABgHyABEiABEiABCyRAAWCBjc4qkwAJkAAJkAAFAPsACZAACZAACVggAQoAC2x0VpkESIAESIAEKADYB0iABEiABEjAAglQAFhgo7PKJEACJEACJEABwD5AAiRAAiRAAhZIgALAAhudVSYBEiABEiABCgD2ARIgARIgARKwQAIUABbY6KwyCZAACZAACVAAsA+QAAmQAAmQgAUSoACwwEZnlUmABEiABEiAAoB9gARIgARIgAQskAAFgAU2OqtMAiRAAiRAAhQA7AMkQAIkQAIkYIEEKAAssNFZZRIgARIgARKgAGAfIAESIAESIAELJEABYIGNziqTAAmQAAmQAAUA+wAJkAAJkAAJWCABCgALbHRWmQRIgARIgAQoANgHSIAESIAESMACCVAAWGCjs8okQAIkQAIkQAHAPkACJEACJEACFkiAAsACG51VJgESIAESIAEKAPYBEiABEiABErBAAhQAFtjorDIJkAAJkAAJUACwD5AACZAACZCABRKgALDARmeVSYAESIAESIACgH2ABEiABEiABCyQAAWABTY6q0wCJEACJEACFADsAyRAAiRAAiRggQQoACyw0VllEiABEiABEqAAYB8gARIgARIgAQskQAFggY3OKpMACZAACZAABQD7AAmQAAmQAAlYIAEKAAtsdFaZBEiABEiABCgA2AdIgARIgARIwAIJUABYYKOzyiRAAiRAAiRAAcA+QAIkQAIkQAIWSIACwAIbnVUmARIgARIgAQoA9gESIAESIAESsEACFAAW2OisMgmQAAmQAAlQALAPkAAJkAAJkIAFEqAAsMBGZ5VJgARIgARIgAKAfYAESIAESIAELJAABYAFNjqrTAIkQAIkQAIUAOwDJEACJEACJGCBBCgALLDRWWUSIAESIAESoABgHyABEiABEiABCyRAAWCBjc4qkwAJkAAJkAAFAPsACZAACZAACVggAQoAC2x0VpkESIAESIAEKADYB0iABEiABEjAAglQAFhgo7PKJEACJEACJEABwD5AAiRAAiRAAhZIgALAAhudVSYBEiABEiABCgD2ARIgARIgARKwQAIUABbY6KwyCZAACZAACVAAsA+QgA4JREVH48WLF7h9+y4uXrqCM2fP4/Tps7hy5RqeBAYiMvL9V2v18eMnBDwJxKXLV3H6zDmcOn0GZ8+dx7VrNxAaGobPnz9/NQ+eQALxCUREROLhw8eqL0m/unnrNiIjI+Ofxs9mQIACwAwagUUggZQQkAE5IiICjwOe4PiJk1ixag1+GT0OPXr1R1v/LmjZuj369R+COXMX4OChv3H//gO8ffs2QdYfP37Ei5evlGCYNXs+evcdiFZtOqJ5i3Zo598FPw7+GVu2bseNGzfx5k3C9Aky5Bck8IVARGQkzpw5h6m/zYR/h65o3aYDfh4+WgnUN2/epIlT+Ju3uH37Dm7cvIVbt+/g3r0H6v+BQlU7VgoA7eyYkgQyjED0x2g8e/Ycu3btRpPmbfHdP63wQ3ZH5LB2hZWdO2zsPWDj4KH+zprLWf1er0Fz/LFhM0JCXseWUwb/O3fu4tfxU9Q5WXM6f0nvCRsHT5VPLls3/PMHO5QtXw3r1m3A69ehsen5BwkkR+DgoSNo0qw1/vGDLay/9Mn/ZHdCw6atceLk6eSSJvtb+Js3WLd+I3wKlEAuOw/YOXmhROmK2Lf/IN69e5dsWv6YNAEKgKTZ8BcSMBsC5y9cxOChw+GeuyDcPPPDwcVbDdjZrFzwfVYH/CurPbJbuajvHV3zwNHFGy7uPihWsjy69+qHd+8iVF3kJtyn/2A4u/nAwdkb9k5eyGHlgn9ndcD32RxhZeuu0qr0bj7Im784fh03yWw4sCDmS0DEZZ9+g5E3fwk4OHvByTWPetk75UZZXz/s339AU+Gl7+7Y+SdKl62i+rfkK308d57CaNHCHwFPnmjKl4kACgD2AhIwZwKfgT17/0K79l3VDc/W0RN2jrnxfTYHNG3eBjN+n4Ot23aqG+TM3+fCxs5TDezqJunirQZz73zFsHDhUvW01LP3QCUi7Bw9YevgiaIly2PKbzOwc9cebNu+EyNH/Qp7Zy84usSICGt7dzRo1ALyZMeDBJIiINPwr4KD0aBh89j+ZxAAMrPUqm1HZWeSVPrkvg8IeII27TrDLXd+1Z8NfdvDqyBq12mMR48DkkvO35IhQAGQDBz+RAKZSUBuqmfPXUCXbr2QJ18xNcUvN7+iJXwxf+ESHD9+Eo8fP0FYWBjCw8OVbcCq1etRrryfGsANN0p5r16zAZq3bKfSyqAuT0/yecfO3Xj48BHCwsLVtQb8OFQ9vckTlqSTp7fipSpg/MQpkCc8HiSQGIHo6GhcvnwVlf3qQMSl9B3DK5eNG4aPHKvW7RNLm9x38j8g+eYvWBLObnlj85TZK5/8xdGtZ18EBT1LLgv+lgwBCoBk4PAnEsgsAp8+fVI3tj79BsHbp6ga/L3zFkHjpq2xaPGyJI3zPnz4gJGjxqFIsXLqSd5wE5aZAxn47ZxyQ56cmjRrgz9374VcR44LFy9jwsSp8K1YLfYpS9LKUoB77gLKoEusu3mQQGIEpG9s3LQVJUtXVKLR0O/kPUtOZyxesgxBz1I/UMv6/t59fyl7AumLhnxl6apYCV/MmjMfIa//a+OSWNn4XdIEKACSZsNfSCDTCAQHh2Dduo343yz2ap1e1vMbNWmljPq+Vqg//9yLOvWaxM4YGG6a8i5PZxUq1cDCxcvx6VPMNr/o6I8YNXo87J28Ezy9yVKApGvcpBVCw8O/dmn+bqEEZNvoL6PGqSf1uOv/0ndkuUrEppYdJU+fBmH+/MWwsvcwEqbSj30rVMeBA3+rnQAWij3N1aYASDNCZkACpiUgU+0HDx6GnbO3mo4Xi+fqtRpg89btKbrQ5i3bUaN2Q9g6eMQ+McmNWJ6gbB1yY9CQ4QgN++9gfuv2XXTo3AM5rF2MzjekkRmD9p264/37Dym6Pk+yPAIBAYFqmcnFPW/s8pP0HyfXvLB39oYYsX7+HDPblBo64uOiW4++SgTH5BcjSMUORvq4rP+LgOWhjQAFgDZuTEUC6UbgwcNHmDBpmtqeJ4O2WPcvW7HaaDtfchc/dPiIMtyTrYHGN01PVKpSC8tXrDZKfuDg32jUtDWs7dyNzpe0stvAK28R9OjZD1FRUUbpUvtBhI1hN0Jq0/J88yUg6/8XLlxEoaJljQZq6buuHvlQqWpt3L13X1MFxABWbFCkHxr6ssFAVZbD3n7Z3aIpcybiLgD2ARIwNwIyXVq2vJ9aSxVjvHb+XXHp0pUUF1P2/lerWV9Z+RtumvIuQqLfgCHK2M+QmSwC7Nt3AA0at1Q2AnHPl79FRFStXlftwdbqcOXmzdsYPXYC/GrUQ41aDVG3QVPcunU7zYLCUAe+Zy4BcfAjfS5v/mJG2/9EAHh6F8KQoSPx/PmLVBdSvAcuW74K1vaeRtP/sv5folRFjB4zAR8/8ek/1WDjJOAMQBwY/JMEMpuA3EznL1isbnqylurgkgerVq3Dq1fBKSqaGPWN+GUsChcra3QzlsE8S04nzJg5RzkUipuZiItWbTogSw5HoxutLCE4u/ugX//BkLVYLceTJ4EYO26S8kcg1uAiKLJbu2L58tV4+fKVliyZxswIiIMq2T4qO0tk0DeISOm/sgV11ep1eBOeei+A0ucmT52OnDausXkqUergoWxc1v+xie6q09gXKADSCJDJScCUBMTF6bDho/CvLHbKYr94yYq4fOVqirfgvX37Ds1btlcDd9ybsdw4bR1zqyf5+FP5YkU9e+4C+FWvp9ZsZSnAytYN5SpUw4+Dh2H//oOaqyjbDKtWq4NcX27iMn0rHuLE6FD2d/PQPwGJR1GnXjPloCpunxN/EvkLlcKpU2c0zfacP38Rvfv+qESjQVTIu3iq9G/fFWfOntM/vEyuAQVAJjcAL08CcQmcPn1O+eIXD3yy9jnwx5/w7PnzuKck+/fDR49RvWZ9JR7i3jTlxlyydCX8deBQounlSV2e1Fq0ao/adRujVt3GmD5zNm7fuZvo+Sn9cvqMOSjrW1U5L5LySDly2rhhym8zNc8qpPTayZ0ngZAkYJJMM+vpJdvtZKunYQdHcnXMiN9kxkmCSMlW0bj79FVbu+ZBuQp+ePToMbTEldq6dQdq1WlkZFcg+ea0dkXf/oMRGPg0I6r4TV+DAuCbbl5WTm8EXr58qXYAzJo1HwsXLcO16zfUDT8l9ZCb8f6/Din7AbGSNggAeeqWp7H+A4aoQCrJ5SV5yEsM9rTctOPnvXTFalSsUlPZIxieDl088qu93eLfPTOOqKho5fzo4KHDEANIPb327T8Q4wDKTGZPwsPfKE+U4kraKc70v7R1bjEe7dVPUywJEWjTps9SRoSGfmMQkI7O3hgzdiJ3pZjgn4cCwAQQmQUJmIqADL7v37+H2AJIJD+xsE7pISGCZY2/aHFfo6cmuYHK9r858xZluNe0cxcuoWadRvju/2TH//2XjXJqJJHiQsMyL9zw9Ru3lLMknwIlUbBIaRQsUkZHr9IoVLQMevUeYBZBcB4/DoC4oJaYFAbBKe/iQVI8VooRn5ZQwK9fv1ZLYdnjbU0VA8BSZStj8dLlXP9P6Y0hmfMoAJKBw59IQE8EZItd0xbt4OVTxMgYSwSA7MXes2c/Mtqbn0yzX716HX8dOKxsCc6cPZ/pxn+yt1ymkCVqooqiKFHrdPTKlssZDRu3hMwWZfZx9ux5dO7aO8E6vXie9K1YHRcuXkqViDXU5+Kly+jSrXcCA0CxH5H1/7+PHDOcyvc0EKAASAM8JiUBcyEgW/TEGtunYCk1bRr3aUz+LlaiPMSoSutWvrTUU5YSZN1aZjY+mWJdIS2FARAQEIAZM2ejeMkKKF+phvKMKN4Rzf5VuYaKiFerTmNMmzHbLHwq7Ny1G+V8/YzcThtmAGrVbogXL15q6nPizEpEjgizuH1Zwl//PHy0Zr8Caew631xyCoBvrklZIUskIIOr+POXLXaGQD5y45SnfzHO8u/QDfcfPLRENAnqLLMgIoaWLF2BlavX6eq1dNlKbNm6I83GmQmgaPgi8v17LFqyDOKpMv46vcxCdercQ5P1vxRFto6WLFMpQVwB8Vb5+6y5KgCWhiIzSTwCFADxgPAjCeiRwOvQUGzcvC1GAMQzxpI4AtNnzFJPY3qsG8tsngSeBj3D+AlTIEsScZ/SxQBVgkpNmjJNU8E/fIhC23ad4eKRL4GwEM+Cq9esjw1ipekCTBRLgAIgFgX/IAH9EpBtfMNHjoaNvXEoVgmbKlb3Bw4ehvgI4EECpiJw5sx5dO/ZX7msjisAxI9E85b+kKBUqT3ECDYwMFDFvog//S+RLGWL6/79B1KbLc9PggAFQBJg+DUJ6InAzVu3UbNO4wRrsTI165mnMG7duqvJGCttDGKiDaYtD6Y2VwKbNm9DzdqNYn08GESArNP37N0f12/cSHXRxUnV0WMnlG2GRPwz5CnvVnbuyi/G5SvXUp0vEyROgAIgcS78lgR0Q0CioclN08k94ZSph1cBVK/RIENipovvgLPnzmPipGlo2KQl6jVsjvoNW+C36bMg8QDMwQBQN41q5gWV7amynVMCRcVd/5eBOoeNK34eMVpTn4uIiMC8eYtQJN5WVslXdm3MX7AkUx1ImXmzpLp4FACpRsYEJGBeBGTPtPhFl73YcW/G4otd9rn/OGhYirf/yS4Bsdg/evQEDh78Ww3ogU+/7nFN/LYvWrJchQ0W4y2JK5A1pxNyikvhitXQs/cAiGV3fDfE5kWSpUkpAYlNMfinEcqtc9yndOl/Ht4FMX3GbE0zTiEhr1X43/hxBeQaWXI4Yceu3co/RtxyvouIwPkLl5RzqZMnTyPo2bO4P/PvZAhQACQDhz+RQGYQEMcpd+/eg0QF3LhpCzZs3KIG40ePAhL1zifuekePnZhgz7QYY5Ur74eVq9am+GYs175x8xY6duqOlq3bY8CPP2H7jl1JYhDBIP4H5IYvWw2/z2qvREfzlu2US2FnNx/lBVBu3u38u+DGjVuatoUlWQD+kCkELl++io6deyToc+Jxsmq1uqrPprZg0pfEbXClKjUh3ivjCgvZyeLhXQinz54zMgCUNOKLYNiI0WjYpJWKdrl7777UXtpiz6cAsNimZ8XNkYBMo9+5ew/Tps+GT4ES+E8OR/wrqwP8qtdVA7m4Xo1/yFNPqzadEoT/tXXwVOmOHjludNOMnz7u5+DgEKxYuUY5DpIobEWKlVMuWeOeE/dveaK/du0GnNzyqadBR1cftPXvjC1bt2P2nAXKR7w8FUpZJKywxBuQOvLQN4Fdu/aicZPWCUJIS8Cpdh26aHLUI8sKFy5cROFi5YxiWUj/Eev/ylVqq6WkuOQkzazZ81HW10/tRijjWxVz5iyMewr/ToYABUAycPgTCWQ0gSNHjqFTl54Q3+py45MnIXm3cfBE+UrVMXfeIqMiyRPQ2nV/qL3/cl7cpyZxx9qkWWs8SUUoXxnMS5fzU9eUPdfdevRV9gVGF43zQZYHZKbAyTWvKuOs2fMQHPxaCY6HDx/B07uwCkssuxHy5Csa48I2IiJODvxTbwTEUn/chCkoVaZygn364gGwY6ceOHb8ZKqrJbEhVq1ei3yFShqFspZ+LUsCw0eMThDKOiz8Ddq17wI3zwIqgmWDRi1w9tyFVF/bUhNQAFhqy7PeZkdA9vIPHfaLemqW9fu4g7l8Lly0LMaMnWBUbvG09tv035WBVNzz5abp4VUQXbv3SbHHuLCwMGzctBUybS/pf8juiClTZyDoWeLRCGW5QFyySiQ4cUAkzlsM0QPFMdHp02fh7lUojgAoRgFg1Hr6/CCGeh06dYendyHVT+L2O5npiREAJ1JducePn6B5q/Zw9ypglK/0/bz5imPNug2IOwMmxq/37t1HjdoN1IyBiOT2HbpmuqvpVFc8ExNQAGQifF6aBAwE5Knq2IlTaNKsDXLZuBoN/nKDdXDxRv6CJTFi5BijNXSx/pendAmRGvdGLDdNnwLF1baplBreiZ/+Zi38VSAhCbpSrGR5bN66HR8/fTIU0+hd1mvH/jpJbc8qVKS0slMwXOtVcDB+HTc51pmL5Fe0ZHmMHjOeUdyMKOrrg/RTCQAkAZ6kTeP2OflbBID48JdlqdQcEvJ62YrV8PIpCie3vEb5Ojh5qQBIJ06ehjgJMhwyY7Bl2w6U8a2iXAYXLlYW48ZP5hKTAVAK3ikAUgCJp5BAehOQG+vOnXtQp17TBP7PlQBw9kKJUhUwcfJvRkWZN38xylesnmAvtkz/l/WtgkmTp0GelL52PH/+ArPnLoTDlyUH8e42ZOgIXLt2PcmkckOuVKWWWvsXK/+79+6rc2VZ4s6du8oYzDBA2Dh4oGbthti4eSs+pqA8SV6UP2QqAdkhcuzYSfhWqAaZ7je0r+FdvusgSwDHUr4EIA6qduzcjfqNmifox5KveLL0q1EP9+49MBK/svOkb/9ByFewhLJFaNS4Fbbv+DNT+ejt4hQAemsxlvebJCACYM/ev1C/YfNEBYBEQWvQsDnE+YrhCAh4gq7d+yqDvfjr/7IDoFLVWpg1Z/5XDQBl6n/1mnWQ9VMrWzf1ZFeydCXlPVC2WCV2yPS/LBf84982yJbTWZXr9etQdarc0PfvP6ie5GTtX27i4sSlU5ceuH+f8QgS46mX76RtFy5erkL9JjYDILsAqtdqgE2bt6eoStKPZLupxA2QraMGIWF4NyxltWnTCc9fvIjNM8bnxAXkyVcMzu4+EO+Dgwb/DNkpwyPlBCgAUs6KZ5JAuhEQAbB7TxICwC0vHJzzYPiIMRCXv3JEREZi5qx5KOtbFeIxTW6UcUWALAHkK1BCLQEkFwL43bt3aiCvUauBWkaQPMSSe87cRcmupYrvgVVr1iO7tRucPQrgxq3biIqOVmV7HPAEEyZNi51NkDydXfPi5+Gj6Acg3XpQxmQsu0T69PsR3j5FjfqbYcCOEXtuGPHLGLwOeZ1soWRmSmaRWrfrrHa7xO/Dkpd8JzYmzVv44/nz/9qiPH/2HIuXLFfCUvq6m0d+zJo1L9FtsskWwsJ/pACw8A7A6psHAREAe/cdUDMA1vbuRk9CMt26/o+NePXqlSqsDP6Ll6xA0eLlYrb+ybS9q+ybzmt0U7Z18EBlv9rYt/+gcu5jqKlM0UdFRUOm/YeP/BX5C5dS+cjTW76CJdHGvwvevH1rOD3Jd1nvF4v/0LAwo3OOHD2OAkXKwOnLXm6ZVWjdthP27N1vdB4/6IuA9Ju7d++jQqWaRv0z7uAvf4sglTDLk6ZMh0QMjPUA+Rn49OmzWqOX2SLZvVKoaFk1iMfsdvnSh1Vf/q8fABngi5X0xfXrN9Rs1sePn1REROmrMsNkbeeBXr0H4tTpM/oCagalpQAwg0ZgEUhACIhFs3/7rrEW/fL0I4N6z14D1HS8GN2dO3cBEyZOVQZ6sjYqRlclSldE/4FDsWLVWvw7m2PsFqqYp6f8qFilJpYuW4Vbt26rGQQJhTt3/iLUqdtYOe0x5CNbqbp174OHDx8brbUm1zpyQ5eBwXDELCesh5WdR6wzlx+yO6gdAmI8xkO/BMQA7/jxUyhUpExsH4s/+Md9ahcjUtmFcvjwEdXvHj56hBMnT2H+gqWo36ApSperotb3xT5Etoj6d+ymlpJKlCyvBnZD3tKPxeXw8JFjcObMOeWnokGjlirMtRjHym4ViRAYHh6uX7iZVHIKgEwCz8uSQHwCsnVu2YpVqFazPnLZuMU+ZckMQKs2HdClWy+1575kmYpq4JdoaeIsSCzx79y5F/NEP2K0WhcVYWC4GUsUtSp+dZS46NxV8uigntBkql+e1sTgT4z5Jk+Zhhs3bsYvVqo+X7x0BYOHjICVbcwsRszNu7C6Qce14E5VpjzZLAiIuFu2fI3qX/JUbhigDe/yXYxojZm6l8E5t3dhNG7aGl269lI2IM1atEWFyjWVsZ/00exWLqrvyVbWq9duQFwMz1uwGAWLlIEIA0PesjW1eKkKaNHKH1Wq1YWnd0Hlg0CEphirSjAsHqknQAGQemZMQQLpRuDBg4dYsHAJKletrQZmWQ6QKfTsuZyVkZQM1rJNULz0VahUHRMn/YZLl6/GlkduomN/nYgy5WK2RolxlNxoJQ9JK/75s+Vygjj5ke8KFC6Nzl17Ki+DIiLSemzYsEVZ/xsMxOTaLVu11+QYJq1lYXrTEggKeqYG2/h++mXQF0995SvWUFtV7Z291bS+DODykr6m+l1OJ2S3clafpV9KzADZMiieJ+PuIHkcEKC2i5YoU1H1VRG60o8kjaSXvi8v8UMg9giyfVV8E/BIPQEKgNQzYwoSSFcCgYFPsXzFarRu0wF16jdFFb/aqFCphtruV7FyTRUTXWYEFixcmmjgE0kv7lHbd+yubArEt3rpspVRqmxlJQwkD9lu2LptByUWLly8ZGQjoLVyYWHhGDd+CuydYgwSxS4hp7Ubfp81D1ImHvomcOvWHdSs1UAZ3Bme9OUJXfmoKFRKxYMYPXYCunbrjUZNWkIMS2WLqvQ9Q/8Tb5YSQrh1244Y8tNISN+Tma/4x917DzBj5mw0b+mPeg2aqVkCyUteIo7r1m+qglxdu34zxXEu4l+DnwEKAPYCEjBDArKuLoZSR48ex5q1G7Bw4VLInv8ly1aqPdNBz1/g0+fEHfQYqhMaGoozZ89h2fLVmDh5OsZP/A2Tp87E4qUrlQc/eaIz5XH+4kV185ctfzIwyCBh5+SljBsNDoKkXmIYJtu/xPCRhz4IyLY7sdh3cvVJ4KhHhJ5ftbp48WWbnqzFX7lyTe3Jnzd/0Ze+N031P5ne37//AAJT6J765ctXym5g+co1KhSwuMKWeBJiCyBbEnmkjQAFQNr4MTUJkMAXAhIRUEIBG9aHxfagdbsuyvjQAElcF8+evQCTJk/H5SvXOHVrAGPm7zKob9m6Q8WoMKzLG57+ZS++GKGK4OShLwIUAPpqL5aWBMySgMQxEANDw9q/PP3nsHbF6rXrIXvH5RCfAwcP/62cyMg6sgwoEv+dh/kTePQ4ANNnzEE2K5dYwzwRAOJxUozzli1fheT8TZh/DS2zhBQAltnurDUJmJTA0aMnUKdek9jwsDItbGXrgWvXb8Su0YqB48hR45SjIRe3fDh06G86BjJpK6RfZmfPXkCXbn2U2+e4MwBinFehcg2cPHVa+ZZIvxIw5/QgQAGQHlSZJwlYGAEx9CtX3k9t75Knf6+8hZVr4eCQmKd/8RcgkQNlsJCobV279cHt23ctjJJ+q/vn7r3Kyt8ww2MQAeL7v1bdxsrIkzYd+mtfCgD9tRlLTAJmRUAM+yQoS6GiMQ5iDNPCYvAlwWPkeBr0TMUl+HdWe+SydcfOXXsQRsctZtWOSRUmOjpa7UoxBIoyDP4i9Fw986Nd+y6cyUkKnpl/TwFg5g3E4pGAuRMQATDgx6GQcKxiACjOhSpWroETJ07Hegnctn0X6jdormwEPHMXxNOgIHOvFsv3hUBISAimTfsdWXI6xVv/jwkZPXLUr2SlUwIUADptOBabBMyFgAiAEb/8iuIlKyijMLH+r16zPm7evA3x2y6RAWU/twwg4qBox47dsXYB5lIHliNpAlevXcfAQT8ZeaeUWSMFeqoAACAASURBVABxUtWoaWts27Er6cT8xawJUACYdfOwcCSgDwJ/HzmuBn3x1BZjA1AEjZq0Uo6IfCv4Kb/tYi0uWwXFpSwP/RCQIFUi4MR2wzD9L+/i4a97z364du2GfirDkhoRoAAwwsEPJEACWgiEh79REQrF66Cs84urVit7D/XU/90/cqJm7YZYvGQZAgNjwhlruQbTZDwBMd6cv2AJipeQAD3G/v/FlfSIkWO5/z/jm8VkV6QAMBlKZkQClk1AohWuWbNe+Yvv3qMv+vYbpKz9fxo2UkV5Cwh4YtmAdFh78bY3asx4FZ1PQvYaZgBklsenQHHMnrOAHh112K6GIlMAGEjwnQRIIM0ExGXss2fPcenyFbXN7/yFSyrCW5yIwWm+BjPIOAIPHjxC774/qiA8hsFf3mU7oPjj37Hjz4wrDK9kcgIUACZHygxJgARI4NsgcOjw32qbn0z3xxUA1vYeaufH5Sv/jUT5bdTYsmpBAWBZ7c3akgAJkECKCYiDJ7HfEI9/BgEgSwE5bFxVlMfg4OAU58UTzY8ABYD5tQlLRAIkQAJmQWDy1Bnwq17XSADYO3vB1aMANm7ayvV/s2gl7YWgANDOjilJgARI4JsmIOGo23fohu+z2iNbLmdkt3aBs5sPpv42E/fvP/ym624JlaMASIdWli1REvhEYmKfPXseYgglxjQSAz2lh7hQvXbtOk6fOYdLl68i6JlpY7entBw8jwRIwHIJhIWFqx0cQ4YOR9/+g/HjoGGYOGkq7t17ADH45KFvAhQAJmo/+Wd4/fo1Ll68jC1btmPsuEno2r0vmrXwR5t2nfHruMnYvWc/Ap8GfdVvdlRUNC5duoq+/QajcdPW6NajL7bv/DPWraqJisxsSIAESCBFBCQeQGhomArpnKIEPEkXBCgATNBM4gpVgp2sWLUOLu75YeOQW0VFE8cZDs7e6mXnmBv/zuqA8ROnfjUKWlDQM/TrPwQSM93G3gNFipfD/AWLud5mgrZiFiRAAiRAAjEEKABM0BPOn7+Ifv0Hx4RCdfZSrlDFUYbBalbe5bMIAlvH3OjZewBOnjqT6JVFZW/eukOtt0maHNauGDToZ1y/fjPR8/klCZAACZAACWghQAGghVqcNEePn1COMvLmL6YCocQd9BP7Wyxo8+Qrpqb19/91ME5OQPTHjypMauUqtSFxtiWsaumylbFp09avLhsYZcQPJEACJEACJPAVAhQAXwGU1M8y7f/8+csvg39xFQI1sQE/se9kOcCnQAm1vj9j5hxcuBhjJLhq9To0bNxSDf7y9J81lxPmzl2IJ0/oPz2pduD3JEACJEAC2ghQAGjjhoiISPyxYTOKFveFjYOHmu6XQVue2sVphoTKlJes4ctn+V7sAQyCwLAckK9gCQwcNAzjxk9BrTqNVMQt+U222rRs0wG3bt8BPmssZBqTRUVFITDwKf4+cgzHT5zCiROn1Lv8rcfXkaPHcePGTURERKSRDJOTAAmQgP4JUABobMPHjwNQt34zuHrki13zd3H3QckyFVGtRj3Ua9BMvWRQF0caZXyrqOAZIgAMxoExgsEL2a1ckCWHoxIS8p2Lmw9q1m6EEydP40NUlMYSpj3Z06dBWL58NXwrVEfNuo1Qs46OX3UboULlmhg+ciyuXWf40rT3DuZAAiSgdwIUABpaUPbz79t/EPkKlFBBMWTQdnDxRqmylTHz9zk4fvw0RCDI69r1mzj091EsWrICnbv1Rr5CpeDs7gMXj3zqZZgRkHeDIJB8xMvWu3eZ+6R66vSZGD/gdu6xosWwq8E832XXRVIvb4g/89r1GmPtug0aWp1JSIAESODbIkABoKE9ZZvekJ9GwtO7kBpwJDDGsOGjEBT0HLKH/9OnT5DoZzGvz+pzdFQ0IiPf48WLV8qi/8CBw8qXtlfeonB2y6uWBmSpoKpfXcybv9gsnGyIEyL/9t2QLZeLWsqQ5YyMfgnb+NeU7xJ92XnAOpnXf3I4KbuLnbv2aGh1JiEBEiCBb4sABYCG9pS45l279lED4/98b41BQ4bj6tXrSOlivTgNevnqFbZu26lmEJxc88Lazh1ly/thztyFKnyqhmKZPMmbN28g0b7WrPsDq9duwJqMfK3bgPV/bMa69RvUE7uUYe26jVi/YTP+2LglwWvDxi3YvGV7sq9Nm7ep7ZevX4eanBUzJAESIAG9EaAA0NBib968xZEjx7B6zXo1OIrL3/fvP6Q4p/A3b7B371/o2LmH8h1g65AbJctUwsxZ85QL4RRnlAEnigewV69eKcEioiWjXq9eBSM4OASvgoOVIJIyqO9CQhAc8jrBKyTktfJUJn4UEn+FQgb+1LhjzgC8vAQJkAAJZBoBCoAMRi++tffs/Qv+Hbri31nt1bp/3nzFlYfAu3fvZ3BpeLnMJCDxHkLDwpMQLEkJGX6fuMAjF3JJ2Ac+fMg8I+rMvLek9NoUACklZYLzZOvgjp27Ub9hcxVdSwz/ChYpjf4Dh+LFi5cmuAKz0BMBCaiyact2bNnKFxmwD5i0D8hy4OZtuHP3HkRo80icAAVA4lxM/q3sqd+794Ca6hejNnsnL3h4F0L3nv0RHBxs8usxQ/MnsGLlGnz3XRZY2bnzRQbsA6bsA7bu+OcPtpg1ex6ePn1q/jeDTCohBUAGgA8NDcWSpSuU9z8Z+EUAFCxSBoOHjOCadAbwN9dLKAHwz5zJbF1Maksjv096uyfZkI0XxOV6lhxOmDV7PgVAMjdACoBk4JjipyeBT7Fw8TKU9a2qtvrlsnFVToGmz5iNxwEBprgE89ApgfUbNsHRLS/y5C8GiSXBFxmwD5imD8j/lItnfqxctVYZE+v0FpHuxaYASEfEd+7cxYzf5ypPgLls3ZDTxg1+1eth/oIlePDwUTpemVnrgcC9e/exddsObNuxE9v5IgP2AZP1Afmfkv+tu7QBSPZWSAGQLB7tP4oP/6nTZqJs+arIaeOqrP0r+9XGwkXLGNxHO1amJAESIAESMBEBCgATgTRkI/vmHz56jD59B0G291nZucHFwwdVq9XFmrV/qCBChnP5TgIkQAIkQAKZRYACwMTkHz58jGYt2sHVI78y7pKn/1Jlq2D/X4fAPakmhs3sSIAESIAENBOgANCMzjih+P8/d/4CChcto0L5SnCgH7I7olPX3rh46Qo+S2AAHiRAAiRAAiRgJgQoAEzREJ+Bvw4cQpNmbeDkkkdFBpTAMxIj4OLFy3j//r0prpLhebx4+Qpbtu5Am7Yd4d+hi/JeKB4M9fpq064Tfp89T0VpzHCYvCAJkAAJmBkBCoA0Nkh09Efs23cAbf07K+c+sv/Uyt4dw37+Rc0IiAOg1Bzv3r3D7dt3cPDg3zh2/ITyvS/BgzLjkABHPw4ahv/NYqcMGWU5Q88vcb3crEVb7Nt/IDNw8pokQAIkYFYEKADS0Bwy+EtQIP/2XWHnkFs5n5AQwd169FUhf+X31B4SWOjXcZOVoOjUpZcSARJ8KDOOc+cvolv3vsiayykmJK9DwtC88UP1mu1nBw9ky+WEuvWbYuPmrZmBk9ckARIgAbMiQAGgsTnef/iAK1evoUatRurJX7xveeYphA4du+PRo8eacg0PD8fChUuRw8pFxbv/xw+2WLlqnZoF0JRhGhOJr4LZcxaiUpVaypdBtRr1oNeXX416qFy1FgYPHY7Tp8+lkQyTkwAJkID+CVAAaGhDMei7des2qlavCye3vMra39bBEw0aNsfz5y/w6fMnDbkCx0+cROduvZRPcEeXPMhp64a/jxxDVFS0pvzSmkjqKUsSDx48wsOHjxAQ8AQBT/T5kq2ZIsxCXr+mQWZaOwbTkwAJfBMEKABS2YyyHn/+wkUUL1lBWfs7ungjd57CGDdhiopdn8rsYk+//+Ah+g0YrJ78HZy94eFVEB0698Cjx9pmE2Iz5h8kQAIkQAIkkAgBCoBEoCT31Z+796Jd+y6QJ3QJ5+vomgfungXQo1d//Ll7H46fOIW79+7j7duUrdtHRr7HkaMn0LV7bxQqWgb2TrnVyytvEWzatA2Ztf6fHAP+RgIkQAIkoH8CFACpaMOjx06gU5cecJFpfxdvJQBEBDi75UWpMpXQtHlbtO/QFf0HDsGYsRMwd95CbN++C2fOnceDBw/x9OkzBIeE4MWLl7hx4xZ27tqDX8dNQjv/znDLXQB2jrmVy2D5u0VLf9y7/4DT1aloH55KAiRAAiSQcgIUAClkJQN4/wFDkTdfMbXmLwO/bPmTtX8bsY7/YiFvbe8BCfyTzcoZnnkKo3bdJug/YAimTJ2BOXMXYMmylViwcAl+GT0ODRu1wA/ZHJWFvSwlSJ4iAoqW8MWqNevx9t27FJaOp5EACZAACZBA6ghQAHyFlxjCRUZGYvSY8ShesnzsU7o89RcpXk5ZlvtVr6tC/Hr7FIWs38tALi8Z1O2cvNS6fg5rV2SzckHWXM7IlstFiQQZ7A3nyrvsJPDKUxgdOnVHaGgon/6/0jb8mQRIgARIQDsBCoCvsBMvfqdOnYWndxG13U8GdVtHT7h6FsDEydNw/vxF3L17H5s2b0OLVu2R3cpFDfxxB/aU/C35ivfA1m07KTuCrxSLP5MACZAACZBAmghQAHwFn8ST9q1YTa35yyBtZeeOylVr48Kly3j79h0+f9nyF/3xIx4HBGDCxKkqEJAY86Vk4JdzJN//970Nhg4bies3bkLiCvAgARIgARIggfQkQAGQDN2goGdq3V6e9mWQluA+PXv3V65kE4vsJ1sE799/iOkzZkOWAyQUcHIiQJYLxLXuP36wwdTfZqjB/8OHD8mUiD+RAAmQAAmQgGkIUAAkw/HEiVPwq15Prftb2bqhYeOW2LN3PyIiIpJMJTYDjx4HYM7chahaox4knaz1i8GgrPHbO3mpz9Z27vDwLqS2Dy5YtFQFqMksn/9JVoY/kAAJkAAJfLMEKACSaFqZht//1yEUKlIW+QuXQpFivpg3fzECA58mkcL46ydPAjF5ynRUrVYXpcpVQaGiZdVLLPzLlvdD1er14N+xm5pNiIiINE7MTyRAAiRAAiSQzgQoAJIBfOfuPcz4fS7GTZiKdes3qv37yZye4KdPnz4rN7oSUnfajFmYOu13zFuwBHv2/aXc0vKJPwEyfkECJEACJJBBBCgAkgEtA/S7dxHKH37k+/eQAT21h8wkvH//4Us+EYiIjISs89PQL7UkeT4JkAAJkIApCVAAmJIm8yIBEiABEiABnRCgANBJQ7GYJEACJEACJGBKAhQApqTJvEiABEiABEhAJwQoAHTSUCwmCZAACZAACZiSAAWAKWkyLxIgARIgARLQCQEKAJ00FItJAiRAAiRAAqYkQAFgSprMiwRIgARIgAR0QoACQCcNxWKSAAmQAAmQgCkJUACYkibzIgESIAESIAGdEKAA0ElDsZgkQAIkQAIkYEoCFACmpMm8SIAESIAESEAnBCgAdNJQLCYJkAAJkAAJmJIABYApaTIvEiABEiABEtAJAQoAnTQUi0kCJEACJEACpiRAAWBKmsyLBEiABEiABHRCgAJAJw3FYpIACZAACZCAKQlQAJiSJvMiARIgARIgAZ0QoADQSUOxmCRAAiRAAiRgSgIUAKakybxIgAR0TeDz5894+fIlDh8+gvkLlmDAj0PRtHlb1KzTCLXqNjbpq7JfHaxavR6BgUG6ZsbC65cABYB+244lJwESMBGB8PA3OHHyNGbPXYCBg4ahVduOqFqtLvIXLgVH1zywtnOHtb1pX1lzOqF2ncZYvWa9iWrBbEggdQQoAFLHi2eTAAl8QwSioqJw5co1LF2+Cl2790GBIqUhA7OVrRtsHT3h4OwFRxdvOLnmMflLhEUOK1cMHTYS0dHR3xBVVkUvBCgA9NJSLCcJkIDJCMhUf3h4OI4fP4U+/QbB1TM/ctq4qgE/PQb7xPIUYWHn5IWfR47Gh6gok9WNGZFASglQAKSUFM8jARL4JgjI4P/s2XOsXr0eVjbusLbzgEM6PeUnNvAbvpMZhgoVa2Dx4mXfBFdWQn8EKAD012YsMQmQQBoIBAQ8wdRpvyNPvmJqfd8wIBve5cnc1sETOaxdkSWHE77P5oDvszkiay5n2Nh7fnVJQAZ2WUaQNIbXD9kd8Z/sjpD3f2dzwL+y2OO77/6DyVNn4M7de2moDZOSgHYCFADa2TElCZCAzghcunwFQ4f9Ap8CJWDnmNtoXV8Gfln7FyHQrIU/Jk2ZjlWr12HL1h3YtHkbFi1ejnbtu8DFI58yCkzMNkAMBVu1bo+VK9di85bt2LRpq0r7x4YtWPfHJsj71m07sXvPPmV0+Pz5C67/66wPfUvFpQD4llqTdSEBEkiUgEz7y3a7YT+PQtES5WHj4GE0+NvYeyCPTzH4d+iKxUtW4Njxk7h//xFevnylbAVCw8LUssGp06exZOlKNGrSCu5eBRPMBogdQfcefXH27AXIzoLQ0DD1ev06FCEhryHv4W/eICIiItFy8ksSyEgCFAAZSZvXIgESyBQCMvj+Pms+8hUsCRnsDdP98i6fK1etjREjx+LI0ROIiIxMtoyRkZHYtn0nWrXuACs79wR5NWjUQj39J5sJfyQBMyBAAWAGjcAikAAJpB+B9+/fY//BwyhcrIyyujcM/o4uMVv7ChYpo/b/P3r0OMWF+PDhg1oe8MpT2MiAULYN5i9UEsNHjsHHjx9TnB9PJIHMIEABkBnUeU0SIIEMI3Dnzl3Urd9UbfWLu24vfxcqUgaLl6zE69DQVJfnytVr6D9wKKzjzSjYOeVG+47d1BJAqjNlAhLIQAIUABkIm5ciARLIWAIvXrzEipVr4eiW12iqXp7UvX2KoW//wXj6VJsr3tt37uGX0eOR64vhoGFmwd4pNzp06oa3b99mbGV5NRJIJQEKgFQC4+kkQAL6IbBv/wGUr1Qd9s5eRgJAtvnJuv+lS1c0W+Hfv/8A48ZPRk6bmJ0DBgEgNgVNm7fBgwcP9QOKJbVIAhQAFtnsrDQJfPsEAgOfYspvM2HtKHv3/+vK197JC8VK+GL4iDEQgz6tx9179zF23CTkiicAZCtgvQZNcf7iJa1ZMx0JZAgBCoAMwcyLkAAJZDSBXX/uRZNmbRJY/Utgn5at2uPQoSNpKtLtO3fxy6hxCZYAbO090LBxS1y9ej1N+TMxCaQ3AQqA9CbM/EmABDKcwIcPUZg46Te4euQ32qsvMwEyA/DTz6Pw6lVImsolRoADfvwpoRGggydatemIoKDnacqfiUkgvQlQAKQ3YeZPAiSQ4QTu33+IXn0GIoeVi9Havwz+5XyrYumylRDnQGk5Dhw4hJp1GkKM/gzr//Iu9gXiMTAsLDwt2TMtCaQ7AQqAdEfMC5AACWQ0AXG127R5W+WyN+7gLI57unbrg1OnzqSpSKIdNm7ainwFShr5AZBriRFgG/9OmrYWpqlQTEwCqSRAAZBKYDydBEjA/AnI9H9Z36oJns5z2bhi3PhJCAwMTFMlxMXv7LkLYGVv7AlQfAvkzlMIAwYOZYjfNBFm4owgQAGQEZR5DRIggQwj8PHjJ3Tu2gteeYskWP+XGYCFi5YiMvJ9mspz48Yt/PTzLyrqX9wZBjtHT1SsXAPz5i9KU/5MTAIZQYACICMo8xokQAIZRkAG92Yt2sHZPZ+RABDnP0WL+2Lbtl1pLotE+pOAQLLlL64AEKdAElDo6PGTab4GMyCB9CZAAZDehJk/CZBAhhIQP/0tWreHq4exAJC1+c5de+Ls2fNpKs+nT58wZuwEeEocAGdvIwGQzcoZPw0biadB2rwLpqlgTEwCqSRAAZBKYDydBEjAfAmIZX9Y+Bs0bNgCjq7/df4jT+nydP7z8NG4fuNWGirwGfcfPESHTt0hoX/jPv2LGPDJXwKLFi9LQ/5MSgIZR4ACIONY80okQALpTMBIAMTx/icDddaczli0eDmCnj3TXAp5+l+3fiOq1ayvtvvFCgCXPEoQiHfBq9foAEgzYCbMUAIUABmKmxcjARJIbwLi3ldsAFzcfYxsAP6TwwkrV63Fy5evNBchJOQ1evTshzz5ihpN/8tsg9gX/Ll7b5rcC2suGBOSgAYCFAAaoDEJCZCA+RKIiopSnvhcPY29AKZVAMjT/6HDR1C5ai3lTdDw9C9b/2wcPDFqzAQGADLfbsGSJUKAAiARKPyKBEhAvwQ+fvyIrt17w9vHeBtgljTOALwKDkHvvgORr2AJyI4CEQAy+It74arV6uLixcuIiorWLziW3OIIUABYXJOzwiTw7ROQML2ly1Y2cgSUzcoF8xcsxtOnqbfQf/v2LQ4cOIx/ZbWPHfxFAIjhX+48RbB23QaEv3nz7YNlDb8pAhQA31RzsjIkQAJC4NTps/Dv2A1Wtm6xlvq2jp6o37AFDv2duiiA4eFvsGnLDji75zda95e4AkWK+2Lw0BGIjuaTP3ue/ghQAOivzVhiEiCBrxCIiIjE+AlTjHwByHS9k2tezJm7EGFhYV/JIeZnMRhcvGQ5SpSuoNIa1v0l4E/REr4YO24ynj9/kaK8eBIJmBsBCgBzaxGWhwRIwCQEjh0/iU5dehq565WBW4z4Fi5aBrHoT+oQO4IzZ85jzK8TUaFyjdiQvyIislu5wK96PSUkHj56nFQW/J4EzJ4ABYDZNxELSAIkoIWAPOVv2LgFftXrqgE8ZgYgDyQeQPVaDTBv/mJluPfqVTBkjT88PBxPnjzF6TPnsHzFKvTpNwhFipdTEQUlrYT9FWdCLVr6Y8XKNXjw8JGWYjENCZgNAQoAs2kKFoQESMDUBMTgb+myVahUpRac3fLG+gWwtnOHi3s+9Oo9ECtXrcOOnbuxeet2zJ6zAP4du+P7bA7IYe2iBn2x+Be3wiIGWrXtiL37DuDNm7emLirzI4EMJ0ABkOHIeUESIIGMJPD23Tus37AZhYuVU0Z8sm1PnujFgl+EQJacTmrA/yGbA7LlcobEDHD48ruy9HfxRolSFTF02CiEhITgMz5nZPF5LRJINwIUAOmGlhmTAAmYCwFxEfzs+Qv8NHwUChcvhxxWrpBdAWLJL1P7do4xL/nO2t4DuWzc8EN2RzRp3har1/yBoCDt7oPNhQHLQQLxCVAAxCfCzyRAAt8kgY+fPuFVcDCuX7+Jrdt24tfxU9Cxcw906d4XPw0bhSFDR2DUqHHK6v/AwcO4cvUanjwJhGwDFKNAHiTwrRGgAPjWWpT1IQESSJaAuPQNCwvH48cBuHHjJm7evI379x/g3r0HePjoEV68eImIiAh8+vwp2Xz4IwnonQAFgN5bkOUnARIgARIgAQ0EKAA0QGMSEiABEiABEtA7AQoAvbcgy08CJEACJEACGghQAGiAxiQkQAIkQAIkoHcCFAB6b0GWnwRIgARIgAQ0EKAA0ACNSUiABEiABEhA7wQoAPTegiw/CZAACZAACWggQAGgARqTkAAJkAAJkIDeCVAA6L0FWX4SIAESIAES0ECAAkADNCYhARIgARIgAb0ToADQewuy/CRAAiRAAiSggQAFgAZoTEICJEACJEACeidAAaD3FmT5SYAESIAESEADAQoADdCYhARIgARIgAT0ToACQO8tyPKTAAmQAAmQgAYCFAAaoDEJCZAACZAACeidAAWA3luQ5ScBEiABEiABDQQoADRAYxISIAESIAES0DsBCgC9tyDLTwIkQAIkQAIaCFAAaIDGJCRAAiRAAiSgdwIUAHpvQZafBEiABEiABDQQoADQAI1JSIAESIAESEDvBCgA9N6CLD8JkAAJkAAJaCBAAaABGpOQAAmQAAmQgN4JUADovQVZfhIgARIgARLQQIACQAM0JiEBEiABEiABvROgANB7C7L8JEACJEACJKCBAAWABmhMQgIkQAIkQAJ6J0ABoPcWZPlJgARIgARIQAMBCgAN0JiEBEiABEiABPROgAJA7y3I8pMACZAACZCABgIUABqgMQkJkAAJkAAJ6J0ABYDeW5DlJwESIAESIAENBCgANEBjEhIgARIgARLQOwEKAL23IMtPAiRAAiRAAhoIUABogMYkJEACJEACJKB3AhQAem9Blp8ESIAESIAENBCgANAAjUlIgARIgARIQO8EKAD03oIsPwmQAAmQAAloIEABoAEak5AACZAACZCA3glQAOi9BVl+EiABEiABEtBAgAJAAzQmIQESIAESIAG9E6AA0HsLsvwkQAIkQAIkoIEABYAGaExCAiRAAiRAAnonQAGg9xZk+UmABEiABEhAAwEKAA3QmIQESIAESIAE9E6AAkDvLcjykwAJkAAJkIAGAhQAGqAxCQmQAAmQAAnonQAFgN5bkOUnARIgARIgAQ0EKAA0QGMSEiABEiABEtA7AQoAvbcgy08CJEACJEACGghQAGiAxiQkQAIkQAIkoHcCFAB6b0GWnwRIgARIgAQ0EKAA0ACNSUiABEiABEhA7wQoAPTegiw/CZAACZAACWggQAGgARqTkAAJkAAJkIDeCVAA6L0FWX4SIAESIAES0ECAAkADNCYhARIgARIgAb0ToADQewuy/CRAAiRAAiSggQAFgAZoTEICJEACJEACeidAAaD3FmT5SYAESIAESEADAQoADdCYhARIgARIgAT0ToACQO8tyPKTAAmQAAmQgAYCFAAaoDEJCZAACZAACeidAAWA3luQ5ScBEiABEiABDQQoADRAYxISIAESIAES0DsBCgC9tyDLTwIkQAIkQAIaCFAAaIDGJCRAAiRAAiSgdwIUAHpvQZafBEiABEiABDQQoADQAI1JSIAESIAESEDvBCgA9N6CLD8JkAAJkAAJaCBAAaABGpOQAAmQAAmQgN4JUADovQVZfhIgARIgARLQQIACQAM0JiEBEiABEiABvROgANB7C7L8JEACJEACJKCBAAWABmhMQgIkQAIkQAJ6J0ABoPcWZPlJgARI43kIsAAAAAxJREFUgARIQAOB/w8ybuRgYOzlNgAAAABJRU5ErkJggg==)"
      ]
    },
    {
      "cell_type": "markdown",
      "metadata": {
        "id": "FYciPVFAo230"
      },
      "source": [
        "###วิธีที่ซับซ้อน\r\n"
      ]
    },
    {
      "cell_type": "code",
      "metadata": {
        "colab": {
          "base_uri": "https://localhost:8080/"
        },
        "id": "2Mpbgh_NfY5X",
        "outputId": "cbc7ce25-11c9-4011-83f8-cc544e424d64"
      },
      "source": [
        "meanD = np.mean(data_matrix,axis=1)\r\n",
        "meanD"
      ],
      "execution_count": 7,
      "outputs": [
        {
          "output_type": "execute_result",
          "data": {
            "text/plain": [
              "array([5.84333333, 3.054     , 3.75866667, 1.19866667])"
            ]
          },
          "metadata": {
            "tags": []
          },
          "execution_count": 7
        }
      ]
    },
    {
      "cell_type": "code",
      "metadata": {
        "id": "NdWd3fSm2Mp1",
        "colab": {
          "base_uri": "https://localhost:8080/"
        },
        "outputId": "9769c8c8-a4c3-41f0-d27a-01ec4f337e4a"
      },
      "source": [
        "meanD.shape"
      ],
      "execution_count": 8,
      "outputs": [
        {
          "output_type": "execute_result",
          "data": {
            "text/plain": [
              "(4,)"
            ]
          },
          "metadata": {
            "tags": []
          },
          "execution_count": 8
        }
      ]
    },
    {
      "cell_type": "code",
      "metadata": {
        "colab": {
          "base_uri": "https://localhost:8080/"
        },
        "id": "N6yZQIYUhx8X",
        "outputId": "4eba701e-413e-49d9-95d0-56253008bff5"
      },
      "source": [
        "stdD = np.std(data_matrix,axis=1)\r\n",
        "stdD"
      ],
      "execution_count": 9,
      "outputs": [
        {
          "output_type": "execute_result",
          "data": {
            "text/plain": [
              "array([0.82530129, 0.43214658, 1.75852918, 0.76061262])"
            ]
          },
          "metadata": {
            "tags": []
          },
          "execution_count": 9
        }
      ]
    },
    {
      "cell_type": "code",
      "metadata": {
        "colab": {
          "base_uri": "https://localhost:8080/"
        },
        "id": "qYc_aOOVikjR",
        "outputId": "6935ca78-ae46-408a-98e9-9c6fba70e7f0"
      },
      "source": [
        "zeromatrix = np.zeros((4,10))\r\n",
        "zeromatrix"
      ],
      "execution_count": 10,
      "outputs": [
        {
          "output_type": "execute_result",
          "data": {
            "text/plain": [
              "array([[0., 0., 0., 0., 0., 0., 0., 0., 0., 0.],\n",
              "       [0., 0., 0., 0., 0., 0., 0., 0., 0., 0.],\n",
              "       [0., 0., 0., 0., 0., 0., 0., 0., 0., 0.],\n",
              "       [0., 0., 0., 0., 0., 0., 0., 0., 0., 0.]])"
            ]
          },
          "metadata": {
            "tags": []
          },
          "execution_count": 10
        }
      ]
    },
    {
      "cell_type": "code",
      "metadata": {
        "colab": {
          "base_uri": "https://localhost:8080/",
          "height": 166
        },
        "id": "e95v8qgxjbsl",
        "outputId": "48ada65d-3624-4b33-ea0b-6df9894c132b"
      },
      "source": [
        "zeromatrix-meanD"
      ],
      "execution_count": 11,
      "outputs": [
        {
          "output_type": "error",
          "ename": "ValueError",
          "evalue": "ignored",
          "traceback": [
            "\u001b[0;31m---------------------------------------------------------------------------\u001b[0m",
            "\u001b[0;31mValueError\u001b[0m                                Traceback (most recent call last)",
            "\u001b[0;32m<ipython-input-11-7f84d3e9d132>\u001b[0m in \u001b[0;36m<module>\u001b[0;34m()\u001b[0m\n\u001b[0;32m----> 1\u001b[0;31m \u001b[0mzeromatrix\u001b[0m\u001b[0;34m-\u001b[0m\u001b[0mmeanD\u001b[0m\u001b[0;34m\u001b[0m\u001b[0;34m\u001b[0m\u001b[0m\n\u001b[0m",
            "\u001b[0;31mValueError\u001b[0m: operands could not be broadcast together with shapes (4,10) (4,) "
          ]
        }
      ]
    },
    {
      "cell_type": "code",
      "metadata": {
        "id": "Jy9i4RAh7ib8",
        "outputId": "c8e88f77-699d-4934-9dd3-d429ab1e0a1f",
        "colab": {
          "base_uri": "https://localhost:8080/"
        }
      },
      "source": [
        "meanD.reshape((4,1))"
      ],
      "execution_count": 12,
      "outputs": [
        {
          "output_type": "execute_result",
          "data": {
            "text/plain": [
              "array([[5.84333333],\n",
              "       [3.054     ],\n",
              "       [3.75866667],\n",
              "       [1.19866667]])"
            ]
          },
          "metadata": {
            "tags": []
          },
          "execution_count": 12
        }
      ]
    },
    {
      "cell_type": "code",
      "metadata": {
        "colab": {
          "base_uri": "https://localhost:8080/"
        },
        "id": "3O7SYIwjlcMH",
        "outputId": "8f5883f6-e694-431b-d61d-5813f7493370"
      },
      "source": [
        "zeromatrix-meanD.reshape((4,1)) # คำสั่ง reshape บังคับขนาดของ matrix ให้เป็นไปตามต้องการ"
      ],
      "execution_count": 13,
      "outputs": [
        {
          "output_type": "execute_result",
          "data": {
            "text/plain": [
              "array([[-5.84333333, -5.84333333, -5.84333333, -5.84333333, -5.84333333,\n",
              "        -5.84333333, -5.84333333, -5.84333333, -5.84333333, -5.84333333],\n",
              "       [-3.054     , -3.054     , -3.054     , -3.054     , -3.054     ,\n",
              "        -3.054     , -3.054     , -3.054     , -3.054     , -3.054     ],\n",
              "       [-3.75866667, -3.75866667, -3.75866667, -3.75866667, -3.75866667,\n",
              "        -3.75866667, -3.75866667, -3.75866667, -3.75866667, -3.75866667],\n",
              "       [-1.19866667, -1.19866667, -1.19866667, -1.19866667, -1.19866667,\n",
              "        -1.19866667, -1.19866667, -1.19866667, -1.19866667, -1.19866667]])"
            ]
          },
          "metadata": {
            "tags": []
          },
          "execution_count": 13
        }
      ]
    },
    {
      "cell_type": "markdown",
      "metadata": {
        "id": "aEiw6fjMl6cw"
      },
      "source": [
        "เลื่อน mean มาที่ 0"
      ]
    },
    {
      "cell_type": "code",
      "metadata": {
        "colab": {
          "base_uri": "https://localhost:8080/"
        },
        "id": "HgdQx5wykVXd",
        "outputId": "cca96db5-7532-4075-8e2f-9ebf297a7f16"
      },
      "source": [
        "data_matrix_m0 = data_matrix-meanD.reshape((4,1))\r\n",
        "data_matrix_m0"
      ],
      "execution_count": 14,
      "outputs": [
        {
          "output_type": "execute_result",
          "data": {
            "text/plain": [
              "array([[-7.43333333e-01, -9.43333333e-01, -1.14333333e+00,\n",
              "        -1.24333333e+00, -8.43333333e-01, -4.43333333e-01,\n",
              "        -1.24333333e+00, -8.43333333e-01, -1.44333333e+00,\n",
              "        -9.43333333e-01, -4.43333333e-01, -1.04333333e+00,\n",
              "        -1.04333333e+00, -1.54333333e+00, -4.33333333e-02,\n",
              "        -1.43333333e-01, -4.43333333e-01, -7.43333333e-01,\n",
              "        -1.43333333e-01, -7.43333333e-01, -4.43333333e-01,\n",
              "        -7.43333333e-01, -1.24333333e+00, -7.43333333e-01,\n",
              "        -1.04333333e+00, -8.43333333e-01, -8.43333333e-01,\n",
              "        -6.43333333e-01, -6.43333333e-01, -1.14333333e+00,\n",
              "        -1.04333333e+00, -4.43333333e-01, -6.43333333e-01,\n",
              "        -3.43333333e-01, -9.43333333e-01, -8.43333333e-01,\n",
              "        -3.43333333e-01, -9.43333333e-01, -1.44333333e+00,\n",
              "        -7.43333333e-01, -8.43333333e-01, -1.34333333e+00,\n",
              "        -1.44333333e+00, -8.43333333e-01, -7.43333333e-01,\n",
              "        -1.04333333e+00, -7.43333333e-01, -1.24333333e+00,\n",
              "        -5.43333333e-01, -8.43333333e-01,  1.15666667e+00,\n",
              "         5.56666667e-01,  1.05666667e+00, -3.43333333e-01,\n",
              "         6.56666667e-01, -1.43333333e-01,  4.56666667e-01,\n",
              "        -9.43333333e-01,  7.56666667e-01, -6.43333333e-01,\n",
              "        -8.43333333e-01,  5.66666667e-02,  1.56666667e-01,\n",
              "         2.56666667e-01, -2.43333333e-01,  8.56666667e-01,\n",
              "        -2.43333333e-01, -4.33333333e-02,  3.56666667e-01,\n",
              "        -2.43333333e-01,  5.66666667e-02,  2.56666667e-01,\n",
              "         4.56666667e-01,  2.56666667e-01,  5.56666667e-01,\n",
              "         7.56666667e-01,  9.56666667e-01,  8.56666667e-01,\n",
              "         1.56666667e-01, -1.43333333e-01, -3.43333333e-01,\n",
              "        -3.43333333e-01, -4.33333333e-02,  1.56666667e-01,\n",
              "        -4.43333333e-01,  1.56666667e-01,  8.56666667e-01,\n",
              "         4.56666667e-01, -2.43333333e-01, -3.43333333e-01,\n",
              "        -3.43333333e-01,  2.56666667e-01, -4.33333333e-02,\n",
              "        -8.43333333e-01, -2.43333333e-01, -1.43333333e-01,\n",
              "        -1.43333333e-01,  3.56666667e-01, -7.43333333e-01,\n",
              "        -1.43333333e-01,  4.56666667e-01, -4.33333333e-02,\n",
              "         1.25666667e+00,  4.56666667e-01,  6.56666667e-01,\n",
              "         1.75666667e+00, -9.43333333e-01,  1.45666667e+00,\n",
              "         8.56666667e-01,  1.35666667e+00,  6.56666667e-01,\n",
              "         5.56666667e-01,  9.56666667e-01, -1.43333333e-01,\n",
              "        -4.33333333e-02,  5.56666667e-01,  6.56666667e-01,\n",
              "         1.85666667e+00,  1.85666667e+00,  1.56666667e-01,\n",
              "         1.05666667e+00, -2.43333333e-01,  1.85666667e+00,\n",
              "         4.56666667e-01,  8.56666667e-01,  1.35666667e+00,\n",
              "         3.56666667e-01,  2.56666667e-01,  5.56666667e-01,\n",
              "         1.35666667e+00,  1.55666667e+00,  2.05666667e+00,\n",
              "         5.56666667e-01,  4.56666667e-01,  2.56666667e-01,\n",
              "         1.85666667e+00,  4.56666667e-01,  5.56666667e-01,\n",
              "         1.56666667e-01,  1.05666667e+00,  8.56666667e-01,\n",
              "         1.05666667e+00, -4.33333333e-02,  9.56666667e-01,\n",
              "         8.56666667e-01,  8.56666667e-01,  4.56666667e-01,\n",
              "         6.56666667e-01,  3.56666667e-01,  5.66666667e-02],\n",
              "       [ 4.46000000e-01, -5.40000000e-02,  1.46000000e-01,\n",
              "         4.60000000e-02,  5.46000000e-01,  8.46000000e-01,\n",
              "         3.46000000e-01,  3.46000000e-01, -1.54000000e-01,\n",
              "         4.60000000e-02,  6.46000000e-01,  3.46000000e-01,\n",
              "        -5.40000000e-02, -5.40000000e-02,  9.46000000e-01,\n",
              "         1.34600000e+00,  8.46000000e-01,  4.46000000e-01,\n",
              "         7.46000000e-01,  7.46000000e-01,  3.46000000e-01,\n",
              "         6.46000000e-01,  5.46000000e-01,  2.46000000e-01,\n",
              "         3.46000000e-01, -5.40000000e-02,  3.46000000e-01,\n",
              "         4.46000000e-01,  3.46000000e-01,  1.46000000e-01,\n",
              "         4.60000000e-02,  3.46000000e-01,  1.04600000e+00,\n",
              "         1.14600000e+00,  4.60000000e-02,  1.46000000e-01,\n",
              "         4.46000000e-01,  4.60000000e-02, -5.40000000e-02,\n",
              "         3.46000000e-01,  4.46000000e-01, -7.54000000e-01,\n",
              "         1.46000000e-01,  4.46000000e-01,  7.46000000e-01,\n",
              "        -5.40000000e-02,  7.46000000e-01,  1.46000000e-01,\n",
              "         6.46000000e-01,  2.46000000e-01,  1.46000000e-01,\n",
              "         1.46000000e-01,  4.60000000e-02, -7.54000000e-01,\n",
              "        -2.54000000e-01, -2.54000000e-01,  2.46000000e-01,\n",
              "        -6.54000000e-01, -1.54000000e-01, -3.54000000e-01,\n",
              "        -1.05400000e+00, -5.40000000e-02, -8.54000000e-01,\n",
              "        -1.54000000e-01, -1.54000000e-01,  4.60000000e-02,\n",
              "        -5.40000000e-02, -3.54000000e-01, -8.54000000e-01,\n",
              "        -5.54000000e-01,  1.46000000e-01, -2.54000000e-01,\n",
              "        -5.54000000e-01, -2.54000000e-01, -1.54000000e-01,\n",
              "        -5.40000000e-02, -2.54000000e-01, -5.40000000e-02,\n",
              "        -1.54000000e-01, -4.54000000e-01, -6.54000000e-01,\n",
              "        -6.54000000e-01, -3.54000000e-01, -3.54000000e-01,\n",
              "        -5.40000000e-02,  3.46000000e-01,  4.60000000e-02,\n",
              "        -7.54000000e-01, -5.40000000e-02, -5.54000000e-01,\n",
              "        -4.54000000e-01, -5.40000000e-02, -4.54000000e-01,\n",
              "        -7.54000000e-01, -3.54000000e-01, -5.40000000e-02,\n",
              "        -1.54000000e-01, -1.54000000e-01, -5.54000000e-01,\n",
              "        -2.54000000e-01,  2.46000000e-01, -3.54000000e-01,\n",
              "        -5.40000000e-02, -1.54000000e-01, -5.40000000e-02,\n",
              "        -5.40000000e-02, -5.54000000e-01, -1.54000000e-01,\n",
              "        -5.54000000e-01,  5.46000000e-01,  1.46000000e-01,\n",
              "        -3.54000000e-01, -5.40000000e-02, -5.54000000e-01,\n",
              "        -2.54000000e-01,  1.46000000e-01, -5.40000000e-02,\n",
              "         7.46000000e-01, -4.54000000e-01, -8.54000000e-01,\n",
              "         1.46000000e-01, -2.54000000e-01, -2.54000000e-01,\n",
              "        -3.54000000e-01,  2.46000000e-01,  1.46000000e-01,\n",
              "        -2.54000000e-01, -5.40000000e-02, -2.54000000e-01,\n",
              "        -5.40000000e-02, -2.54000000e-01,  7.46000000e-01,\n",
              "        -2.54000000e-01, -2.54000000e-01, -4.54000000e-01,\n",
              "        -5.40000000e-02,  3.46000000e-01,  4.60000000e-02,\n",
              "        -5.40000000e-02,  4.60000000e-02,  4.60000000e-02,\n",
              "         4.60000000e-02, -3.54000000e-01,  1.46000000e-01,\n",
              "         2.46000000e-01, -5.40000000e-02, -5.54000000e-01,\n",
              "        -5.40000000e-02,  3.46000000e-01, -5.40000000e-02],\n",
              "       [-2.35866667e+00, -2.35866667e+00, -2.45866667e+00,\n",
              "        -2.25866667e+00, -2.35866667e+00, -2.05866667e+00,\n",
              "        -2.35866667e+00, -2.25866667e+00, -2.35866667e+00,\n",
              "        -2.25866667e+00, -2.25866667e+00, -2.15866667e+00,\n",
              "        -2.35866667e+00, -2.65866667e+00, -2.55866667e+00,\n",
              "        -2.25866667e+00, -2.45866667e+00, -2.35866667e+00,\n",
              "        -2.05866667e+00, -2.25866667e+00, -2.05866667e+00,\n",
              "        -2.25866667e+00, -2.75866667e+00, -2.05866667e+00,\n",
              "        -1.85866667e+00, -2.15866667e+00, -2.15866667e+00,\n",
              "        -2.25866667e+00, -2.35866667e+00, -2.15866667e+00,\n",
              "        -2.15866667e+00, -2.25866667e+00, -2.25866667e+00,\n",
              "        -2.35866667e+00, -2.25866667e+00, -2.55866667e+00,\n",
              "        -2.45866667e+00, -2.25866667e+00, -2.45866667e+00,\n",
              "        -2.25866667e+00, -2.45866667e+00, -2.45866667e+00,\n",
              "        -2.45866667e+00, -2.15866667e+00, -1.85866667e+00,\n",
              "        -2.35866667e+00, -2.15866667e+00, -2.35866667e+00,\n",
              "        -2.25866667e+00, -2.35866667e+00,  9.41333333e-01,\n",
              "         7.41333333e-01,  1.14133333e+00,  2.41333333e-01,\n",
              "         8.41333333e-01,  7.41333333e-01,  9.41333333e-01,\n",
              "        -4.58666667e-01,  8.41333333e-01,  1.41333333e-01,\n",
              "        -2.58666667e-01,  4.41333333e-01,  2.41333333e-01,\n",
              "         9.41333333e-01, -1.58666667e-01,  6.41333333e-01,\n",
              "         7.41333333e-01,  3.41333333e-01,  7.41333333e-01,\n",
              "         1.41333333e-01,  1.04133333e+00,  2.41333333e-01,\n",
              "         1.14133333e+00,  9.41333333e-01,  5.41333333e-01,\n",
              "         6.41333333e-01,  1.04133333e+00,  1.24133333e+00,\n",
              "         7.41333333e-01, -2.58666667e-01,  4.13333333e-02,\n",
              "        -5.86666667e-02,  1.41333333e-01,  1.34133333e+00,\n",
              "         7.41333333e-01,  7.41333333e-01,  9.41333333e-01,\n",
              "         6.41333333e-01,  3.41333333e-01,  2.41333333e-01,\n",
              "         6.41333333e-01,  8.41333333e-01,  2.41333333e-01,\n",
              "        -4.58666667e-01,  4.41333333e-01,  4.41333333e-01,\n",
              "         4.41333333e-01,  5.41333333e-01, -7.58666667e-01,\n",
              "         3.41333333e-01,  2.24133333e+00,  1.34133333e+00,\n",
              "         2.14133333e+00,  1.84133333e+00,  2.04133333e+00,\n",
              "         2.84133333e+00,  7.41333333e-01,  2.54133333e+00,\n",
              "         2.04133333e+00,  2.34133333e+00,  1.34133333e+00,\n",
              "         1.54133333e+00,  1.74133333e+00,  1.24133333e+00,\n",
              "         1.34133333e+00,  1.54133333e+00,  1.74133333e+00,\n",
              "         2.94133333e+00,  3.14133333e+00,  1.24133333e+00,\n",
              "         1.94133333e+00,  1.14133333e+00,  2.94133333e+00,\n",
              "         1.14133333e+00,  1.94133333e+00,  2.24133333e+00,\n",
              "         1.04133333e+00,  1.14133333e+00,  1.84133333e+00,\n",
              "         2.04133333e+00,  2.34133333e+00,  2.64133333e+00,\n",
              "         1.84133333e+00,  1.34133333e+00,  1.84133333e+00,\n",
              "         2.34133333e+00,  1.84133333e+00,  1.74133333e+00,\n",
              "         1.04133333e+00,  1.64133333e+00,  1.84133333e+00,\n",
              "         1.34133333e+00,  1.34133333e+00,  2.14133333e+00,\n",
              "         1.94133333e+00,  1.44133333e+00,  1.24133333e+00,\n",
              "         1.44133333e+00,  1.64133333e+00,  1.34133333e+00],\n",
              "       [-9.98666667e-01, -9.98666667e-01, -9.98666667e-01,\n",
              "        -9.98666667e-01, -9.98666667e-01, -7.98666667e-01,\n",
              "        -8.98666667e-01, -9.98666667e-01, -9.98666667e-01,\n",
              "        -1.09866667e+00, -9.98666667e-01, -9.98666667e-01,\n",
              "        -1.09866667e+00, -1.09866667e+00, -9.98666667e-01,\n",
              "        -7.98666667e-01, -7.98666667e-01, -8.98666667e-01,\n",
              "        -8.98666667e-01, -8.98666667e-01, -9.98666667e-01,\n",
              "        -7.98666667e-01, -9.98666667e-01, -6.98666667e-01,\n",
              "        -9.98666667e-01, -9.98666667e-01, -7.98666667e-01,\n",
              "        -9.98666667e-01, -9.98666667e-01, -9.98666667e-01,\n",
              "        -9.98666667e-01, -7.98666667e-01, -1.09866667e+00,\n",
              "        -9.98666667e-01, -1.09866667e+00, -9.98666667e-01,\n",
              "        -9.98666667e-01, -1.09866667e+00, -9.98666667e-01,\n",
              "        -9.98666667e-01, -8.98666667e-01, -8.98666667e-01,\n",
              "        -9.98666667e-01, -5.98666667e-01, -7.98666667e-01,\n",
              "        -8.98666667e-01, -9.98666667e-01, -9.98666667e-01,\n",
              "        -9.98666667e-01, -9.98666667e-01,  2.01333333e-01,\n",
              "         3.01333333e-01,  3.01333333e-01,  1.01333333e-01,\n",
              "         3.01333333e-01,  1.01333333e-01,  4.01333333e-01,\n",
              "        -1.98666667e-01,  1.01333333e-01,  2.01333333e-01,\n",
              "        -1.98666667e-01,  3.01333333e-01, -1.98666667e-01,\n",
              "         2.01333333e-01,  1.01333333e-01,  2.01333333e-01,\n",
              "         3.01333333e-01, -1.98666667e-01,  3.01333333e-01,\n",
              "        -9.86666667e-02,  6.01333333e-01,  1.01333333e-01,\n",
              "         3.01333333e-01,  1.33333333e-03,  1.01333333e-01,\n",
              "         2.01333333e-01,  2.01333333e-01,  5.01333333e-01,\n",
              "         3.01333333e-01, -1.98666667e-01, -9.86666667e-02,\n",
              "        -1.98666667e-01,  1.33333333e-03,  4.01333333e-01,\n",
              "         3.01333333e-01,  4.01333333e-01,  3.01333333e-01,\n",
              "         1.01333333e-01,  1.01333333e-01,  1.01333333e-01,\n",
              "         1.33333333e-03,  2.01333333e-01,  1.33333333e-03,\n",
              "        -1.98666667e-01,  1.01333333e-01,  1.33333333e-03,\n",
              "         1.01333333e-01,  1.01333333e-01, -9.86666667e-02,\n",
              "         1.01333333e-01,  1.30133333e+00,  7.01333333e-01,\n",
              "         9.01333333e-01,  6.01333333e-01,  1.00133333e+00,\n",
              "         9.01333333e-01,  5.01333333e-01,  6.01333333e-01,\n",
              "         6.01333333e-01,  1.30133333e+00,  8.01333333e-01,\n",
              "         7.01333333e-01,  9.01333333e-01,  8.01333333e-01,\n",
              "         1.20133333e+00,  1.10133333e+00,  6.01333333e-01,\n",
              "         1.00133333e+00,  1.10133333e+00,  3.01333333e-01,\n",
              "         1.10133333e+00,  8.01333333e-01,  8.01333333e-01,\n",
              "         6.01333333e-01,  9.01333333e-01,  6.01333333e-01,\n",
              "         6.01333333e-01,  6.01333333e-01,  9.01333333e-01,\n",
              "         4.01333333e-01,  7.01333333e-01,  8.01333333e-01,\n",
              "         1.00133333e+00,  3.01333333e-01,  2.01333333e-01,\n",
              "         1.10133333e+00,  1.20133333e+00,  6.01333333e-01,\n",
              "         6.01333333e-01,  9.01333333e-01,  1.20133333e+00,\n",
              "         1.10133333e+00,  7.01333333e-01,  1.10133333e+00,\n",
              "         1.30133333e+00,  1.10133333e+00,  7.01333333e-01,\n",
              "         8.01333333e-01,  1.10133333e+00,  6.01333333e-01]])"
            ]
          },
          "metadata": {
            "tags": []
          },
          "execution_count": 14
        }
      ]
    },
    {
      "cell_type": "code",
      "metadata": {
        "id": "5xtzY_Ifk6qI"
      },
      "source": [
        "from matplotlib import pyplot as plt"
      ],
      "execution_count": 15,
      "outputs": []
    },
    {
      "cell_type": "code",
      "metadata": {
        "colab": {
          "base_uri": "https://localhost:8080/",
          "height": 352
        },
        "id": "K9RKmJekmmth",
        "outputId": "92abd31f-eed2-4526-f74b-1627db57f982"
      },
      "source": [
        "plt.hist(data_matrix[0,:],bins = 'rice')"
      ],
      "execution_count": 16,
      "outputs": [
        {
          "output_type": "execute_result",
          "data": {
            "text/plain": [
              "(array([ 9., 13., 23., 20., 18., 16., 21., 17.,  5.,  2.,  6.]),\n",
              " array([4.3       , 4.62727273, 4.95454545, 5.28181818, 5.60909091,\n",
              "        5.93636364, 6.26363636, 6.59090909, 6.91818182, 7.24545455,\n",
              "        7.57272727, 7.9       ]),\n",
              " <a list of 11 Patch objects>)"
            ]
          },
          "metadata": {
            "tags": []
          },
          "execution_count": 16
        },
        {
          "output_type": "display_data",
          "data": {
            "image/png": "[encoded data removed]",
            "text/plain": [
              "<Figure size 432x288 with 1 Axes>"
            ]
          },
          "metadata": {
            "tags": [],
            "needs_background": "light"
          }
        }
      ]
    },
    {
      "cell_type": "code",
      "metadata": {
        "id": "DlfpQbQSm91c",
        "outputId": "0f695095-4896-4bc9-a3ab-91658afd2ebc",
        "colab": {
          "base_uri": "https://localhost:8080/",
          "height": 352
        }
      },
      "source": [
        "plt.hist(data_matrix_m0[0,:],bins='rice')"
      ],
      "execution_count": 17,
      "outputs": [
        {
          "output_type": "execute_result",
          "data": {
            "text/plain": [
              "(array([ 9., 13., 23., 20., 18., 16., 21., 17.,  5.,  2.,  6.]),\n",
              " array([-1.54333333, -1.21606061, -0.88878788, -0.56151515, -0.23424242,\n",
              "         0.0930303 ,  0.42030303,  0.74757576,  1.07484848,  1.40212121,\n",
              "         1.72939394,  2.05666667]),\n",
              " <a list of 11 Patch objects>)"
            ]
          },
          "metadata": {
            "tags": []
          },
          "execution_count": 17
        },
        {
          "output_type": "display_data",
          "data": {
            "image/png": "[encoded data removed]",
            "text/plain": [
              "<Figure size 432x288 with 1 Axes>"
            ]
          },
          "metadata": {
            "tags": [],
            "needs_background": "light"
          }
        }
      ]
    },
    {
      "cell_type": "code",
      "metadata": {
        "id": "i7ulRVhL8Saw",
        "outputId": "9c684e19-4136-4aab-e8fc-1fa2390aa649",
        "colab": {
          "base_uri": "https://localhost:8080/",
          "height": 352
        }
      },
      "source": [
        "plt.hist(data_matrix[0,:],bins = 'rice',color = 'b')\r\n",
        "plt.hist(data_matrix_m0[0,:],bins = 'rice',color = 'y')"
      ],
      "execution_count": 18,
      "outputs": [
        {
          "output_type": "execute_result",
          "data": {
            "text/plain": [
              "(array([ 9., 13., 23., 20., 18., 16., 21., 17.,  5.,  2.,  6.]),\n",
              " array([-1.54333333, -1.21606061, -0.88878788, -0.56151515, -0.23424242,\n",
              "         0.0930303 ,  0.42030303,  0.74757576,  1.07484848,  1.40212121,\n",
              "         1.72939394,  2.05666667]),\n",
              " <a list of 11 Patch objects>)"
            ]
          },
          "metadata": {
            "tags": []
          },
          "execution_count": 18
        },
        {
          "output_type": "display_data",
          "data": {
            "image/png": "[encoded data removed]",
            "text/plain": [
              "<Figure size 432x288 with 1 Axes>"
            ]
          },
          "metadata": {
            "tags": [],
            "needs_background": "light"
          }
        }
      ]
    },
    {
      "cell_type": "code",
      "metadata": {
        "id": "_C_4S2EknN4f"
      },
      "source": [
        "data_matrix_m0_std1 = data_matrix_m0/stdD.reshape((4,1))"
      ],
      "execution_count": 19,
      "outputs": []
    },
    {
      "cell_type": "code",
      "metadata": {
        "colab": {
          "base_uri": "https://localhost:8080/",
          "height": 352
        },
        "id": "85Zjvp6PoS_H",
        "outputId": "2d20c7dc-024a-45bb-948b-93727869ce89"
      },
      "source": [
        "plt.hist(data_matrix_m0_std1[0,:],bins='rice')"
      ],
      "execution_count": 20,
      "outputs": [
        {
          "output_type": "execute_result",
          "data": {
            "text/plain": [
              "(array([ 9., 13., 23., 20., 18., 16., 21., 17.,  5.,  2.,  6.]),\n",
              " array([-1.87002413, -1.47347474, -1.07692535, -0.68037595, -0.28382656,\n",
              "         0.11272284,  0.50927223,  0.90582163,  1.30237102,  1.69892041,\n",
              "         2.09546981,  2.4920192 ]),\n",
              " <a list of 11 Patch objects>)"
            ]
          },
          "metadata": {
            "tags": []
          },
          "execution_count": 20
        },
        {
          "output_type": "display_data",
          "data": {
            "image/png": "[encoded data removed]",
            "text/plain": [
              "<Figure size 432x288 with 1 Axes>"
            ]
          },
          "metadata": {
            "tags": [],
            "needs_background": "light"
          }
        }
      ]
    },
    {
      "cell_type": "code",
      "metadata": {
        "id": "0fAl29e_9h5N",
        "outputId": "651e9208-3568-40be-b420-5f012a938f3a",
        "colab": {
          "base_uri": "https://localhost:8080/",
          "height": 352
        }
      },
      "source": [
        "plt.hist(data_matrix[0,:],bins = 'rice',color = 'b')\r\n",
        "plt.hist(data_matrix_m0_std1[0,:],bins = 'rice',color = 'r')\r\n",
        "plt.hist(data_matrix_m0[0,:],bins = 'rice',color = 'y')"
      ],
      "execution_count": 21,
      "outputs": [
        {
          "output_type": "execute_result",
          "data": {
            "text/plain": [
              "(array([ 9., 13., 23., 20., 18., 16., 21., 17.,  5.,  2.,  6.]),\n",
              " array([-1.54333333, -1.21606061, -0.88878788, -0.56151515, -0.23424242,\n",
              "         0.0930303 ,  0.42030303,  0.74757576,  1.07484848,  1.40212121,\n",
              "         1.72939394,  2.05666667]),\n",
              " <a list of 11 Patch objects>)"
            ]
          },
          "metadata": {
            "tags": []
          },
          "execution_count": 21
        },
        {
          "output_type": "display_data",
          "data": {
            "image/png": "[encoded data removed]",
            "text/plain": [
              "<Figure size 432x288 with 1 Axes>"
            ]
          },
          "metadata": {
            "tags": [],
            "needs_background": "light"
          }
        }
      ]
    },
    {
      "cell_type": "code",
      "metadata": {
        "id": "4p5oKHRF-UyA",
        "outputId": "2071bc03-b8d8-42a2-f36f-54d7da0cdd9c",
        "colab": {
          "base_uri": "https://localhost:8080/"
        }
      },
      "source": [
        "data_matrix_m0_std1"
      ],
      "execution_count": 22,
      "outputs": [
        {
          "output_type": "execute_result",
          "data": {
            "text/plain": [
              "array([[-9.00681170e-01, -1.14301691e+00, -1.38535265e+00,\n",
              "        -1.50652052e+00, -1.02184904e+00, -5.37177559e-01,\n",
              "        -1.50652052e+00, -1.02184904e+00, -1.74885626e+00,\n",
              "        -1.14301691e+00, -5.37177559e-01, -1.26418478e+00,\n",
              "        -1.26418478e+00, -1.87002413e+00, -5.25060772e-02,\n",
              "        -1.73673948e-01, -5.37177559e-01, -9.00681170e-01,\n",
              "        -1.73673948e-01, -9.00681170e-01, -5.37177559e-01,\n",
              "        -9.00681170e-01, -1.50652052e+00, -9.00681170e-01,\n",
              "        -1.26418478e+00, -1.02184904e+00, -1.02184904e+00,\n",
              "        -7.79513300e-01, -7.79513300e-01, -1.38535265e+00,\n",
              "        -1.26418478e+00, -5.37177559e-01, -7.79513300e-01,\n",
              "        -4.16009689e-01, -1.14301691e+00, -1.02184904e+00,\n",
              "        -4.16009689e-01, -1.14301691e+00, -1.74885626e+00,\n",
              "        -9.00681170e-01, -1.02184904e+00, -1.62768839e+00,\n",
              "        -1.74885626e+00, -1.02184904e+00, -9.00681170e-01,\n",
              "        -1.26418478e+00, -9.00681170e-01, -1.50652052e+00,\n",
              "        -6.58345429e-01, -1.02184904e+00,  1.40150837e+00,\n",
              "         6.74501145e-01,  1.28034050e+00, -4.16009689e-01,\n",
              "         7.95669016e-01, -1.73673948e-01,  5.53333275e-01,\n",
              "        -1.14301691e+00,  9.16836886e-01, -7.79513300e-01,\n",
              "        -1.02184904e+00,  6.86617933e-02,  1.89829664e-01,\n",
              "         3.10997534e-01, -2.94841818e-01,  1.03800476e+00,\n",
              "        -2.94841818e-01, -5.25060772e-02,  4.32165405e-01,\n",
              "        -2.94841818e-01,  6.86617933e-02,  3.10997534e-01,\n",
              "         5.53333275e-01,  3.10997534e-01,  6.74501145e-01,\n",
              "         9.16836886e-01,  1.15917263e+00,  1.03800476e+00,\n",
              "         1.89829664e-01, -1.73673948e-01, -4.16009689e-01,\n",
              "        -4.16009689e-01, -5.25060772e-02,  1.89829664e-01,\n",
              "        -5.37177559e-01,  1.89829664e-01,  1.03800476e+00,\n",
              "         5.53333275e-01, -2.94841818e-01, -4.16009689e-01,\n",
              "        -4.16009689e-01,  3.10997534e-01, -5.25060772e-02,\n",
              "        -1.02184904e+00, -2.94841818e-01, -1.73673948e-01,\n",
              "        -1.73673948e-01,  4.32165405e-01, -9.00681170e-01,\n",
              "        -1.73673948e-01,  5.53333275e-01, -5.25060772e-02,\n",
              "         1.52267624e+00,  5.53333275e-01,  7.95669016e-01,\n",
              "         2.12851559e+00, -1.14301691e+00,  1.76501198e+00,\n",
              "         1.03800476e+00,  1.64384411e+00,  7.95669016e-01,\n",
              "         6.74501145e-01,  1.15917263e+00, -1.73673948e-01,\n",
              "        -5.25060772e-02,  6.74501145e-01,  7.95669016e-01,\n",
              "         2.24968346e+00,  2.24968346e+00,  1.89829664e-01,\n",
              "         1.28034050e+00, -2.94841818e-01,  2.24968346e+00,\n",
              "         5.53333275e-01,  1.03800476e+00,  1.64384411e+00,\n",
              "         4.32165405e-01,  3.10997534e-01,  6.74501145e-01,\n",
              "         1.64384411e+00,  1.88617985e+00,  2.49201920e+00,\n",
              "         6.74501145e-01,  5.53333275e-01,  3.10997534e-01,\n",
              "         2.24968346e+00,  5.53333275e-01,  6.74501145e-01,\n",
              "         1.89829664e-01,  1.28034050e+00,  1.03800476e+00,\n",
              "         1.28034050e+00, -5.25060772e-02,  1.15917263e+00,\n",
              "         1.03800476e+00,  1.03800476e+00,  5.53333275e-01,\n",
              "         7.95669016e-01,  4.32165405e-01,  6.86617933e-02],\n",
              "       [ 1.03205722e+00, -1.24957601e-01,  3.37848329e-01,\n",
              "         1.06445364e-01,  1.26346019e+00,  1.95766909e+00,\n",
              "         8.00654259e-01,  8.00654259e-01, -3.56360566e-01,\n",
              "         1.06445364e-01,  1.49486315e+00,  8.00654259e-01,\n",
              "        -1.24957601e-01, -1.24957601e-01,  2.18907205e+00,\n",
              "         3.11468391e+00,  1.95766909e+00,  1.03205722e+00,\n",
              "         1.72626612e+00,  1.72626612e+00,  8.00654259e-01,\n",
              "         1.49486315e+00,  1.26346019e+00,  5.69251294e-01,\n",
              "         8.00654259e-01, -1.24957601e-01,  8.00654259e-01,\n",
              "         1.03205722e+00,  8.00654259e-01,  3.37848329e-01,\n",
              "         1.06445364e-01,  8.00654259e-01,  2.42047502e+00,\n",
              "         2.65187798e+00,  1.06445364e-01,  3.37848329e-01,\n",
              "         1.03205722e+00,  1.06445364e-01, -1.24957601e-01,\n",
              "         8.00654259e-01,  1.03205722e+00, -1.74477836e+00,\n",
              "         3.37848329e-01,  1.03205722e+00,  1.72626612e+00,\n",
              "        -1.24957601e-01,  1.72626612e+00,  3.37848329e-01,\n",
              "         1.49486315e+00,  5.69251294e-01,  3.37848329e-01,\n",
              "         3.37848329e-01,  1.06445364e-01, -1.74477836e+00,\n",
              "        -5.87763531e-01, -5.87763531e-01,  5.69251294e-01,\n",
              "        -1.51337539e+00, -3.56360566e-01, -8.19166497e-01,\n",
              "        -2.43898725e+00, -1.24957601e-01, -1.97618132e+00,\n",
              "        -3.56360566e-01, -3.56360566e-01,  1.06445364e-01,\n",
              "        -1.24957601e-01, -8.19166497e-01, -1.97618132e+00,\n",
              "        -1.28197243e+00,  3.37848329e-01, -5.87763531e-01,\n",
              "        -1.28197243e+00, -5.87763531e-01, -3.56360566e-01,\n",
              "        -1.24957601e-01, -5.87763531e-01, -1.24957601e-01,\n",
              "        -3.56360566e-01, -1.05056946e+00, -1.51337539e+00,\n",
              "        -1.51337539e+00, -8.19166497e-01, -8.19166497e-01,\n",
              "        -1.24957601e-01,  8.00654259e-01,  1.06445364e-01,\n",
              "        -1.74477836e+00, -1.24957601e-01, -1.28197243e+00,\n",
              "        -1.05056946e+00, -1.24957601e-01, -1.05056946e+00,\n",
              "        -1.74477836e+00, -8.19166497e-01, -1.24957601e-01,\n",
              "        -3.56360566e-01, -3.56360566e-01, -1.28197243e+00,\n",
              "        -5.87763531e-01,  5.69251294e-01, -8.19166497e-01,\n",
              "        -1.24957601e-01, -3.56360566e-01, -1.24957601e-01,\n",
              "        -1.24957601e-01, -1.28197243e+00, -3.56360566e-01,\n",
              "        -1.28197243e+00,  1.26346019e+00,  3.37848329e-01,\n",
              "        -8.19166497e-01, -1.24957601e-01, -1.28197243e+00,\n",
              "        -5.87763531e-01,  3.37848329e-01, -1.24957601e-01,\n",
              "         1.72626612e+00, -1.05056946e+00, -1.97618132e+00,\n",
              "         3.37848329e-01, -5.87763531e-01, -5.87763531e-01,\n",
              "        -8.19166497e-01,  5.69251294e-01,  3.37848329e-01,\n",
              "        -5.87763531e-01, -1.24957601e-01, -5.87763531e-01,\n",
              "        -1.24957601e-01, -5.87763531e-01,  1.72626612e+00,\n",
              "        -5.87763531e-01, -5.87763531e-01, -1.05056946e+00,\n",
              "        -1.24957601e-01,  8.00654259e-01,  1.06445364e-01,\n",
              "        -1.24957601e-01,  1.06445364e-01,  1.06445364e-01,\n",
              "         1.06445364e-01, -8.19166497e-01,  3.37848329e-01,\n",
              "         5.69251294e-01, -1.24957601e-01, -1.28197243e+00,\n",
              "        -1.24957601e-01,  8.00654259e-01, -1.24957601e-01],\n",
              "       [-1.34127240e+00, -1.34127240e+00, -1.39813811e+00,\n",
              "        -1.28440670e+00, -1.34127240e+00, -1.17067529e+00,\n",
              "        -1.34127240e+00, -1.28440670e+00, -1.34127240e+00,\n",
              "        -1.28440670e+00, -1.28440670e+00, -1.22754100e+00,\n",
              "        -1.34127240e+00, -1.51186952e+00, -1.45500381e+00,\n",
              "        -1.28440670e+00, -1.39813811e+00, -1.34127240e+00,\n",
              "        -1.17067529e+00, -1.28440670e+00, -1.17067529e+00,\n",
              "        -1.28440670e+00, -1.56873522e+00, -1.17067529e+00,\n",
              "        -1.05694388e+00, -1.22754100e+00, -1.22754100e+00,\n",
              "        -1.28440670e+00, -1.34127240e+00, -1.22754100e+00,\n",
              "        -1.22754100e+00, -1.28440670e+00, -1.28440670e+00,\n",
              "        -1.34127240e+00, -1.28440670e+00, -1.45500381e+00,\n",
              "        -1.39813811e+00, -1.28440670e+00, -1.39813811e+00,\n",
              "        -1.28440670e+00, -1.39813811e+00, -1.39813811e+00,\n",
              "        -1.39813811e+00, -1.22754100e+00, -1.05694388e+00,\n",
              "        -1.34127240e+00, -1.22754100e+00, -1.34127240e+00,\n",
              "        -1.28440670e+00, -1.34127240e+00,  5.35295827e-01,\n",
              "         4.21564419e-01,  6.49027235e-01,  1.37235899e-01,\n",
              "         4.78430123e-01,  4.21564419e-01,  5.35295827e-01,\n",
              "        -2.60824029e-01,  4.78430123e-01,  8.03701950e-02,\n",
              "        -1.47092621e-01,  2.50967307e-01,  1.37235899e-01,\n",
              "         5.35295827e-01, -9.02269170e-02,  3.64698715e-01,\n",
              "         4.21564419e-01,  1.94101603e-01,  4.21564419e-01,\n",
              "         8.03701950e-02,  5.92161531e-01,  1.37235899e-01,\n",
              "         6.49027235e-01,  5.35295827e-01,  3.07833011e-01,\n",
              "         3.64698715e-01,  5.92161531e-01,  7.05892939e-01,\n",
              "         4.21564419e-01, -1.47092621e-01,  2.35044910e-02,\n",
              "        -3.33612130e-02,  8.03701950e-02,  7.62758643e-01,\n",
              "         4.21564419e-01,  4.21564419e-01,  5.35295827e-01,\n",
              "         3.64698715e-01,  1.94101603e-01,  1.37235899e-01,\n",
              "         3.64698715e-01,  4.78430123e-01,  1.37235899e-01,\n",
              "        -2.60824029e-01,  2.50967307e-01,  2.50967307e-01,\n",
              "         2.50967307e-01,  3.07833011e-01, -4.31421141e-01,\n",
              "         1.94101603e-01,  1.27454998e+00,  7.62758643e-01,\n",
              "         1.21768427e+00,  1.04708716e+00,  1.16081857e+00,\n",
              "         1.61574420e+00,  4.21564419e-01,  1.44514709e+00,\n",
              "         1.16081857e+00,  1.33141568e+00,  7.62758643e-01,\n",
              "         8.76490051e-01,  9.90221459e-01,  7.05892939e-01,\n",
              "         7.62758643e-01,  8.76490051e-01,  9.90221459e-01,\n",
              "         1.67260991e+00,  1.78634131e+00,  7.05892939e-01,\n",
              "         1.10395287e+00,  6.49027235e-01,  1.67260991e+00,\n",
              "         6.49027235e-01,  1.10395287e+00,  1.27454998e+00,\n",
              "         5.92161531e-01,  6.49027235e-01,  1.04708716e+00,\n",
              "         1.16081857e+00,  1.33141568e+00,  1.50201279e+00,\n",
              "         1.04708716e+00,  7.62758643e-01,  1.04708716e+00,\n",
              "         1.33141568e+00,  1.04708716e+00,  9.90221459e-01,\n",
              "         5.92161531e-01,  9.33355755e-01,  1.04708716e+00,\n",
              "         7.62758643e-01,  7.62758643e-01,  1.21768427e+00,\n",
              "         1.10395287e+00,  8.19624347e-01,  7.05892939e-01,\n",
              "         8.19624347e-01,  9.33355755e-01,  7.62758643e-01],\n",
              "       [-1.31297673e+00, -1.31297673e+00, -1.31297673e+00,\n",
              "        -1.31297673e+00, -1.31297673e+00, -1.05003079e+00,\n",
              "        -1.18150376e+00, -1.31297673e+00, -1.31297673e+00,\n",
              "        -1.44444970e+00, -1.31297673e+00, -1.31297673e+00,\n",
              "        -1.44444970e+00, -1.44444970e+00, -1.31297673e+00,\n",
              "        -1.05003079e+00, -1.05003079e+00, -1.18150376e+00,\n",
              "        -1.18150376e+00, -1.18150376e+00, -1.31297673e+00,\n",
              "        -1.05003079e+00, -1.31297673e+00, -9.18557817e-01,\n",
              "        -1.31297673e+00, -1.31297673e+00, -1.05003079e+00,\n",
              "        -1.31297673e+00, -1.31297673e+00, -1.31297673e+00,\n",
              "        -1.31297673e+00, -1.05003079e+00, -1.44444970e+00,\n",
              "        -1.31297673e+00, -1.44444970e+00, -1.31297673e+00,\n",
              "        -1.31297673e+00, -1.44444970e+00, -1.31297673e+00,\n",
              "        -1.31297673e+00, -1.18150376e+00, -1.18150376e+00,\n",
              "        -1.31297673e+00, -7.87084847e-01, -1.05003079e+00,\n",
              "        -1.18150376e+00, -1.31297673e+00, -1.31297673e+00,\n",
              "        -1.31297673e+00, -1.31297673e+00,  2.64698913e-01,\n",
              "         3.96171883e-01,  3.96171883e-01,  1.33225943e-01,\n",
              "         3.96171883e-01,  1.33225943e-01,  5.27644853e-01,\n",
              "        -2.61192967e-01,  1.33225943e-01,  2.64698913e-01,\n",
              "        -2.61192967e-01,  3.96171883e-01, -2.61192967e-01,\n",
              "         2.64698913e-01,  1.33225943e-01,  2.64698913e-01,\n",
              "         3.96171883e-01, -2.61192967e-01,  3.96171883e-01,\n",
              "        -1.29719997e-01,  7.90590793e-01,  1.33225943e-01,\n",
              "         3.96171883e-01,  1.75297293e-03,  1.33225943e-01,\n",
              "         2.64698913e-01,  2.64698913e-01,  6.59117823e-01,\n",
              "         3.96171883e-01, -2.61192967e-01, -1.29719997e-01,\n",
              "        -2.61192967e-01,  1.75297293e-03,  5.27644853e-01,\n",
              "         3.96171883e-01,  5.27644853e-01,  3.96171883e-01,\n",
              "         1.33225943e-01,  1.33225943e-01,  1.33225943e-01,\n",
              "         1.75297293e-03,  2.64698913e-01,  1.75297293e-03,\n",
              "        -2.61192967e-01,  1.33225943e-01,  1.75297293e-03,\n",
              "         1.33225943e-01,  1.33225943e-01, -1.29719997e-01,\n",
              "         1.33225943e-01,  1.71090158e+00,  9.22063763e-01,\n",
              "         1.18500970e+00,  7.90590793e-01,  1.31648267e+00,\n",
              "         1.18500970e+00,  6.59117823e-01,  7.90590793e-01,\n",
              "         7.90590793e-01,  1.71090158e+00,  1.05353673e+00,\n",
              "         9.22063763e-01,  1.18500970e+00,  1.05353673e+00,\n",
              "         1.57942861e+00,  1.44795564e+00,  7.90590793e-01,\n",
              "         1.31648267e+00,  1.44795564e+00,  3.96171883e-01,\n",
              "         1.44795564e+00,  1.05353673e+00,  1.05353673e+00,\n",
              "         7.90590793e-01,  1.18500970e+00,  7.90590793e-01,\n",
              "         7.90590793e-01,  7.90590793e-01,  1.18500970e+00,\n",
              "         5.27644853e-01,  9.22063763e-01,  1.05353673e+00,\n",
              "         1.31648267e+00,  3.96171883e-01,  2.64698913e-01,\n",
              "         1.44795564e+00,  1.57942861e+00,  7.90590793e-01,\n",
              "         7.90590793e-01,  1.18500970e+00,  1.57942861e+00,\n",
              "         1.44795564e+00,  9.22063763e-01,  1.44795564e+00,\n",
              "         1.71090158e+00,  1.44795564e+00,  9.22063763e-01,\n",
              "         1.05353673e+00,  1.44795564e+00,  7.90590793e-01]])"
            ]
          },
          "metadata": {
            "tags": []
          },
          "execution_count": 22
        }
      ]
    },
    {
      "cell_type": "code",
      "metadata": {
        "colab": {
          "base_uri": "https://localhost:8080/"
        },
        "id": "Eo3s23atqW_S",
        "outputId": "642f67a6-49eb-4c51-986f-3b506d6bed13"
      },
      "source": [
        "np.mean(data_matrix_m0_std1,axis=1)"
      ],
      "execution_count": 23,
      "outputs": [
        {
          "output_type": "execute_result",
          "data": {
            "text/plain": [
              "array([-4.73695157e-16, -6.63173220e-16,  3.31586610e-16, -2.84217094e-16])"
            ]
          },
          "metadata": {
            "tags": []
          },
          "execution_count": 23
        }
      ]
    },
    {
      "cell_type": "code",
      "metadata": {
        "id": "-FcqhvGe-gbt",
        "outputId": "dd5ebf01-2f8d-40bb-f20d-a28ae89a8ebd",
        "colab": {
          "base_uri": "https://localhost:8080/"
        }
      },
      "source": [
        "np.std(data_matrix_m0_std1,axis=1)"
      ],
      "execution_count": 24,
      "outputs": [
        {
          "output_type": "execute_result",
          "data": {
            "text/plain": [
              "array([1., 1., 1., 1.])"
            ]
          },
          "metadata": {
            "tags": []
          },
          "execution_count": 24
        }
      ]
    },
    {
      "cell_type": "markdown",
      "metadata": {
        "id": "onWcnGlXo8Q4"
      },
      "source": [
        "###วิธีแบบเร็ว"
      ]
    },
    {
      "cell_type": "code",
      "metadata": {
        "id": "1d34hLIqpThN"
      },
      "source": [
        "from scipy import stats"
      ],
      "execution_count": 28,
      "outputs": []
    },
    {
      "cell_type": "code",
      "metadata": {
        "id": "FI4SSHJh_YJP",
        "outputId": "170d7702-6d47-49f7-9ff6-e634725d8c42",
        "colab": {
          "base_uri": "https://localhost:8080/"
        }
      },
      "source": [
        "data_matrix_m0_std1_useSTAT = stats.zscore(data_matrix,axis=1)\r\n",
        "data_matrix_m0_std1_useSTAT"
      ],
      "execution_count": 30,
      "outputs": [
        {
          "output_type": "execute_result",
          "data": {
            "text/plain": [
              "array([[-9.00681170e-01, -1.14301691e+00, -1.38535265e+00,\n",
              "        -1.50652052e+00, -1.02184904e+00, -5.37177559e-01,\n",
              "        -1.50652052e+00, -1.02184904e+00, -1.74885626e+00,\n",
              "        -1.14301691e+00, -5.37177559e-01, -1.26418478e+00,\n",
              "        -1.26418478e+00, -1.87002413e+00, -5.25060772e-02,\n",
              "        -1.73673948e-01, -5.37177559e-01, -9.00681170e-01,\n",
              "        -1.73673948e-01, -9.00681170e-01, -5.37177559e-01,\n",
              "        -9.00681170e-01, -1.50652052e+00, -9.00681170e-01,\n",
              "        -1.26418478e+00, -1.02184904e+00, -1.02184904e+00,\n",
              "        -7.79513300e-01, -7.79513300e-01, -1.38535265e+00,\n",
              "        -1.26418478e+00, -5.37177559e-01, -7.79513300e-01,\n",
              "        -4.16009689e-01, -1.14301691e+00, -1.02184904e+00,\n",
              "        -4.16009689e-01, -1.14301691e+00, -1.74885626e+00,\n",
              "        -9.00681170e-01, -1.02184904e+00, -1.62768839e+00,\n",
              "        -1.74885626e+00, -1.02184904e+00, -9.00681170e-01,\n",
              "        -1.26418478e+00, -9.00681170e-01, -1.50652052e+00,\n",
              "        -6.58345429e-01, -1.02184904e+00,  1.40150837e+00,\n",
              "         6.74501145e-01,  1.28034050e+00, -4.16009689e-01,\n",
              "         7.95669016e-01, -1.73673948e-01,  5.53333275e-01,\n",
              "        -1.14301691e+00,  9.16836886e-01, -7.79513300e-01,\n",
              "        -1.02184904e+00,  6.86617933e-02,  1.89829664e-01,\n",
              "         3.10997534e-01, -2.94841818e-01,  1.03800476e+00,\n",
              "        -2.94841818e-01, -5.25060772e-02,  4.32165405e-01,\n",
              "        -2.94841818e-01,  6.86617933e-02,  3.10997534e-01,\n",
              "         5.53333275e-01,  3.10997534e-01,  6.74501145e-01,\n",
              "         9.16836886e-01,  1.15917263e+00,  1.03800476e+00,\n",
              "         1.89829664e-01, -1.73673948e-01, -4.16009689e-01,\n",
              "        -4.16009689e-01, -5.25060772e-02,  1.89829664e-01,\n",
              "        -5.37177559e-01,  1.89829664e-01,  1.03800476e+00,\n",
              "         5.53333275e-01, -2.94841818e-01, -4.16009689e-01,\n",
              "        -4.16009689e-01,  3.10997534e-01, -5.25060772e-02,\n",
              "        -1.02184904e+00, -2.94841818e-01, -1.73673948e-01,\n",
              "        -1.73673948e-01,  4.32165405e-01, -9.00681170e-01,\n",
              "        -1.73673948e-01,  5.53333275e-01, -5.25060772e-02,\n",
              "         1.52267624e+00,  5.53333275e-01,  7.95669016e-01,\n",
              "         2.12851559e+00, -1.14301691e+00,  1.76501198e+00,\n",
              "         1.03800476e+00,  1.64384411e+00,  7.95669016e-01,\n",
              "         6.74501145e-01,  1.15917263e+00, -1.73673948e-01,\n",
              "        -5.25060772e-02,  6.74501145e-01,  7.95669016e-01,\n",
              "         2.24968346e+00,  2.24968346e+00,  1.89829664e-01,\n",
              "         1.28034050e+00, -2.94841818e-01,  2.24968346e+00,\n",
              "         5.53333275e-01,  1.03800476e+00,  1.64384411e+00,\n",
              "         4.32165405e-01,  3.10997534e-01,  6.74501145e-01,\n",
              "         1.64384411e+00,  1.88617985e+00,  2.49201920e+00,\n",
              "         6.74501145e-01,  5.53333275e-01,  3.10997534e-01,\n",
              "         2.24968346e+00,  5.53333275e-01,  6.74501145e-01,\n",
              "         1.89829664e-01,  1.28034050e+00,  1.03800476e+00,\n",
              "         1.28034050e+00, -5.25060772e-02,  1.15917263e+00,\n",
              "         1.03800476e+00,  1.03800476e+00,  5.53333275e-01,\n",
              "         7.95669016e-01,  4.32165405e-01,  6.86617933e-02],\n",
              "       [ 1.03205722e+00, -1.24957601e-01,  3.37848329e-01,\n",
              "         1.06445364e-01,  1.26346019e+00,  1.95766909e+00,\n",
              "         8.00654259e-01,  8.00654259e-01, -3.56360566e-01,\n",
              "         1.06445364e-01,  1.49486315e+00,  8.00654259e-01,\n",
              "        -1.24957601e-01, -1.24957601e-01,  2.18907205e+00,\n",
              "         3.11468391e+00,  1.95766909e+00,  1.03205722e+00,\n",
              "         1.72626612e+00,  1.72626612e+00,  8.00654259e-01,\n",
              "         1.49486315e+00,  1.26346019e+00,  5.69251294e-01,\n",
              "         8.00654259e-01, -1.24957601e-01,  8.00654259e-01,\n",
              "         1.03205722e+00,  8.00654259e-01,  3.37848329e-01,\n",
              "         1.06445364e-01,  8.00654259e-01,  2.42047502e+00,\n",
              "         2.65187798e+00,  1.06445364e-01,  3.37848329e-01,\n",
              "         1.03205722e+00,  1.06445364e-01, -1.24957601e-01,\n",
              "         8.00654259e-01,  1.03205722e+00, -1.74477836e+00,\n",
              "         3.37848329e-01,  1.03205722e+00,  1.72626612e+00,\n",
              "        -1.24957601e-01,  1.72626612e+00,  3.37848329e-01,\n",
              "         1.49486315e+00,  5.69251294e-01,  3.37848329e-01,\n",
              "         3.37848329e-01,  1.06445364e-01, -1.74477836e+00,\n",
              "        -5.87763531e-01, -5.87763531e-01,  5.69251294e-01,\n",
              "        -1.51337539e+00, -3.56360566e-01, -8.19166497e-01,\n",
              "        -2.43898725e+00, -1.24957601e-01, -1.97618132e+00,\n",
              "        -3.56360566e-01, -3.56360566e-01,  1.06445364e-01,\n",
              "        -1.24957601e-01, -8.19166497e-01, -1.97618132e+00,\n",
              "        -1.28197243e+00,  3.37848329e-01, -5.87763531e-01,\n",
              "        -1.28197243e+00, -5.87763531e-01, -3.56360566e-01,\n",
              "        -1.24957601e-01, -5.87763531e-01, -1.24957601e-01,\n",
              "        -3.56360566e-01, -1.05056946e+00, -1.51337539e+00,\n",
              "        -1.51337539e+00, -8.19166497e-01, -8.19166497e-01,\n",
              "        -1.24957601e-01,  8.00654259e-01,  1.06445364e-01,\n",
              "        -1.74477836e+00, -1.24957601e-01, -1.28197243e+00,\n",
              "        -1.05056946e+00, -1.24957601e-01, -1.05056946e+00,\n",
              "        -1.74477836e+00, -8.19166497e-01, -1.24957601e-01,\n",
              "        -3.56360566e-01, -3.56360566e-01, -1.28197243e+00,\n",
              "        -5.87763531e-01,  5.69251294e-01, -8.19166497e-01,\n",
              "        -1.24957601e-01, -3.56360566e-01, -1.24957601e-01,\n",
              "        -1.24957601e-01, -1.28197243e+00, -3.56360566e-01,\n",
              "        -1.28197243e+00,  1.26346019e+00,  3.37848329e-01,\n",
              "        -8.19166497e-01, -1.24957601e-01, -1.28197243e+00,\n",
              "        -5.87763531e-01,  3.37848329e-01, -1.24957601e-01,\n",
              "         1.72626612e+00, -1.05056946e+00, -1.97618132e+00,\n",
              "         3.37848329e-01, -5.87763531e-01, -5.87763531e-01,\n",
              "        -8.19166497e-01,  5.69251294e-01,  3.37848329e-01,\n",
              "        -5.87763531e-01, -1.24957601e-01, -5.87763531e-01,\n",
              "        -1.24957601e-01, -5.87763531e-01,  1.72626612e+00,\n",
              "        -5.87763531e-01, -5.87763531e-01, -1.05056946e+00,\n",
              "        -1.24957601e-01,  8.00654259e-01,  1.06445364e-01,\n",
              "        -1.24957601e-01,  1.06445364e-01,  1.06445364e-01,\n",
              "         1.06445364e-01, -8.19166497e-01,  3.37848329e-01,\n",
              "         5.69251294e-01, -1.24957601e-01, -1.28197243e+00,\n",
              "        -1.24957601e-01,  8.00654259e-01, -1.24957601e-01],\n",
              "       [-1.34127240e+00, -1.34127240e+00, -1.39813811e+00,\n",
              "        -1.28440670e+00, -1.34127240e+00, -1.17067529e+00,\n",
              "        -1.34127240e+00, -1.28440670e+00, -1.34127240e+00,\n",
              "        -1.28440670e+00, -1.28440670e+00, -1.22754100e+00,\n",
              "        -1.34127240e+00, -1.51186952e+00, -1.45500381e+00,\n",
              "        -1.28440670e+00, -1.39813811e+00, -1.34127240e+00,\n",
              "        -1.17067529e+00, -1.28440670e+00, -1.17067529e+00,\n",
              "        -1.28440670e+00, -1.56873522e+00, -1.17067529e+00,\n",
              "        -1.05694388e+00, -1.22754100e+00, -1.22754100e+00,\n",
              "        -1.28440670e+00, -1.34127240e+00, -1.22754100e+00,\n",
              "        -1.22754100e+00, -1.28440670e+00, -1.28440670e+00,\n",
              "        -1.34127240e+00, -1.28440670e+00, -1.45500381e+00,\n",
              "        -1.39813811e+00, -1.28440670e+00, -1.39813811e+00,\n",
              "        -1.28440670e+00, -1.39813811e+00, -1.39813811e+00,\n",
              "        -1.39813811e+00, -1.22754100e+00, -1.05694388e+00,\n",
              "        -1.34127240e+00, -1.22754100e+00, -1.34127240e+00,\n",
              "        -1.28440670e+00, -1.34127240e+00,  5.35295827e-01,\n",
              "         4.21564419e-01,  6.49027235e-01,  1.37235899e-01,\n",
              "         4.78430123e-01,  4.21564419e-01,  5.35295827e-01,\n",
              "        -2.60824029e-01,  4.78430123e-01,  8.03701950e-02,\n",
              "        -1.47092621e-01,  2.50967307e-01,  1.37235899e-01,\n",
              "         5.35295827e-01, -9.02269170e-02,  3.64698715e-01,\n",
              "         4.21564419e-01,  1.94101603e-01,  4.21564419e-01,\n",
              "         8.03701950e-02,  5.92161531e-01,  1.37235899e-01,\n",
              "         6.49027235e-01,  5.35295827e-01,  3.07833011e-01,\n",
              "         3.64698715e-01,  5.92161531e-01,  7.05892939e-01,\n",
              "         4.21564419e-01, -1.47092621e-01,  2.35044910e-02,\n",
              "        -3.33612130e-02,  8.03701950e-02,  7.62758643e-01,\n",
              "         4.21564419e-01,  4.21564419e-01,  5.35295827e-01,\n",
              "         3.64698715e-01,  1.94101603e-01,  1.37235899e-01,\n",
              "         3.64698715e-01,  4.78430123e-01,  1.37235899e-01,\n",
              "        -2.60824029e-01,  2.50967307e-01,  2.50967307e-01,\n",
              "         2.50967307e-01,  3.07833011e-01, -4.31421141e-01,\n",
              "         1.94101603e-01,  1.27454998e+00,  7.62758643e-01,\n",
              "         1.21768427e+00,  1.04708716e+00,  1.16081857e+00,\n",
              "         1.61574420e+00,  4.21564419e-01,  1.44514709e+00,\n",
              "         1.16081857e+00,  1.33141568e+00,  7.62758643e-01,\n",
              "         8.76490051e-01,  9.90221459e-01,  7.05892939e-01,\n",
              "         7.62758643e-01,  8.76490051e-01,  9.90221459e-01,\n",
              "         1.67260991e+00,  1.78634131e+00,  7.05892939e-01,\n",
              "         1.10395287e+00,  6.49027235e-01,  1.67260991e+00,\n",
              "         6.49027235e-01,  1.10395287e+00,  1.27454998e+00,\n",
              "         5.92161531e-01,  6.49027235e-01,  1.04708716e+00,\n",
              "         1.16081857e+00,  1.33141568e+00,  1.50201279e+00,\n",
              "         1.04708716e+00,  7.62758643e-01,  1.04708716e+00,\n",
              "         1.33141568e+00,  1.04708716e+00,  9.90221459e-01,\n",
              "         5.92161531e-01,  9.33355755e-01,  1.04708716e+00,\n",
              "         7.62758643e-01,  7.62758643e-01,  1.21768427e+00,\n",
              "         1.10395287e+00,  8.19624347e-01,  7.05892939e-01,\n",
              "         8.19624347e-01,  9.33355755e-01,  7.62758643e-01],\n",
              "       [-1.31297673e+00, -1.31297673e+00, -1.31297673e+00,\n",
              "        -1.31297673e+00, -1.31297673e+00, -1.05003079e+00,\n",
              "        -1.18150376e+00, -1.31297673e+00, -1.31297673e+00,\n",
              "        -1.44444970e+00, -1.31297673e+00, -1.31297673e+00,\n",
              "        -1.44444970e+00, -1.44444970e+00, -1.31297673e+00,\n",
              "        -1.05003079e+00, -1.05003079e+00, -1.18150376e+00,\n",
              "        -1.18150376e+00, -1.18150376e+00, -1.31297673e+00,\n",
              "        -1.05003079e+00, -1.31297673e+00, -9.18557817e-01,\n",
              "        -1.31297673e+00, -1.31297673e+00, -1.05003079e+00,\n",
              "        -1.31297673e+00, -1.31297673e+00, -1.31297673e+00,\n",
              "        -1.31297673e+00, -1.05003079e+00, -1.44444970e+00,\n",
              "        -1.31297673e+00, -1.44444970e+00, -1.31297673e+00,\n",
              "        -1.31297673e+00, -1.44444970e+00, -1.31297673e+00,\n",
              "        -1.31297673e+00, -1.18150376e+00, -1.18150376e+00,\n",
              "        -1.31297673e+00, -7.87084847e-01, -1.05003079e+00,\n",
              "        -1.18150376e+00, -1.31297673e+00, -1.31297673e+00,\n",
              "        -1.31297673e+00, -1.31297673e+00,  2.64698913e-01,\n",
              "         3.96171883e-01,  3.96171883e-01,  1.33225943e-01,\n",
              "         3.96171883e-01,  1.33225943e-01,  5.27644853e-01,\n",
              "        -2.61192967e-01,  1.33225943e-01,  2.64698913e-01,\n",
              "        -2.61192967e-01,  3.96171883e-01, -2.61192967e-01,\n",
              "         2.64698913e-01,  1.33225943e-01,  2.64698913e-01,\n",
              "         3.96171883e-01, -2.61192967e-01,  3.96171883e-01,\n",
              "        -1.29719997e-01,  7.90590793e-01,  1.33225943e-01,\n",
              "         3.96171883e-01,  1.75297293e-03,  1.33225943e-01,\n",
              "         2.64698913e-01,  2.64698913e-01,  6.59117823e-01,\n",
              "         3.96171883e-01, -2.61192967e-01, -1.29719997e-01,\n",
              "        -2.61192967e-01,  1.75297293e-03,  5.27644853e-01,\n",
              "         3.96171883e-01,  5.27644853e-01,  3.96171883e-01,\n",
              "         1.33225943e-01,  1.33225943e-01,  1.33225943e-01,\n",
              "         1.75297293e-03,  2.64698913e-01,  1.75297293e-03,\n",
              "        -2.61192967e-01,  1.33225943e-01,  1.75297293e-03,\n",
              "         1.33225943e-01,  1.33225943e-01, -1.29719997e-01,\n",
              "         1.33225943e-01,  1.71090158e+00,  9.22063763e-01,\n",
              "         1.18500970e+00,  7.90590793e-01,  1.31648267e+00,\n",
              "         1.18500970e+00,  6.59117823e-01,  7.90590793e-01,\n",
              "         7.90590793e-01,  1.71090158e+00,  1.05353673e+00,\n",
              "         9.22063763e-01,  1.18500970e+00,  1.05353673e+00,\n",
              "         1.57942861e+00,  1.44795564e+00,  7.90590793e-01,\n",
              "         1.31648267e+00,  1.44795564e+00,  3.96171883e-01,\n",
              "         1.44795564e+00,  1.05353673e+00,  1.05353673e+00,\n",
              "         7.90590793e-01,  1.18500970e+00,  7.90590793e-01,\n",
              "         7.90590793e-01,  7.90590793e-01,  1.18500970e+00,\n",
              "         5.27644853e-01,  9.22063763e-01,  1.05353673e+00,\n",
              "         1.31648267e+00,  3.96171883e-01,  2.64698913e-01,\n",
              "         1.44795564e+00,  1.57942861e+00,  7.90590793e-01,\n",
              "         7.90590793e-01,  1.18500970e+00,  1.57942861e+00,\n",
              "         1.44795564e+00,  9.22063763e-01,  1.44795564e+00,\n",
              "         1.71090158e+00,  1.44795564e+00,  9.22063763e-01,\n",
              "         1.05353673e+00,  1.44795564e+00,  7.90590793e-01]])"
            ]
          },
          "metadata": {
            "tags": []
          },
          "execution_count": 30
        }
      ]
    },
    {
      "cell_type": "code",
      "metadata": {
        "id": "WCYxGrd-AEEO",
        "outputId": "07f0ff6d-ec74-4717-ddeb-12921a927f86",
        "colab": {
          "base_uri": "https://localhost:8080/",
          "height": 352
        }
      },
      "source": [
        "plt.hist(data_matrix[0,:],bins = 'rice',color = 'b')\r\n",
        "plt.hist(data_matrix_m0_std1_useSTAT[0,:],bins = 'rice',color = 'r')\r\n",
        "plt.hist(data_matrix_m0[0,:],bins = 'rice',color = 'y')"
      ],
      "execution_count": 31,
      "outputs": [
        {
          "output_type": "execute_result",
          "data": {
            "text/plain": [
              "(array([ 9., 13., 23., 20., 18., 16., 21., 17.,  5.,  2.,  6.]),\n",
              " array([-1.54333333, -1.21606061, -0.88878788, -0.56151515, -0.23424242,\n",
              "         0.0930303 ,  0.42030303,  0.74757576,  1.07484848,  1.40212121,\n",
              "         1.72939394,  2.05666667]),\n",
              " <a list of 11 Patch objects>)"
            ]
          },
          "metadata": {
            "tags": []
          },
          "execution_count": 31
        },
        {
          "output_type": "display_data",
          "data": {
            "image/png": "[encoded data removed]",
            "text/plain": [
              "<Figure size 432x288 with 1 Axes>"
            ]
          },
          "metadata": {
            "tags": [],
            "needs_background": "light"
          }
        }
      ]
    },
    {
      "cell_type": "markdown",
      "metadata": {
        "id": "hr2A8Dghp7lB"
      },
      "source": [
        "##2.Calculating the covariance matrix (หา coveriance matrix ของข้อมูลเรา)"
      ]
    },
    {
      "cell_type": "markdown",
      "metadata": {
        "id": "J9oP2hHhBry_"
      },
      "source": [
        "![image.png](data:image/png;base64,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)"
      ]
    },
    {
      "cell_type": "code",
      "metadata": {
        "id": "p4RetwD9BxjR",
        "outputId": "702c3394-ec1b-4022-db9d-833e1b9891ec",
        "colab": {
          "base_uri": "https://localhost:8080/",
          "height": 286
        }
      },
      "source": [
        "pd.plotting.scatter_matrix(example_df);"
      ],
      "execution_count": 33,
      "outputs": [
        {
          "output_type": "display_data",
          "data": {
            "image/png": "[encoded data removed]",
            "text/plain": [
              "<Figure size 432x288 with 16 Axes>"
            ]
          },
          "metadata": {
            "tags": [],
            "needs_background": "light"
          }
        }
      ]
    },
    {
      "cell_type": "code",
      "metadata": {
        "colab": {
          "base_uri": "https://localhost:8080/"
        },
        "id": "zBZ2Qg0ypsb8",
        "outputId": "fe49ecbe-346f-41ac-f0f2-fdc5cbb0e578"
      },
      "source": [
        "data_cov = np.cov(data_matrix_m0_std1)\r\n",
        "data_cov"
      ],
      "execution_count": 34,
      "outputs": [
        {
          "output_type": "execute_result",
          "data": {
            "text/plain": [
              "array([[ 1.00671141, -0.11010327,  0.87760486,  0.82344326],\n",
              "       [-0.11010327,  1.00671141, -0.42333835, -0.358937  ],\n",
              "       [ 0.87760486, -0.42333835,  1.00671141,  0.96921855],\n",
              "       [ 0.82344326, -0.358937  ,  0.96921855,  1.00671141]])"
            ]
          },
          "metadata": {
            "tags": []
          },
          "execution_count": 34
        }
      ]
    },
    {
      "cell_type": "markdown",
      "metadata": {
        "id": "3ytdbPa55skq"
      },
      "source": [
        "##3. คำนวณ Eigenvectors and Eigenvalues (คำนวณ eigen values-vectors)\r\n"
      ]
    },
    {
      "cell_type": "code",
      "metadata": {
        "id": "MwxeoJmi66Lt"
      },
      "source": [
        "eigen_values,eigen_vectors = np.linalg.eig(data_cov)"
      ],
      "execution_count": 44,
      "outputs": []
    },
    {
      "cell_type": "code",
      "metadata": {
        "id": "hYWj7w2f9x3q",
        "colab": {
          "base_uri": "https://localhost:8080/"
        },
        "outputId": "b8a5bb91-7caa-4f2f-88e1-0740862b40a4"
      },
      "source": [
        "eigen_values"
      ],
      "execution_count": 36,
      "outputs": [
        {
          "output_type": "execute_result",
          "data": {
            "text/plain": [
              "array([2.93035378, 0.92740362, 0.14834223, 0.02074601])"
            ]
          },
          "metadata": {
            "tags": []
          },
          "execution_count": 36
        }
      ]
    },
    {
      "cell_type": "code",
      "metadata": {
        "id": "zt9iAKMp90dG",
        "colab": {
          "base_uri": "https://localhost:8080/"
        },
        "outputId": "8a919a9a-9718-4dc9-b971-bdfaee52f2e3"
      },
      "source": [
        "eigen_vectors"
      ],
      "execution_count": 45,
      "outputs": [
        {
          "output_type": "execute_result",
          "data": {
            "text/plain": [
              "array([[ 0.52237162, -0.37231836, -0.72101681,  0.26199559],\n",
              "       [-0.26335492, -0.92555649,  0.24203288, -0.12413481],\n",
              "       [ 0.58125401, -0.02109478,  0.14089226, -0.80115427],\n",
              "       [ 0.56561105, -0.06541577,  0.6338014 ,  0.52354627]])"
            ]
          },
          "metadata": {
            "tags": []
          },
          "execution_count": 45
        }
      ]
    },
    {
      "cell_type": "markdown",
      "metadata": {
        "id": "z87OIPjF7kHk"
      },
      "source": [
        "##4. Picking Principal Components Using the Explained Variance (เลือกมาเฉพาะ eigens ที่จำเป็น)\r\n",
        "คำนวณว่า แต่ละ eigen vector อธิบายข้อมูลทั้งหมดได้ดีแค่ไหน"
      ]
    },
    {
      "cell_type": "code",
      "metadata": {
        "id": "QGRtqnee7vX1",
        "colab": {
          "base_uri": "https://localhost:8080/"
        },
        "outputId": "fe90dec1-3f08-4285-f414-aa3c018eb61d"
      },
      "source": [
        "sum(eigen_values)"
      ],
      "execution_count": 38,
      "outputs": [
        {
          "output_type": "execute_result",
          "data": {
            "text/plain": [
              "4.026845637583896"
            ]
          },
          "metadata": {
            "tags": []
          },
          "execution_count": 38
        }
      ]
    },
    {
      "cell_type": "code",
      "metadata": {
        "id": "6SaTA7yJ8RnB",
        "outputId": "8254df2e-2f52-4235-8eab-421b1b13932d",
        "colab": {
          "base_uri": "https://localhost:8080/"
        }
      },
      "source": [
        "variance_explained = []\r\n",
        "for i in eigen_values :\r\n",
        "      variance_explained.append((i/sum(eigen_values))*100)\r\n",
        "print(variance_explained)"
      ],
      "execution_count": 39,
      "outputs": [
        {
          "output_type": "stream",
          "text": [
            "[72.77045209380132, 23.03052326768066, 3.6838319576273824, 0.5151926808906327]\n"
          ],
          "name": "stdout"
        }
      ]
    },
    {
      "cell_type": "code",
      "metadata": {
        "id": "dPAQXN1cETTO",
        "outputId": "e1083637-9098-4a44-8518-7e2f9b3080a5",
        "colab": {
          "base_uri": "https://localhost:8080/"
        }
      },
      "source": [
        "cumulative_variance_explained = np.cumsum(variance_explained)\r\n",
        "print(cumulative_variance_explained)"
      ],
      "execution_count": 40,
      "outputs": [
        {
          "output_type": "stream",
          "text": [
            "[ 72.77045209  95.80097536  99.48480732 100.        ]\n"
          ],
          "name": "stdout"
        }
      ]
    },
    {
      "cell_type": "code",
      "metadata": {
        "id": "YsMsw2AWEXiE",
        "outputId": "1993eb79-2f57-4297-b293-841191d753c1",
        "colab": {
          "base_uri": "https://localhost:8080/"
        }
      },
      "source": [
        "selected_eigen_vectors = eigen_vectors[:,:2]\r\n",
        "selected_eigen_vectors"
      ],
      "execution_count": 46,
      "outputs": [
        {
          "output_type": "execute_result",
          "data": {
            "text/plain": [
              "array([[ 0.52237162, -0.37231836],\n",
              "       [-0.26335492, -0.92555649],\n",
              "       [ 0.58125401, -0.02109478],\n",
              "       [ 0.56561105, -0.06541577]])"
            ]
          },
          "metadata": {
            "tags": []
          },
          "execution_count": 46
        }
      ]
    },
    {
      "cell_type": "markdown",
      "metadata": {
        "id": "neMV8i0kEyhm"
      },
      "source": [
        "##5. Project Data Onto Lower-Dimensional Linear Subspace(map data ไปบนแกนใหม่)\r\n",
        "\r\n",
        "![image.png](data:image/png;base64,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)"
      ]
    },
    {
      "cell_type": "code",
      "metadata": {
        "id": "5VgFaqRgEa92",
        "outputId": "e856a92d-e2c9-4da0-bf1a-0aabc68de32f",
        "colab": {
          "base_uri": "https://localhost:8080/"
        }
      },
      "source": [
        "X = data_matrix_m0_std1\r\n",
        "X.shape"
      ],
      "execution_count": 47,
      "outputs": [
        {
          "output_type": "execute_result",
          "data": {
            "text/plain": [
              "(4, 150)"
            ]
          },
          "metadata": {
            "tags": []
          },
          "execution_count": 47
        }
      ]
    },
    {
      "cell_type": "code",
      "metadata": {
        "id": "c9nkf6HCFQ3k",
        "outputId": "5d200a3b-da5d-4f4e-cee5-1ea8bbc6ebbb",
        "colab": {
          "base_uri": "https://localhost:8080/"
        }
      },
      "source": [
        "W = selected_eigen_vectors\r\n",
        "W.shape"
      ],
      "execution_count": 48,
      "outputs": [
        {
          "output_type": "execute_result",
          "data": {
            "text/plain": [
              "(4, 2)"
            ]
          },
          "metadata": {
            "tags": []
          },
          "execution_count": 48
        }
      ]
    },
    {
      "cell_type": "code",
      "metadata": {
        "id": "_ClVq8INFZVc",
        "outputId": "8d6bdb42-1afa-4db5-b845-f9994b229153",
        "colab": {
          "base_uri": "https://localhost:8080/"
        }
      },
      "source": [
        "X_pca = X.T.dot(W)\r\n",
        "X_pca"
      ],
      "execution_count": 52,
      "outputs": [
        {
          "output_type": "execute_result",
          "data": {
            "text/plain": [
              "array([[-2.26454173e+00, -5.05703903e-01],\n",
              "       [-2.08642550e+00,  6.55404729e-01],\n",
              "       [-2.36795045e+00,  3.18477311e-01],\n",
              "       [-2.30419716e+00,  5.75367713e-01],\n",
              "       [-2.38877749e+00, -6.74767397e-01],\n",
              "       [-2.07053681e+00, -1.51854856e+00],\n",
              "       [-2.44571134e+00, -7.45626750e-02],\n",
              "       [-2.23384186e+00, -2.47613932e-01],\n",
              "       [-2.34195768e+00,  1.09514636e+00],\n",
              "       [-2.18867576e+00,  4.48629048e-01],\n",
              "       [-2.16348656e+00, -1.07059558e+00],\n",
              "       [-2.32737775e+00, -1.58587455e-01],\n",
              "       [-2.22408272e+00,  7.09118158e-01],\n",
              "       [-2.63971626e+00,  9.38281982e-01],\n",
              "       [-2.19229151e+00, -1.88997851e+00],\n",
              "       [-2.25146521e+00, -2.72237108e+00],\n",
              "       [-2.20275048e+00, -1.51375028e+00],\n",
              "       [-2.19017916e+00, -5.14304308e-01],\n",
              "       [-1.89407429e+00, -1.43111071e+00],\n",
              "       [-2.33994907e+00, -1.15803343e+00],\n",
              "       [-1.91455639e+00, -4.30465163e-01],\n",
              "       [-2.20464540e+00, -9.52457317e-01],\n",
              "       [-2.77416979e+00, -4.89517027e-01],\n",
              "       [-1.82041156e+00, -1.06750793e-01],\n",
              "       [-2.22821750e+00, -1.62186163e-01],\n",
              "       [-1.95702401e+00,  6.07892567e-01],\n",
              "       [-2.05206331e+00, -2.66014312e-01],\n",
              "       [-2.16819365e+00, -5.52016495e-01],\n",
              "       [-2.14030596e+00, -3.36640409e-01],\n",
              "       [-2.26879019e+00,  3.14878603e-01],\n",
              "       [-2.14455443e+00,  4.83942097e-01],\n",
              "       [-1.83193810e+00, -4.45266836e-01],\n",
              "       [-2.60820287e+00, -1.82847519e+00],\n",
              "       [-2.43795086e+00, -2.18539162e+00],\n",
              "       [-2.18867576e+00,  4.48629048e-01],\n",
              "       [-2.21111990e+00,  1.84337811e-01],\n",
              "       [-2.04441652e+00, -6.84956426e-01],\n",
              "       [-2.18867576e+00,  4.48629048e-01],\n",
              "       [-2.43595220e+00,  8.82169415e-01],\n",
              "       [-2.17054720e+00, -2.92726955e-01],\n",
              "       [-2.28652724e+00, -4.67991716e-01],\n",
              "       [-1.87170722e+00,  2.32769161e+00],\n",
              "       [-2.55783442e+00,  4.53816380e-01],\n",
              "       [-1.96427929e+00, -4.97391640e-01],\n",
              "       [-2.13337283e+00, -1.17143211e+00],\n",
              "       [-2.07535759e+00,  6.91917347e-01],\n",
              "       [-2.38125822e+00, -1.15063259e+00],\n",
              "       [-2.39819169e+00,  3.62390765e-01],\n",
              "       [-2.22678121e+00, -1.02548255e+00],\n",
              "       [-2.20595417e+00, -3.22378453e-02],\n",
              "       [ 1.10399365e+00, -8.63112446e-01],\n",
              "       [ 7.32481440e-01, -5.98635573e-01],\n",
              "       [ 1.24210951e+00, -6.14822450e-01],\n",
              "       [ 3.97307283e-01,  1.75816895e+00],\n",
              "       [ 1.07259395e+00,  2.11757903e-01],\n",
              "       [ 3.84458146e-01,  5.91062469e-01],\n",
              "       [ 7.48715076e-01, -7.78698611e-01],\n",
              "       [-4.97863388e-01,  1.84886877e+00],\n",
              "       [ 9.26222368e-01, -3.03308268e-02],\n",
              "       [ 4.96802558e-03,  1.02940111e+00],\n",
              "       [-1.24697461e-01,  2.65806268e+00],\n",
              "       [ 4.38730118e-01,  5.88812850e-02],\n",
              "       [ 5.51633981e-01,  1.77258156e+00],\n",
              "       [ 7.17165066e-01,  1.85434315e-01],\n",
              "       [-3.72583830e-02,  4.32795099e-01],\n",
              "       [ 8.75890536e-01, -5.09998151e-01],\n",
              "       [ 3.48006402e-01,  1.90621647e-01],\n",
              "       [ 1.53392545e-01,  7.90725456e-01],\n",
              "       [ 1.21530321e+00,  1.63335564e+00],\n",
              "       [ 1.56941176e-01,  1.30310327e+00],\n",
              "       [ 7.38256104e-01, -4.02470382e-01],\n",
              "       [ 4.72369682e-01,  4.16608222e-01],\n",
              "       [ 1.22798821e+00,  9.40914793e-01],\n",
              "       [ 6.29381045e-01,  4.16811643e-01],\n",
              "       [ 7.00472799e-01,  6.34939277e-02],\n",
              "       [ 8.73536987e-01, -2.50708611e-01],\n",
              "       [ 1.25422219e+00,  8.26200998e-02],\n",
              "       [ 1.35823985e+00, -3.28820266e-01],\n",
              "       [ 6.62126138e-01,  2.24346071e-01],\n",
              "       [-4.72815133e-02,  1.05721241e+00],\n",
              "       [ 1.21534209e-01,  1.56359238e+00],\n",
              "       [ 1.41182261e-02,  1.57339235e+00],\n",
              "       [ 2.36010837e-01,  7.75923784e-01],\n",
              "       [ 1.05669143e+00,  6.36901284e-01],\n",
              "       [ 2.21417088e-01,  2.80847693e-01],\n",
              "       [ 4.31783161e-01, -8.55136920e-01],\n",
              "       [ 1.04941336e+00, -5.22197265e-01],\n",
              "       [ 1.03587821e+00,  1.39246648e+00],\n",
              "       [ 6.70675999e-02,  2.12620735e-01],\n",
              "       [ 2.75425066e-01,  1.32981591e+00],\n",
              "       [ 2.72335066e-01,  1.11944152e+00],\n",
              "       [ 6.23170540e-01, -2.75426333e-02],\n",
              "       [ 3.30005364e-01,  9.88900732e-01],\n",
              "       [-3.73627623e-01,  2.01793227e+00],\n",
              "       [ 2.82944343e-01,  8.53950717e-01],\n",
              "       [ 8.90531103e-02,  1.74908548e-01],\n",
              "       [ 2.24356783e-01,  3.80484659e-01],\n",
              "       [ 5.73883486e-01,  1.53719974e-01],\n",
              "       [-4.57012873e-01,  1.53946451e+00],\n",
              "       [ 2.52244473e-01,  5.95860746e-01],\n",
              "       [ 1.84767259e+00, -8.71696662e-01],\n",
              "       [ 1.15318981e+00,  7.01326114e-01],\n",
              "       [ 2.20634950e+00, -5.54470105e-01],\n",
              "       [ 1.43868540e+00,  5.00105223e-02],\n",
              "       [ 1.86789070e+00, -2.91192802e-01],\n",
              "       [ 2.75419671e+00, -7.88432206e-01],\n",
              "       [ 3.58374475e-01,  1.56009458e+00],\n",
              "       [ 2.30300590e+00, -4.09516695e-01],\n",
              "       [ 2.00173530e+00,  7.23865359e-01],\n",
              "       [ 2.26755460e+00, -1.92144299e+00],\n",
              "       [ 1.36590943e+00, -6.93948040e-01],\n",
              "       [ 1.59906459e+00,  4.28248836e-01],\n",
              "       [ 1.88425185e+00, -4.14332758e-01],\n",
              "       [ 1.25308651e+00,  1.16739134e+00],\n",
              "       [ 1.46406152e+00,  4.44147569e-01],\n",
              "       [ 1.59180930e+00, -6.77035372e-01],\n",
              "       [ 1.47128019e+00, -2.53192472e-01],\n",
              "       [ 2.43737848e+00, -2.55675734e+00],\n",
              "       [ 3.30914118e+00,  2.36132010e-03],\n",
              "       [ 1.25398099e+00,  1.71758384e+00],\n",
              "       [ 2.04049626e+00, -9.07398765e-01],\n",
              "       [ 9.73915114e-01,  5.71174376e-01],\n",
              "       [ 2.89806444e+00, -3.97791359e-01],\n",
              "       [ 1.32919369e+00,  4.86760542e-01],\n",
              "       [ 1.70424071e+00, -1.01414842e+00],\n",
              "       [ 1.95772766e+00, -1.00333452e+00],\n",
              "       [ 1.17190451e+00,  3.18896617e-01],\n",
              "       [ 1.01978105e+00, -6.55429631e-02],\n",
              "       [ 1.78600886e+00,  1.93272800e-01],\n",
              "       [ 1.86477791e+00, -5.55381532e-01],\n",
              "       [ 2.43549739e+00, -2.46654468e-01],\n",
              "       [ 2.31608241e+00, -2.62618387e+00],\n",
              "       [ 1.86037143e+00,  1.84672394e-01],\n",
              "       [ 1.11127173e+00,  2.95986102e-01],\n",
              "       [ 1.19746916e+00,  8.17167742e-01],\n",
              "       [ 2.80094940e+00, -8.44748194e-01],\n",
              "       [ 1.58015525e+00, -1.07247450e+00],\n",
              "       [ 1.34704442e+00, -4.22255966e-01],\n",
              "       [ 9.23432978e-01, -1.92303705e-02],\n",
              "       [ 1.85355198e+00, -6.72422729e-01],\n",
              "       [ 2.01615720e+00, -6.10397038e-01],\n",
              "       [ 1.90311686e+00, -6.86024832e-01],\n",
              "       [ 1.15318981e+00,  7.01326114e-01],\n",
              "       [ 2.04330844e+00, -8.64684880e-01],\n",
              "       [ 2.00169097e+00, -1.04855005e+00],\n",
              "       [ 1.87052207e+00, -3.82821838e-01],\n",
              "       [ 1.55849189e+00,  9.05313601e-01],\n",
              "       [ 1.52084506e+00, -2.66794575e-01],\n",
              "       [ 1.37639119e+00, -1.01636193e+00],\n",
              "       [ 9.59298576e-01,  2.22839447e-02]])"
            ]
          },
          "metadata": {
            "tags": []
          },
          "execution_count": 52
        }
      ]
    },
    {
      "cell_type": "code",
      "metadata": {
        "id": "Blu9gNSKFh4A",
        "outputId": "2143371f-6e5a-4ba1-9c18-a59e2bc5cb63",
        "colab": {
          "base_uri": "https://localhost:8080/",
          "height": 283
        }
      },
      "source": [
        "plt.plot(X_pca[:,0],X_pca[:,1],'or')"
      ],
      "execution_count": 53,
      "outputs": [
        {
          "output_type": "execute_result",
          "data": {
            "text/plain": [
              "[<matplotlib.lines.Line2D at 0x7f3ed60ed2d0>]"
            ]
          },
          "metadata": {
            "tags": []
          },
          "execution_count": 53
        },
        {
          "output_type": "display_data",
          "data": {
            "image/png": "[encoded data removed]",
            "text/plain": [
              "<Figure size 432x288 with 1 Axes>"
            ]
          },
          "metadata": {
            "tags": [],
            "needs_background": "light"
          }
        }
      ]
    },
    {
      "cell_type": "code",
      "metadata": {
        "id": "dohzEsp6Fu80",
        "outputId": "c4a4256c-a655-4c68-a67f-0bf7fdce36fd",
        "colab": {
          "base_uri": "https://localhost:8080/",
          "height": 283
        }
      },
      "source": [
        "plt.plot(X_pca[:50,0],X_pca[:50,1],'or')\r\n",
        "plt.plot(X_pca[50:100,0],X_pca[50:100,1],'og')\r\n",
        "plt.plot(X_pca[100:,0],X_pca[100:,1],'oy')"
      ],
      "execution_count": 54,
      "outputs": [
        {
          "output_type": "execute_result",
          "data": {
            "text/plain": [
              "[<matplotlib.lines.Line2D at 0x7f3ed60dad50>]"
            ]
          },
          "metadata": {
            "tags": []
          },
          "execution_count": 54
        },
        {
          "output_type": "display_data",
          "data": {
            "image/png": "[encoded data removed]",
            "text/plain": [
              "<Figure size 432x288 with 1 Axes>"
            ]
          },
          "metadata": {
            "tags": [],
            "needs_background": "light"
          }
        }
      ]
    },
    {
      "cell_type": "markdown",
      "metadata": {
        "id": "UmA8025BGEGH"
      },
      "source": [
        "#PAC"
      ]
    },
    {
      "cell_type": "markdown",
      "metadata": {
        "id": "iWYtgBTiGH3F"
      },
      "source": [
        "Import"
      ]
    },
    {
      "cell_type": "code",
      "metadata": {
        "id": "xfCBHIeVFzLJ"
      },
      "source": [
        "from sklearn.decomposition import PCA"
      ],
      "execution_count": 55,
      "outputs": []
    },
    {
      "cell_type": "markdown",
      "metadata": {
        "id": "24Ga4PdSGOsI"
      },
      "source": [
        "Define"
      ]
    },
    {
      "cell_type": "code",
      "metadata": {
        "id": "L7_r09i6GNhx"
      },
      "source": [
        "pca = PCA(n_components=2)"
      ],
      "execution_count": 56,
      "outputs": []
    },
    {
      "cell_type": "markdown",
      "metadata": {
        "id": "9rE65AliGcBJ"
      },
      "source": [
        "Fit - Transform"
      ]
    },
    {
      "cell_type": "code",
      "metadata": {
        "id": "zeSMCjThGbA3"
      },
      "source": [
        "new_pca = pca.fit_transform(X.T)  ## record - แถว  , dimension - หลัก"
      ],
      "execution_count": 57,
      "outputs": []
    },
    {
      "cell_type": "code",
      "metadata": {
        "id": "ZmbF4N1mGnzn",
        "outputId": "212fd326-87b9-40af-f6a9-9ed8128d25c5",
        "colab": {
          "base_uri": "https://localhost:8080/"
        }
      },
      "source": [
        "new_pca"
      ],
      "execution_count": 58,
      "outputs": [
        {
          "output_type": "execute_result",
          "data": {
            "text/plain": [
              "array([[-2.26454173e+00,  5.05703903e-01],\n",
              "       [-2.08642550e+00, -6.55404729e-01],\n",
              "       [-2.36795045e+00, -3.18477311e-01],\n",
              "       [-2.30419716e+00, -5.75367713e-01],\n",
              "       [-2.38877749e+00,  6.74767397e-01],\n",
              "       [-2.07053681e+00,  1.51854856e+00],\n",
              "       [-2.44571134e+00,  7.45626750e-02],\n",
              "       [-2.23384186e+00,  2.47613932e-01],\n",
              "       [-2.34195768e+00, -1.09514636e+00],\n",
              "       [-2.18867576e+00, -4.48629048e-01],\n",
              "       [-2.16348656e+00,  1.07059558e+00],\n",
              "       [-2.32737775e+00,  1.58587455e-01],\n",
              "       [-2.22408272e+00, -7.09118158e-01],\n",
              "       [-2.63971626e+00, -9.38281982e-01],\n",
              "       [-2.19229151e+00,  1.88997851e+00],\n",
              "       [-2.25146521e+00,  2.72237108e+00],\n",
              "       [-2.20275048e+00,  1.51375028e+00],\n",
              "       [-2.19017916e+00,  5.14304308e-01],\n",
              "       [-1.89407429e+00,  1.43111071e+00],\n",
              "       [-2.33994907e+00,  1.15803343e+00],\n",
              "       [-1.91455639e+00,  4.30465163e-01],\n",
              "       [-2.20464540e+00,  9.52457317e-01],\n",
              "       [-2.77416979e+00,  4.89517027e-01],\n",
              "       [-1.82041156e+00,  1.06750793e-01],\n",
              "       [-2.22821750e+00,  1.62186163e-01],\n",
              "       [-1.95702401e+00, -6.07892567e-01],\n",
              "       [-2.05206331e+00,  2.66014312e-01],\n",
              "       [-2.16819365e+00,  5.52016495e-01],\n",
              "       [-2.14030596e+00,  3.36640409e-01],\n",
              "       [-2.26879019e+00, -3.14878603e-01],\n",
              "       [-2.14455443e+00, -4.83942097e-01],\n",
              "       [-1.83193810e+00,  4.45266836e-01],\n",
              "       [-2.60820287e+00,  1.82847519e+00],\n",
              "       [-2.43795086e+00,  2.18539162e+00],\n",
              "       [-2.18867576e+00, -4.48629048e-01],\n",
              "       [-2.21111990e+00, -1.84337811e-01],\n",
              "       [-2.04441652e+00,  6.84956426e-01],\n",
              "       [-2.18867576e+00, -4.48629048e-01],\n",
              "       [-2.43595220e+00, -8.82169415e-01],\n",
              "       [-2.17054720e+00,  2.92726955e-01],\n",
              "       [-2.28652724e+00,  4.67991716e-01],\n",
              "       [-1.87170722e+00, -2.32769161e+00],\n",
              "       [-2.55783442e+00, -4.53816380e-01],\n",
              "       [-1.96427929e+00,  4.97391640e-01],\n",
              "       [-2.13337283e+00,  1.17143211e+00],\n",
              "       [-2.07535759e+00, -6.91917347e-01],\n",
              "       [-2.38125822e+00,  1.15063259e+00],\n",
              "       [-2.39819169e+00, -3.62390765e-01],\n",
              "       [-2.22678121e+00,  1.02548255e+00],\n",
              "       [-2.20595417e+00,  3.22378453e-02],\n",
              "       [ 1.10399365e+00,  8.63112446e-01],\n",
              "       [ 7.32481440e-01,  5.98635573e-01],\n",
              "       [ 1.24210951e+00,  6.14822450e-01],\n",
              "       [ 3.97307283e-01, -1.75816895e+00],\n",
              "       [ 1.07259395e+00, -2.11757903e-01],\n",
              "       [ 3.84458146e-01, -5.91062469e-01],\n",
              "       [ 7.48715076e-01,  7.78698611e-01],\n",
              "       [-4.97863388e-01, -1.84886877e+00],\n",
              "       [ 9.26222368e-01,  3.03308268e-02],\n",
              "       [ 4.96802558e-03, -1.02940111e+00],\n",
              "       [-1.24697461e-01, -2.65806268e+00],\n",
              "       [ 4.38730118e-01, -5.88812850e-02],\n",
              "       [ 5.51633981e-01, -1.77258156e+00],\n",
              "       [ 7.17165066e-01, -1.85434315e-01],\n",
              "       [-3.72583830e-02, -4.32795099e-01],\n",
              "       [ 8.75890536e-01,  5.09998151e-01],\n",
              "       [ 3.48006402e-01, -1.90621647e-01],\n",
              "       [ 1.53392545e-01, -7.90725456e-01],\n",
              "       [ 1.21530321e+00, -1.63335564e+00],\n",
              "       [ 1.56941176e-01, -1.30310327e+00],\n",
              "       [ 7.38256104e-01,  4.02470382e-01],\n",
              "       [ 4.72369682e-01, -4.16608222e-01],\n",
              "       [ 1.22798821e+00, -9.40914793e-01],\n",
              "       [ 6.29381045e-01, -4.16811643e-01],\n",
              "       [ 7.00472799e-01, -6.34939277e-02],\n",
              "       [ 8.73536987e-01,  2.50708611e-01],\n",
              "       [ 1.25422219e+00, -8.26200998e-02],\n",
              "       [ 1.35823985e+00,  3.28820266e-01],\n",
              "       [ 6.62126138e-01, -2.24346071e-01],\n",
              "       [-4.72815133e-02, -1.05721241e+00],\n",
              "       [ 1.21534209e-01, -1.56359238e+00],\n",
              "       [ 1.41182261e-02, -1.57339235e+00],\n",
              "       [ 2.36010837e-01, -7.75923784e-01],\n",
              "       [ 1.05669143e+00, -6.36901284e-01],\n",
              "       [ 2.21417088e-01, -2.80847693e-01],\n",
              "       [ 4.31783161e-01,  8.55136920e-01],\n",
              "       [ 1.04941336e+00,  5.22197265e-01],\n",
              "       [ 1.03587821e+00, -1.39246648e+00],\n",
              "       [ 6.70675999e-02, -2.12620735e-01],\n",
              "       [ 2.75425066e-01, -1.32981591e+00],\n",
              "       [ 2.72335066e-01, -1.11944152e+00],\n",
              "       [ 6.23170540e-01,  2.75426333e-02],\n",
              "       [ 3.30005364e-01, -9.88900732e-01],\n",
              "       [-3.73627623e-01, -2.01793227e+00],\n",
              "       [ 2.82944343e-01, -8.53950717e-01],\n",
              "       [ 8.90531103e-02, -1.74908548e-01],\n",
              "       [ 2.24356783e-01, -3.80484659e-01],\n",
              "       [ 5.73883486e-01, -1.53719974e-01],\n",
              "       [-4.57012873e-01, -1.53946451e+00],\n",
              "       [ 2.52244473e-01, -5.95860746e-01],\n",
              "       [ 1.84767259e+00,  8.71696662e-01],\n",
              "       [ 1.15318981e+00, -7.01326114e-01],\n",
              "       [ 2.20634950e+00,  5.54470105e-01],\n",
              "       [ 1.43868540e+00, -5.00105223e-02],\n",
              "       [ 1.86789070e+00,  2.91192802e-01],\n",
              "       [ 2.75419671e+00,  7.88432206e-01],\n",
              "       [ 3.58374475e-01, -1.56009458e+00],\n",
              "       [ 2.30300590e+00,  4.09516695e-01],\n",
              "       [ 2.00173530e+00, -7.23865359e-01],\n",
              "       [ 2.26755460e+00,  1.92144299e+00],\n",
              "       [ 1.36590943e+00,  6.93948040e-01],\n",
              "       [ 1.59906459e+00, -4.28248836e-01],\n",
              "       [ 1.88425185e+00,  4.14332758e-01],\n",
              "       [ 1.25308651e+00, -1.16739134e+00],\n",
              "       [ 1.46406152e+00, -4.44147569e-01],\n",
              "       [ 1.59180930e+00,  6.77035372e-01],\n",
              "       [ 1.47128019e+00,  2.53192472e-01],\n",
              "       [ 2.43737848e+00,  2.55675734e+00],\n",
              "       [ 3.30914118e+00, -2.36132010e-03],\n",
              "       [ 1.25398099e+00, -1.71758384e+00],\n",
              "       [ 2.04049626e+00,  9.07398765e-01],\n",
              "       [ 9.73915114e-01, -5.71174376e-01],\n",
              "       [ 2.89806444e+00,  3.97791359e-01],\n",
              "       [ 1.32919369e+00, -4.86760542e-01],\n",
              "       [ 1.70424071e+00,  1.01414842e+00],\n",
              "       [ 1.95772766e+00,  1.00333452e+00],\n",
              "       [ 1.17190451e+00, -3.18896617e-01],\n",
              "       [ 1.01978105e+00,  6.55429631e-02],\n",
              "       [ 1.78600886e+00, -1.93272800e-01],\n",
              "       [ 1.86477791e+00,  5.55381532e-01],\n",
              "       [ 2.43549739e+00,  2.46654468e-01],\n",
              "       [ 2.31608241e+00,  2.62618387e+00],\n",
              "       [ 1.86037143e+00, -1.84672394e-01],\n",
              "       [ 1.11127173e+00, -2.95986102e-01],\n",
              "       [ 1.19746916e+00, -8.17167742e-01],\n",
              "       [ 2.80094940e+00,  8.44748194e-01],\n",
              "       [ 1.58015525e+00,  1.07247450e+00],\n",
              "       [ 1.34704442e+00,  4.22255966e-01],\n",
              "       [ 9.23432978e-01,  1.92303705e-02],\n",
              "       [ 1.85355198e+00,  6.72422729e-01],\n",
              "       [ 2.01615720e+00,  6.10397038e-01],\n",
              "       [ 1.90311686e+00,  6.86024832e-01],\n",
              "       [ 1.15318981e+00, -7.01326114e-01],\n",
              "       [ 2.04330844e+00,  8.64684880e-01],\n",
              "       [ 2.00169097e+00,  1.04855005e+00],\n",
              "       [ 1.87052207e+00,  3.82821838e-01],\n",
              "       [ 1.55849189e+00, -9.05313601e-01],\n",
              "       [ 1.52084506e+00,  2.66794575e-01],\n",
              "       [ 1.37639119e+00,  1.01636193e+00],\n",
              "       [ 9.59298576e-01, -2.22839447e-02]])"
            ]
          },
          "metadata": {
            "tags": []
          },
          "execution_count": 58
        }
      ]
    },
    {
      "cell_type": "code",
      "metadata": {
        "id": "zyOOzzqdGqSG",
        "outputId": "8b7a0cc7-f470-48a7-f967-25485e272691",
        "colab": {
          "base_uri": "https://localhost:8080/",
          "height": 283
        }
      },
      "source": [
        "plt.plot(new_pca[:50,0],new_pca[:50,1],'or')\r\n",
        "plt.plot(new_pca[50:100,0],new_pca[50:100,1],'og')\r\n",
        "plt.plot(new_pca[100:,0],new_pca[100:,1],'oy')"
      ],
      "execution_count": 59,
      "outputs": [
        {
          "output_type": "execute_result",
          "data": {
            "text/plain": [
              "[<matplotlib.lines.Line2D at 0x7f3ed05c3cd0>]"
            ]
          },
          "metadata": {
            "tags": []
          },
          "execution_count": 59
        },
        {
          "output_type": "display_data",
          "data": {
            "image/png": "[encoded data removed]",
            "text/plain": [
              "<Figure size 432x288 with 1 Axes>"
            ]
          },
          "metadata": {
            "tags": [],
            "needs_background": "light"
          }
        }
      ]
    }
  ]
}