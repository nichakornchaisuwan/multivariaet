{
  "nbformat": 4,
  "nbformat_minor": 0,
  "metadata": {
    "colab": {
      "name": "MVA001.ipynb",
      "provenance": [],
      "authorship_tag": "ABX9TyM48Pv05yNWeS+TC7iWAcfN",
      "include_colab_link": true
    },
    "kernelspec": {
      "name": "python3",
      "display_name": "Python 3"
    }
  },
  "cells": [
    {
      "cell_type": "markdown",
      "metadata": {
        "id": "view-in-github",
        "colab_type": "text"
      },
      "source": [
        "<a href=\"https://colab.research.google.com/github/nichakornchaisuwan/multivariaet/blob/main/MVA001.ipynb\" target=\"_parent\"><img src=\"https://colab.research.google.com/assets/colab-badge.svg\" alt=\"Open In Colab\"/></a>"
      ]
    },
    {
      "cell_type": "markdown",
      "metadata": {
        "id": "cHwramq0TabC"
      },
      "source": [
        ""
      ]
    },
    {
      "cell_type": "code",
      "metadata": {
        "id": "EyVVjkIETt60"
      },
      "source": [
        "import numpy as np"
      ],
      "execution_count": 1,
      "outputs": []
    },
    {
      "cell_type": "code",
      "metadata": {
        "colab": {
          "base_uri": "https://localhost:8080/"
        },
        "id": "8RcNrZewS-C7",
        "outputId": "9ea4dbd7-eaa0-418c-e1f0-ba492231f665"
      },
      "source": [
        "scalar_a = 10 #บอกขนาดอย่างเดียว\r\n",
        "print(scalar_a)"
      ],
      "execution_count": 2,
      "outputs": [
        {
          "output_type": "stream",
          "text": [
            "10\n"
          ],
          "name": "stdout"
        }
      ]
    },
    {
      "cell_type": "code",
      "metadata": {
        "colab": {
          "base_uri": "https://localhost:8080/"
        },
        "id": "C9oElCo_Tl9o",
        "outputId": "a853bc80-257b-4916-d988-da96a705905c"
      },
      "source": [
        "vector_b = np.zeros([2,1]) #vector มีหลายไดแมนชั่น\r\n",
        "                            # เป็น เดต้าหนึ่งจุด\r\n",
        "vector_b[0,0]=2\r\n",
        "vector_b[1,0]=3\r\n",
        "print(vector_b)\r\n",
        "print(vector_b.shape)"
      ],
      "execution_count": 3,
      "outputs": [
        {
          "output_type": "stream",
          "text": [
            "[[2.]\n",
            " [3.]]\n",
            "(2, 1)\n"
          ],
          "name": "stdout"
        }
      ]
    },
    {
      "cell_type": "code",
      "metadata": {
        "colab": {
          "base_uri": "https://localhost:8080/"
        },
        "id": "2zAJ8845Uklw",
        "outputId": "e5cf59a1-a6b5-4e6e-dfad-dc7ed733a447"
      },
      "source": [
        "vector_c = np.array([[1],[3]])\r\n",
        "print(vector_c)\r\n",
        "print(vector_c.shape)"
      ],
      "execution_count": 4,
      "outputs": [
        {
          "output_type": "stream",
          "text": [
            "[[1]\n",
            " [3]]\n",
            "(2, 1)\n"
          ],
          "name": "stdout"
        }
      ]
    },
    {
      "cell_type": "code",
      "metadata": {
        "id": "KX1Fljs4U_LR"
      },
      "source": [
        "from matplotlib import pyplot as plt"
      ],
      "execution_count": 5,
      "outputs": []
    },
    {
      "cell_type": "code",
      "metadata": {
        "colab": {
          "base_uri": "https://localhost:8080/",
          "height": 283
        },
        "id": "kohswzGzVPJg",
        "outputId": "aa1e863f-e688-4ee0-e879-aadb540b8d5d"
      },
      "source": [
        "plt.plot(vector_b[0,0],vector_b[1,0],'or')"
      ],
      "execution_count": 6,
      "outputs": [
        {
          "output_type": "execute_result",
          "data": {
            "text/plain": [
              "[<matplotlib.lines.Line2D at 0x7f693d986ac8>]"
            ]
          },
          "metadata": {
            "tags": []
          },
          "execution_count": 6
        },
        {
          "output_type": "display_data",
          "data": {
            "image/png": "[encoded data removed]",
            "text/plain": [
              "<Figure size 432x288 with 1 Axes>"
            ]
          },
          "metadata": {
            "tags": [],
            "needs_background": "light"
          }
        }
      ]
    },
    {
      "cell_type": "markdown",
      "metadata": {
        "id": "xcrIqF6UXzE0"
      },
      "source": [
        "ขนาดของ vector คำนวนได้โดย พิธากอรัส"
      ]
    },
    {
      "cell_type": "code",
      "metadata": {
        "colab": {
          "base_uri": "https://localhost:8080/"
        },
        "id": "cZfGrcxPVjgI",
        "outputId": "b53522a0-2aa1-4f8e-e89f-b8db4fa7fe07"
      },
      "source": [
        "vector_b_size =((vector_b[0,0]**2) + (vector_b[1,0]**2))**0.5\r\n",
        "print(vector_b_size)"
      ],
      "execution_count": 7,
      "outputs": [
        {
          "output_type": "stream",
          "text": [
            "3.605551275463989\n"
          ],
          "name": "stdout"
        }
      ]
    },
    {
      "cell_type": "markdown",
      "metadata": {
        "id": "e0opvcNxZMCM"
      },
      "source": [
        "# Matrix  # ชุดของจุดหลายๆจุดมาต่อกัน"
      ]
    },
    {
      "cell_type": "markdown",
      "metadata": {
        "id": "oIJg2ixfZIwd"
      },
      "source": [
        ""
      ]
    },
    {
      "cell_type": "code",
      "metadata": {
        "colab": {
          "base_uri": "https://localhost:8080/"
        },
        "id": "MOXIIvC0WxF1",
        "outputId": "7567065c-4be4-456b-a984-e1bc6d1734cb"
      },
      "source": [
        "matrix_d = np.array([[2,3],[1,4],[-1,1]])\r\n",
        "print(matrix_d)"
      ],
      "execution_count": 8,
      "outputs": [
        {
          "output_type": "stream",
          "text": [
            "[[ 2  3]\n",
            " [ 1  4]\n",
            " [-1  1]]\n"
          ],
          "name": "stdout"
        }
      ]
    },
    {
      "cell_type": "code",
      "metadata": {
        "colab": {
          "base_uri": "https://localhost:8080/"
        },
        "id": "w1xI8wehZ6qH",
        "outputId": "cab79a92-19f2-4c51-f96f-5cfe92c4b178"
      },
      "source": [
        "matrix_d =matrix_d.T\r\n",
        "print(matrix_d)"
      ],
      "execution_count": 9,
      "outputs": [
        {
          "output_type": "stream",
          "text": [
            "[[ 2  1 -1]\n",
            " [ 3  4  1]]\n"
          ],
          "name": "stdout"
        }
      ]
    },
    {
      "cell_type": "code",
      "metadata": {
        "colab": {
          "base_uri": "https://localhost:8080/",
          "height": 283
        },
        "id": "IcSx9onJaMR8",
        "outputId": "bdb20318-7edc-4d8d-c027-07e2a9ad06bb"
      },
      "source": [
        "plt.plot(matrix_d[0,:],matrix_d[1,:],'or') # พล็อตจุดลงไปในสแปส ค่า X คือในแถวที่ 0 จากทุกๆโร\r\n",
        "plt.plot(0,0,'.b')           # matrix_d[0,:] คือค่าของ x matrix_d[1,:] คือค่าของ y\r\n",
        "plt.plot([0,0],[-1,5],'--b')  #มีสองจุด\r\n",
        "plt.plot([-1.5,2.5],[0,0],'--b') "
      ],
      "execution_count": 10,
      "outputs": [
        {
          "output_type": "execute_result",
          "data": {
            "text/plain": [
              "[<matplotlib.lines.Line2D at 0x7f693d467d30>]"
            ]
          },
          "metadata": {
            "tags": []
          },
          "execution_count": 10
        },
        {
          "output_type": "display_data",
          "data": {
            "image/png": "[encoded data removed]",
            "text/plain": [
              "<Figure size 432x288 with 1 Axes>"
            ]
          },
          "metadata": {
            "tags": [],
            "needs_background": "light"
          }
        }
      ]
    },
    {
      "cell_type": "code",
      "metadata": {
        "colab": {
          "base_uri": "https://localhost:8080/"
        },
        "id": "pU4bQcnybTQk",
        "outputId": "565bd2e5-34b4-465d-d35c-a2dec0c0c367"
      },
      "source": [
        "A = np.array([[3,-1,2],[1,5,4]])\r\n",
        "print(A)"
      ],
      "execution_count": 11,
      "outputs": [
        {
          "output_type": "stream",
          "text": [
            "[[ 3 -1  2]\n",
            " [ 1  5  4]]\n"
          ],
          "name": "stdout"
        }
      ]
    },
    {
      "cell_type": "code",
      "metadata": {
        "colab": {
          "base_uri": "https://localhost:8080/"
        },
        "id": "-Y2vDsiNka0y",
        "outputId": "571540e6-cf9a-4d95-9f58-5b6210b9f281"
      },
      "source": [
        "print(A.T)"
      ],
      "execution_count": 12,
      "outputs": [
        {
          "output_type": "stream",
          "text": [
            "[[ 3  1]\n",
            " [-1  5]\n",
            " [ 2  4]]\n"
          ],
          "name": "stdout"
        }
      ]
    },
    {
      "cell_type": "markdown",
      "metadata": {
        "id": "OfArRVnNlego"
      },
      "source": [
        "$B = A*A'$"
      ]
    },
    {
      "cell_type": "code",
      "metadata": {
        "colab": {
          "base_uri": "https://localhost:8080/"
        },
        "id": "FskBQ9SfkmVM",
        "outputId": "810dedbe-3481-4229-d9c3-a4d758c0a92c"
      },
      "source": [
        "B = np.dot(A,A.T)\r\n",
        "print(B)"
      ],
      "execution_count": 13,
      "outputs": [
        {
          "output_type": "stream",
          "text": [
            "[[14  6]\n",
            " [ 6 42]]\n"
          ],
          "name": "stdout"
        }
      ]
    },
    {
      "cell_type": "markdown",
      "metadata": {
        "id": "hEFtdK6MmDc3"
      },
      "source": [
        "# Determinant\r\n",
        "$Det(B)$"
      ]
    },
    {
      "cell_type": "code",
      "metadata": {
        "colab": {
          "base_uri": "https://localhost:8080/"
        },
        "id": "VBcqP7Zclqjr",
        "outputId": "1fd28323-6e94-4df9-a006-ae91df6aa396"
      },
      "source": [
        "np.linalg.det(B)"
      ],
      "execution_count": 14,
      "outputs": [
        {
          "output_type": "execute_result",
          "data": {
            "text/plain": [
              "551.9999999999998"
            ]
          },
          "metadata": {
            "tags": []
          },
          "execution_count": 14
        }
      ]
    },
    {
      "cell_type": "markdown",
      "metadata": {
        "id": "IEtQwpimsYCN"
      },
      "source": [
        "linalg linear algbra"
      ]
    },
    {
      "cell_type": "markdown",
      "metadata": {
        "id": "YBJoQHuDsv9V"
      },
      "source": [
        "# matrix algebra เพิ่มเติม"
      ]
    },
    {
      "cell_type": "code",
      "metadata": {
        "id": "j7t7BR_pmhyt",
        "colab": {
          "base_uri": "https://localhost:8080/",
          "height": 283
        },
        "outputId": "b2148120-0ee7-4477-ebec-81278e443c6d"
      },
      "source": [
        "plt.plot([0,1],[0,1],'-r') # vectors [1,1] มีความยาว 1 หน่วย\r\n",
        "plt.plot(0,0,'.b')           # \r\n",
        "plt.plot([0,0],[-1,5],'--b')  #มีสองจุด\r\n",
        "plt.plot([-1.5,2.5],[0,0],'--b') "
      ],
      "execution_count": 17,
      "outputs": [
        {
          "output_type": "execute_result",
          "data": {
            "text/plain": [
              "[<matplotlib.lines.Line2D at 0x7f69355556d8>]"
            ]
          },
          "metadata": {
            "tags": []
          },
          "execution_count": 17
        },
        {
          "output_type": "display_data",
          "data": {
            "image/png": "[encoded data removed]",
            "text/plain": [
              "<Figure size 432x288 with 1 Axes>"
            ]
          },
          "metadata": {
            "tags": [],
            "needs_background": "light"
          }
        }
      ]
    },
    {
      "cell_type": "code",
      "metadata": {
        "colab": {
          "base_uri": "https://localhost:8080/"
        },
        "id": "-Uqt7pLatzz6",
        "outputId": "d3c176dc-caae-4949-e9c8-5348bd051a42"
      },
      "source": [
        "B = np.array([[1,2],[3,4]])\r\n",
        "B"
      ],
      "execution_count": 19,
      "outputs": [
        {
          "output_type": "execute_result",
          "data": {
            "text/plain": [
              "array([[1, 2],\n",
              "       [3, 4]])"
            ]
          },
          "metadata": {
            "tags": []
          },
          "execution_count": 19
        }
      ]
    },
    {
      "cell_type": "markdown",
      "metadata": {
        "id": "vTwU7WV5vjCq"
      },
      "source": [
        "การคูณ Matrix  ($B.v$) คือ การทำ "
      ]
    },
    {
      "cell_type": "code",
      "metadata": {
        "colab": {
          "base_uri": "https://localhost:8080/"
        },
        "id": "3aDWzDmDutvM",
        "outputId": "5be27e52-c00a-4fa9-cea8-54696f7cd430"
      },
      "source": [
        "Bv=np.dot(B,np.array([[1],[1]]))\r\n",
        "Bv"
      ],
      "execution_count": 20,
      "outputs": [
        {
          "output_type": "execute_result",
          "data": {
            "text/plain": [
              "array([[3],\n",
              "       [7]])"
            ]
          },
          "metadata": {
            "tags": []
          },
          "execution_count": 20
        }
      ]
    },
    {
      "cell_type": "code",
      "metadata": {
        "colab": {
          "base_uri": "https://localhost:8080/",
          "height": 283
        },
        "id": "s-_7JnKVu_rF",
        "outputId": "c92be7f9-f4d1-4fa7-bda3-b63890cf91de"
      },
      "source": [
        "plt.plot([0,Bv[0,0]],[0,Bv[1,0]],'-g') # vectors [1,1] มีความยาว 1 หน่วย\r\n",
        "plt.plot([0,1],[0,1],'-r') \r\n",
        "plt.plot(0,0,'.b')           # \r\n",
        "plt.plot([0,0],[-1,5],'--b')  #มีสองจุด\r\n",
        "plt.plot([-1.5,2.5],[0,0],'--b') "
      ],
      "execution_count": 23,
      "outputs": [
        {
          "output_type": "execute_result",
          "data": {
            "text/plain": [
              "[<matplotlib.lines.Line2D at 0x7f693511d550>]"
            ]
          },
          "metadata": {
            "tags": []
          },
          "execution_count": 23
        },
        {
          "output_type": "display_data",
          "data": {
            "image/png": "[encoded data removed]",
            "text/plain": [
              "<Figure size 432x288 with 1 Axes>"
            ]
          },
          "metadata": {
            "tags": [],
            "needs_background": "light"
          }
        }
      ]
    },
    {
      "cell_type": "markdown",
      "metadata": {
        "id": "OqyyZFzZv6y7"
      },
      "source": [
        "determinant ของ Matrix  ก็คือ ($Det(B)$) คือพื้นที่ของ Unit vector ที่ถูกเปลี่ยนไปโดย Matrix นั้นๆ"
      ]
    },
    {
      "cell_type": "code",
      "metadata": {
        "colab": {
          "base_uri": "https://localhost:8080/",
          "height": 283
        },
        "id": "Dvjrs9sNvWkB",
        "outputId": "3a31bf43-a0e6-4eb7-cc35-149ef2801f7f"
      },
      "source": [
        "plt.plot([0,Bv[0,0]],[0,Bv[1,0]],'-g') # vectors B.v\r\n",
        "plt.plot([1,1],[1,0],':r') # จุดไข่ปลา พื้นที่ของ Bv\r\n",
        "plt.plot([1,0],[1,1],':r') # จุดไข่ปลา พื้นที่ของ Bv\r\n",
        "plt.plot([3,3],[7,0],':g') # จุดไข่ปลา พื้นที่ของ Bv\r\n",
        "plt.plot([3,0],[7,7],':g') # จุดไข่ปลา พื้นที่ของ Bv\r\n",
        "plt.plot([0,1],[0,1],'-r') \r\n",
        "plt.plot(0,0,'.b')           # \r\n",
        "plt.plot([0,0],[-1,8],'--b')  #มีสองจุด\r\n",
        "plt.plot([-1.5,2.5],[0,0],'--b') "
      ],
      "execution_count": 32,
      "outputs": [
        {
          "output_type": "execute_result",
          "data": {
            "text/plain": [
              "[<matplotlib.lines.Line2D at 0x7f69350e3ac8>]"
            ]
          },
          "metadata": {
            "tags": []
          },
          "execution_count": 32
        },
        {
          "output_type": "display_data",
          "data": {
            "image/png": "[encoded data removed]",
            "text/plain": [
              "<Figure size 432x288 with 1 Axes>"
            ]
          },
          "metadata": {
            "tags": [],
            "needs_background": "light"
          }
        }
      ]
    },
    {
      "cell_type": "markdown",
      "metadata": {
        "id": "qDkoUyMM02fB"
      },
      "source": [
        "##Identity matrix ($I$)\r\n",
        "$BI = B = IB$ #คูณกับ matrix ตัวไหนก็จะได้ตัวนั้น"
      ]
    },
    {
      "cell_type": "code",
      "metadata": {
        "id": "f5pQv_VryOuS"
      },
      "source": [
        "iden2 = np.identity(2)"
      ],
      "execution_count": 33,
      "outputs": []
    },
    {
      "cell_type": "code",
      "metadata": {
        "colab": {
          "base_uri": "https://localhost:8080/"
        },
        "id": "wjAcvIjv2Hvo",
        "outputId": "468fa92b-21c5-4932-d4e0-1d6fab62f671"
      },
      "source": [
        "B"
      ],
      "execution_count": 34,
      "outputs": [
        {
          "output_type": "execute_result",
          "data": {
            "text/plain": [
              "array([[1, 2],\n",
              "       [3, 4]])"
            ]
          },
          "metadata": {
            "tags": []
          },
          "execution_count": 34
        }
      ]
    },
    {
      "cell_type": "code",
      "metadata": {
        "colab": {
          "base_uri": "https://localhost:8080/"
        },
        "id": "DURxIQnw2Mb5",
        "outputId": "c55917f9-04ce-4e88-ce0d-6bcdb45280b4"
      },
      "source": [
        "np.dot(B,iden2)"
      ],
      "execution_count": 35,
      "outputs": [
        {
          "output_type": "execute_result",
          "data": {
            "text/plain": [
              "array([[1., 2.],\n",
              "       [3., 4.]])"
            ]
          },
          "metadata": {
            "tags": []
          },
          "execution_count": 35
        }
      ]
    },
    {
      "cell_type": "code",
      "metadata": {
        "colab": {
          "base_uri": "https://localhost:8080/"
        },
        "id": "iD3gg1ug2Uzu",
        "outputId": "e2d9de4f-57bb-471d-815d-cefbbd4c06e1"
      },
      "source": [
        "np.dot(iden2,B)"
      ],
      "execution_count": 36,
      "outputs": [
        {
          "output_type": "execute_result",
          "data": {
            "text/plain": [
              "array([[1., 2.],\n",
              "       [3., 4.]])"
            ]
          },
          "metadata": {
            "tags": []
          },
          "execution_count": 36
        }
      ]
    },
    {
      "cell_type": "code",
      "metadata": {
        "colab": {
          "base_uri": "https://localhost:8080/"
        },
        "id": "6JdTDCiC2Y4c",
        "outputId": "2a23355b-7ae7-4a0e-cf24-87a87557ef02"
      },
      "source": [
        "C = np.array([[-1,2],[2,4]])\r\n",
        "C"
      ],
      "execution_count": 37,
      "outputs": [
        {
          "output_type": "execute_result",
          "data": {
            "text/plain": [
              "array([[-1,  2],\n",
              "       [ 2,  4]])"
            ]
          },
          "metadata": {
            "tags": []
          },
          "execution_count": 37
        }
      ]
    },
    {
      "cell_type": "code",
      "metadata": {
        "colab": {
          "base_uri": "https://localhost:8080/"
        },
        "id": "41ig-qnr2m2g",
        "outputId": "1501e43f-96d2-43d1-ffdd-727559318d8b"
      },
      "source": [
        "np.dot(B,C)"
      ],
      "execution_count": 38,
      "outputs": [
        {
          "output_type": "execute_result",
          "data": {
            "text/plain": [
              "array([[ 3, 10],\n",
              "       [ 5, 22]])"
            ]
          },
          "metadata": {
            "tags": []
          },
          "execution_count": 38
        }
      ]
    },
    {
      "cell_type": "code",
      "metadata": {
        "colab": {
          "base_uri": "https://localhost:8080/"
        },
        "id": "W6GQtJli2uFz",
        "outputId": "3dc55356-e519-4c9b-a8e3-0e2e9a17f5e1"
      },
      "source": [
        "np.dot(C,B)"
      ],
      "execution_count": 39,
      "outputs": [
        {
          "output_type": "execute_result",
          "data": {
            "text/plain": [
              "array([[ 5,  6],\n",
              "       [14, 20]])"
            ]
          },
          "metadata": {
            "tags": []
          },
          "execution_count": 39
        }
      ]
    },
    {
      "cell_type": "markdown",
      "metadata": {
        "id": "jh5i9Hwi4cmV"
      },
      "source": [
        "# การบ้านในห้อง "
      ]
    },
    {
      "cell_type": "code",
      "metadata": {
        "colab": {
          "base_uri": "https://localhost:8080/"
        },
        "id": "uNrUu-UE2xkR",
        "outputId": "8dcc3ed3-109f-4dfb-b1c5-c192acc7b186"
      },
      "source": [
        "mat1= np.array([[3,1,6],[7,4,5],[2,-7,1]])\r\n",
        "mat1"
      ],
      "execution_count": 41,
      "outputs": [
        {
          "output_type": "execute_result",
          "data": {
            "text/plain": [
              "array([[ 3,  1,  6],\n",
              "       [ 7,  4,  5],\n",
              "       [ 2, -7,  1]])"
            ]
          },
          "metadata": {
            "tags": []
          },
          "execution_count": 41
        }
      ]
    },
    {
      "cell_type": "code",
      "metadata": {
        "colab": {
          "base_uri": "https://localhost:8080/"
        },
        "id": "f-2Kw2X93_s7",
        "outputId": "96ea1ed9-f81c-45dc-84b5-f040a349ad14"
      },
      "source": [
        "np.linalg.det(mat1)"
      ],
      "execution_count": 42,
      "outputs": [
        {
          "output_type": "execute_result",
          "data": {
            "text/plain": [
              "-221.99999999999997"
            ]
          },
          "metadata": {
            "tags": []
          },
          "execution_count": 42
        }
      ]
    },
    {
      "cell_type": "markdown",
      "metadata": {
        "id": "kDoYAdT964Fa"
      },
      "source": [
        "Eigen  value , Eigen vector\r\n",
        "\r\n",
        "Eigen Value ->($\\lambda$) $A-\\lambda  =0$  ##latex\r\n",
        "\r\n",
        "Eigen vector ($x$) -> $Ax = \\lambda x$"
      ]
    },
    {
      "cell_type": "markdown",
      "metadata": {
        "id": "7-_3HKNF-L5j"
      },
      "source": [
        "การบ้าน"
      ]
    },
    {
      "cell_type": "code",
      "metadata": {
        "id": "I_OHgQz84O_5"
      },
      "source": [
        ""
      ],
      "execution_count": null,
      "outputs": []
    }
  ]
}