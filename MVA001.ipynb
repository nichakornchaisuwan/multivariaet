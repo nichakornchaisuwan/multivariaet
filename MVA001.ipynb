{
  "nbformat": 4,
  "nbformat_minor": 0,
  "metadata": {
    "colab": {
      "name": "MVA001.ipynb",
      "provenance": [],
      "toc_visible": true,
      "authorship_tag": "ABX9TyN9v6Ej2u23kvOD3+p7FWxH",
      "include_colab_link": true
    },
    "kernelspec": {
      "name": "python3",
      "display_name": "Python 3"
    }
  },
  "cells": [
    {
      "cell_type": "markdown",
      "metadata": {
        "id": "view-in-github",
        "colab_type": "text"
      },
      "source": [
        "<a href=\"https://colab.research.google.com/github/nichakornchaisuwan/multivariaet/blob/main/MVA001.ipynb\" target=\"_parent\"><img src=\"https://colab.research.google.com/assets/colab-badge.svg\" alt=\"Open In Colab\"/></a>"
      ]
    },
    {
      "cell_type": "markdown",
      "metadata": {
        "id": "cHwramq0TabC"
      },
      "source": [
        ""
      ]
    },
    {
      "cell_type": "code",
      "metadata": {
        "id": "EyVVjkIETt60"
      },
      "source": [
        "import numpy as np"
      ],
      "execution_count": 1,
      "outputs": []
    },
    {
      "cell_type": "code",
      "metadata": {
        "colab": {
          "base_uri": "https://localhost:8080/"
        },
        "id": "8RcNrZewS-C7",
        "outputId": "82c7e8c9-9b48-49b4-a7ed-f2fa3f1577f4"
      },
      "source": [
        "scalar_a = 10 #บอกขนาดอย่างเดียว\r\n",
        "print(scalar_a)"
      ],
      "execution_count": 2,
      "outputs": [
        {
          "output_type": "stream",
          "text": [
            "10\n"
          ],
          "name": "stdout"
        }
      ]
    },
    {
      "cell_type": "code",
      "metadata": {
        "colab": {
          "base_uri": "https://localhost:8080/"
        },
        "id": "C9oElCo_Tl9o",
        "outputId": "e36e19ea-39e5-4a7c-87a2-953837c4b84e"
      },
      "source": [
        "vector_b = np.zeros([2,1]) #vector มีหลายไดแมนชั่น\r\n",
        "                            # เป็น เดต้าหนึ่งจุด\r\n",
        "vector_b[0,0]=2\r\n",
        "vector_b[1,0]=3\r\n",
        "print(vector_b)\r\n",
        "print(vector_b.shape)"
      ],
      "execution_count": 3,
      "outputs": [
        {
          "output_type": "stream",
          "text": [
            "[[2.]\n",
            " [3.]]\n",
            "(2, 1)\n"
          ],
          "name": "stdout"
        }
      ]
    },
    {
      "cell_type": "code",
      "metadata": {
        "colab": {
          "base_uri": "https://localhost:8080/"
        },
        "id": "2zAJ8845Uklw",
        "outputId": "e0b6cb67-872c-41b8-af3e-5f06f63c4184"
      },
      "source": [
        "vector_c = np.array([[1],[3]])\r\n",
        "print(vector_c)\r\n",
        "print(vector_c.shape)"
      ],
      "execution_count": 4,
      "outputs": [
        {
          "output_type": "stream",
          "text": [
            "[[1]\n",
            " [3]]\n",
            "(2, 1)\n"
          ],
          "name": "stdout"
        }
      ]
    },
    {
      "cell_type": "code",
      "metadata": {
        "id": "KX1Fljs4U_LR"
      },
      "source": [
        "from matplotlib import pyplot as plt"
      ],
      "execution_count": 5,
      "outputs": []
    },
    {
      "cell_type": "code",
      "metadata": {
        "colab": {
          "base_uri": "https://localhost:8080/",
          "height": 283
        },
        "id": "kohswzGzVPJg",
        "outputId": "3860e232-fa4b-49b9-98c5-c0d4b5b859c5"
      },
      "source": [
        "plt.plot(vector_b[0,0],vector_b[1,0],'or')"
      ],
      "execution_count": 6,
      "outputs": [
        {
          "output_type": "execute_result",
          "data": {
            "text/plain": [
              "[<matplotlib.lines.Line2D at 0x7fe4a1db9a58>]"
            ]
          },
          "metadata": {
            "tags": []
          },
          "execution_count": 6
        },
        {
          "output_type": "display_data",
          "data": {
            "image/png": "[encoded data removed]",
            "text/plain": [
              "<Figure size 432x288 with 1 Axes>"
            ]
          },
          "metadata": {
            "tags": [],
            "needs_background": "light"
          }
        }
      ]
    },
    {
      "cell_type": "markdown",
      "metadata": {
        "id": "xcrIqF6UXzE0"
      },
      "source": [
        "ขนาดของ vector คำนวนได้โดย พิธากอรัส"
      ]
    },
    {
      "cell_type": "code",
      "metadata": {
        "colab": {
          "base_uri": "https://localhost:8080/"
        },
        "id": "cZfGrcxPVjgI",
        "outputId": "428076d8-5f11-40ab-b20a-073feec24dc9"
      },
      "source": [
        "vector_b_size =((vector_b[0,0]**2) + (vector_b[1,0]**2))**0.5\r\n",
        "print(vector_b_size)"
      ],
      "execution_count": 7,
      "outputs": [
        {
          "output_type": "stream",
          "text": [
            "3.605551275463989\n"
          ],
          "name": "stdout"
        }
      ]
    },
    {
      "cell_type": "markdown",
      "metadata": {
        "id": "e0opvcNxZMCM"
      },
      "source": [
        "# Matrix  # ชุดของจุดหลายๆจุดมาต่อกัน"
      ]
    },
    {
      "cell_type": "markdown",
      "metadata": {
        "id": "oIJg2ixfZIwd"
      },
      "source": [
        ""
      ]
    },
    {
      "cell_type": "code",
      "metadata": {
        "colab": {
          "base_uri": "https://localhost:8080/"
        },
        "id": "MOXIIvC0WxF1",
        "outputId": "6e8c018b-ab45-4d10-f663-116547a10568"
      },
      "source": [
        "matrix_d = np.array([[2,3],[1,4],[-1,1]])\r\n",
        "print(matrix_d)"
      ],
      "execution_count": 8,
      "outputs": [
        {
          "output_type": "stream",
          "text": [
            "[[ 2  3]\n",
            " [ 1  4]\n",
            " [-1  1]]\n"
          ],
          "name": "stdout"
        }
      ]
    },
    {
      "cell_type": "code",
      "metadata": {
        "colab": {
          "base_uri": "https://localhost:8080/"
        },
        "id": "w1xI8wehZ6qH",
        "outputId": "636653b0-afab-47b4-fc5b-3f7785892a77"
      },
      "source": [
        "matrix_d =matrix_d.T\r\n",
        "print(matrix_d)"
      ],
      "execution_count": 9,
      "outputs": [
        {
          "output_type": "stream",
          "text": [
            "[[ 2  1 -1]\n",
            " [ 3  4  1]]\n"
          ],
          "name": "stdout"
        }
      ]
    },
    {
      "cell_type": "code",
      "metadata": {
        "colab": {
          "base_uri": "https://localhost:8080/",
          "height": 283
        },
        "id": "IcSx9onJaMR8",
        "outputId": "f0c5dc95-a03b-48e7-a2df-a5423af5f6f6"
      },
      "source": [
        "plt.plot(matrix_d[0,:],matrix_d[1,:],'or') # พล็อตจุดลงไปในสแปส ค่า X คือในแถวที่ 0 จากทุกๆโร\r\n",
        "plt.plot(0,0,'.b')           # matrix_d[0,:] คือค่าของ x matrix_d[1,:] คือค่าของ y\r\n",
        "plt.plot([0,0],[-1,5],'--b')  #มีสองจุด\r\n",
        "plt.plot([-1.5,2.5],[0,0],'--b') "
      ],
      "execution_count": 10,
      "outputs": [
        {
          "output_type": "execute_result",
          "data": {
            "text/plain": [
              "[<matplotlib.lines.Line2D at 0x7fe4a1899cf8>]"
            ]
          },
          "metadata": {
            "tags": []
          },
          "execution_count": 10
        },
        {
          "output_type": "display_data",
          "data": {
            "image/png": "[encoded data removed]",
            "text/plain": [
              "<Figure size 432x288 with 1 Axes>"
            ]
          },
          "metadata": {
            "tags": [],
            "needs_background": "light"
          }
        }
      ]
    },
    {
      "cell_type": "code",
      "metadata": {
        "colab": {
          "base_uri": "https://localhost:8080/"
        },
        "id": "pU4bQcnybTQk",
        "outputId": "06decddd-b14b-446d-85a4-82e6ce8a19a5"
      },
      "source": [
        "A = np.array([[3,-1,2],[1,5,4]])\r\n",
        "print(A)"
      ],
      "execution_count": 11,
      "outputs": [
        {
          "output_type": "stream",
          "text": [
            "[[ 3 -1  2]\n",
            " [ 1  5  4]]\n"
          ],
          "name": "stdout"
        }
      ]
    },
    {
      "cell_type": "code",
      "metadata": {
        "colab": {
          "base_uri": "https://localhost:8080/"
        },
        "id": "-Y2vDsiNka0y",
        "outputId": "5ff46331-7387-4e8b-bda6-654e3763f82d"
      },
      "source": [
        "print(A.T)"
      ],
      "execution_count": 12,
      "outputs": [
        {
          "output_type": "stream",
          "text": [
            "[[ 3  1]\n",
            " [-1  5]\n",
            " [ 2  4]]\n"
          ],
          "name": "stdout"
        }
      ]
    },
    {
      "cell_type": "markdown",
      "metadata": {
        "id": "OfArRVnNlego"
      },
      "source": [
        "$B = A*A'$"
      ]
    },
    {
      "cell_type": "code",
      "metadata": {
        "colab": {
          "base_uri": "https://localhost:8080/"
        },
        "id": "FskBQ9SfkmVM",
        "outputId": "ebff96b3-b867-42e0-8827-94ea3eecce7c"
      },
      "source": [
        "B = np.dot(A,A.T)\r\n",
        "print(B)"
      ],
      "execution_count": 13,
      "outputs": [
        {
          "output_type": "stream",
          "text": [
            "[[14  6]\n",
            " [ 6 42]]\n"
          ],
          "name": "stdout"
        }
      ]
    },
    {
      "cell_type": "markdown",
      "metadata": {
        "id": "hEFtdK6MmDc3"
      },
      "source": [
        "# Determinant\r\n",
        "$Det(B)$"
      ]
    },
    {
      "cell_type": "code",
      "metadata": {
        "colab": {
          "base_uri": "https://localhost:8080/"
        },
        "id": "VBcqP7Zclqjr",
        "outputId": "d1b96ed6-c876-4ada-989f-aef5a859608f"
      },
      "source": [
        "np.linalg.det(B)"
      ],
      "execution_count": 14,
      "outputs": [
        {
          "output_type": "execute_result",
          "data": {
            "text/plain": [
              "551.9999999999998"
            ]
          },
          "metadata": {
            "tags": []
          },
          "execution_count": 14
        }
      ]
    },
    {
      "cell_type": "markdown",
      "metadata": {
        "id": "IEtQwpimsYCN"
      },
      "source": [
        "linalg linear algbra"
      ]
    },
    {
      "cell_type": "markdown",
      "metadata": {
        "id": "YBJoQHuDsv9V"
      },
      "source": [
        "# matrix algebra เพิ่มเติม"
      ]
    },
    {
      "cell_type": "code",
      "metadata": {
        "id": "j7t7BR_pmhyt",
        "colab": {
          "base_uri": "https://localhost:8080/",
          "height": 283
        },
        "outputId": "2776bca9-8611-4958-d179-8e2b0bf4b986"
      },
      "source": [
        "plt.plot([0,1],[0,1],'-r') # vectors [1,1] มีความยาว 1 หน่วย\r\n",
        "plt.plot(0,0,'.b')           # \r\n",
        "plt.plot([0,0],[-1,5],'--b')  #มีสองจุด\r\n",
        "plt.plot([-1.5,2.5],[0,0],'--b') "
      ],
      "execution_count": 15,
      "outputs": [
        {
          "output_type": "execute_result",
          "data": {
            "text/plain": [
              "[<matplotlib.lines.Line2D at 0x7fe4a1818cc0>]"
            ]
          },
          "metadata": {
            "tags": []
          },
          "execution_count": 15
        },
        {
          "output_type": "display_data",
          "data": {
            "image/png": "[encoded data removed]",
            "text/plain": [
              "<Figure size 432x288 with 1 Axes>"
            ]
          },
          "metadata": {
            "tags": [],
            "needs_background": "light"
          }
        }
      ]
    },
    {
      "cell_type": "code",
      "metadata": {
        "colab": {
          "base_uri": "https://localhost:8080/"
        },
        "id": "-Uqt7pLatzz6",
        "outputId": "c10281d9-a488-4266-8c76-b53433957de7"
      },
      "source": [
        "B = np.array([[1,2],[3,4]])\r\n",
        "B"
      ],
      "execution_count": 16,
      "outputs": [
        {
          "output_type": "execute_result",
          "data": {
            "text/plain": [
              "array([[1, 2],\n",
              "       [3, 4]])"
            ]
          },
          "metadata": {
            "tags": []
          },
          "execution_count": 16
        }
      ]
    },
    {
      "cell_type": "markdown",
      "metadata": {
        "id": "vTwU7WV5vjCq"
      },
      "source": [
        "การคูณ Matrix  ($B.v$) คือ การทำ "
      ]
    },
    {
      "cell_type": "code",
      "metadata": {
        "colab": {
          "base_uri": "https://localhost:8080/"
        },
        "id": "3aDWzDmDutvM",
        "outputId": "3ee73242-04d7-443e-9ae8-ab720a936ea5"
      },
      "source": [
        "Bv=np.dot(B,np.array([[1],[1]]))\r\n",
        "Bv"
      ],
      "execution_count": 17,
      "outputs": [
        {
          "output_type": "execute_result",
          "data": {
            "text/plain": [
              "array([[3],\n",
              "       [7]])"
            ]
          },
          "metadata": {
            "tags": []
          },
          "execution_count": 17
        }
      ]
    },
    {
      "cell_type": "code",
      "metadata": {
        "colab": {
          "base_uri": "https://localhost:8080/",
          "height": 283
        },
        "id": "s-_7JnKVu_rF",
        "outputId": "816272bf-8644-4fe4-f9fb-0f261c85e37f"
      },
      "source": [
        "plt.plot([0,Bv[0,0]],[0,Bv[1,0]],'-g') # vectors [1,1] มีความยาว 1 หน่วย\r\n",
        "plt.plot([0,1],[0,1],'-r') \r\n",
        "plt.plot(0,0,'.b')           # \r\n",
        "plt.plot([0,0],[-1,5],'--b')  #มีสองจุด\r\n",
        "plt.plot([-1.5,2.5],[0,0],'--b') "
      ],
      "execution_count": 18,
      "outputs": [
        {
          "output_type": "execute_result",
          "data": {
            "text/plain": [
              "[<matplotlib.lines.Line2D at 0x7fe4a179d048>]"
            ]
          },
          "metadata": {
            "tags": []
          },
          "execution_count": 18
        },
        {
          "output_type": "display_data",
          "data": {
            "image/png": "[encoded data removed]",
            "text/plain": [
              "<Figure size 432x288 with 1 Axes>"
            ]
          },
          "metadata": {
            "tags": [],
            "needs_background": "light"
          }
        }
      ]
    },
    {
      "cell_type": "markdown",
      "metadata": {
        "id": "OqyyZFzZv6y7"
      },
      "source": [
        "determinant ของ Matrix  ก็คือ ($Det(B)$) คือพื้นที่ของ Unit vector ที่ถูกเปลี่ยนไปโดย Matrix นั้นๆ"
      ]
    },
    {
      "cell_type": "code",
      "metadata": {
        "colab": {
          "base_uri": "https://localhost:8080/",
          "height": 283
        },
        "id": "Dvjrs9sNvWkB",
        "outputId": "7bb65282-526d-4f4f-af85-fc56b4f25ea3"
      },
      "source": [
        "plt.plot([0,Bv[0,0]],[0,Bv[1,0]],'-g') # vectors B.v\r\n",
        "plt.plot([1,1],[1,0],':r') # จุดไข่ปลา พื้นที่ของ Bv\r\n",
        "plt.plot([1,0],[1,1],':r') # จุดไข่ปลา พื้นที่ของ Bv\r\n",
        "plt.plot([3,3],[7,0],':g') # จุดไข่ปลา พื้นที่ของ Bv\r\n",
        "plt.plot([3,0],[7,7],':g') # จุดไข่ปลา พื้นที่ของ Bv\r\n",
        "plt.plot([0,1],[0,1],'-r') \r\n",
        "plt.plot(0,0,'.b')           # \r\n",
        "plt.plot([0,0],[-1,8],'--b')  #มีสองจุด\r\n",
        "plt.plot([-1.5,2.5],[0,0],'--b') "
      ],
      "execution_count": 19,
      "outputs": [
        {
          "output_type": "execute_result",
          "data": {
            "text/plain": [
              "[<matplotlib.lines.Line2D at 0x7fe4a1718860>]"
            ]
          },
          "metadata": {
            "tags": []
          },
          "execution_count": 19
        },
        {
          "output_type": "display_data",
          "data": {
            "image/png": "[encoded data removed]",
            "text/plain": [
              "<Figure size 432x288 with 1 Axes>"
            ]
          },
          "metadata": {
            "tags": [],
            "needs_background": "light"
          }
        }
      ]
    },
    {
      "cell_type": "markdown",
      "metadata": {
        "id": "qDkoUyMM02fB"
      },
      "source": [
        "##Identity matrix ($I$)\r\n",
        "$BI = B = IB$ #คูณกับ matrix ตัวไหนก็จะได้ตัวนั้น"
      ]
    },
    {
      "cell_type": "code",
      "metadata": {
        "id": "f5pQv_VryOuS"
      },
      "source": [
        "iden2 = np.identity(2)"
      ],
      "execution_count": 20,
      "outputs": []
    },
    {
      "cell_type": "code",
      "metadata": {
        "colab": {
          "base_uri": "https://localhost:8080/"
        },
        "id": "wjAcvIjv2Hvo",
        "outputId": "8377072e-fe0d-47d9-bda1-9b8d7fbdbf68"
      },
      "source": [
        "B"
      ],
      "execution_count": 21,
      "outputs": [
        {
          "output_type": "execute_result",
          "data": {
            "text/plain": [
              "array([[1, 2],\n",
              "       [3, 4]])"
            ]
          },
          "metadata": {
            "tags": []
          },
          "execution_count": 21
        }
      ]
    },
    {
      "cell_type": "code",
      "metadata": {
        "colab": {
          "base_uri": "https://localhost:8080/"
        },
        "id": "DURxIQnw2Mb5",
        "outputId": "bc80a443-617b-4754-e06a-2efbc90e6d41"
      },
      "source": [
        "np.dot(B,iden2)"
      ],
      "execution_count": 22,
      "outputs": [
        {
          "output_type": "execute_result",
          "data": {
            "text/plain": [
              "array([[1., 2.],\n",
              "       [3., 4.]])"
            ]
          },
          "metadata": {
            "tags": []
          },
          "execution_count": 22
        }
      ]
    },
    {
      "cell_type": "code",
      "metadata": {
        "colab": {
          "base_uri": "https://localhost:8080/"
        },
        "id": "iD3gg1ug2Uzu",
        "outputId": "7b211af9-1b3c-4555-d676-12e166a1f2d9"
      },
      "source": [
        "np.dot(iden2,B)"
      ],
      "execution_count": 23,
      "outputs": [
        {
          "output_type": "execute_result",
          "data": {
            "text/plain": [
              "array([[1., 2.],\n",
              "       [3., 4.]])"
            ]
          },
          "metadata": {
            "tags": []
          },
          "execution_count": 23
        }
      ]
    },
    {
      "cell_type": "code",
      "metadata": {
        "colab": {
          "base_uri": "https://localhost:8080/"
        },
        "id": "6JdTDCiC2Y4c",
        "outputId": "8876c305-7315-42ea-ebf4-be3d71cb8c80"
      },
      "source": [
        "C = np.array([[-1,2],[2,4]])\r\n",
        "C"
      ],
      "execution_count": 24,
      "outputs": [
        {
          "output_type": "execute_result",
          "data": {
            "text/plain": [
              "array([[-1,  2],\n",
              "       [ 2,  4]])"
            ]
          },
          "metadata": {
            "tags": []
          },
          "execution_count": 24
        }
      ]
    },
    {
      "cell_type": "code",
      "metadata": {
        "colab": {
          "base_uri": "https://localhost:8080/"
        },
        "id": "41ig-qnr2m2g",
        "outputId": "f3cf73ad-fb5b-4250-f273-4281256678d0"
      },
      "source": [
        "np.dot(B,C)"
      ],
      "execution_count": 25,
      "outputs": [
        {
          "output_type": "execute_result",
          "data": {
            "text/plain": [
              "array([[ 3, 10],\n",
              "       [ 5, 22]])"
            ]
          },
          "metadata": {
            "tags": []
          },
          "execution_count": 25
        }
      ]
    },
    {
      "cell_type": "code",
      "metadata": {
        "colab": {
          "base_uri": "https://localhost:8080/"
        },
        "id": "W6GQtJli2uFz",
        "outputId": "9d988f83-d288-4eee-948b-e7b5b7c98992"
      },
      "source": [
        "np.dot(C,B)"
      ],
      "execution_count": 26,
      "outputs": [
        {
          "output_type": "execute_result",
          "data": {
            "text/plain": [
              "array([[ 5,  6],\n",
              "       [14, 20]])"
            ]
          },
          "metadata": {
            "tags": []
          },
          "execution_count": 26
        }
      ]
    },
    {
      "cell_type": "markdown",
      "metadata": {
        "id": "jh5i9Hwi4cmV"
      },
      "source": [
        "# การบ้านในห้อง "
      ]
    },
    {
      "cell_type": "code",
      "metadata": {
        "colab": {
          "base_uri": "https://localhost:8080/"
        },
        "id": "uNrUu-UE2xkR",
        "outputId": "cd8b6c9a-38a7-477f-a533-60c047ae0a60"
      },
      "source": [
        "mat1= np.array([[3,1,6],[7,4,5],[2,-7,1]])\r\n",
        "mat1"
      ],
      "execution_count": 27,
      "outputs": [
        {
          "output_type": "execute_result",
          "data": {
            "text/plain": [
              "array([[ 3,  1,  6],\n",
              "       [ 7,  4,  5],\n",
              "       [ 2, -7,  1]])"
            ]
          },
          "metadata": {
            "tags": []
          },
          "execution_count": 27
        }
      ]
    },
    {
      "cell_type": "code",
      "metadata": {
        "colab": {
          "base_uri": "https://localhost:8080/"
        },
        "id": "f-2Kw2X93_s7",
        "outputId": "85f82d02-47d7-4766-ff6d-9df766cbfb2f"
      },
      "source": [
        "np.linalg.det(mat1)"
      ],
      "execution_count": 28,
      "outputs": [
        {
          "output_type": "execute_result",
          "data": {
            "text/plain": [
              "-221.99999999999997"
            ]
          },
          "metadata": {
            "tags": []
          },
          "execution_count": 28
        }
      ]
    },
    {
      "cell_type": "markdown",
      "metadata": {
        "id": "kDoYAdT964Fa"
      },
      "source": [
        "Eigen  value , Eigen vector ##เวลาต้องการหาให้ค้นคำที่ต้องการ.... ตามด้วย numpy\r\n",
        "\r\n",
        "Eigen Value ->($\\lambda$) $|A-\\lambda I|=0$  ##latex\r\n",
        "\r\n",
        "Eigen vector ($x$) -> $Ax = \\lambda x$\r\n"
      ]
    },
    {
      "cell_type": "markdown",
      "metadata": {
        "id": "7-_3HKNF-L5j"
      },
      "source": [
        "#HW5\r\n",
        "\r\n",
        "หา Eigen vector และ Eigen value ของ\r\n",
        "\r\n",
        "![image.png](data:image/png;base64,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)"
      ]
    },
    {
      "cell_type": "code",
      "metadata": {
        "id": "I_OHgQz84O_5",
        "colab": {
          "base_uri": "https://localhost:8080/"
        },
        "outputId": "b4654664-306d-4608-8efb-f94b21d88dea"
      },
      "source": [
        "A = np.array([[1,0],[1,3]])\r\n",
        "A"
      ],
      "execution_count": 29,
      "outputs": [
        {
          "output_type": "execute_result",
          "data": {
            "text/plain": [
              "array([[1, 0],\n",
              "       [1, 3]])"
            ]
          },
          "metadata": {
            "tags": []
          },
          "execution_count": 29
        }
      ]
    },
    {
      "cell_type": "markdown",
      "metadata": {
        "id": "zf_Bl6iIMXTK"
      },
      "source": [
        "Eigenvalue"
      ]
    },
    {
      "cell_type": "code",
      "metadata": {
        "id": "AZZU6tUbMDx2",
        "colab": {
          "base_uri": "https://localhost:8080/"
        },
        "outputId": "27751257-3ef7-42c5-e187-13bf0c170e9c"
      },
      "source": [
        "Av=np.array([[1,0],[1,3]])\r\n",
        "np.linalg.eigvals(Av)"
      ],
      "execution_count": 30,
      "outputs": [
        {
          "output_type": "execute_result",
          "data": {
            "text/plain": [
              "array([3., 1.])"
            ]
          },
          "metadata": {
            "tags": []
          },
          "execution_count": 30
        }
      ]
    },
    {
      "cell_type": "markdown",
      "metadata": {
        "id": "85WWP9p1Nz8r"
      },
      "source": [
        "Eigenvector"
      ]
    },
    {
      "cell_type": "code",
      "metadata": {
        "id": "klkJe4PDNxxQ",
        "colab": {
          "base_uri": "https://localhost:8080/"
        },
        "outputId": "7143c64e-77c5-4437-930e-920d26b8e2a6"
      },
      "source": [
        "A,v=np.linalg.eig(Av)\r\n",
        "A;v"
      ],
      "execution_count": 31,
      "outputs": [
        {
          "output_type": "execute_result",
          "data": {
            "text/plain": [
              "array([[ 0.        ,  0.89442719],\n",
              "       [ 1.        , -0.4472136 ]])"
            ]
          },
          "metadata": {
            "tags": []
          },
          "execution_count": 31
        }
      ]
    },
    {
      "cell_type": "markdown",
      "metadata": {
        "id": "5Yc0gl1YPEt5"
      },
      "source": [
        "**สรุป**\r\n",
        "\r\n",
        "Eigenvalue ตัวที่ 1 คือ 3.0 มี Eigenvector คือ 0,0.89442719\r\n",
        "\r\n",
        "Eigenvalue ตัวที่ 2 คือ 1.0 มี Eigenvector คือ 1,-0.4472136"
      ]
    },
    {
      "cell_type": "code",
      "metadata": {
        "id": "qkGpvZcSPCzX"
      },
      "source": [
        ""
      ],
      "execution_count": 31,
      "outputs": []
    },
    {
      "cell_type": "markdown",
      "metadata": {
        "id": "BcoQ8_myauh-"
      },
      "source": [
        "gigen vectors and eigen values of cov\r\n",
        "\r\n",
        "จากรูป มีจุดข้อมูล 16 จุด และมี attribute 2 มิติ เราจะสร้างเป็น Data matrix ที่มีรูปร่าง(shape)? =(2,16)"
      ]
    },
    {
      "cell_type": "code",
      "metadata": {
        "id": "Fxs2OFq5bhwN",
        "outputId": "df198442-714c-4d6d-e7c6-4961d7789d10",
        "colab": {
          "base_uri": "https://localhost:8080/"
        }
      },
      "source": [
        "x = np.array([[1,2,-3,4],[4,5,-3,2]])\r\n",
        "print(f'data x =\\n{x}')\r\n",
        "c_x = np.cov(x)\r\n",
        "print(f'Covarience ของ x คือ \\n {c_x}')"
      ],
      "execution_count": 32,
      "outputs": [
        {
          "output_type": "stream",
          "text": [
            "data x =\n",
            "[[ 1  2 -3  4]\n",
            " [ 4  5 -3  2]]\n",
            "Covarience ของ x คือ \n",
            " [[ 8.66666667  7.66666667]\n",
            " [ 7.66666667 12.66666667]]\n"
          ],
          "name": "stdout"
        }
      ]
    },
    {
      "cell_type": "code",
      "metadata": {
        "id": "JIgDjgqReTDZ"
      },
      "source": [
        "W,V = np.linalg.eig(c_x)"
      ],
      "execution_count": 34,
      "outputs": []
    },
    {
      "cell_type": "code",
      "metadata": {
        "id": "c7yCNyu6feye"
      },
      "source": [
        ""
      ],
      "execution_count": null,
      "outputs": []
    },
    {
      "cell_type": "code",
      "metadata": {
        "id": "AHcJqD5ufFg_",
        "outputId": "52803ed7-3c64-40d0-d418-891777584fb6",
        "colab": {
          "base_uri": "https://localhost:8080/"
        }
      },
      "source": [
        "print(W[1])\r\n",
        "print(V[:,1])"
      ],
      "execution_count": 35,
      "outputs": [
        {
          "output_type": "stream",
          "text": [
            "18.589909549336475\n",
            "[-0.6113829  -0.79133492]\n"
          ],
          "name": "stdout"
        }
      ]
    },
    {
      "cell_type": "code",
      "metadata": {
        "id": "sWRyfUFXfdDZ",
        "outputId": "894fcb34-cd3d-41bb-da5a-4d6885e4c025",
        "colab": {
          "base_uri": "https://localhost:8080/",
          "height": 283
        }
      },
      "source": [
        "plt.plot(x[0,:],x[1,:],'or')\r\n",
        "plt.plot(V[0,3*v[0,1]],)"
      ],
      "execution_count": 36,
      "outputs": [
        {
          "output_type": "execute_result",
          "data": {
            "text/plain": [
              "[<matplotlib.lines.Line2D at 0x7fe49929e470>]"
            ]
          },
          "metadata": {
            "tags": []
          },
          "execution_count": 36
        },
        {
          "output_type": "display_data",
          "data": {
            "image/png": "[encoded data removed]",
            "text/plain": [
              "<Figure size 432x288 with 1 Axes>"
            ]
          },
          "metadata": {
            "tags": [],
            "needs_background": "light"
          }
        }
      ]
    },
    {
      "cell_type": "markdown",
      "metadata": {
        "id": "dg1VmEjyg2m2"
      },
      "source": [
        "Inverse Matrix\r\n",
        "\r\n",
        "inverse ของ $A$ เขียน $A^{-1}$\r\n",
        "\r\n",
        "นิยาม $A*A^{-1} = I =A^{-1}*A$"
      ]
    },
    {
      "cell_type": "code",
      "metadata": {
        "id": "iWBwPnVLfsBf",
        "outputId": "3d571be0-871e-42e3-819a-27ac6d028e8e",
        "colab": {
          "base_uri": "https://localhost:8080/"
        }
      },
      "source": [
        "inv_c_x = np.linalg.inv(c_x)\r\n",
        "print(c_x)"
      ],
      "execution_count": 39,
      "outputs": [
        {
          "output_type": "stream",
          "text": [
            "[[ 8.66666667  7.66666667]\n",
            " [ 7.66666667 12.66666667]]\n"
          ],
          "name": "stdout"
        }
      ]
    },
    {
      "cell_type": "code",
      "metadata": {
        "id": "nS2R6yJajz-0",
        "outputId": "44a5024d-1422-4d59-a6d2-ffb8675b8025",
        "colab": {
          "base_uri": "https://localhost:8080/"
        }
      },
      "source": [
        "np.dot(c_x,inv_c_x)"
      ],
      "execution_count": 40,
      "outputs": [
        {
          "output_type": "execute_result",
          "data": {
            "text/plain": [
              "array([[1.00000000e+00, 2.23193529e-16],\n",
              "       [1.26018779e-16, 1.00000000e+00]])"
            ]
          },
          "metadata": {
            "tags": []
          },
          "execution_count": 40
        }
      ]
    },
    {
      "cell_type": "code",
      "metadata": {
        "id": "hBUFzd8IktWv",
        "outputId": "19ed46f7-6f02-4d52-c52c-94a0330f9f7e",
        "colab": {
          "base_uri": "https://localhost:8080/"
        }
      },
      "source": [
        "np.dot(inv_c_x,c_x)"
      ],
      "execution_count": 41,
      "outputs": [
        {
          "output_type": "execute_result",
          "data": {
            "text/plain": [
              "array([[1.00000000e+00, 1.26018779e-16],\n",
              "       [2.23193529e-16, 1.00000000e+00]])"
            ]
          },
          "metadata": {
            "tags": []
          },
          "execution_count": 41
        }
      ]
    },
    {
      "cell_type": "code",
      "metadata": {
        "id": "hItanMomkzFd",
        "outputId": "b8d04441-3216-4222-d280-d30cce5ea1f4",
        "colab": {
          "base_uri": "https://localhost:8080/"
        }
      },
      "source": [
        "np.linalg.inv(inv_c_x)"
      ],
      "execution_count": 42,
      "outputs": [
        {
          "output_type": "execute_result",
          "data": {
            "text/plain": [
              "array([[ 8.66666667,  7.66666667],\n",
              "       [ 7.66666667, 12.66666667]])"
            ]
          },
          "metadata": {
            "tags": []
          },
          "execution_count": 42
        }
      ]
    },
    {
      "cell_type": "code",
      "metadata": {
        "id": "hG6n_EPDlAlN"
      },
      "source": [
        "import pandas as pd"
      ],
      "execution_count": 43,
      "outputs": []
    },
    {
      "cell_type": "code",
      "metadata": {
        "id": "mBVpXiGhovek",
        "outputId": "84ee9918-07b9-4012-958f-04f0aed06ddc",
        "colab": {
          "base_uri": "https://localhost:8080/",
          "height": 1000
        }
      },
      "source": [
        "on_data = pd.read_csv('/content/pollution.txt',sep='\\t+')  # \\t+ คือใช้ tab แบ่งข้อมูล \\s+ คือใช้  space แบ่งข้อมูล\r\n",
        "on_data"
      ],
      "execution_count": 44,
      "outputs": [
        {
          "output_type": "stream",
          "text": [
            "/usr/local/lib/python3.6/dist-packages/ipykernel_launcher.py:1: ParserWarning: Falling back to the 'python' engine because the 'c' engine does not support regex separators (separators > 1 char and different from '\\s+' are interpreted as regex); you can avoid this warning by specifying engine='python'.\n",
            "  \"\"\"Entry point for launching an IPython kernel.\n"
          ],
          "name": "stderr"
        },
        {
          "output_type": "execute_result",
          "data": {
            "text/html": [
              "<div>\n",
              "<style scoped>\n",
              "    .dataframe tbody tr th:only-of-type {\n",
              "        vertical-align: middle;\n",
              "    }\n",
              "\n",
              "    .dataframe tbody tr th {\n",
              "        vertical-align: top;\n",
              "    }\n",
              "\n",
              "    .dataframe thead th {\n",
              "        text-align: right;\n",
              "    }\n",
              "</style>\n",
              "<table border=\"1\" class=\"dataframe\">\n",
              "  <thead>\n",
              "    <tr style=\"text-align: right;\">\n",
              "      <th></th>\n",
              "      <th>City</th>\n",
              "      <th>SO2</th>\n",
              "      <th>Temp</th>\n",
              "      <th>Man</th>\n",
              "      <th>Pop</th>\n",
              "      <th>Wind</th>\n",
              "      <th>Rain</th>\n",
              "      <th>RainDays</th>\n",
              "    </tr>\n",
              "  </thead>\n",
              "  <tbody>\n",
              "    <tr>\n",
              "      <th>0</th>\n",
              "      <td>Phoenix</td>\n",
              "      <td>10</td>\n",
              "      <td>70.3</td>\n",
              "      <td>213</td>\n",
              "      <td>582</td>\n",
              "      <td>6.0</td>\n",
              "      <td>7.05</td>\n",
              "      <td>36</td>\n",
              "    </tr>\n",
              "    <tr>\n",
              "      <th>1</th>\n",
              "      <td>Little Rock</td>\n",
              "      <td>13</td>\n",
              "      <td>61.0</td>\n",
              "      <td>91</td>\n",
              "      <td>132</td>\n",
              "      <td>8.2</td>\n",
              "      <td>48.52</td>\n",
              "      <td>100</td>\n",
              "    </tr>\n",
              "    <tr>\n",
              "      <th>2</th>\n",
              "      <td>San Francisco</td>\n",
              "      <td>12</td>\n",
              "      <td>56.7</td>\n",
              "      <td>453</td>\n",
              "      <td>716</td>\n",
              "      <td>8.7</td>\n",
              "      <td>20.66</td>\n",
              "      <td>67</td>\n",
              "    </tr>\n",
              "    <tr>\n",
              "      <th>3</th>\n",
              "      <td>Denver</td>\n",
              "      <td>17</td>\n",
              "      <td>51.9</td>\n",
              "      <td>454</td>\n",
              "      <td>515</td>\n",
              "      <td>9.0</td>\n",
              "      <td>12.95</td>\n",
              "      <td>86</td>\n",
              "    </tr>\n",
              "    <tr>\n",
              "      <th>4</th>\n",
              "      <td>Hartford</td>\n",
              "      <td>56</td>\n",
              "      <td>49.1</td>\n",
              "      <td>412</td>\n",
              "      <td>158</td>\n",
              "      <td>9.0</td>\n",
              "      <td>43.37</td>\n",
              "      <td>127</td>\n",
              "    </tr>\n",
              "    <tr>\n",
              "      <th>5</th>\n",
              "      <td>Wilmington</td>\n",
              "      <td>36</td>\n",
              "      <td>54.0</td>\n",
              "      <td>80</td>\n",
              "      <td>80</td>\n",
              "      <td>9.0</td>\n",
              "      <td>40.25</td>\n",
              "      <td>114</td>\n",
              "    </tr>\n",
              "    <tr>\n",
              "      <th>6</th>\n",
              "      <td>Washington</td>\n",
              "      <td>29</td>\n",
              "      <td>57.3</td>\n",
              "      <td>434</td>\n",
              "      <td>757</td>\n",
              "      <td>9.3</td>\n",
              "      <td>38.89</td>\n",
              "      <td>111</td>\n",
              "    </tr>\n",
              "    <tr>\n",
              "      <th>7</th>\n",
              "      <td>Jacksonville</td>\n",
              "      <td>14</td>\n",
              "      <td>68.4</td>\n",
              "      <td>136</td>\n",
              "      <td>529</td>\n",
              "      <td>8.8</td>\n",
              "      <td>54.47</td>\n",
              "      <td>116</td>\n",
              "    </tr>\n",
              "    <tr>\n",
              "      <th>8</th>\n",
              "      <td>Miami</td>\n",
              "      <td>10</td>\n",
              "      <td>75.5</td>\n",
              "      <td>207</td>\n",
              "      <td>335</td>\n",
              "      <td>9.0</td>\n",
              "      <td>59.80</td>\n",
              "      <td>128</td>\n",
              "    </tr>\n",
              "    <tr>\n",
              "      <th>9</th>\n",
              "      <td>Atlanta</td>\n",
              "      <td>24</td>\n",
              "      <td>61.5</td>\n",
              "      <td>368</td>\n",
              "      <td>497</td>\n",
              "      <td>9.1</td>\n",
              "      <td>48.34</td>\n",
              "      <td>115</td>\n",
              "    </tr>\n",
              "    <tr>\n",
              "      <th>10</th>\n",
              "      <td>Chicago</td>\n",
              "      <td>110</td>\n",
              "      <td>50.6</td>\n",
              "      <td>3344</td>\n",
              "      <td>3369</td>\n",
              "      <td>10.4</td>\n",
              "      <td>34.44</td>\n",
              "      <td>122</td>\n",
              "    </tr>\n",
              "    <tr>\n",
              "      <th>11</th>\n",
              "      <td>Indianapolis</td>\n",
              "      <td>28</td>\n",
              "      <td>52.3</td>\n",
              "      <td>361</td>\n",
              "      <td>746</td>\n",
              "      <td>9.7</td>\n",
              "      <td>38.74</td>\n",
              "      <td>121</td>\n",
              "    </tr>\n",
              "    <tr>\n",
              "      <th>12</th>\n",
              "      <td>Des Moines</td>\n",
              "      <td>17</td>\n",
              "      <td>49.0</td>\n",
              "      <td>104</td>\n",
              "      <td>201</td>\n",
              "      <td>11.2</td>\n",
              "      <td>30.85</td>\n",
              "      <td>103</td>\n",
              "    </tr>\n",
              "    <tr>\n",
              "      <th>13</th>\n",
              "      <td>Wichita</td>\n",
              "      <td>8</td>\n",
              "      <td>56.6</td>\n",
              "      <td>125</td>\n",
              "      <td>277</td>\n",
              "      <td>12.7</td>\n",
              "      <td>30.58</td>\n",
              "      <td>82</td>\n",
              "    </tr>\n",
              "    <tr>\n",
              "      <th>14</th>\n",
              "      <td>Louisville</td>\n",
              "      <td>30</td>\n",
              "      <td>55.6</td>\n",
              "      <td>291</td>\n",
              "      <td>593</td>\n",
              "      <td>8.3</td>\n",
              "      <td>43.11</td>\n",
              "      <td>123</td>\n",
              "    </tr>\n",
              "    <tr>\n",
              "      <th>15</th>\n",
              "      <td>New Orleans</td>\n",
              "      <td>9</td>\n",
              "      <td>68.3</td>\n",
              "      <td>204</td>\n",
              "      <td>361</td>\n",
              "      <td>8.4</td>\n",
              "      <td>56.77</td>\n",
              "      <td>113</td>\n",
              "    </tr>\n",
              "    <tr>\n",
              "      <th>16</th>\n",
              "      <td>Baltimore</td>\n",
              "      <td>47</td>\n",
              "      <td>55.0</td>\n",
              "      <td>625</td>\n",
              "      <td>905</td>\n",
              "      <td>9.6</td>\n",
              "      <td>41.31</td>\n",
              "      <td>111</td>\n",
              "    </tr>\n",
              "    <tr>\n",
              "      <th>17</th>\n",
              "      <td>Detroit</td>\n",
              "      <td>35</td>\n",
              "      <td>49.9</td>\n",
              "      <td>1064</td>\n",
              "      <td>1513</td>\n",
              "      <td>10.1</td>\n",
              "      <td>30.96</td>\n",
              "      <td>129</td>\n",
              "    </tr>\n",
              "    <tr>\n",
              "      <th>18</th>\n",
              "      <td>Minn-St. Paul</td>\n",
              "      <td>29</td>\n",
              "      <td>43.5</td>\n",
              "      <td>699</td>\n",
              "      <td>744</td>\n",
              "      <td>10.6</td>\n",
              "      <td>25.94</td>\n",
              "      <td>137</td>\n",
              "    </tr>\n",
              "    <tr>\n",
              "      <th>19</th>\n",
              "      <td>Kansas City</td>\n",
              "      <td>14</td>\n",
              "      <td>54.5</td>\n",
              "      <td>381</td>\n",
              "      <td>507</td>\n",
              "      <td>10.0</td>\n",
              "      <td>37.00</td>\n",
              "      <td>99</td>\n",
              "    </tr>\n",
              "    <tr>\n",
              "      <th>20</th>\n",
              "      <td>St. Louis</td>\n",
              "      <td>56</td>\n",
              "      <td>55.9</td>\n",
              "      <td>775</td>\n",
              "      <td>622</td>\n",
              "      <td>9.5</td>\n",
              "      <td>35.89</td>\n",
              "      <td>105</td>\n",
              "    </tr>\n",
              "    <tr>\n",
              "      <th>21</th>\n",
              "      <td>Omaha</td>\n",
              "      <td>14</td>\n",
              "      <td>51.5</td>\n",
              "      <td>181</td>\n",
              "      <td>347</td>\n",
              "      <td>10.9</td>\n",
              "      <td>30.18</td>\n",
              "      <td>98</td>\n",
              "    </tr>\n",
              "    <tr>\n",
              "      <th>22</th>\n",
              "      <td>Albuquerque</td>\n",
              "      <td>11</td>\n",
              "      <td>56.8</td>\n",
              "      <td>46</td>\n",
              "      <td>244</td>\n",
              "      <td>8.9</td>\n",
              "      <td>7.77</td>\n",
              "      <td>58</td>\n",
              "    </tr>\n",
              "    <tr>\n",
              "      <th>23</th>\n",
              "      <td>Albany</td>\n",
              "      <td>46</td>\n",
              "      <td>47.6</td>\n",
              "      <td>44</td>\n",
              "      <td>116</td>\n",
              "      <td>8.8</td>\n",
              "      <td>33.36</td>\n",
              "      <td>135</td>\n",
              "    </tr>\n",
              "    <tr>\n",
              "      <th>24</th>\n",
              "      <td>Buffalo</td>\n",
              "      <td>11</td>\n",
              "      <td>47.1</td>\n",
              "      <td>391</td>\n",
              "      <td>463</td>\n",
              "      <td>12.4</td>\n",
              "      <td>36.11</td>\n",
              "      <td>166</td>\n",
              "    </tr>\n",
              "    <tr>\n",
              "      <th>25</th>\n",
              "      <td>Cincinnati</td>\n",
              "      <td>23</td>\n",
              "      <td>54.0</td>\n",
              "      <td>462</td>\n",
              "      <td>453</td>\n",
              "      <td>7.1</td>\n",
              "      <td>39.04</td>\n",
              "      <td>132</td>\n",
              "    </tr>\n",
              "    <tr>\n",
              "      <th>26</th>\n",
              "      <td>Cleveland</td>\n",
              "      <td>65</td>\n",
              "      <td>49.7</td>\n",
              "      <td>1007</td>\n",
              "      <td>751</td>\n",
              "      <td>10.9</td>\n",
              "      <td>34.99</td>\n",
              "      <td>155</td>\n",
              "    </tr>\n",
              "    <tr>\n",
              "      <th>27</th>\n",
              "      <td>Columbus</td>\n",
              "      <td>26</td>\n",
              "      <td>51.5</td>\n",
              "      <td>266</td>\n",
              "      <td>540</td>\n",
              "      <td>8.6</td>\n",
              "      <td>37.01</td>\n",
              "      <td>134</td>\n",
              "    </tr>\n",
              "    <tr>\n",
              "      <th>28</th>\n",
              "      <td>Philadelphia</td>\n",
              "      <td>69</td>\n",
              "      <td>54.6</td>\n",
              "      <td>1692</td>\n",
              "      <td>1950</td>\n",
              "      <td>9.6</td>\n",
              "      <td>39.93</td>\n",
              "      <td>115</td>\n",
              "    </tr>\n",
              "    <tr>\n",
              "      <th>29</th>\n",
              "      <td>Pittsburgh</td>\n",
              "      <td>61</td>\n",
              "      <td>50.4</td>\n",
              "      <td>347</td>\n",
              "      <td>520</td>\n",
              "      <td>9.4</td>\n",
              "      <td>36.22</td>\n",
              "      <td>147</td>\n",
              "    </tr>\n",
              "    <tr>\n",
              "      <th>30</th>\n",
              "      <td>Providence</td>\n",
              "      <td>94</td>\n",
              "      <td>50.0</td>\n",
              "      <td>343</td>\n",
              "      <td>179</td>\n",
              "      <td>10.6</td>\n",
              "      <td>42.75</td>\n",
              "      <td>125</td>\n",
              "    </tr>\n",
              "    <tr>\n",
              "      <th>31</th>\n",
              "      <td>Memphis</td>\n",
              "      <td>10</td>\n",
              "      <td>61.6</td>\n",
              "      <td>337</td>\n",
              "      <td>624</td>\n",
              "      <td>9.2</td>\n",
              "      <td>49.10</td>\n",
              "      <td>105</td>\n",
              "    </tr>\n",
              "    <tr>\n",
              "      <th>32</th>\n",
              "      <td>Nashville</td>\n",
              "      <td>18</td>\n",
              "      <td>59.4</td>\n",
              "      <td>275</td>\n",
              "      <td>448</td>\n",
              "      <td>7.9</td>\n",
              "      <td>46.00</td>\n",
              "      <td>119</td>\n",
              "    </tr>\n",
              "    <tr>\n",
              "      <th>33</th>\n",
              "      <td>Dallas</td>\n",
              "      <td>9</td>\n",
              "      <td>66.2</td>\n",
              "      <td>641</td>\n",
              "      <td>844</td>\n",
              "      <td>10.9</td>\n",
              "      <td>35.94</td>\n",
              "      <td>78</td>\n",
              "    </tr>\n",
              "    <tr>\n",
              "      <th>34</th>\n",
              "      <td>Houston</td>\n",
              "      <td>10</td>\n",
              "      <td>68.9</td>\n",
              "      <td>721</td>\n",
              "      <td>1233</td>\n",
              "      <td>10.8</td>\n",
              "      <td>48.19</td>\n",
              "      <td>103</td>\n",
              "    </tr>\n",
              "    <tr>\n",
              "      <th>35</th>\n",
              "      <td>Salt Lake City</td>\n",
              "      <td>28</td>\n",
              "      <td>51.0</td>\n",
              "      <td>137</td>\n",
              "      <td>176</td>\n",
              "      <td>8.7</td>\n",
              "      <td>15.17</td>\n",
              "      <td>89</td>\n",
              "    </tr>\n",
              "    <tr>\n",
              "      <th>36</th>\n",
              "      <td>Norfolk</td>\n",
              "      <td>31</td>\n",
              "      <td>59.3</td>\n",
              "      <td>96</td>\n",
              "      <td>308</td>\n",
              "      <td>10.6</td>\n",
              "      <td>44.68</td>\n",
              "      <td>116</td>\n",
              "    </tr>\n",
              "    <tr>\n",
              "      <th>37</th>\n",
              "      <td>Richmond</td>\n",
              "      <td>26</td>\n",
              "      <td>57.8</td>\n",
              "      <td>197</td>\n",
              "      <td>299</td>\n",
              "      <td>7.6</td>\n",
              "      <td>42.59</td>\n",
              "      <td>115</td>\n",
              "    </tr>\n",
              "    <tr>\n",
              "      <th>38</th>\n",
              "      <td>Seattle</td>\n",
              "      <td>29</td>\n",
              "      <td>51.1</td>\n",
              "      <td>379</td>\n",
              "      <td>531</td>\n",
              "      <td>9.4</td>\n",
              "      <td>38.79</td>\n",
              "      <td>164</td>\n",
              "    </tr>\n",
              "    <tr>\n",
              "      <th>39</th>\n",
              "      <td>Charleston</td>\n",
              "      <td>31</td>\n",
              "      <td>55.2</td>\n",
              "      <td>35</td>\n",
              "      <td>71</td>\n",
              "      <td>6.5</td>\n",
              "      <td>40.75</td>\n",
              "      <td>148</td>\n",
              "    </tr>\n",
              "    <tr>\n",
              "      <th>40</th>\n",
              "      <td>Milwaukee</td>\n",
              "      <td>16</td>\n",
              "      <td>45.7</td>\n",
              "      <td>569</td>\n",
              "      <td>717</td>\n",
              "      <td>11.8</td>\n",
              "      <td>29.07</td>\n",
              "      <td>123</td>\n",
              "    </tr>\n",
              "  </tbody>\n",
              "</table>\n",
              "</div>"
            ],
            "text/plain": [
              "              City  SO2  Temp   Man   Pop  Wind   Rain  RainDays\n",
              "0          Phoenix   10  70.3   213   582   6.0   7.05        36\n",
              "1      Little Rock   13  61.0    91   132   8.2  48.52       100\n",
              "2    San Francisco   12  56.7   453   716   8.7  20.66        67\n",
              "3           Denver   17  51.9   454   515   9.0  12.95        86\n",
              "4         Hartford   56  49.1   412   158   9.0  43.37       127\n",
              "5       Wilmington   36  54.0    80    80   9.0  40.25       114\n",
              "6       Washington   29  57.3   434   757   9.3  38.89       111\n",
              "7     Jacksonville   14  68.4   136   529   8.8  54.47       116\n",
              "8            Miami   10  75.5   207   335   9.0  59.80       128\n",
              "9          Atlanta   24  61.5   368   497   9.1  48.34       115\n",
              "10         Chicago  110  50.6  3344  3369  10.4  34.44       122\n",
              "11    Indianapolis   28  52.3   361   746   9.7  38.74       121\n",
              "12      Des Moines   17  49.0   104   201  11.2  30.85       103\n",
              "13         Wichita    8  56.6   125   277  12.7  30.58        82\n",
              "14      Louisville   30  55.6   291   593   8.3  43.11       123\n",
              "15     New Orleans    9  68.3   204   361   8.4  56.77       113\n",
              "16       Baltimore   47  55.0   625   905   9.6  41.31       111\n",
              "17         Detroit   35  49.9  1064  1513  10.1  30.96       129\n",
              "18   Minn-St. Paul   29  43.5   699   744  10.6  25.94       137\n",
              "19     Kansas City   14  54.5   381   507  10.0  37.00        99\n",
              "20       St. Louis   56  55.9   775   622   9.5  35.89       105\n",
              "21           Omaha   14  51.5   181   347  10.9  30.18        98\n",
              "22     Albuquerque   11  56.8    46   244   8.9   7.77        58\n",
              "23          Albany   46  47.6    44   116   8.8  33.36       135\n",
              "24         Buffalo   11  47.1   391   463  12.4  36.11       166\n",
              "25      Cincinnati   23  54.0   462   453   7.1  39.04       132\n",
              "26       Cleveland   65  49.7  1007   751  10.9  34.99       155\n",
              "27        Columbus   26  51.5   266   540   8.6  37.01       134\n",
              "28    Philadelphia   69  54.6  1692  1950   9.6  39.93       115\n",
              "29      Pittsburgh   61  50.4   347   520   9.4  36.22       147\n",
              "30      Providence   94  50.0   343   179  10.6  42.75       125\n",
              "31         Memphis   10  61.6   337   624   9.2  49.10       105\n",
              "32       Nashville   18  59.4   275   448   7.9  46.00       119\n",
              "33          Dallas    9  66.2   641   844  10.9  35.94        78\n",
              "34         Houston   10  68.9   721  1233  10.8  48.19       103\n",
              "35  Salt Lake City   28  51.0   137   176   8.7  15.17        89\n",
              "36         Norfolk   31  59.3    96   308  10.6  44.68       116\n",
              "37        Richmond   26  57.8   197   299   7.6  42.59       115\n",
              "38         Seattle   29  51.1   379   531   9.4  38.79       164\n",
              "39      Charleston   31  55.2    35    71   6.5  40.75       148\n",
              "40       Milwaukee   16  45.7   569   717  11.8  29.07       123"
            ]
          },
          "metadata": {
            "tags": []
          },
          "execution_count": 44
        }
      ]
    },
    {
      "cell_type": "code",
      "metadata": {
        "id": "OdHXbKfVpEZ3"
      },
      "source": [
        ""
      ],
      "execution_count": null,
      "outputs": []
    }
  ]
}